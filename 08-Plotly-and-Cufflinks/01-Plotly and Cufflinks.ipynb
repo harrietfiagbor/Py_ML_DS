{
 "cells": [
  {
   "cell_type": "markdown",
   "metadata": {},
   "source": [
    "___\n",
    "\n",
    "<a href='http://www.pieriandata.com'> <img src='../Pierian_Data_Logo.png' /></a>\n",
    "___\n",
    "# Plotly and Cufflinks"
   ]
  },
  {
   "cell_type": "markdown",
   "metadata": {},
   "source": [
    "Plotly is a library that allows you to create interactive plots that you can use in dashboards or websites (you can save them as html files or static images).\n",
    "\n",
    "## Installation\n",
    "\n",
    "In order for this all to work, you'll need to install plotly and cufflinks to call plots directly off of a pandas dataframe. These libraries are not currently available through **conda** but are available through **pip**. Install the libraries at your command line/terminal using:\n",
    "\n",
    "    pip install plotly\n",
    "    pip install cufflinks\n",
    "\n",
    "** NOTE: Make sure you only have one installation of Python on your computer when you do this, otherwise the installation may not work. **\n",
    "\n",
    "## Imports and Set-up"
   ]
  },
  {
   "cell_type": "code",
   "execution_count": 1,
   "metadata": {},
   "outputs": [],
   "source": [
    "import pandas as pd\n",
    "import numpy as np\n",
    "%matplotlib inline"
   ]
  },
  {
   "cell_type": "code",
   "execution_count": 2,
   "metadata": {},
   "outputs": [
    {
     "name": "stdout",
     "output_type": "stream",
     "text": [
      "5.3.1\n"
     ]
    }
   ],
   "source": [
    "from plotly import __version__\n",
    "from plotly.offline import download_plotlyjs, init_notebook_mode, plot, iplot\n",
    "\n",
    "print(__version__) # requires version >= 1.9.0"
   ]
  },
  {
   "cell_type": "code",
   "execution_count": 3,
   "metadata": {},
   "outputs": [],
   "source": [
    "import cufflinks as cf"
   ]
  },
  {
   "cell_type": "code",
   "execution_count": 4,
   "metadata": {},
   "outputs": [
    {
     "data": {
      "text/html": [
       "        <script type=\"text/javascript\">\n",
       "        window.PlotlyConfig = {MathJaxConfig: 'local'};\n",
       "        if (window.MathJax) {MathJax.Hub.Config({SVG: {font: \"STIX-Web\"}});}\n",
       "        if (typeof require !== 'undefined') {\n",
       "        require.undef(\"plotly\");\n",
       "        requirejs.config({\n",
       "            paths: {\n",
       "                'plotly': ['https://cdn.plot.ly/plotly-2.4.2.min']\n",
       "            }\n",
       "        });\n",
       "        require(['plotly'], function(Plotly) {\n",
       "            window._Plotly = Plotly;\n",
       "        });\n",
       "        }\n",
       "        </script>\n",
       "        "
      ]
     },
     "metadata": {},
     "output_type": "display_data"
    }
   ],
   "source": [
    "# For Notebooks\n",
    "init_notebook_mode(connected=True)"
   ]
  },
  {
   "cell_type": "code",
   "execution_count": 5,
   "metadata": {},
   "outputs": [
    {
     "data": {
      "text/html": [
       "        <script type=\"text/javascript\">\n",
       "        window.PlotlyConfig = {MathJaxConfig: 'local'};\n",
       "        if (window.MathJax) {MathJax.Hub.Config({SVG: {font: \"STIX-Web\"}});}\n",
       "        if (typeof require !== 'undefined') {\n",
       "        require.undef(\"plotly\");\n",
       "        requirejs.config({\n",
       "            paths: {\n",
       "                'plotly': ['https://cdn.plot.ly/plotly-2.4.2.min']\n",
       "            }\n",
       "        });\n",
       "        require(['plotly'], function(Plotly) {\n",
       "            window._Plotly = Plotly;\n",
       "        });\n",
       "        }\n",
       "        </script>\n",
       "        "
      ]
     },
     "metadata": {},
     "output_type": "display_data"
    }
   ],
   "source": [
    "# For offline use\n",
    "cf.go_offline()"
   ]
  },
  {
   "cell_type": "markdown",
   "metadata": {},
   "source": [
    "### Fake Data"
   ]
  },
  {
   "cell_type": "code",
   "execution_count": 6,
   "metadata": {},
   "outputs": [],
   "source": [
    "df = pd.DataFrame(np.random.randn(100,4),columns='A B C D'.split())"
   ]
  },
  {
   "cell_type": "code",
   "execution_count": 7,
   "metadata": {},
   "outputs": [
    {
     "data": {
      "text/html": [
       "<div>\n",
       "<style scoped>\n",
       "    .dataframe tbody tr th:only-of-type {\n",
       "        vertical-align: middle;\n",
       "    }\n",
       "\n",
       "    .dataframe tbody tr th {\n",
       "        vertical-align: top;\n",
       "    }\n",
       "\n",
       "    .dataframe thead th {\n",
       "        text-align: right;\n",
       "    }\n",
       "</style>\n",
       "<table border=\"1\" class=\"dataframe\">\n",
       "  <thead>\n",
       "    <tr style=\"text-align: right;\">\n",
       "      <th></th>\n",
       "      <th>A</th>\n",
       "      <th>B</th>\n",
       "      <th>C</th>\n",
       "      <th>D</th>\n",
       "    </tr>\n",
       "  </thead>\n",
       "  <tbody>\n",
       "    <tr>\n",
       "      <th>0</th>\n",
       "      <td>-1.454000</td>\n",
       "      <td>0.980490</td>\n",
       "      <td>-1.161719</td>\n",
       "      <td>0.697048</td>\n",
       "    </tr>\n",
       "    <tr>\n",
       "      <th>1</th>\n",
       "      <td>-0.110074</td>\n",
       "      <td>-0.811656</td>\n",
       "      <td>-1.091683</td>\n",
       "      <td>-0.008281</td>\n",
       "    </tr>\n",
       "    <tr>\n",
       "      <th>2</th>\n",
       "      <td>0.109829</td>\n",
       "      <td>-0.530407</td>\n",
       "      <td>-2.982548</td>\n",
       "      <td>0.056428</td>\n",
       "    </tr>\n",
       "    <tr>\n",
       "      <th>3</th>\n",
       "      <td>-0.648352</td>\n",
       "      <td>0.731471</td>\n",
       "      <td>-2.475670</td>\n",
       "      <td>-1.336423</td>\n",
       "    </tr>\n",
       "    <tr>\n",
       "      <th>4</th>\n",
       "      <td>0.645668</td>\n",
       "      <td>-1.317814</td>\n",
       "      <td>1.456186</td>\n",
       "      <td>1.866901</td>\n",
       "    </tr>\n",
       "  </tbody>\n",
       "</table>\n",
       "</div>"
      ],
      "text/plain": [
       "          A         B         C         D\n",
       "0 -1.454000  0.980490 -1.161719  0.697048\n",
       "1 -0.110074 -0.811656 -1.091683 -0.008281\n",
       "2  0.109829 -0.530407 -2.982548  0.056428\n",
       "3 -0.648352  0.731471 -2.475670 -1.336423\n",
       "4  0.645668 -1.317814  1.456186  1.866901"
      ]
     },
     "execution_count": 7,
     "metadata": {},
     "output_type": "execute_result"
    }
   ],
   "source": [
    "df.head()"
   ]
  },
  {
   "cell_type": "code",
   "execution_count": 8,
   "metadata": {},
   "outputs": [],
   "source": [
    "df2 = pd.DataFrame({'Category':['A','B','C'],'Values':[32,43,50]})"
   ]
  },
  {
   "cell_type": "code",
   "execution_count": 9,
   "metadata": {},
   "outputs": [
    {
     "data": {
      "text/html": [
       "<div>\n",
       "<style scoped>\n",
       "    .dataframe tbody tr th:only-of-type {\n",
       "        vertical-align: middle;\n",
       "    }\n",
       "\n",
       "    .dataframe tbody tr th {\n",
       "        vertical-align: top;\n",
       "    }\n",
       "\n",
       "    .dataframe thead th {\n",
       "        text-align: right;\n",
       "    }\n",
       "</style>\n",
       "<table border=\"1\" class=\"dataframe\">\n",
       "  <thead>\n",
       "    <tr style=\"text-align: right;\">\n",
       "      <th></th>\n",
       "      <th>Category</th>\n",
       "      <th>Values</th>\n",
       "    </tr>\n",
       "  </thead>\n",
       "  <tbody>\n",
       "    <tr>\n",
       "      <th>0</th>\n",
       "      <td>A</td>\n",
       "      <td>32</td>\n",
       "    </tr>\n",
       "    <tr>\n",
       "      <th>1</th>\n",
       "      <td>B</td>\n",
       "      <td>43</td>\n",
       "    </tr>\n",
       "    <tr>\n",
       "      <th>2</th>\n",
       "      <td>C</td>\n",
       "      <td>50</td>\n",
       "    </tr>\n",
       "  </tbody>\n",
       "</table>\n",
       "</div>"
      ],
      "text/plain": [
       "  Category  Values\n",
       "0        A      32\n",
       "1        B      43\n",
       "2        C      50"
      ]
     },
     "execution_count": 9,
     "metadata": {},
     "output_type": "execute_result"
    }
   ],
   "source": [
    "df2.head()"
   ]
  },
  {
   "cell_type": "markdown",
   "metadata": {},
   "source": [
    "## Using Cufflinks and iplot()\n",
    "\n",
    "* scatter\n",
    "* bar\n",
    "* box\n",
    "* spread\n",
    "* ratio\n",
    "* heatmap\n",
    "* surface\n",
    "* histogram\n",
    "* bubble"
   ]
  },
  {
   "cell_type": "markdown",
   "metadata": {},
   "source": [
    "## Scatter"
   ]
  },
  {
   "cell_type": "code",
   "execution_count": 10,
   "metadata": {},
   "outputs": [
    {
     "data": {
      "application/vnd.plotly.v1+json": {
       "config": {
        "linkText": "Export to plot.ly",
        "plotlyServerURL": "https://plot.ly",
        "showLink": true
       },
       "data": [
        {
         "line": {
          "color": "rgba(255, 153, 51, 1.0)",
          "dash": "solid",
          "shape": "linear",
          "width": 1.3
         },
         "marker": {
          "size": 10,
          "symbol": "circle"
         },
         "mode": "markers",
         "name": "B",
         "text": "",
         "type": "scatter",
         "x": [
          -1.4540004081478248,
          -0.11007355043051158,
          0.10982869675375188,
          -0.6483522274923497,
          0.6456682145863891,
          -0.9941365717586216,
          0.49132505126695764,
          0.574692293480332,
          -0.601149273426994,
          1.1681530928816495,
          0.9225460509197592,
          1.4080120518402826,
          0.5112988358011514,
          1.9042321289343245,
          -1.0519246485155396,
          -1.6145722564049436,
          -0.3069777634201451,
          -1.046904859984683,
          -0.19803089353167186,
          -0.319827137822687,
          -1.8082591352742183,
          2.0747833640870983,
          -0.19248509296146513,
          0.08128642613710906,
          -0.45443881176401013,
          0.7097203042406512,
          -0.38455851977652145,
          1.3908414664195914,
          -1.3692379339272545,
          0.44948683633089076,
          2.2757464103816396,
          -0.7935122389343489,
          -0.6456240932055214,
          -0.4204489550137737,
          0.19391000998362268,
          1.8194934307807404,
          -0.18217550385942105,
          -0.008290286976937332,
          0.8243979074928602,
          0.3721440133587712,
          0.5998082876547112,
          1.7708564035903112,
          1.7102348631178188,
          1.418303290602573,
          -0.34701523804234624,
          0.5032772588783692,
          -1.2452558870960557,
          -0.9970360030520007,
          0.5907178721512375,
          -2.7230352978400645,
          0.20055780980890967,
          -0.6137366637905584,
          -0.6086630310241073,
          -1.1087394788361375,
          0.6641586046761034,
          0.7193702690264225,
          0.9296696099660978,
          0.7317327604793983,
          -0.047201435658269515,
          -0.30334032362370084,
          0.02862471197069708,
          -0.27828523810730366,
          -0.44179553515129544,
          -0.024118842829569834,
          0.31227647731563263,
          0.8701847072134986,
          -0.22309656965636257,
          -0.20770513965651302,
          0.47142175538379566,
          0.5011247094412172,
          -1.3620146525279155,
          -0.14795098303784995,
          0.14196298736049628,
          -1.016884709309532,
          -0.4917906274473433,
          -0.12051799859600523,
          -0.17247939382189223,
          0.9541553890998549,
          1.4315140899860428,
          -0.00992095518753176,
          0.6018254201751347,
          -1.5789016803240072,
          0.727904003014525,
          -1.0147581420106258,
          1.0690133891339306,
          -1.1021364000773435,
          -0.23513861545976072,
          0.18364122505394662,
          -0.8165901971585968,
          -0.6081818370731323,
          0.621396892849809,
          -0.10947553062274686,
          0.11382492392576911,
          0.43714209861981645,
          -0.2654839651102387,
          1.5224160299697473,
          0.1199575783051826,
          0.6250937851392976,
          0.6354018783850093,
          -1.286302152646409
         ],
         "y": [
          0.9804902717892854,
          -0.8116560269021028,
          -0.5304074349441019,
          0.7314708976817439,
          -1.317813889901291,
          0.5515653245923914,
          -1.007512904863618,
          0.027869316274254607,
          0.9373009762002932,
          0.3263313741977739,
          -1.4731555994613688,
          -1.5692248514343379,
          0.2247986762962962,
          -0.237046026508892,
          -0.29187496753921166,
          -0.5276451598659568,
          -0.4604939334911615,
          1.0622630019029553,
          0.2018053826239793,
          0.2152987530552919,
          0.5765946081004806,
          -1.0574687398285258,
          0.8147327040239873,
          -1.565196244472277,
          2.1161876872641905,
          -1.152433159222957,
          -0.4421984138276069,
          0.9879694617836262,
          -1.1377408514340306,
          -0.2904951299578208,
          0.941100139067152,
          -0.679405397666701,
          -0.14503723137893423,
          -2.3704740272865727,
          -1.4393468389346427,
          -1.9138285718222479,
          -0.40541957113900345,
          -0.6406358830486115,
          1.9669854746622704,
          0.24587824563188523,
          -1.0450644420469437,
          -0.3915593556466746,
          0.1319976106693394,
          -0.541910078691539,
          -0.45877995278105627,
          -0.04744886791407573,
          1.6744233390504226,
          -2.30929247012321,
          -0.42269700138534194,
          -0.4059181196519094,
          -0.47253102278763687,
          -1.5863850507771629,
          -0.1432502014946788,
          -0.3977794705846313,
          0.25058076876857827,
          1.0380414048510445,
          0.6510006302802921,
          -0.2380316037498957,
          -0.8630875614869196,
          0.6666007826208047,
          -1.869332074666846,
          -0.10507746883011831,
          0.26794216779872787,
          -1.8705098086426515,
          0.1589793056477878,
          -0.2250804552980786,
          -0.37249110592689794,
          0.36992866619033515,
          -0.8588867390570646,
          0.6841615555235582,
          0.6895449549121019,
          -1.653588892920698,
          -0.9066261328784851,
          0.06339155195534256,
          1.289405210397382,
          1.9058872332362038,
          0.9120647093077785,
          0.991419763084864,
          0.1620854385425183,
          -0.07940006271257556,
          1.3785162664718305,
          -0.27038388476787795,
          -0.9615886098208666,
          0.00405632774123973,
          1.2870366134246083,
          0.647698409026788,
          1.437094810613269,
          1.714407268630869,
          -0.7207396837198342,
          -0.8724684564766381,
          -1.091969997227892,
          -0.6433087841112413,
          -2.1803283139883036,
          1.647186106737404,
          0.6038710322432059,
          0.9708787477958503,
          -1.4414590443258994,
          0.0008702819208328536,
          -1.219643854961161,
          -0.6606360890090951
         ]
        }
       ],
       "layout": {
        "legend": {
         "bgcolor": "#F5F6F9",
         "font": {
          "color": "#4D5663"
         }
        },
        "paper_bgcolor": "#F5F6F9",
        "plot_bgcolor": "#F5F6F9",
        "template": {
         "data": {
          "bar": [
           {
            "error_x": {
             "color": "#2a3f5f"
            },
            "error_y": {
             "color": "#2a3f5f"
            },
            "marker": {
             "line": {
              "color": "#E5ECF6",
              "width": 0.5
             },
             "pattern": {
              "fillmode": "overlay",
              "size": 10,
              "solidity": 0.2
             }
            },
            "type": "bar"
           }
          ],
          "barpolar": [
           {
            "marker": {
             "line": {
              "color": "#E5ECF6",
              "width": 0.5
             },
             "pattern": {
              "fillmode": "overlay",
              "size": 10,
              "solidity": 0.2
             }
            },
            "type": "barpolar"
           }
          ],
          "carpet": [
           {
            "aaxis": {
             "endlinecolor": "#2a3f5f",
             "gridcolor": "white",
             "linecolor": "white",
             "minorgridcolor": "white",
             "startlinecolor": "#2a3f5f"
            },
            "baxis": {
             "endlinecolor": "#2a3f5f",
             "gridcolor": "white",
             "linecolor": "white",
             "minorgridcolor": "white",
             "startlinecolor": "#2a3f5f"
            },
            "type": "carpet"
           }
          ],
          "choropleth": [
           {
            "colorbar": {
             "outlinewidth": 0,
             "ticks": ""
            },
            "type": "choropleth"
           }
          ],
          "contour": [
           {
            "colorbar": {
             "outlinewidth": 0,
             "ticks": ""
            },
            "colorscale": [
             [
              0,
              "#0d0887"
             ],
             [
              0.1111111111111111,
              "#46039f"
             ],
             [
              0.2222222222222222,
              "#7201a8"
             ],
             [
              0.3333333333333333,
              "#9c179e"
             ],
             [
              0.4444444444444444,
              "#bd3786"
             ],
             [
              0.5555555555555556,
              "#d8576b"
             ],
             [
              0.6666666666666666,
              "#ed7953"
             ],
             [
              0.7777777777777778,
              "#fb9f3a"
             ],
             [
              0.8888888888888888,
              "#fdca26"
             ],
             [
              1,
              "#f0f921"
             ]
            ],
            "type": "contour"
           }
          ],
          "contourcarpet": [
           {
            "colorbar": {
             "outlinewidth": 0,
             "ticks": ""
            },
            "type": "contourcarpet"
           }
          ],
          "heatmap": [
           {
            "colorbar": {
             "outlinewidth": 0,
             "ticks": ""
            },
            "colorscale": [
             [
              0,
              "#0d0887"
             ],
             [
              0.1111111111111111,
              "#46039f"
             ],
             [
              0.2222222222222222,
              "#7201a8"
             ],
             [
              0.3333333333333333,
              "#9c179e"
             ],
             [
              0.4444444444444444,
              "#bd3786"
             ],
             [
              0.5555555555555556,
              "#d8576b"
             ],
             [
              0.6666666666666666,
              "#ed7953"
             ],
             [
              0.7777777777777778,
              "#fb9f3a"
             ],
             [
              0.8888888888888888,
              "#fdca26"
             ],
             [
              1,
              "#f0f921"
             ]
            ],
            "type": "heatmap"
           }
          ],
          "heatmapgl": [
           {
            "colorbar": {
             "outlinewidth": 0,
             "ticks": ""
            },
            "colorscale": [
             [
              0,
              "#0d0887"
             ],
             [
              0.1111111111111111,
              "#46039f"
             ],
             [
              0.2222222222222222,
              "#7201a8"
             ],
             [
              0.3333333333333333,
              "#9c179e"
             ],
             [
              0.4444444444444444,
              "#bd3786"
             ],
             [
              0.5555555555555556,
              "#d8576b"
             ],
             [
              0.6666666666666666,
              "#ed7953"
             ],
             [
              0.7777777777777778,
              "#fb9f3a"
             ],
             [
              0.8888888888888888,
              "#fdca26"
             ],
             [
              1,
              "#f0f921"
             ]
            ],
            "type": "heatmapgl"
           }
          ],
          "histogram": [
           {
            "marker": {
             "pattern": {
              "fillmode": "overlay",
              "size": 10,
              "solidity": 0.2
             }
            },
            "type": "histogram"
           }
          ],
          "histogram2d": [
           {
            "colorbar": {
             "outlinewidth": 0,
             "ticks": ""
            },
            "colorscale": [
             [
              0,
              "#0d0887"
             ],
             [
              0.1111111111111111,
              "#46039f"
             ],
             [
              0.2222222222222222,
              "#7201a8"
             ],
             [
              0.3333333333333333,
              "#9c179e"
             ],
             [
              0.4444444444444444,
              "#bd3786"
             ],
             [
              0.5555555555555556,
              "#d8576b"
             ],
             [
              0.6666666666666666,
              "#ed7953"
             ],
             [
              0.7777777777777778,
              "#fb9f3a"
             ],
             [
              0.8888888888888888,
              "#fdca26"
             ],
             [
              1,
              "#f0f921"
             ]
            ],
            "type": "histogram2d"
           }
          ],
          "histogram2dcontour": [
           {
            "colorbar": {
             "outlinewidth": 0,
             "ticks": ""
            },
            "colorscale": [
             [
              0,
              "#0d0887"
             ],
             [
              0.1111111111111111,
              "#46039f"
             ],
             [
              0.2222222222222222,
              "#7201a8"
             ],
             [
              0.3333333333333333,
              "#9c179e"
             ],
             [
              0.4444444444444444,
              "#bd3786"
             ],
             [
              0.5555555555555556,
              "#d8576b"
             ],
             [
              0.6666666666666666,
              "#ed7953"
             ],
             [
              0.7777777777777778,
              "#fb9f3a"
             ],
             [
              0.8888888888888888,
              "#fdca26"
             ],
             [
              1,
              "#f0f921"
             ]
            ],
            "type": "histogram2dcontour"
           }
          ],
          "mesh3d": [
           {
            "colorbar": {
             "outlinewidth": 0,
             "ticks": ""
            },
            "type": "mesh3d"
           }
          ],
          "parcoords": [
           {
            "line": {
             "colorbar": {
              "outlinewidth": 0,
              "ticks": ""
             }
            },
            "type": "parcoords"
           }
          ],
          "pie": [
           {
            "automargin": true,
            "type": "pie"
           }
          ],
          "scatter": [
           {
            "marker": {
             "colorbar": {
              "outlinewidth": 0,
              "ticks": ""
             }
            },
            "type": "scatter"
           }
          ],
          "scatter3d": [
           {
            "line": {
             "colorbar": {
              "outlinewidth": 0,
              "ticks": ""
             }
            },
            "marker": {
             "colorbar": {
              "outlinewidth": 0,
              "ticks": ""
             }
            },
            "type": "scatter3d"
           }
          ],
          "scattercarpet": [
           {
            "marker": {
             "colorbar": {
              "outlinewidth": 0,
              "ticks": ""
             }
            },
            "type": "scattercarpet"
           }
          ],
          "scattergeo": [
           {
            "marker": {
             "colorbar": {
              "outlinewidth": 0,
              "ticks": ""
             }
            },
            "type": "scattergeo"
           }
          ],
          "scattergl": [
           {
            "marker": {
             "colorbar": {
              "outlinewidth": 0,
              "ticks": ""
             }
            },
            "type": "scattergl"
           }
          ],
          "scattermapbox": [
           {
            "marker": {
             "colorbar": {
              "outlinewidth": 0,
              "ticks": ""
             }
            },
            "type": "scattermapbox"
           }
          ],
          "scatterpolar": [
           {
            "marker": {
             "colorbar": {
              "outlinewidth": 0,
              "ticks": ""
             }
            },
            "type": "scatterpolar"
           }
          ],
          "scatterpolargl": [
           {
            "marker": {
             "colorbar": {
              "outlinewidth": 0,
              "ticks": ""
             }
            },
            "type": "scatterpolargl"
           }
          ],
          "scatterternary": [
           {
            "marker": {
             "colorbar": {
              "outlinewidth": 0,
              "ticks": ""
             }
            },
            "type": "scatterternary"
           }
          ],
          "surface": [
           {
            "colorbar": {
             "outlinewidth": 0,
             "ticks": ""
            },
            "colorscale": [
             [
              0,
              "#0d0887"
             ],
             [
              0.1111111111111111,
              "#46039f"
             ],
             [
              0.2222222222222222,
              "#7201a8"
             ],
             [
              0.3333333333333333,
              "#9c179e"
             ],
             [
              0.4444444444444444,
              "#bd3786"
             ],
             [
              0.5555555555555556,
              "#d8576b"
             ],
             [
              0.6666666666666666,
              "#ed7953"
             ],
             [
              0.7777777777777778,
              "#fb9f3a"
             ],
             [
              0.8888888888888888,
              "#fdca26"
             ],
             [
              1,
              "#f0f921"
             ]
            ],
            "type": "surface"
           }
          ],
          "table": [
           {
            "cells": {
             "fill": {
              "color": "#EBF0F8"
             },
             "line": {
              "color": "white"
             }
            },
            "header": {
             "fill": {
              "color": "#C8D4E3"
             },
             "line": {
              "color": "white"
             }
            },
            "type": "table"
           }
          ]
         },
         "layout": {
          "annotationdefaults": {
           "arrowcolor": "#2a3f5f",
           "arrowhead": 0,
           "arrowwidth": 1
          },
          "autotypenumbers": "strict",
          "coloraxis": {
           "colorbar": {
            "outlinewidth": 0,
            "ticks": ""
           }
          },
          "colorscale": {
           "diverging": [
            [
             0,
             "#8e0152"
            ],
            [
             0.1,
             "#c51b7d"
            ],
            [
             0.2,
             "#de77ae"
            ],
            [
             0.3,
             "#f1b6da"
            ],
            [
             0.4,
             "#fde0ef"
            ],
            [
             0.5,
             "#f7f7f7"
            ],
            [
             0.6,
             "#e6f5d0"
            ],
            [
             0.7,
             "#b8e186"
            ],
            [
             0.8,
             "#7fbc41"
            ],
            [
             0.9,
             "#4d9221"
            ],
            [
             1,
             "#276419"
            ]
           ],
           "sequential": [
            [
             0,
             "#0d0887"
            ],
            [
             0.1111111111111111,
             "#46039f"
            ],
            [
             0.2222222222222222,
             "#7201a8"
            ],
            [
             0.3333333333333333,
             "#9c179e"
            ],
            [
             0.4444444444444444,
             "#bd3786"
            ],
            [
             0.5555555555555556,
             "#d8576b"
            ],
            [
             0.6666666666666666,
             "#ed7953"
            ],
            [
             0.7777777777777778,
             "#fb9f3a"
            ],
            [
             0.8888888888888888,
             "#fdca26"
            ],
            [
             1,
             "#f0f921"
            ]
           ],
           "sequentialminus": [
            [
             0,
             "#0d0887"
            ],
            [
             0.1111111111111111,
             "#46039f"
            ],
            [
             0.2222222222222222,
             "#7201a8"
            ],
            [
             0.3333333333333333,
             "#9c179e"
            ],
            [
             0.4444444444444444,
             "#bd3786"
            ],
            [
             0.5555555555555556,
             "#d8576b"
            ],
            [
             0.6666666666666666,
             "#ed7953"
            ],
            [
             0.7777777777777778,
             "#fb9f3a"
            ],
            [
             0.8888888888888888,
             "#fdca26"
            ],
            [
             1,
             "#f0f921"
            ]
           ]
          },
          "colorway": [
           "#636efa",
           "#EF553B",
           "#00cc96",
           "#ab63fa",
           "#FFA15A",
           "#19d3f3",
           "#FF6692",
           "#B6E880",
           "#FF97FF",
           "#FECB52"
          ],
          "font": {
           "color": "#2a3f5f"
          },
          "geo": {
           "bgcolor": "white",
           "lakecolor": "white",
           "landcolor": "#E5ECF6",
           "showlakes": true,
           "showland": true,
           "subunitcolor": "white"
          },
          "hoverlabel": {
           "align": "left"
          },
          "hovermode": "closest",
          "mapbox": {
           "style": "light"
          },
          "paper_bgcolor": "white",
          "plot_bgcolor": "#E5ECF6",
          "polar": {
           "angularaxis": {
            "gridcolor": "white",
            "linecolor": "white",
            "ticks": ""
           },
           "bgcolor": "#E5ECF6",
           "radialaxis": {
            "gridcolor": "white",
            "linecolor": "white",
            "ticks": ""
           }
          },
          "scene": {
           "xaxis": {
            "backgroundcolor": "#E5ECF6",
            "gridcolor": "white",
            "gridwidth": 2,
            "linecolor": "white",
            "showbackground": true,
            "ticks": "",
            "zerolinecolor": "white"
           },
           "yaxis": {
            "backgroundcolor": "#E5ECF6",
            "gridcolor": "white",
            "gridwidth": 2,
            "linecolor": "white",
            "showbackground": true,
            "ticks": "",
            "zerolinecolor": "white"
           },
           "zaxis": {
            "backgroundcolor": "#E5ECF6",
            "gridcolor": "white",
            "gridwidth": 2,
            "linecolor": "white",
            "showbackground": true,
            "ticks": "",
            "zerolinecolor": "white"
           }
          },
          "shapedefaults": {
           "line": {
            "color": "#2a3f5f"
           }
          },
          "ternary": {
           "aaxis": {
            "gridcolor": "white",
            "linecolor": "white",
            "ticks": ""
           },
           "baxis": {
            "gridcolor": "white",
            "linecolor": "white",
            "ticks": ""
           },
           "bgcolor": "#E5ECF6",
           "caxis": {
            "gridcolor": "white",
            "linecolor": "white",
            "ticks": ""
           }
          },
          "title": {
           "x": 0.05
          },
          "xaxis": {
           "automargin": true,
           "gridcolor": "white",
           "linecolor": "white",
           "ticks": "",
           "title": {
            "standoff": 15
           },
           "zerolinecolor": "white",
           "zerolinewidth": 2
          },
          "yaxis": {
           "automargin": true,
           "gridcolor": "white",
           "linecolor": "white",
           "ticks": "",
           "title": {
            "standoff": 15
           },
           "zerolinecolor": "white",
           "zerolinewidth": 2
          }
         }
        },
        "title": {
         "font": {
          "color": "#4D5663"
         }
        },
        "xaxis": {
         "gridcolor": "#E1E5ED",
         "showgrid": true,
         "tickfont": {
          "color": "#4D5663"
         },
         "title": {
          "font": {
           "color": "#4D5663"
          },
          "text": ""
         },
         "zerolinecolor": "#E1E5ED"
        },
        "yaxis": {
         "gridcolor": "#E1E5ED",
         "showgrid": true,
         "tickfont": {
          "color": "#4D5663"
         },
         "title": {
          "font": {
           "color": "#4D5663"
          },
          "text": ""
         },
         "zerolinecolor": "#E1E5ED"
        }
       }
      },
      "text/html": [
       "<div>                            <div id=\"e93c6a72-be13-4612-a5dd-863b52d67a40\" class=\"plotly-graph-div\" style=\"height:525px; width:100%;\"></div>            <script type=\"text/javascript\">                require([\"plotly\"], function(Plotly) {                    window.PLOTLYENV=window.PLOTLYENV || {};\n",
       "                    window.PLOTLYENV.BASE_URL='https://plot.ly';                                    if (document.getElementById(\"e93c6a72-be13-4612-a5dd-863b52d67a40\")) {                    Plotly.newPlot(                        \"e93c6a72-be13-4612-a5dd-863b52d67a40\",                        [{\"line\":{\"color\":\"rgba(255, 153, 51, 1.0)\",\"dash\":\"solid\",\"shape\":\"linear\",\"width\":1.3},\"marker\":{\"size\":10,\"symbol\":\"circle\"},\"mode\":\"markers\",\"name\":\"B\",\"text\":\"\",\"type\":\"scatter\",\"x\":[-1.4540004081478248,-0.11007355043051158,0.10982869675375188,-0.6483522274923497,0.6456682145863891,-0.9941365717586216,0.49132505126695764,0.574692293480332,-0.601149273426994,1.1681530928816495,0.9225460509197592,1.4080120518402826,0.5112988358011514,1.9042321289343245,-1.0519246485155396,-1.6145722564049436,-0.3069777634201451,-1.046904859984683,-0.19803089353167186,-0.319827137822687,-1.8082591352742183,2.0747833640870983,-0.19248509296146513,0.08128642613710906,-0.45443881176401013,0.7097203042406512,-0.38455851977652145,1.3908414664195914,-1.3692379339272545,0.44948683633089076,2.2757464103816396,-0.7935122389343489,-0.6456240932055214,-0.4204489550137737,0.19391000998362268,1.8194934307807404,-0.18217550385942105,-0.008290286976937332,0.8243979074928602,0.3721440133587712,0.5998082876547112,1.7708564035903112,1.7102348631178188,1.418303290602573,-0.34701523804234624,0.5032772588783692,-1.2452558870960557,-0.9970360030520007,0.5907178721512375,-2.7230352978400645,0.20055780980890967,-0.6137366637905584,-0.6086630310241073,-1.1087394788361375,0.6641586046761034,0.7193702690264225,0.9296696099660978,0.7317327604793983,-0.047201435658269515,-0.30334032362370084,0.02862471197069708,-0.27828523810730366,-0.44179553515129544,-0.024118842829569834,0.31227647731563263,0.8701847072134986,-0.22309656965636257,-0.20770513965651302,0.47142175538379566,0.5011247094412172,-1.3620146525279155,-0.14795098303784995,0.14196298736049628,-1.016884709309532,-0.4917906274473433,-0.12051799859600523,-0.17247939382189223,0.9541553890998549,1.4315140899860428,-0.00992095518753176,0.6018254201751347,-1.5789016803240072,0.727904003014525,-1.0147581420106258,1.0690133891339306,-1.1021364000773435,-0.23513861545976072,0.18364122505394662,-0.8165901971585968,-0.6081818370731323,0.621396892849809,-0.10947553062274686,0.11382492392576911,0.43714209861981645,-0.2654839651102387,1.5224160299697473,0.1199575783051826,0.6250937851392976,0.6354018783850093,-1.286302152646409],\"y\":[0.9804902717892854,-0.8116560269021028,-0.5304074349441019,0.7314708976817439,-1.317813889901291,0.5515653245923914,-1.007512904863618,0.027869316274254607,0.9373009762002932,0.3263313741977739,-1.4731555994613688,-1.5692248514343379,0.2247986762962962,-0.237046026508892,-0.29187496753921166,-0.5276451598659568,-0.4604939334911615,1.0622630019029553,0.2018053826239793,0.2152987530552919,0.5765946081004806,-1.0574687398285258,0.8147327040239873,-1.565196244472277,2.1161876872641905,-1.152433159222957,-0.4421984138276069,0.9879694617836262,-1.1377408514340306,-0.2904951299578208,0.941100139067152,-0.679405397666701,-0.14503723137893423,-2.3704740272865727,-1.4393468389346427,-1.9138285718222479,-0.40541957113900345,-0.6406358830486115,1.9669854746622704,0.24587824563188523,-1.0450644420469437,-0.3915593556466746,0.1319976106693394,-0.541910078691539,-0.45877995278105627,-0.04744886791407573,1.6744233390504226,-2.30929247012321,-0.42269700138534194,-0.4059181196519094,-0.47253102278763687,-1.5863850507771629,-0.1432502014946788,-0.3977794705846313,0.25058076876857827,1.0380414048510445,0.6510006302802921,-0.2380316037498957,-0.8630875614869196,0.6666007826208047,-1.869332074666846,-0.10507746883011831,0.26794216779872787,-1.8705098086426515,0.1589793056477878,-0.2250804552980786,-0.37249110592689794,0.36992866619033515,-0.8588867390570646,0.6841615555235582,0.6895449549121019,-1.653588892920698,-0.9066261328784851,0.06339155195534256,1.289405210397382,1.9058872332362038,0.9120647093077785,0.991419763084864,0.1620854385425183,-0.07940006271257556,1.3785162664718305,-0.27038388476787795,-0.9615886098208666,0.00405632774123973,1.2870366134246083,0.647698409026788,1.437094810613269,1.714407268630869,-0.7207396837198342,-0.8724684564766381,-1.091969997227892,-0.6433087841112413,-2.1803283139883036,1.647186106737404,0.6038710322432059,0.9708787477958503,-1.4414590443258994,0.0008702819208328536,-1.219643854961161,-0.6606360890090951]}],                        {\"legend\":{\"bgcolor\":\"#F5F6F9\",\"font\":{\"color\":\"#4D5663\"}},\"paper_bgcolor\":\"#F5F6F9\",\"plot_bgcolor\":\"#F5F6F9\",\"template\":{\"data\":{\"bar\":[{\"error_x\":{\"color\":\"#2a3f5f\"},\"error_y\":{\"color\":\"#2a3f5f\"},\"marker\":{\"line\":{\"color\":\"#E5ECF6\",\"width\":0.5},\"pattern\":{\"fillmode\":\"overlay\",\"size\":10,\"solidity\":0.2}},\"type\":\"bar\"}],\"barpolar\":[{\"marker\":{\"line\":{\"color\":\"#E5ECF6\",\"width\":0.5},\"pattern\":{\"fillmode\":\"overlay\",\"size\":10,\"solidity\":0.2}},\"type\":\"barpolar\"}],\"carpet\":[{\"aaxis\":{\"endlinecolor\":\"#2a3f5f\",\"gridcolor\":\"white\",\"linecolor\":\"white\",\"minorgridcolor\":\"white\",\"startlinecolor\":\"#2a3f5f\"},\"baxis\":{\"endlinecolor\":\"#2a3f5f\",\"gridcolor\":\"white\",\"linecolor\":\"white\",\"minorgridcolor\":\"white\",\"startlinecolor\":\"#2a3f5f\"},\"type\":\"carpet\"}],\"choropleth\":[{\"colorbar\":{\"outlinewidth\":0,\"ticks\":\"\"},\"type\":\"choropleth\"}],\"contour\":[{\"colorbar\":{\"outlinewidth\":0,\"ticks\":\"\"},\"colorscale\":[[0.0,\"#0d0887\"],[0.1111111111111111,\"#46039f\"],[0.2222222222222222,\"#7201a8\"],[0.3333333333333333,\"#9c179e\"],[0.4444444444444444,\"#bd3786\"],[0.5555555555555556,\"#d8576b\"],[0.6666666666666666,\"#ed7953\"],[0.7777777777777778,\"#fb9f3a\"],[0.8888888888888888,\"#fdca26\"],[1.0,\"#f0f921\"]],\"type\":\"contour\"}],\"contourcarpet\":[{\"colorbar\":{\"outlinewidth\":0,\"ticks\":\"\"},\"type\":\"contourcarpet\"}],\"heatmap\":[{\"colorbar\":{\"outlinewidth\":0,\"ticks\":\"\"},\"colorscale\":[[0.0,\"#0d0887\"],[0.1111111111111111,\"#46039f\"],[0.2222222222222222,\"#7201a8\"],[0.3333333333333333,\"#9c179e\"],[0.4444444444444444,\"#bd3786\"],[0.5555555555555556,\"#d8576b\"],[0.6666666666666666,\"#ed7953\"],[0.7777777777777778,\"#fb9f3a\"],[0.8888888888888888,\"#fdca26\"],[1.0,\"#f0f921\"]],\"type\":\"heatmap\"}],\"heatmapgl\":[{\"colorbar\":{\"outlinewidth\":0,\"ticks\":\"\"},\"colorscale\":[[0.0,\"#0d0887\"],[0.1111111111111111,\"#46039f\"],[0.2222222222222222,\"#7201a8\"],[0.3333333333333333,\"#9c179e\"],[0.4444444444444444,\"#bd3786\"],[0.5555555555555556,\"#d8576b\"],[0.6666666666666666,\"#ed7953\"],[0.7777777777777778,\"#fb9f3a\"],[0.8888888888888888,\"#fdca26\"],[1.0,\"#f0f921\"]],\"type\":\"heatmapgl\"}],\"histogram\":[{\"marker\":{\"pattern\":{\"fillmode\":\"overlay\",\"size\":10,\"solidity\":0.2}},\"type\":\"histogram\"}],\"histogram2d\":[{\"colorbar\":{\"outlinewidth\":0,\"ticks\":\"\"},\"colorscale\":[[0.0,\"#0d0887\"],[0.1111111111111111,\"#46039f\"],[0.2222222222222222,\"#7201a8\"],[0.3333333333333333,\"#9c179e\"],[0.4444444444444444,\"#bd3786\"],[0.5555555555555556,\"#d8576b\"],[0.6666666666666666,\"#ed7953\"],[0.7777777777777778,\"#fb9f3a\"],[0.8888888888888888,\"#fdca26\"],[1.0,\"#f0f921\"]],\"type\":\"histogram2d\"}],\"histogram2dcontour\":[{\"colorbar\":{\"outlinewidth\":0,\"ticks\":\"\"},\"colorscale\":[[0.0,\"#0d0887\"],[0.1111111111111111,\"#46039f\"],[0.2222222222222222,\"#7201a8\"],[0.3333333333333333,\"#9c179e\"],[0.4444444444444444,\"#bd3786\"],[0.5555555555555556,\"#d8576b\"],[0.6666666666666666,\"#ed7953\"],[0.7777777777777778,\"#fb9f3a\"],[0.8888888888888888,\"#fdca26\"],[1.0,\"#f0f921\"]],\"type\":\"histogram2dcontour\"}],\"mesh3d\":[{\"colorbar\":{\"outlinewidth\":0,\"ticks\":\"\"},\"type\":\"mesh3d\"}],\"parcoords\":[{\"line\":{\"colorbar\":{\"outlinewidth\":0,\"ticks\":\"\"}},\"type\":\"parcoords\"}],\"pie\":[{\"automargin\":true,\"type\":\"pie\"}],\"scatter\":[{\"marker\":{\"colorbar\":{\"outlinewidth\":0,\"ticks\":\"\"}},\"type\":\"scatter\"}],\"scatter3d\":[{\"line\":{\"colorbar\":{\"outlinewidth\":0,\"ticks\":\"\"}},\"marker\":{\"colorbar\":{\"outlinewidth\":0,\"ticks\":\"\"}},\"type\":\"scatter3d\"}],\"scattercarpet\":[{\"marker\":{\"colorbar\":{\"outlinewidth\":0,\"ticks\":\"\"}},\"type\":\"scattercarpet\"}],\"scattergeo\":[{\"marker\":{\"colorbar\":{\"outlinewidth\":0,\"ticks\":\"\"}},\"type\":\"scattergeo\"}],\"scattergl\":[{\"marker\":{\"colorbar\":{\"outlinewidth\":0,\"ticks\":\"\"}},\"type\":\"scattergl\"}],\"scattermapbox\":[{\"marker\":{\"colorbar\":{\"outlinewidth\":0,\"ticks\":\"\"}},\"type\":\"scattermapbox\"}],\"scatterpolar\":[{\"marker\":{\"colorbar\":{\"outlinewidth\":0,\"ticks\":\"\"}},\"type\":\"scatterpolar\"}],\"scatterpolargl\":[{\"marker\":{\"colorbar\":{\"outlinewidth\":0,\"ticks\":\"\"}},\"type\":\"scatterpolargl\"}],\"scatterternary\":[{\"marker\":{\"colorbar\":{\"outlinewidth\":0,\"ticks\":\"\"}},\"type\":\"scatterternary\"}],\"surface\":[{\"colorbar\":{\"outlinewidth\":0,\"ticks\":\"\"},\"colorscale\":[[0.0,\"#0d0887\"],[0.1111111111111111,\"#46039f\"],[0.2222222222222222,\"#7201a8\"],[0.3333333333333333,\"#9c179e\"],[0.4444444444444444,\"#bd3786\"],[0.5555555555555556,\"#d8576b\"],[0.6666666666666666,\"#ed7953\"],[0.7777777777777778,\"#fb9f3a\"],[0.8888888888888888,\"#fdca26\"],[1.0,\"#f0f921\"]],\"type\":\"surface\"}],\"table\":[{\"cells\":{\"fill\":{\"color\":\"#EBF0F8\"},\"line\":{\"color\":\"white\"}},\"header\":{\"fill\":{\"color\":\"#C8D4E3\"},\"line\":{\"color\":\"white\"}},\"type\":\"table\"}]},\"layout\":{\"annotationdefaults\":{\"arrowcolor\":\"#2a3f5f\",\"arrowhead\":0,\"arrowwidth\":1},\"autotypenumbers\":\"strict\",\"coloraxis\":{\"colorbar\":{\"outlinewidth\":0,\"ticks\":\"\"}},\"colorscale\":{\"diverging\":[[0,\"#8e0152\"],[0.1,\"#c51b7d\"],[0.2,\"#de77ae\"],[0.3,\"#f1b6da\"],[0.4,\"#fde0ef\"],[0.5,\"#f7f7f7\"],[0.6,\"#e6f5d0\"],[0.7,\"#b8e186\"],[0.8,\"#7fbc41\"],[0.9,\"#4d9221\"],[1,\"#276419\"]],\"sequential\":[[0.0,\"#0d0887\"],[0.1111111111111111,\"#46039f\"],[0.2222222222222222,\"#7201a8\"],[0.3333333333333333,\"#9c179e\"],[0.4444444444444444,\"#bd3786\"],[0.5555555555555556,\"#d8576b\"],[0.6666666666666666,\"#ed7953\"],[0.7777777777777778,\"#fb9f3a\"],[0.8888888888888888,\"#fdca26\"],[1.0,\"#f0f921\"]],\"sequentialminus\":[[0.0,\"#0d0887\"],[0.1111111111111111,\"#46039f\"],[0.2222222222222222,\"#7201a8\"],[0.3333333333333333,\"#9c179e\"],[0.4444444444444444,\"#bd3786\"],[0.5555555555555556,\"#d8576b\"],[0.6666666666666666,\"#ed7953\"],[0.7777777777777778,\"#fb9f3a\"],[0.8888888888888888,\"#fdca26\"],[1.0,\"#f0f921\"]]},\"colorway\":[\"#636efa\",\"#EF553B\",\"#00cc96\",\"#ab63fa\",\"#FFA15A\",\"#19d3f3\",\"#FF6692\",\"#B6E880\",\"#FF97FF\",\"#FECB52\"],\"font\":{\"color\":\"#2a3f5f\"},\"geo\":{\"bgcolor\":\"white\",\"lakecolor\":\"white\",\"landcolor\":\"#E5ECF6\",\"showlakes\":true,\"showland\":true,\"subunitcolor\":\"white\"},\"hoverlabel\":{\"align\":\"left\"},\"hovermode\":\"closest\",\"mapbox\":{\"style\":\"light\"},\"paper_bgcolor\":\"white\",\"plot_bgcolor\":\"#E5ECF6\",\"polar\":{\"angularaxis\":{\"gridcolor\":\"white\",\"linecolor\":\"white\",\"ticks\":\"\"},\"bgcolor\":\"#E5ECF6\",\"radialaxis\":{\"gridcolor\":\"white\",\"linecolor\":\"white\",\"ticks\":\"\"}},\"scene\":{\"xaxis\":{\"backgroundcolor\":\"#E5ECF6\",\"gridcolor\":\"white\",\"gridwidth\":2,\"linecolor\":\"white\",\"showbackground\":true,\"ticks\":\"\",\"zerolinecolor\":\"white\"},\"yaxis\":{\"backgroundcolor\":\"#E5ECF6\",\"gridcolor\":\"white\",\"gridwidth\":2,\"linecolor\":\"white\",\"showbackground\":true,\"ticks\":\"\",\"zerolinecolor\":\"white\"},\"zaxis\":{\"backgroundcolor\":\"#E5ECF6\",\"gridcolor\":\"white\",\"gridwidth\":2,\"linecolor\":\"white\",\"showbackground\":true,\"ticks\":\"\",\"zerolinecolor\":\"white\"}},\"shapedefaults\":{\"line\":{\"color\":\"#2a3f5f\"}},\"ternary\":{\"aaxis\":{\"gridcolor\":\"white\",\"linecolor\":\"white\",\"ticks\":\"\"},\"baxis\":{\"gridcolor\":\"white\",\"linecolor\":\"white\",\"ticks\":\"\"},\"bgcolor\":\"#E5ECF6\",\"caxis\":{\"gridcolor\":\"white\",\"linecolor\":\"white\",\"ticks\":\"\"}},\"title\":{\"x\":0.05},\"xaxis\":{\"automargin\":true,\"gridcolor\":\"white\",\"linecolor\":\"white\",\"ticks\":\"\",\"title\":{\"standoff\":15},\"zerolinecolor\":\"white\",\"zerolinewidth\":2},\"yaxis\":{\"automargin\":true,\"gridcolor\":\"white\",\"linecolor\":\"white\",\"ticks\":\"\",\"title\":{\"standoff\":15},\"zerolinecolor\":\"white\",\"zerolinewidth\":2}}},\"title\":{\"font\":{\"color\":\"#4D5663\"}},\"xaxis\":{\"gridcolor\":\"#E1E5ED\",\"showgrid\":true,\"tickfont\":{\"color\":\"#4D5663\"},\"title\":{\"font\":{\"color\":\"#4D5663\"},\"text\":\"\"},\"zerolinecolor\":\"#E1E5ED\"},\"yaxis\":{\"gridcolor\":\"#E1E5ED\",\"showgrid\":true,\"tickfont\":{\"color\":\"#4D5663\"},\"title\":{\"font\":{\"color\":\"#4D5663\"},\"text\":\"\"},\"zerolinecolor\":\"#E1E5ED\"}},                        {\"showLink\": true, \"linkText\": \"Export to plot.ly\", \"plotlyServerURL\": \"https://plot.ly\", \"responsive\": true}                    ).then(function(){\n",
       "                            \n",
       "var gd = document.getElementById('e93c6a72-be13-4612-a5dd-863b52d67a40');\n",
       "var x = new MutationObserver(function (mutations, observer) {{\n",
       "        var display = window.getComputedStyle(gd).display;\n",
       "        if (!display || display === 'none') {{\n",
       "            console.log([gd, 'removed!']);\n",
       "            Plotly.purge(gd);\n",
       "            observer.disconnect();\n",
       "        }}\n",
       "}});\n",
       "\n",
       "// Listen for the removal of the full notebook cells\n",
       "var notebookContainer = gd.closest('#notebook-container');\n",
       "if (notebookContainer) {{\n",
       "    x.observe(notebookContainer, {childList: true});\n",
       "}}\n",
       "\n",
       "// Listen for the clearing of the current output cell\n",
       "var outputEl = gd.closest('.output');\n",
       "if (outputEl) {{\n",
       "    x.observe(outputEl, {childList: true});\n",
       "}}\n",
       "\n",
       "                        })                };                });            </script>        </div>"
      ]
     },
     "metadata": {},
     "output_type": "display_data"
    }
   ],
   "source": [
    "df.iplot(kind='scatter',x='A',y='B',mode='markers',size=10)"
   ]
  },
  {
   "cell_type": "markdown",
   "metadata": {},
   "source": [
    "## Bar Plots"
   ]
  },
  {
   "cell_type": "code",
   "execution_count": 11,
   "metadata": {},
   "outputs": [
    {
     "data": {
      "application/vnd.plotly.v1+json": {
       "config": {
        "linkText": "Export to plot.ly",
        "plotlyServerURL": "https://plot.ly",
        "showLink": true
       },
       "data": [
        {
         "marker": {
          "color": "rgba(255, 153, 51, 0.6)",
          "line": {
           "color": "rgba(255, 153, 51, 1.0)",
           "width": 1
          }
         },
         "name": "Values",
         "orientation": "v",
         "text": "",
         "type": "bar",
         "x": [
          "A",
          "B",
          "C"
         ],
         "y": [
          32,
          43,
          50
         ]
        }
       ],
       "layout": {
        "legend": {
         "bgcolor": "#F5F6F9",
         "font": {
          "color": "#4D5663"
         }
        },
        "paper_bgcolor": "#F5F6F9",
        "plot_bgcolor": "#F5F6F9",
        "template": {
         "data": {
          "bar": [
           {
            "error_x": {
             "color": "#2a3f5f"
            },
            "error_y": {
             "color": "#2a3f5f"
            },
            "marker": {
             "line": {
              "color": "#E5ECF6",
              "width": 0.5
             },
             "pattern": {
              "fillmode": "overlay",
              "size": 10,
              "solidity": 0.2
             }
            },
            "type": "bar"
           }
          ],
          "barpolar": [
           {
            "marker": {
             "line": {
              "color": "#E5ECF6",
              "width": 0.5
             },
             "pattern": {
              "fillmode": "overlay",
              "size": 10,
              "solidity": 0.2
             }
            },
            "type": "barpolar"
           }
          ],
          "carpet": [
           {
            "aaxis": {
             "endlinecolor": "#2a3f5f",
             "gridcolor": "white",
             "linecolor": "white",
             "minorgridcolor": "white",
             "startlinecolor": "#2a3f5f"
            },
            "baxis": {
             "endlinecolor": "#2a3f5f",
             "gridcolor": "white",
             "linecolor": "white",
             "minorgridcolor": "white",
             "startlinecolor": "#2a3f5f"
            },
            "type": "carpet"
           }
          ],
          "choropleth": [
           {
            "colorbar": {
             "outlinewidth": 0,
             "ticks": ""
            },
            "type": "choropleth"
           }
          ],
          "contour": [
           {
            "colorbar": {
             "outlinewidth": 0,
             "ticks": ""
            },
            "colorscale": [
             [
              0,
              "#0d0887"
             ],
             [
              0.1111111111111111,
              "#46039f"
             ],
             [
              0.2222222222222222,
              "#7201a8"
             ],
             [
              0.3333333333333333,
              "#9c179e"
             ],
             [
              0.4444444444444444,
              "#bd3786"
             ],
             [
              0.5555555555555556,
              "#d8576b"
             ],
             [
              0.6666666666666666,
              "#ed7953"
             ],
             [
              0.7777777777777778,
              "#fb9f3a"
             ],
             [
              0.8888888888888888,
              "#fdca26"
             ],
             [
              1,
              "#f0f921"
             ]
            ],
            "type": "contour"
           }
          ],
          "contourcarpet": [
           {
            "colorbar": {
             "outlinewidth": 0,
             "ticks": ""
            },
            "type": "contourcarpet"
           }
          ],
          "heatmap": [
           {
            "colorbar": {
             "outlinewidth": 0,
             "ticks": ""
            },
            "colorscale": [
             [
              0,
              "#0d0887"
             ],
             [
              0.1111111111111111,
              "#46039f"
             ],
             [
              0.2222222222222222,
              "#7201a8"
             ],
             [
              0.3333333333333333,
              "#9c179e"
             ],
             [
              0.4444444444444444,
              "#bd3786"
             ],
             [
              0.5555555555555556,
              "#d8576b"
             ],
             [
              0.6666666666666666,
              "#ed7953"
             ],
             [
              0.7777777777777778,
              "#fb9f3a"
             ],
             [
              0.8888888888888888,
              "#fdca26"
             ],
             [
              1,
              "#f0f921"
             ]
            ],
            "type": "heatmap"
           }
          ],
          "heatmapgl": [
           {
            "colorbar": {
             "outlinewidth": 0,
             "ticks": ""
            },
            "colorscale": [
             [
              0,
              "#0d0887"
             ],
             [
              0.1111111111111111,
              "#46039f"
             ],
             [
              0.2222222222222222,
              "#7201a8"
             ],
             [
              0.3333333333333333,
              "#9c179e"
             ],
             [
              0.4444444444444444,
              "#bd3786"
             ],
             [
              0.5555555555555556,
              "#d8576b"
             ],
             [
              0.6666666666666666,
              "#ed7953"
             ],
             [
              0.7777777777777778,
              "#fb9f3a"
             ],
             [
              0.8888888888888888,
              "#fdca26"
             ],
             [
              1,
              "#f0f921"
             ]
            ],
            "type": "heatmapgl"
           }
          ],
          "histogram": [
           {
            "marker": {
             "pattern": {
              "fillmode": "overlay",
              "size": 10,
              "solidity": 0.2
             }
            },
            "type": "histogram"
           }
          ],
          "histogram2d": [
           {
            "colorbar": {
             "outlinewidth": 0,
             "ticks": ""
            },
            "colorscale": [
             [
              0,
              "#0d0887"
             ],
             [
              0.1111111111111111,
              "#46039f"
             ],
             [
              0.2222222222222222,
              "#7201a8"
             ],
             [
              0.3333333333333333,
              "#9c179e"
             ],
             [
              0.4444444444444444,
              "#bd3786"
             ],
             [
              0.5555555555555556,
              "#d8576b"
             ],
             [
              0.6666666666666666,
              "#ed7953"
             ],
             [
              0.7777777777777778,
              "#fb9f3a"
             ],
             [
              0.8888888888888888,
              "#fdca26"
             ],
             [
              1,
              "#f0f921"
             ]
            ],
            "type": "histogram2d"
           }
          ],
          "histogram2dcontour": [
           {
            "colorbar": {
             "outlinewidth": 0,
             "ticks": ""
            },
            "colorscale": [
             [
              0,
              "#0d0887"
             ],
             [
              0.1111111111111111,
              "#46039f"
             ],
             [
              0.2222222222222222,
              "#7201a8"
             ],
             [
              0.3333333333333333,
              "#9c179e"
             ],
             [
              0.4444444444444444,
              "#bd3786"
             ],
             [
              0.5555555555555556,
              "#d8576b"
             ],
             [
              0.6666666666666666,
              "#ed7953"
             ],
             [
              0.7777777777777778,
              "#fb9f3a"
             ],
             [
              0.8888888888888888,
              "#fdca26"
             ],
             [
              1,
              "#f0f921"
             ]
            ],
            "type": "histogram2dcontour"
           }
          ],
          "mesh3d": [
           {
            "colorbar": {
             "outlinewidth": 0,
             "ticks": ""
            },
            "type": "mesh3d"
           }
          ],
          "parcoords": [
           {
            "line": {
             "colorbar": {
              "outlinewidth": 0,
              "ticks": ""
             }
            },
            "type": "parcoords"
           }
          ],
          "pie": [
           {
            "automargin": true,
            "type": "pie"
           }
          ],
          "scatter": [
           {
            "marker": {
             "colorbar": {
              "outlinewidth": 0,
              "ticks": ""
             }
            },
            "type": "scatter"
           }
          ],
          "scatter3d": [
           {
            "line": {
             "colorbar": {
              "outlinewidth": 0,
              "ticks": ""
             }
            },
            "marker": {
             "colorbar": {
              "outlinewidth": 0,
              "ticks": ""
             }
            },
            "type": "scatter3d"
           }
          ],
          "scattercarpet": [
           {
            "marker": {
             "colorbar": {
              "outlinewidth": 0,
              "ticks": ""
             }
            },
            "type": "scattercarpet"
           }
          ],
          "scattergeo": [
           {
            "marker": {
             "colorbar": {
              "outlinewidth": 0,
              "ticks": ""
             }
            },
            "type": "scattergeo"
           }
          ],
          "scattergl": [
           {
            "marker": {
             "colorbar": {
              "outlinewidth": 0,
              "ticks": ""
             }
            },
            "type": "scattergl"
           }
          ],
          "scattermapbox": [
           {
            "marker": {
             "colorbar": {
              "outlinewidth": 0,
              "ticks": ""
             }
            },
            "type": "scattermapbox"
           }
          ],
          "scatterpolar": [
           {
            "marker": {
             "colorbar": {
              "outlinewidth": 0,
              "ticks": ""
             }
            },
            "type": "scatterpolar"
           }
          ],
          "scatterpolargl": [
           {
            "marker": {
             "colorbar": {
              "outlinewidth": 0,
              "ticks": ""
             }
            },
            "type": "scatterpolargl"
           }
          ],
          "scatterternary": [
           {
            "marker": {
             "colorbar": {
              "outlinewidth": 0,
              "ticks": ""
             }
            },
            "type": "scatterternary"
           }
          ],
          "surface": [
           {
            "colorbar": {
             "outlinewidth": 0,
             "ticks": ""
            },
            "colorscale": [
             [
              0,
              "#0d0887"
             ],
             [
              0.1111111111111111,
              "#46039f"
             ],
             [
              0.2222222222222222,
              "#7201a8"
             ],
             [
              0.3333333333333333,
              "#9c179e"
             ],
             [
              0.4444444444444444,
              "#bd3786"
             ],
             [
              0.5555555555555556,
              "#d8576b"
             ],
             [
              0.6666666666666666,
              "#ed7953"
             ],
             [
              0.7777777777777778,
              "#fb9f3a"
             ],
             [
              0.8888888888888888,
              "#fdca26"
             ],
             [
              1,
              "#f0f921"
             ]
            ],
            "type": "surface"
           }
          ],
          "table": [
           {
            "cells": {
             "fill": {
              "color": "#EBF0F8"
             },
             "line": {
              "color": "white"
             }
            },
            "header": {
             "fill": {
              "color": "#C8D4E3"
             },
             "line": {
              "color": "white"
             }
            },
            "type": "table"
           }
          ]
         },
         "layout": {
          "annotationdefaults": {
           "arrowcolor": "#2a3f5f",
           "arrowhead": 0,
           "arrowwidth": 1
          },
          "autotypenumbers": "strict",
          "coloraxis": {
           "colorbar": {
            "outlinewidth": 0,
            "ticks": ""
           }
          },
          "colorscale": {
           "diverging": [
            [
             0,
             "#8e0152"
            ],
            [
             0.1,
             "#c51b7d"
            ],
            [
             0.2,
             "#de77ae"
            ],
            [
             0.3,
             "#f1b6da"
            ],
            [
             0.4,
             "#fde0ef"
            ],
            [
             0.5,
             "#f7f7f7"
            ],
            [
             0.6,
             "#e6f5d0"
            ],
            [
             0.7,
             "#b8e186"
            ],
            [
             0.8,
             "#7fbc41"
            ],
            [
             0.9,
             "#4d9221"
            ],
            [
             1,
             "#276419"
            ]
           ],
           "sequential": [
            [
             0,
             "#0d0887"
            ],
            [
             0.1111111111111111,
             "#46039f"
            ],
            [
             0.2222222222222222,
             "#7201a8"
            ],
            [
             0.3333333333333333,
             "#9c179e"
            ],
            [
             0.4444444444444444,
             "#bd3786"
            ],
            [
             0.5555555555555556,
             "#d8576b"
            ],
            [
             0.6666666666666666,
             "#ed7953"
            ],
            [
             0.7777777777777778,
             "#fb9f3a"
            ],
            [
             0.8888888888888888,
             "#fdca26"
            ],
            [
             1,
             "#f0f921"
            ]
           ],
           "sequentialminus": [
            [
             0,
             "#0d0887"
            ],
            [
             0.1111111111111111,
             "#46039f"
            ],
            [
             0.2222222222222222,
             "#7201a8"
            ],
            [
             0.3333333333333333,
             "#9c179e"
            ],
            [
             0.4444444444444444,
             "#bd3786"
            ],
            [
             0.5555555555555556,
             "#d8576b"
            ],
            [
             0.6666666666666666,
             "#ed7953"
            ],
            [
             0.7777777777777778,
             "#fb9f3a"
            ],
            [
             0.8888888888888888,
             "#fdca26"
            ],
            [
             1,
             "#f0f921"
            ]
           ]
          },
          "colorway": [
           "#636efa",
           "#EF553B",
           "#00cc96",
           "#ab63fa",
           "#FFA15A",
           "#19d3f3",
           "#FF6692",
           "#B6E880",
           "#FF97FF",
           "#FECB52"
          ],
          "font": {
           "color": "#2a3f5f"
          },
          "geo": {
           "bgcolor": "white",
           "lakecolor": "white",
           "landcolor": "#E5ECF6",
           "showlakes": true,
           "showland": true,
           "subunitcolor": "white"
          },
          "hoverlabel": {
           "align": "left"
          },
          "hovermode": "closest",
          "mapbox": {
           "style": "light"
          },
          "paper_bgcolor": "white",
          "plot_bgcolor": "#E5ECF6",
          "polar": {
           "angularaxis": {
            "gridcolor": "white",
            "linecolor": "white",
            "ticks": ""
           },
           "bgcolor": "#E5ECF6",
           "radialaxis": {
            "gridcolor": "white",
            "linecolor": "white",
            "ticks": ""
           }
          },
          "scene": {
           "xaxis": {
            "backgroundcolor": "#E5ECF6",
            "gridcolor": "white",
            "gridwidth": 2,
            "linecolor": "white",
            "showbackground": true,
            "ticks": "",
            "zerolinecolor": "white"
           },
           "yaxis": {
            "backgroundcolor": "#E5ECF6",
            "gridcolor": "white",
            "gridwidth": 2,
            "linecolor": "white",
            "showbackground": true,
            "ticks": "",
            "zerolinecolor": "white"
           },
           "zaxis": {
            "backgroundcolor": "#E5ECF6",
            "gridcolor": "white",
            "gridwidth": 2,
            "linecolor": "white",
            "showbackground": true,
            "ticks": "",
            "zerolinecolor": "white"
           }
          },
          "shapedefaults": {
           "line": {
            "color": "#2a3f5f"
           }
          },
          "ternary": {
           "aaxis": {
            "gridcolor": "white",
            "linecolor": "white",
            "ticks": ""
           },
           "baxis": {
            "gridcolor": "white",
            "linecolor": "white",
            "ticks": ""
           },
           "bgcolor": "#E5ECF6",
           "caxis": {
            "gridcolor": "white",
            "linecolor": "white",
            "ticks": ""
           }
          },
          "title": {
           "x": 0.05
          },
          "xaxis": {
           "automargin": true,
           "gridcolor": "white",
           "linecolor": "white",
           "ticks": "",
           "title": {
            "standoff": 15
           },
           "zerolinecolor": "white",
           "zerolinewidth": 2
          },
          "yaxis": {
           "automargin": true,
           "gridcolor": "white",
           "linecolor": "white",
           "ticks": "",
           "title": {
            "standoff": 15
           },
           "zerolinecolor": "white",
           "zerolinewidth": 2
          }
         }
        },
        "title": {
         "font": {
          "color": "#4D5663"
         }
        },
        "xaxis": {
         "gridcolor": "#E1E5ED",
         "showgrid": true,
         "tickfont": {
          "color": "#4D5663"
         },
         "title": {
          "font": {
           "color": "#4D5663"
          },
          "text": ""
         },
         "zerolinecolor": "#E1E5ED"
        },
        "yaxis": {
         "gridcolor": "#E1E5ED",
         "showgrid": true,
         "tickfont": {
          "color": "#4D5663"
         },
         "title": {
          "font": {
           "color": "#4D5663"
          },
          "text": ""
         },
         "zerolinecolor": "#E1E5ED"
        }
       }
      },
      "text/html": [
       "<div>                            <div id=\"8f43709c-fe9f-48c6-aa83-74ba821cffbd\" class=\"plotly-graph-div\" style=\"height:525px; width:100%;\"></div>            <script type=\"text/javascript\">                require([\"plotly\"], function(Plotly) {                    window.PLOTLYENV=window.PLOTLYENV || {};\n",
       "                    window.PLOTLYENV.BASE_URL='https://plot.ly';                                    if (document.getElementById(\"8f43709c-fe9f-48c6-aa83-74ba821cffbd\")) {                    Plotly.newPlot(                        \"8f43709c-fe9f-48c6-aa83-74ba821cffbd\",                        [{\"marker\":{\"color\":\"rgba(255, 153, 51, 0.6)\",\"line\":{\"color\":\"rgba(255, 153, 51, 1.0)\",\"width\":1}},\"name\":\"Values\",\"orientation\":\"v\",\"text\":\"\",\"type\":\"bar\",\"x\":[\"A\",\"B\",\"C\"],\"y\":[32,43,50]}],                        {\"legend\":{\"bgcolor\":\"#F5F6F9\",\"font\":{\"color\":\"#4D5663\"}},\"paper_bgcolor\":\"#F5F6F9\",\"plot_bgcolor\":\"#F5F6F9\",\"template\":{\"data\":{\"bar\":[{\"error_x\":{\"color\":\"#2a3f5f\"},\"error_y\":{\"color\":\"#2a3f5f\"},\"marker\":{\"line\":{\"color\":\"#E5ECF6\",\"width\":0.5},\"pattern\":{\"fillmode\":\"overlay\",\"size\":10,\"solidity\":0.2}},\"type\":\"bar\"}],\"barpolar\":[{\"marker\":{\"line\":{\"color\":\"#E5ECF6\",\"width\":0.5},\"pattern\":{\"fillmode\":\"overlay\",\"size\":10,\"solidity\":0.2}},\"type\":\"barpolar\"}],\"carpet\":[{\"aaxis\":{\"endlinecolor\":\"#2a3f5f\",\"gridcolor\":\"white\",\"linecolor\":\"white\",\"minorgridcolor\":\"white\",\"startlinecolor\":\"#2a3f5f\"},\"baxis\":{\"endlinecolor\":\"#2a3f5f\",\"gridcolor\":\"white\",\"linecolor\":\"white\",\"minorgridcolor\":\"white\",\"startlinecolor\":\"#2a3f5f\"},\"type\":\"carpet\"}],\"choropleth\":[{\"colorbar\":{\"outlinewidth\":0,\"ticks\":\"\"},\"type\":\"choropleth\"}],\"contour\":[{\"colorbar\":{\"outlinewidth\":0,\"ticks\":\"\"},\"colorscale\":[[0.0,\"#0d0887\"],[0.1111111111111111,\"#46039f\"],[0.2222222222222222,\"#7201a8\"],[0.3333333333333333,\"#9c179e\"],[0.4444444444444444,\"#bd3786\"],[0.5555555555555556,\"#d8576b\"],[0.6666666666666666,\"#ed7953\"],[0.7777777777777778,\"#fb9f3a\"],[0.8888888888888888,\"#fdca26\"],[1.0,\"#f0f921\"]],\"type\":\"contour\"}],\"contourcarpet\":[{\"colorbar\":{\"outlinewidth\":0,\"ticks\":\"\"},\"type\":\"contourcarpet\"}],\"heatmap\":[{\"colorbar\":{\"outlinewidth\":0,\"ticks\":\"\"},\"colorscale\":[[0.0,\"#0d0887\"],[0.1111111111111111,\"#46039f\"],[0.2222222222222222,\"#7201a8\"],[0.3333333333333333,\"#9c179e\"],[0.4444444444444444,\"#bd3786\"],[0.5555555555555556,\"#d8576b\"],[0.6666666666666666,\"#ed7953\"],[0.7777777777777778,\"#fb9f3a\"],[0.8888888888888888,\"#fdca26\"],[1.0,\"#f0f921\"]],\"type\":\"heatmap\"}],\"heatmapgl\":[{\"colorbar\":{\"outlinewidth\":0,\"ticks\":\"\"},\"colorscale\":[[0.0,\"#0d0887\"],[0.1111111111111111,\"#46039f\"],[0.2222222222222222,\"#7201a8\"],[0.3333333333333333,\"#9c179e\"],[0.4444444444444444,\"#bd3786\"],[0.5555555555555556,\"#d8576b\"],[0.6666666666666666,\"#ed7953\"],[0.7777777777777778,\"#fb9f3a\"],[0.8888888888888888,\"#fdca26\"],[1.0,\"#f0f921\"]],\"type\":\"heatmapgl\"}],\"histogram\":[{\"marker\":{\"pattern\":{\"fillmode\":\"overlay\",\"size\":10,\"solidity\":0.2}},\"type\":\"histogram\"}],\"histogram2d\":[{\"colorbar\":{\"outlinewidth\":0,\"ticks\":\"\"},\"colorscale\":[[0.0,\"#0d0887\"],[0.1111111111111111,\"#46039f\"],[0.2222222222222222,\"#7201a8\"],[0.3333333333333333,\"#9c179e\"],[0.4444444444444444,\"#bd3786\"],[0.5555555555555556,\"#d8576b\"],[0.6666666666666666,\"#ed7953\"],[0.7777777777777778,\"#fb9f3a\"],[0.8888888888888888,\"#fdca26\"],[1.0,\"#f0f921\"]],\"type\":\"histogram2d\"}],\"histogram2dcontour\":[{\"colorbar\":{\"outlinewidth\":0,\"ticks\":\"\"},\"colorscale\":[[0.0,\"#0d0887\"],[0.1111111111111111,\"#46039f\"],[0.2222222222222222,\"#7201a8\"],[0.3333333333333333,\"#9c179e\"],[0.4444444444444444,\"#bd3786\"],[0.5555555555555556,\"#d8576b\"],[0.6666666666666666,\"#ed7953\"],[0.7777777777777778,\"#fb9f3a\"],[0.8888888888888888,\"#fdca26\"],[1.0,\"#f0f921\"]],\"type\":\"histogram2dcontour\"}],\"mesh3d\":[{\"colorbar\":{\"outlinewidth\":0,\"ticks\":\"\"},\"type\":\"mesh3d\"}],\"parcoords\":[{\"line\":{\"colorbar\":{\"outlinewidth\":0,\"ticks\":\"\"}},\"type\":\"parcoords\"}],\"pie\":[{\"automargin\":true,\"type\":\"pie\"}],\"scatter\":[{\"marker\":{\"colorbar\":{\"outlinewidth\":0,\"ticks\":\"\"}},\"type\":\"scatter\"}],\"scatter3d\":[{\"line\":{\"colorbar\":{\"outlinewidth\":0,\"ticks\":\"\"}},\"marker\":{\"colorbar\":{\"outlinewidth\":0,\"ticks\":\"\"}},\"type\":\"scatter3d\"}],\"scattercarpet\":[{\"marker\":{\"colorbar\":{\"outlinewidth\":0,\"ticks\":\"\"}},\"type\":\"scattercarpet\"}],\"scattergeo\":[{\"marker\":{\"colorbar\":{\"outlinewidth\":0,\"ticks\":\"\"}},\"type\":\"scattergeo\"}],\"scattergl\":[{\"marker\":{\"colorbar\":{\"outlinewidth\":0,\"ticks\":\"\"}},\"type\":\"scattergl\"}],\"scattermapbox\":[{\"marker\":{\"colorbar\":{\"outlinewidth\":0,\"ticks\":\"\"}},\"type\":\"scattermapbox\"}],\"scatterpolar\":[{\"marker\":{\"colorbar\":{\"outlinewidth\":0,\"ticks\":\"\"}},\"type\":\"scatterpolar\"}],\"scatterpolargl\":[{\"marker\":{\"colorbar\":{\"outlinewidth\":0,\"ticks\":\"\"}},\"type\":\"scatterpolargl\"}],\"scatterternary\":[{\"marker\":{\"colorbar\":{\"outlinewidth\":0,\"ticks\":\"\"}},\"type\":\"scatterternary\"}],\"surface\":[{\"colorbar\":{\"outlinewidth\":0,\"ticks\":\"\"},\"colorscale\":[[0.0,\"#0d0887\"],[0.1111111111111111,\"#46039f\"],[0.2222222222222222,\"#7201a8\"],[0.3333333333333333,\"#9c179e\"],[0.4444444444444444,\"#bd3786\"],[0.5555555555555556,\"#d8576b\"],[0.6666666666666666,\"#ed7953\"],[0.7777777777777778,\"#fb9f3a\"],[0.8888888888888888,\"#fdca26\"],[1.0,\"#f0f921\"]],\"type\":\"surface\"}],\"table\":[{\"cells\":{\"fill\":{\"color\":\"#EBF0F8\"},\"line\":{\"color\":\"white\"}},\"header\":{\"fill\":{\"color\":\"#C8D4E3\"},\"line\":{\"color\":\"white\"}},\"type\":\"table\"}]},\"layout\":{\"annotationdefaults\":{\"arrowcolor\":\"#2a3f5f\",\"arrowhead\":0,\"arrowwidth\":1},\"autotypenumbers\":\"strict\",\"coloraxis\":{\"colorbar\":{\"outlinewidth\":0,\"ticks\":\"\"}},\"colorscale\":{\"diverging\":[[0,\"#8e0152\"],[0.1,\"#c51b7d\"],[0.2,\"#de77ae\"],[0.3,\"#f1b6da\"],[0.4,\"#fde0ef\"],[0.5,\"#f7f7f7\"],[0.6,\"#e6f5d0\"],[0.7,\"#b8e186\"],[0.8,\"#7fbc41\"],[0.9,\"#4d9221\"],[1,\"#276419\"]],\"sequential\":[[0.0,\"#0d0887\"],[0.1111111111111111,\"#46039f\"],[0.2222222222222222,\"#7201a8\"],[0.3333333333333333,\"#9c179e\"],[0.4444444444444444,\"#bd3786\"],[0.5555555555555556,\"#d8576b\"],[0.6666666666666666,\"#ed7953\"],[0.7777777777777778,\"#fb9f3a\"],[0.8888888888888888,\"#fdca26\"],[1.0,\"#f0f921\"]],\"sequentialminus\":[[0.0,\"#0d0887\"],[0.1111111111111111,\"#46039f\"],[0.2222222222222222,\"#7201a8\"],[0.3333333333333333,\"#9c179e\"],[0.4444444444444444,\"#bd3786\"],[0.5555555555555556,\"#d8576b\"],[0.6666666666666666,\"#ed7953\"],[0.7777777777777778,\"#fb9f3a\"],[0.8888888888888888,\"#fdca26\"],[1.0,\"#f0f921\"]]},\"colorway\":[\"#636efa\",\"#EF553B\",\"#00cc96\",\"#ab63fa\",\"#FFA15A\",\"#19d3f3\",\"#FF6692\",\"#B6E880\",\"#FF97FF\",\"#FECB52\"],\"font\":{\"color\":\"#2a3f5f\"},\"geo\":{\"bgcolor\":\"white\",\"lakecolor\":\"white\",\"landcolor\":\"#E5ECF6\",\"showlakes\":true,\"showland\":true,\"subunitcolor\":\"white\"},\"hoverlabel\":{\"align\":\"left\"},\"hovermode\":\"closest\",\"mapbox\":{\"style\":\"light\"},\"paper_bgcolor\":\"white\",\"plot_bgcolor\":\"#E5ECF6\",\"polar\":{\"angularaxis\":{\"gridcolor\":\"white\",\"linecolor\":\"white\",\"ticks\":\"\"},\"bgcolor\":\"#E5ECF6\",\"radialaxis\":{\"gridcolor\":\"white\",\"linecolor\":\"white\",\"ticks\":\"\"}},\"scene\":{\"xaxis\":{\"backgroundcolor\":\"#E5ECF6\",\"gridcolor\":\"white\",\"gridwidth\":2,\"linecolor\":\"white\",\"showbackground\":true,\"ticks\":\"\",\"zerolinecolor\":\"white\"},\"yaxis\":{\"backgroundcolor\":\"#E5ECF6\",\"gridcolor\":\"white\",\"gridwidth\":2,\"linecolor\":\"white\",\"showbackground\":true,\"ticks\":\"\",\"zerolinecolor\":\"white\"},\"zaxis\":{\"backgroundcolor\":\"#E5ECF6\",\"gridcolor\":\"white\",\"gridwidth\":2,\"linecolor\":\"white\",\"showbackground\":true,\"ticks\":\"\",\"zerolinecolor\":\"white\"}},\"shapedefaults\":{\"line\":{\"color\":\"#2a3f5f\"}},\"ternary\":{\"aaxis\":{\"gridcolor\":\"white\",\"linecolor\":\"white\",\"ticks\":\"\"},\"baxis\":{\"gridcolor\":\"white\",\"linecolor\":\"white\",\"ticks\":\"\"},\"bgcolor\":\"#E5ECF6\",\"caxis\":{\"gridcolor\":\"white\",\"linecolor\":\"white\",\"ticks\":\"\"}},\"title\":{\"x\":0.05},\"xaxis\":{\"automargin\":true,\"gridcolor\":\"white\",\"linecolor\":\"white\",\"ticks\":\"\",\"title\":{\"standoff\":15},\"zerolinecolor\":\"white\",\"zerolinewidth\":2},\"yaxis\":{\"automargin\":true,\"gridcolor\":\"white\",\"linecolor\":\"white\",\"ticks\":\"\",\"title\":{\"standoff\":15},\"zerolinecolor\":\"white\",\"zerolinewidth\":2}}},\"title\":{\"font\":{\"color\":\"#4D5663\"}},\"xaxis\":{\"gridcolor\":\"#E1E5ED\",\"showgrid\":true,\"tickfont\":{\"color\":\"#4D5663\"},\"title\":{\"font\":{\"color\":\"#4D5663\"},\"text\":\"\"},\"zerolinecolor\":\"#E1E5ED\"},\"yaxis\":{\"gridcolor\":\"#E1E5ED\",\"showgrid\":true,\"tickfont\":{\"color\":\"#4D5663\"},\"title\":{\"font\":{\"color\":\"#4D5663\"},\"text\":\"\"},\"zerolinecolor\":\"#E1E5ED\"}},                        {\"showLink\": true, \"linkText\": \"Export to plot.ly\", \"plotlyServerURL\": \"https://plot.ly\", \"responsive\": true}                    ).then(function(){\n",
       "                            \n",
       "var gd = document.getElementById('8f43709c-fe9f-48c6-aa83-74ba821cffbd');\n",
       "var x = new MutationObserver(function (mutations, observer) {{\n",
       "        var display = window.getComputedStyle(gd).display;\n",
       "        if (!display || display === 'none') {{\n",
       "            console.log([gd, 'removed!']);\n",
       "            Plotly.purge(gd);\n",
       "            observer.disconnect();\n",
       "        }}\n",
       "}});\n",
       "\n",
       "// Listen for the removal of the full notebook cells\n",
       "var notebookContainer = gd.closest('#notebook-container');\n",
       "if (notebookContainer) {{\n",
       "    x.observe(notebookContainer, {childList: true});\n",
       "}}\n",
       "\n",
       "// Listen for the clearing of the current output cell\n",
       "var outputEl = gd.closest('.output');\n",
       "if (outputEl) {{\n",
       "    x.observe(outputEl, {childList: true});\n",
       "}}\n",
       "\n",
       "                        })                };                });            </script>        </div>"
      ]
     },
     "metadata": {},
     "output_type": "display_data"
    }
   ],
   "source": [
    "df2.iplot(kind='bar',x='Category',y='Values')"
   ]
  },
  {
   "cell_type": "code",
   "execution_count": 12,
   "metadata": {},
   "outputs": [
    {
     "data": {
      "application/vnd.plotly.v1+json": {
       "config": {
        "linkText": "Export to plot.ly",
        "plotlyServerURL": "https://plot.ly",
        "showLink": true
       },
       "data": [
        {
         "marker": {
          "color": "rgba(255, 153, 51, 0.6)",
          "line": {
           "color": "rgba(255, 153, 51, 1.0)",
           "width": 1
          }
         },
         "name": "None",
         "orientation": "v",
         "text": "",
         "type": "bar",
         "x": [
          "A",
          "B",
          "C",
          "D"
         ],
         "y": [
          100,
          100,
          100,
          100
         ]
        }
       ],
       "layout": {
        "legend": {
         "bgcolor": "#F5F6F9",
         "font": {
          "color": "#4D5663"
         }
        },
        "paper_bgcolor": "#F5F6F9",
        "plot_bgcolor": "#F5F6F9",
        "template": {
         "data": {
          "bar": [
           {
            "error_x": {
             "color": "#2a3f5f"
            },
            "error_y": {
             "color": "#2a3f5f"
            },
            "marker": {
             "line": {
              "color": "#E5ECF6",
              "width": 0.5
             },
             "pattern": {
              "fillmode": "overlay",
              "size": 10,
              "solidity": 0.2
             }
            },
            "type": "bar"
           }
          ],
          "barpolar": [
           {
            "marker": {
             "line": {
              "color": "#E5ECF6",
              "width": 0.5
             },
             "pattern": {
              "fillmode": "overlay",
              "size": 10,
              "solidity": 0.2
             }
            },
            "type": "barpolar"
           }
          ],
          "carpet": [
           {
            "aaxis": {
             "endlinecolor": "#2a3f5f",
             "gridcolor": "white",
             "linecolor": "white",
             "minorgridcolor": "white",
             "startlinecolor": "#2a3f5f"
            },
            "baxis": {
             "endlinecolor": "#2a3f5f",
             "gridcolor": "white",
             "linecolor": "white",
             "minorgridcolor": "white",
             "startlinecolor": "#2a3f5f"
            },
            "type": "carpet"
           }
          ],
          "choropleth": [
           {
            "colorbar": {
             "outlinewidth": 0,
             "ticks": ""
            },
            "type": "choropleth"
           }
          ],
          "contour": [
           {
            "colorbar": {
             "outlinewidth": 0,
             "ticks": ""
            },
            "colorscale": [
             [
              0,
              "#0d0887"
             ],
             [
              0.1111111111111111,
              "#46039f"
             ],
             [
              0.2222222222222222,
              "#7201a8"
             ],
             [
              0.3333333333333333,
              "#9c179e"
             ],
             [
              0.4444444444444444,
              "#bd3786"
             ],
             [
              0.5555555555555556,
              "#d8576b"
             ],
             [
              0.6666666666666666,
              "#ed7953"
             ],
             [
              0.7777777777777778,
              "#fb9f3a"
             ],
             [
              0.8888888888888888,
              "#fdca26"
             ],
             [
              1,
              "#f0f921"
             ]
            ],
            "type": "contour"
           }
          ],
          "contourcarpet": [
           {
            "colorbar": {
             "outlinewidth": 0,
             "ticks": ""
            },
            "type": "contourcarpet"
           }
          ],
          "heatmap": [
           {
            "colorbar": {
             "outlinewidth": 0,
             "ticks": ""
            },
            "colorscale": [
             [
              0,
              "#0d0887"
             ],
             [
              0.1111111111111111,
              "#46039f"
             ],
             [
              0.2222222222222222,
              "#7201a8"
             ],
             [
              0.3333333333333333,
              "#9c179e"
             ],
             [
              0.4444444444444444,
              "#bd3786"
             ],
             [
              0.5555555555555556,
              "#d8576b"
             ],
             [
              0.6666666666666666,
              "#ed7953"
             ],
             [
              0.7777777777777778,
              "#fb9f3a"
             ],
             [
              0.8888888888888888,
              "#fdca26"
             ],
             [
              1,
              "#f0f921"
             ]
            ],
            "type": "heatmap"
           }
          ],
          "heatmapgl": [
           {
            "colorbar": {
             "outlinewidth": 0,
             "ticks": ""
            },
            "colorscale": [
             [
              0,
              "#0d0887"
             ],
             [
              0.1111111111111111,
              "#46039f"
             ],
             [
              0.2222222222222222,
              "#7201a8"
             ],
             [
              0.3333333333333333,
              "#9c179e"
             ],
             [
              0.4444444444444444,
              "#bd3786"
             ],
             [
              0.5555555555555556,
              "#d8576b"
             ],
             [
              0.6666666666666666,
              "#ed7953"
             ],
             [
              0.7777777777777778,
              "#fb9f3a"
             ],
             [
              0.8888888888888888,
              "#fdca26"
             ],
             [
              1,
              "#f0f921"
             ]
            ],
            "type": "heatmapgl"
           }
          ],
          "histogram": [
           {
            "marker": {
             "pattern": {
              "fillmode": "overlay",
              "size": 10,
              "solidity": 0.2
             }
            },
            "type": "histogram"
           }
          ],
          "histogram2d": [
           {
            "colorbar": {
             "outlinewidth": 0,
             "ticks": ""
            },
            "colorscale": [
             [
              0,
              "#0d0887"
             ],
             [
              0.1111111111111111,
              "#46039f"
             ],
             [
              0.2222222222222222,
              "#7201a8"
             ],
             [
              0.3333333333333333,
              "#9c179e"
             ],
             [
              0.4444444444444444,
              "#bd3786"
             ],
             [
              0.5555555555555556,
              "#d8576b"
             ],
             [
              0.6666666666666666,
              "#ed7953"
             ],
             [
              0.7777777777777778,
              "#fb9f3a"
             ],
             [
              0.8888888888888888,
              "#fdca26"
             ],
             [
              1,
              "#f0f921"
             ]
            ],
            "type": "histogram2d"
           }
          ],
          "histogram2dcontour": [
           {
            "colorbar": {
             "outlinewidth": 0,
             "ticks": ""
            },
            "colorscale": [
             [
              0,
              "#0d0887"
             ],
             [
              0.1111111111111111,
              "#46039f"
             ],
             [
              0.2222222222222222,
              "#7201a8"
             ],
             [
              0.3333333333333333,
              "#9c179e"
             ],
             [
              0.4444444444444444,
              "#bd3786"
             ],
             [
              0.5555555555555556,
              "#d8576b"
             ],
             [
              0.6666666666666666,
              "#ed7953"
             ],
             [
              0.7777777777777778,
              "#fb9f3a"
             ],
             [
              0.8888888888888888,
              "#fdca26"
             ],
             [
              1,
              "#f0f921"
             ]
            ],
            "type": "histogram2dcontour"
           }
          ],
          "mesh3d": [
           {
            "colorbar": {
             "outlinewidth": 0,
             "ticks": ""
            },
            "type": "mesh3d"
           }
          ],
          "parcoords": [
           {
            "line": {
             "colorbar": {
              "outlinewidth": 0,
              "ticks": ""
             }
            },
            "type": "parcoords"
           }
          ],
          "pie": [
           {
            "automargin": true,
            "type": "pie"
           }
          ],
          "scatter": [
           {
            "marker": {
             "colorbar": {
              "outlinewidth": 0,
              "ticks": ""
             }
            },
            "type": "scatter"
           }
          ],
          "scatter3d": [
           {
            "line": {
             "colorbar": {
              "outlinewidth": 0,
              "ticks": ""
             }
            },
            "marker": {
             "colorbar": {
              "outlinewidth": 0,
              "ticks": ""
             }
            },
            "type": "scatter3d"
           }
          ],
          "scattercarpet": [
           {
            "marker": {
             "colorbar": {
              "outlinewidth": 0,
              "ticks": ""
             }
            },
            "type": "scattercarpet"
           }
          ],
          "scattergeo": [
           {
            "marker": {
             "colorbar": {
              "outlinewidth": 0,
              "ticks": ""
             }
            },
            "type": "scattergeo"
           }
          ],
          "scattergl": [
           {
            "marker": {
             "colorbar": {
              "outlinewidth": 0,
              "ticks": ""
             }
            },
            "type": "scattergl"
           }
          ],
          "scattermapbox": [
           {
            "marker": {
             "colorbar": {
              "outlinewidth": 0,
              "ticks": ""
             }
            },
            "type": "scattermapbox"
           }
          ],
          "scatterpolar": [
           {
            "marker": {
             "colorbar": {
              "outlinewidth": 0,
              "ticks": ""
             }
            },
            "type": "scatterpolar"
           }
          ],
          "scatterpolargl": [
           {
            "marker": {
             "colorbar": {
              "outlinewidth": 0,
              "ticks": ""
             }
            },
            "type": "scatterpolargl"
           }
          ],
          "scatterternary": [
           {
            "marker": {
             "colorbar": {
              "outlinewidth": 0,
              "ticks": ""
             }
            },
            "type": "scatterternary"
           }
          ],
          "surface": [
           {
            "colorbar": {
             "outlinewidth": 0,
             "ticks": ""
            },
            "colorscale": [
             [
              0,
              "#0d0887"
             ],
             [
              0.1111111111111111,
              "#46039f"
             ],
             [
              0.2222222222222222,
              "#7201a8"
             ],
             [
              0.3333333333333333,
              "#9c179e"
             ],
             [
              0.4444444444444444,
              "#bd3786"
             ],
             [
              0.5555555555555556,
              "#d8576b"
             ],
             [
              0.6666666666666666,
              "#ed7953"
             ],
             [
              0.7777777777777778,
              "#fb9f3a"
             ],
             [
              0.8888888888888888,
              "#fdca26"
             ],
             [
              1,
              "#f0f921"
             ]
            ],
            "type": "surface"
           }
          ],
          "table": [
           {
            "cells": {
             "fill": {
              "color": "#EBF0F8"
             },
             "line": {
              "color": "white"
             }
            },
            "header": {
             "fill": {
              "color": "#C8D4E3"
             },
             "line": {
              "color": "white"
             }
            },
            "type": "table"
           }
          ]
         },
         "layout": {
          "annotationdefaults": {
           "arrowcolor": "#2a3f5f",
           "arrowhead": 0,
           "arrowwidth": 1
          },
          "autotypenumbers": "strict",
          "coloraxis": {
           "colorbar": {
            "outlinewidth": 0,
            "ticks": ""
           }
          },
          "colorscale": {
           "diverging": [
            [
             0,
             "#8e0152"
            ],
            [
             0.1,
             "#c51b7d"
            ],
            [
             0.2,
             "#de77ae"
            ],
            [
             0.3,
             "#f1b6da"
            ],
            [
             0.4,
             "#fde0ef"
            ],
            [
             0.5,
             "#f7f7f7"
            ],
            [
             0.6,
             "#e6f5d0"
            ],
            [
             0.7,
             "#b8e186"
            ],
            [
             0.8,
             "#7fbc41"
            ],
            [
             0.9,
             "#4d9221"
            ],
            [
             1,
             "#276419"
            ]
           ],
           "sequential": [
            [
             0,
             "#0d0887"
            ],
            [
             0.1111111111111111,
             "#46039f"
            ],
            [
             0.2222222222222222,
             "#7201a8"
            ],
            [
             0.3333333333333333,
             "#9c179e"
            ],
            [
             0.4444444444444444,
             "#bd3786"
            ],
            [
             0.5555555555555556,
             "#d8576b"
            ],
            [
             0.6666666666666666,
             "#ed7953"
            ],
            [
             0.7777777777777778,
             "#fb9f3a"
            ],
            [
             0.8888888888888888,
             "#fdca26"
            ],
            [
             1,
             "#f0f921"
            ]
           ],
           "sequentialminus": [
            [
             0,
             "#0d0887"
            ],
            [
             0.1111111111111111,
             "#46039f"
            ],
            [
             0.2222222222222222,
             "#7201a8"
            ],
            [
             0.3333333333333333,
             "#9c179e"
            ],
            [
             0.4444444444444444,
             "#bd3786"
            ],
            [
             0.5555555555555556,
             "#d8576b"
            ],
            [
             0.6666666666666666,
             "#ed7953"
            ],
            [
             0.7777777777777778,
             "#fb9f3a"
            ],
            [
             0.8888888888888888,
             "#fdca26"
            ],
            [
             1,
             "#f0f921"
            ]
           ]
          },
          "colorway": [
           "#636efa",
           "#EF553B",
           "#00cc96",
           "#ab63fa",
           "#FFA15A",
           "#19d3f3",
           "#FF6692",
           "#B6E880",
           "#FF97FF",
           "#FECB52"
          ],
          "font": {
           "color": "#2a3f5f"
          },
          "geo": {
           "bgcolor": "white",
           "lakecolor": "white",
           "landcolor": "#E5ECF6",
           "showlakes": true,
           "showland": true,
           "subunitcolor": "white"
          },
          "hoverlabel": {
           "align": "left"
          },
          "hovermode": "closest",
          "mapbox": {
           "style": "light"
          },
          "paper_bgcolor": "white",
          "plot_bgcolor": "#E5ECF6",
          "polar": {
           "angularaxis": {
            "gridcolor": "white",
            "linecolor": "white",
            "ticks": ""
           },
           "bgcolor": "#E5ECF6",
           "radialaxis": {
            "gridcolor": "white",
            "linecolor": "white",
            "ticks": ""
           }
          },
          "scene": {
           "xaxis": {
            "backgroundcolor": "#E5ECF6",
            "gridcolor": "white",
            "gridwidth": 2,
            "linecolor": "white",
            "showbackground": true,
            "ticks": "",
            "zerolinecolor": "white"
           },
           "yaxis": {
            "backgroundcolor": "#E5ECF6",
            "gridcolor": "white",
            "gridwidth": 2,
            "linecolor": "white",
            "showbackground": true,
            "ticks": "",
            "zerolinecolor": "white"
           },
           "zaxis": {
            "backgroundcolor": "#E5ECF6",
            "gridcolor": "white",
            "gridwidth": 2,
            "linecolor": "white",
            "showbackground": true,
            "ticks": "",
            "zerolinecolor": "white"
           }
          },
          "shapedefaults": {
           "line": {
            "color": "#2a3f5f"
           }
          },
          "ternary": {
           "aaxis": {
            "gridcolor": "white",
            "linecolor": "white",
            "ticks": ""
           },
           "baxis": {
            "gridcolor": "white",
            "linecolor": "white",
            "ticks": ""
           },
           "bgcolor": "#E5ECF6",
           "caxis": {
            "gridcolor": "white",
            "linecolor": "white",
            "ticks": ""
           }
          },
          "title": {
           "x": 0.05
          },
          "xaxis": {
           "automargin": true,
           "gridcolor": "white",
           "linecolor": "white",
           "ticks": "",
           "title": {
            "standoff": 15
           },
           "zerolinecolor": "white",
           "zerolinewidth": 2
          },
          "yaxis": {
           "automargin": true,
           "gridcolor": "white",
           "linecolor": "white",
           "ticks": "",
           "title": {
            "standoff": 15
           },
           "zerolinecolor": "white",
           "zerolinewidth": 2
          }
         }
        },
        "title": {
         "font": {
          "color": "#4D5663"
         }
        },
        "xaxis": {
         "gridcolor": "#E1E5ED",
         "showgrid": true,
         "tickfont": {
          "color": "#4D5663"
         },
         "title": {
          "font": {
           "color": "#4D5663"
          },
          "text": ""
         },
         "zerolinecolor": "#E1E5ED"
        },
        "yaxis": {
         "gridcolor": "#E1E5ED",
         "showgrid": true,
         "tickfont": {
          "color": "#4D5663"
         },
         "title": {
          "font": {
           "color": "#4D5663"
          },
          "text": ""
         },
         "zerolinecolor": "#E1E5ED"
        }
       }
      },
      "text/html": [
       "<div>                            <div id=\"6fb75d0f-0a5c-447d-9d93-f3cbdfd84590\" class=\"plotly-graph-div\" style=\"height:525px; width:100%;\"></div>            <script type=\"text/javascript\">                require([\"plotly\"], function(Plotly) {                    window.PLOTLYENV=window.PLOTLYENV || {};\n",
       "                    window.PLOTLYENV.BASE_URL='https://plot.ly';                                    if (document.getElementById(\"6fb75d0f-0a5c-447d-9d93-f3cbdfd84590\")) {                    Plotly.newPlot(                        \"6fb75d0f-0a5c-447d-9d93-f3cbdfd84590\",                        [{\"marker\":{\"color\":\"rgba(255, 153, 51, 0.6)\",\"line\":{\"color\":\"rgba(255, 153, 51, 1.0)\",\"width\":1}},\"name\":\"None\",\"orientation\":\"v\",\"text\":\"\",\"type\":\"bar\",\"x\":[\"A\",\"B\",\"C\",\"D\"],\"y\":[100,100,100,100]}],                        {\"legend\":{\"bgcolor\":\"#F5F6F9\",\"font\":{\"color\":\"#4D5663\"}},\"paper_bgcolor\":\"#F5F6F9\",\"plot_bgcolor\":\"#F5F6F9\",\"template\":{\"data\":{\"bar\":[{\"error_x\":{\"color\":\"#2a3f5f\"},\"error_y\":{\"color\":\"#2a3f5f\"},\"marker\":{\"line\":{\"color\":\"#E5ECF6\",\"width\":0.5},\"pattern\":{\"fillmode\":\"overlay\",\"size\":10,\"solidity\":0.2}},\"type\":\"bar\"}],\"barpolar\":[{\"marker\":{\"line\":{\"color\":\"#E5ECF6\",\"width\":0.5},\"pattern\":{\"fillmode\":\"overlay\",\"size\":10,\"solidity\":0.2}},\"type\":\"barpolar\"}],\"carpet\":[{\"aaxis\":{\"endlinecolor\":\"#2a3f5f\",\"gridcolor\":\"white\",\"linecolor\":\"white\",\"minorgridcolor\":\"white\",\"startlinecolor\":\"#2a3f5f\"},\"baxis\":{\"endlinecolor\":\"#2a3f5f\",\"gridcolor\":\"white\",\"linecolor\":\"white\",\"minorgridcolor\":\"white\",\"startlinecolor\":\"#2a3f5f\"},\"type\":\"carpet\"}],\"choropleth\":[{\"colorbar\":{\"outlinewidth\":0,\"ticks\":\"\"},\"type\":\"choropleth\"}],\"contour\":[{\"colorbar\":{\"outlinewidth\":0,\"ticks\":\"\"},\"colorscale\":[[0.0,\"#0d0887\"],[0.1111111111111111,\"#46039f\"],[0.2222222222222222,\"#7201a8\"],[0.3333333333333333,\"#9c179e\"],[0.4444444444444444,\"#bd3786\"],[0.5555555555555556,\"#d8576b\"],[0.6666666666666666,\"#ed7953\"],[0.7777777777777778,\"#fb9f3a\"],[0.8888888888888888,\"#fdca26\"],[1.0,\"#f0f921\"]],\"type\":\"contour\"}],\"contourcarpet\":[{\"colorbar\":{\"outlinewidth\":0,\"ticks\":\"\"},\"type\":\"contourcarpet\"}],\"heatmap\":[{\"colorbar\":{\"outlinewidth\":0,\"ticks\":\"\"},\"colorscale\":[[0.0,\"#0d0887\"],[0.1111111111111111,\"#46039f\"],[0.2222222222222222,\"#7201a8\"],[0.3333333333333333,\"#9c179e\"],[0.4444444444444444,\"#bd3786\"],[0.5555555555555556,\"#d8576b\"],[0.6666666666666666,\"#ed7953\"],[0.7777777777777778,\"#fb9f3a\"],[0.8888888888888888,\"#fdca26\"],[1.0,\"#f0f921\"]],\"type\":\"heatmap\"}],\"heatmapgl\":[{\"colorbar\":{\"outlinewidth\":0,\"ticks\":\"\"},\"colorscale\":[[0.0,\"#0d0887\"],[0.1111111111111111,\"#46039f\"],[0.2222222222222222,\"#7201a8\"],[0.3333333333333333,\"#9c179e\"],[0.4444444444444444,\"#bd3786\"],[0.5555555555555556,\"#d8576b\"],[0.6666666666666666,\"#ed7953\"],[0.7777777777777778,\"#fb9f3a\"],[0.8888888888888888,\"#fdca26\"],[1.0,\"#f0f921\"]],\"type\":\"heatmapgl\"}],\"histogram\":[{\"marker\":{\"pattern\":{\"fillmode\":\"overlay\",\"size\":10,\"solidity\":0.2}},\"type\":\"histogram\"}],\"histogram2d\":[{\"colorbar\":{\"outlinewidth\":0,\"ticks\":\"\"},\"colorscale\":[[0.0,\"#0d0887\"],[0.1111111111111111,\"#46039f\"],[0.2222222222222222,\"#7201a8\"],[0.3333333333333333,\"#9c179e\"],[0.4444444444444444,\"#bd3786\"],[0.5555555555555556,\"#d8576b\"],[0.6666666666666666,\"#ed7953\"],[0.7777777777777778,\"#fb9f3a\"],[0.8888888888888888,\"#fdca26\"],[1.0,\"#f0f921\"]],\"type\":\"histogram2d\"}],\"histogram2dcontour\":[{\"colorbar\":{\"outlinewidth\":0,\"ticks\":\"\"},\"colorscale\":[[0.0,\"#0d0887\"],[0.1111111111111111,\"#46039f\"],[0.2222222222222222,\"#7201a8\"],[0.3333333333333333,\"#9c179e\"],[0.4444444444444444,\"#bd3786\"],[0.5555555555555556,\"#d8576b\"],[0.6666666666666666,\"#ed7953\"],[0.7777777777777778,\"#fb9f3a\"],[0.8888888888888888,\"#fdca26\"],[1.0,\"#f0f921\"]],\"type\":\"histogram2dcontour\"}],\"mesh3d\":[{\"colorbar\":{\"outlinewidth\":0,\"ticks\":\"\"},\"type\":\"mesh3d\"}],\"parcoords\":[{\"line\":{\"colorbar\":{\"outlinewidth\":0,\"ticks\":\"\"}},\"type\":\"parcoords\"}],\"pie\":[{\"automargin\":true,\"type\":\"pie\"}],\"scatter\":[{\"marker\":{\"colorbar\":{\"outlinewidth\":0,\"ticks\":\"\"}},\"type\":\"scatter\"}],\"scatter3d\":[{\"line\":{\"colorbar\":{\"outlinewidth\":0,\"ticks\":\"\"}},\"marker\":{\"colorbar\":{\"outlinewidth\":0,\"ticks\":\"\"}},\"type\":\"scatter3d\"}],\"scattercarpet\":[{\"marker\":{\"colorbar\":{\"outlinewidth\":0,\"ticks\":\"\"}},\"type\":\"scattercarpet\"}],\"scattergeo\":[{\"marker\":{\"colorbar\":{\"outlinewidth\":0,\"ticks\":\"\"}},\"type\":\"scattergeo\"}],\"scattergl\":[{\"marker\":{\"colorbar\":{\"outlinewidth\":0,\"ticks\":\"\"}},\"type\":\"scattergl\"}],\"scattermapbox\":[{\"marker\":{\"colorbar\":{\"outlinewidth\":0,\"ticks\":\"\"}},\"type\":\"scattermapbox\"}],\"scatterpolar\":[{\"marker\":{\"colorbar\":{\"outlinewidth\":0,\"ticks\":\"\"}},\"type\":\"scatterpolar\"}],\"scatterpolargl\":[{\"marker\":{\"colorbar\":{\"outlinewidth\":0,\"ticks\":\"\"}},\"type\":\"scatterpolargl\"}],\"scatterternary\":[{\"marker\":{\"colorbar\":{\"outlinewidth\":0,\"ticks\":\"\"}},\"type\":\"scatterternary\"}],\"surface\":[{\"colorbar\":{\"outlinewidth\":0,\"ticks\":\"\"},\"colorscale\":[[0.0,\"#0d0887\"],[0.1111111111111111,\"#46039f\"],[0.2222222222222222,\"#7201a8\"],[0.3333333333333333,\"#9c179e\"],[0.4444444444444444,\"#bd3786\"],[0.5555555555555556,\"#d8576b\"],[0.6666666666666666,\"#ed7953\"],[0.7777777777777778,\"#fb9f3a\"],[0.8888888888888888,\"#fdca26\"],[1.0,\"#f0f921\"]],\"type\":\"surface\"}],\"table\":[{\"cells\":{\"fill\":{\"color\":\"#EBF0F8\"},\"line\":{\"color\":\"white\"}},\"header\":{\"fill\":{\"color\":\"#C8D4E3\"},\"line\":{\"color\":\"white\"}},\"type\":\"table\"}]},\"layout\":{\"annotationdefaults\":{\"arrowcolor\":\"#2a3f5f\",\"arrowhead\":0,\"arrowwidth\":1},\"autotypenumbers\":\"strict\",\"coloraxis\":{\"colorbar\":{\"outlinewidth\":0,\"ticks\":\"\"}},\"colorscale\":{\"diverging\":[[0,\"#8e0152\"],[0.1,\"#c51b7d\"],[0.2,\"#de77ae\"],[0.3,\"#f1b6da\"],[0.4,\"#fde0ef\"],[0.5,\"#f7f7f7\"],[0.6,\"#e6f5d0\"],[0.7,\"#b8e186\"],[0.8,\"#7fbc41\"],[0.9,\"#4d9221\"],[1,\"#276419\"]],\"sequential\":[[0.0,\"#0d0887\"],[0.1111111111111111,\"#46039f\"],[0.2222222222222222,\"#7201a8\"],[0.3333333333333333,\"#9c179e\"],[0.4444444444444444,\"#bd3786\"],[0.5555555555555556,\"#d8576b\"],[0.6666666666666666,\"#ed7953\"],[0.7777777777777778,\"#fb9f3a\"],[0.8888888888888888,\"#fdca26\"],[1.0,\"#f0f921\"]],\"sequentialminus\":[[0.0,\"#0d0887\"],[0.1111111111111111,\"#46039f\"],[0.2222222222222222,\"#7201a8\"],[0.3333333333333333,\"#9c179e\"],[0.4444444444444444,\"#bd3786\"],[0.5555555555555556,\"#d8576b\"],[0.6666666666666666,\"#ed7953\"],[0.7777777777777778,\"#fb9f3a\"],[0.8888888888888888,\"#fdca26\"],[1.0,\"#f0f921\"]]},\"colorway\":[\"#636efa\",\"#EF553B\",\"#00cc96\",\"#ab63fa\",\"#FFA15A\",\"#19d3f3\",\"#FF6692\",\"#B6E880\",\"#FF97FF\",\"#FECB52\"],\"font\":{\"color\":\"#2a3f5f\"},\"geo\":{\"bgcolor\":\"white\",\"lakecolor\":\"white\",\"landcolor\":\"#E5ECF6\",\"showlakes\":true,\"showland\":true,\"subunitcolor\":\"white\"},\"hoverlabel\":{\"align\":\"left\"},\"hovermode\":\"closest\",\"mapbox\":{\"style\":\"light\"},\"paper_bgcolor\":\"white\",\"plot_bgcolor\":\"#E5ECF6\",\"polar\":{\"angularaxis\":{\"gridcolor\":\"white\",\"linecolor\":\"white\",\"ticks\":\"\"},\"bgcolor\":\"#E5ECF6\",\"radialaxis\":{\"gridcolor\":\"white\",\"linecolor\":\"white\",\"ticks\":\"\"}},\"scene\":{\"xaxis\":{\"backgroundcolor\":\"#E5ECF6\",\"gridcolor\":\"white\",\"gridwidth\":2,\"linecolor\":\"white\",\"showbackground\":true,\"ticks\":\"\",\"zerolinecolor\":\"white\"},\"yaxis\":{\"backgroundcolor\":\"#E5ECF6\",\"gridcolor\":\"white\",\"gridwidth\":2,\"linecolor\":\"white\",\"showbackground\":true,\"ticks\":\"\",\"zerolinecolor\":\"white\"},\"zaxis\":{\"backgroundcolor\":\"#E5ECF6\",\"gridcolor\":\"white\",\"gridwidth\":2,\"linecolor\":\"white\",\"showbackground\":true,\"ticks\":\"\",\"zerolinecolor\":\"white\"}},\"shapedefaults\":{\"line\":{\"color\":\"#2a3f5f\"}},\"ternary\":{\"aaxis\":{\"gridcolor\":\"white\",\"linecolor\":\"white\",\"ticks\":\"\"},\"baxis\":{\"gridcolor\":\"white\",\"linecolor\":\"white\",\"ticks\":\"\"},\"bgcolor\":\"#E5ECF6\",\"caxis\":{\"gridcolor\":\"white\",\"linecolor\":\"white\",\"ticks\":\"\"}},\"title\":{\"x\":0.05},\"xaxis\":{\"automargin\":true,\"gridcolor\":\"white\",\"linecolor\":\"white\",\"ticks\":\"\",\"title\":{\"standoff\":15},\"zerolinecolor\":\"white\",\"zerolinewidth\":2},\"yaxis\":{\"automargin\":true,\"gridcolor\":\"white\",\"linecolor\":\"white\",\"ticks\":\"\",\"title\":{\"standoff\":15},\"zerolinecolor\":\"white\",\"zerolinewidth\":2}}},\"title\":{\"font\":{\"color\":\"#4D5663\"}},\"xaxis\":{\"gridcolor\":\"#E1E5ED\",\"showgrid\":true,\"tickfont\":{\"color\":\"#4D5663\"},\"title\":{\"font\":{\"color\":\"#4D5663\"},\"text\":\"\"},\"zerolinecolor\":\"#E1E5ED\"},\"yaxis\":{\"gridcolor\":\"#E1E5ED\",\"showgrid\":true,\"tickfont\":{\"color\":\"#4D5663\"},\"title\":{\"font\":{\"color\":\"#4D5663\"},\"text\":\"\"},\"zerolinecolor\":\"#E1E5ED\"}},                        {\"showLink\": true, \"linkText\": \"Export to plot.ly\", \"plotlyServerURL\": \"https://plot.ly\", \"responsive\": true}                    ).then(function(){\n",
       "                            \n",
       "var gd = document.getElementById('6fb75d0f-0a5c-447d-9d93-f3cbdfd84590');\n",
       "var x = new MutationObserver(function (mutations, observer) {{\n",
       "        var display = window.getComputedStyle(gd).display;\n",
       "        if (!display || display === 'none') {{\n",
       "            console.log([gd, 'removed!']);\n",
       "            Plotly.purge(gd);\n",
       "            observer.disconnect();\n",
       "        }}\n",
       "}});\n",
       "\n",
       "// Listen for the removal of the full notebook cells\n",
       "var notebookContainer = gd.closest('#notebook-container');\n",
       "if (notebookContainer) {{\n",
       "    x.observe(notebookContainer, {childList: true});\n",
       "}}\n",
       "\n",
       "// Listen for the clearing of the current output cell\n",
       "var outputEl = gd.closest('.output');\n",
       "if (outputEl) {{\n",
       "    x.observe(outputEl, {childList: true});\n",
       "}}\n",
       "\n",
       "                        })                };                });            </script>        </div>"
      ]
     },
     "metadata": {},
     "output_type": "display_data"
    }
   ],
   "source": [
    "df.count().iplot(kind='bar')"
   ]
  },
  {
   "cell_type": "markdown",
   "metadata": {},
   "source": [
    "## Boxplots"
   ]
  },
  {
   "cell_type": "code",
   "execution_count": 13,
   "metadata": {},
   "outputs": [
    {
     "data": {
      "application/vnd.plotly.v1+json": {
       "config": {
        "linkText": "Export to plot.ly",
        "plotlyServerURL": "https://plot.ly",
        "showLink": true
       },
       "data": [
        {
         "boxpoints": false,
         "line": {
          "width": 1.3
         },
         "marker": {
          "color": "rgba(255, 153, 51, 1.0)"
         },
         "name": "A",
         "orientation": "v",
         "type": "box",
         "y": [
          -1.4540004081478248,
          -0.11007355043051158,
          0.10982869675375188,
          -0.6483522274923497,
          0.6456682145863891,
          -0.9941365717586216,
          0.49132505126695764,
          0.574692293480332,
          -0.601149273426994,
          1.1681530928816495,
          0.9225460509197592,
          1.4080120518402826,
          0.5112988358011514,
          1.9042321289343245,
          -1.0519246485155396,
          -1.6145722564049436,
          -0.3069777634201451,
          -1.046904859984683,
          -0.19803089353167186,
          -0.319827137822687,
          -1.8082591352742183,
          2.0747833640870983,
          -0.19248509296146513,
          0.08128642613710906,
          -0.45443881176401013,
          0.7097203042406512,
          -0.38455851977652145,
          1.3908414664195914,
          -1.3692379339272545,
          0.44948683633089076,
          2.2757464103816396,
          -0.7935122389343489,
          -0.6456240932055214,
          -0.4204489550137737,
          0.19391000998362268,
          1.8194934307807404,
          -0.18217550385942105,
          -0.008290286976937332,
          0.8243979074928602,
          0.3721440133587712,
          0.5998082876547112,
          1.7708564035903112,
          1.7102348631178188,
          1.418303290602573,
          -0.34701523804234624,
          0.5032772588783692,
          -1.2452558870960557,
          -0.9970360030520007,
          0.5907178721512375,
          -2.7230352978400645,
          0.20055780980890967,
          -0.6137366637905584,
          -0.6086630310241073,
          -1.1087394788361375,
          0.6641586046761034,
          0.7193702690264225,
          0.9296696099660978,
          0.7317327604793983,
          -0.047201435658269515,
          -0.30334032362370084,
          0.02862471197069708,
          -0.27828523810730366,
          -0.44179553515129544,
          -0.024118842829569834,
          0.31227647731563263,
          0.8701847072134986,
          -0.22309656965636257,
          -0.20770513965651302,
          0.47142175538379566,
          0.5011247094412172,
          -1.3620146525279155,
          -0.14795098303784995,
          0.14196298736049628,
          -1.016884709309532,
          -0.4917906274473433,
          -0.12051799859600523,
          -0.17247939382189223,
          0.9541553890998549,
          1.4315140899860428,
          -0.00992095518753176,
          0.6018254201751347,
          -1.5789016803240072,
          0.727904003014525,
          -1.0147581420106258,
          1.0690133891339306,
          -1.1021364000773435,
          -0.23513861545976072,
          0.18364122505394662,
          -0.8165901971585968,
          -0.6081818370731323,
          0.621396892849809,
          -0.10947553062274686,
          0.11382492392576911,
          0.43714209861981645,
          -0.2654839651102387,
          1.5224160299697473,
          0.1199575783051826,
          0.6250937851392976,
          0.6354018783850093,
          -1.286302152646409
         ]
        },
        {
         "boxpoints": false,
         "line": {
          "width": 1.3
         },
         "marker": {
          "color": "rgba(55, 128, 191, 1.0)"
         },
         "name": "B",
         "orientation": "v",
         "type": "box",
         "y": [
          0.9804902717892854,
          -0.8116560269021028,
          -0.5304074349441019,
          0.7314708976817439,
          -1.317813889901291,
          0.5515653245923914,
          -1.007512904863618,
          0.027869316274254607,
          0.9373009762002932,
          0.3263313741977739,
          -1.4731555994613688,
          -1.5692248514343379,
          0.2247986762962962,
          -0.237046026508892,
          -0.29187496753921166,
          -0.5276451598659568,
          -0.4604939334911615,
          1.0622630019029553,
          0.2018053826239793,
          0.2152987530552919,
          0.5765946081004806,
          -1.0574687398285258,
          0.8147327040239873,
          -1.565196244472277,
          2.1161876872641905,
          -1.152433159222957,
          -0.4421984138276069,
          0.9879694617836262,
          -1.1377408514340306,
          -0.2904951299578208,
          0.941100139067152,
          -0.679405397666701,
          -0.14503723137893423,
          -2.3704740272865727,
          -1.4393468389346427,
          -1.9138285718222479,
          -0.40541957113900345,
          -0.6406358830486115,
          1.9669854746622704,
          0.24587824563188523,
          -1.0450644420469437,
          -0.3915593556466746,
          0.1319976106693394,
          -0.541910078691539,
          -0.45877995278105627,
          -0.04744886791407573,
          1.6744233390504226,
          -2.30929247012321,
          -0.42269700138534194,
          -0.4059181196519094,
          -0.47253102278763687,
          -1.5863850507771629,
          -0.1432502014946788,
          -0.3977794705846313,
          0.25058076876857827,
          1.0380414048510445,
          0.6510006302802921,
          -0.2380316037498957,
          -0.8630875614869196,
          0.6666007826208047,
          -1.869332074666846,
          -0.10507746883011831,
          0.26794216779872787,
          -1.8705098086426515,
          0.1589793056477878,
          -0.2250804552980786,
          -0.37249110592689794,
          0.36992866619033515,
          -0.8588867390570646,
          0.6841615555235582,
          0.6895449549121019,
          -1.653588892920698,
          -0.9066261328784851,
          0.06339155195534256,
          1.289405210397382,
          1.9058872332362038,
          0.9120647093077785,
          0.991419763084864,
          0.1620854385425183,
          -0.07940006271257556,
          1.3785162664718305,
          -0.27038388476787795,
          -0.9615886098208666,
          0.00405632774123973,
          1.2870366134246083,
          0.647698409026788,
          1.437094810613269,
          1.714407268630869,
          -0.7207396837198342,
          -0.8724684564766381,
          -1.091969997227892,
          -0.6433087841112413,
          -2.1803283139883036,
          1.647186106737404,
          0.6038710322432059,
          0.9708787477958503,
          -1.4414590443258994,
          0.0008702819208328536,
          -1.219643854961161,
          -0.6606360890090951
         ]
        },
        {
         "boxpoints": false,
         "line": {
          "width": 1.3
         },
         "marker": {
          "color": "rgba(50, 171, 96, 1.0)"
         },
         "name": "C",
         "orientation": "v",
         "type": "box",
         "y": [
          -1.161719298691836,
          -1.0916825074866223,
          -2.9825477305727035,
          -2.475669661262326,
          1.456186346184792,
          1.3816041807016337,
          1.3195304049192735,
          0.6587256882669855,
          -1.439165067192226,
          -0.43699058870637647,
          0.030662369922433153,
          -1.074801261596589,
          1.4672896709547916,
          2.4294741808989597,
          -1.3300612411519335,
          0.12360199885813726,
          -1.1100320626833795,
          -1.9481812739962805,
          0.5101036728576388,
          0.19210497589930678,
          0.878977715696145,
          -0.8354183307024506,
          1.6624700659165366,
          0.05130672063425422,
          -0.49685589778790046,
          -0.27972718918567735,
          0.8195072984821689,
          -1.0524532465814262,
          -0.20993416349935998,
          -0.11582228972763953,
          0.014037098737650168,
          0.8219951862155216,
          0.4374724389433576,
          -0.418675610794777,
          0.32164517262803943,
          0.15320059147000115,
          0.6772608912459958,
          -0.01641495746276642,
          0.3090623540014178,
          0.2701293389588942,
          0.027057053498706393,
          -0.20771001965939312,
          -0.05677398146816477,
          1.250600094924929,
          0.5220909669365739,
          1.4234962228342811,
          0.6321146987710506,
          0.5334532009607121,
          0.1629850540939295,
          -0.87829596628481,
          2.5280168787052193,
          2.209469459525066,
          0.7932948359942287,
          -0.875025889694795,
          1.1402833376921382,
          0.467238083670141,
          -0.6367012618862695,
          -0.61033591225038,
          -0.24992263127232084,
          0.11207716720034717,
          -0.14607539411494389,
          -1.0628437541075413,
          0.16618139310731325,
          -0.4240969510625668,
          -1.457684160338106,
          -1.495750098327223,
          -0.02166679295452642,
          0.5417684211281204,
          -1.7124295423139781,
          -0.9146427628437475,
          0.17495224840908674,
          0.8865119250208765,
          1.3718927634002418,
          0.2359446029107882,
          1.224195854810709,
          -0.7443163795201444,
          1.7726948378175622,
          -1.0174667808833495,
          0.12868898593907074,
          0.090533232086863,
          -0.0734277166777296,
          -0.5265644035620964,
          0.8107837785590719,
          -1.183999544757503,
          -0.862035349573676,
          0.5176448294608778,
          0.18869043790781748,
          0.9888947010910468,
          -1.4379535636986602,
          0.5416497866026636,
          1.6759241420414497,
          0.9456654320533658,
          -1.2649454655124723,
          -2.2216352260489542,
          -1.327699359671679,
          -1.6589965933037774,
          -1.089696945007076,
          0.5293226014151536,
          0.5765582145015115,
          1.5264108758043518
         ]
        },
        {
         "boxpoints": false,
         "line": {
          "width": 1.3
         },
         "marker": {
          "color": "rgba(128, 0, 128, 1.0)"
         },
         "name": "D",
         "orientation": "v",
         "type": "box",
         "y": [
          0.6970478968175908,
          -0.008281257382003382,
          0.056427851613856064,
          -1.3364228238042606,
          1.8669013933166234,
          0.010045041235569934,
          -1.5276487157483474,
          0.3755057040612648,
          -0.5490921349090621,
          -0.36269090826021194,
          0.8696582649739367,
          0.23639989494106622,
          -0.029962836343930963,
          0.02221121178753949,
          0.22823138899536707,
          -0.34603891847596324,
          1.2720414653213947,
          -0.5310037013792711,
          0.18305790711090902,
          1.1659576412888744,
          -1.0445411205881696,
          -1.1289465438812338,
          -0.5465652450053174,
          -0.6722834217872077,
          0.6570728061688761,
          -0.8099790247116009,
          -0.5580385726012115,
          -1.428083789056553,
          -0.14035958876059954,
          2.7827720721939677,
          1.3402267903666338,
          -0.8500619499620251,
          -1.0469215854597327,
          -0.9641702000968998,
          0.9869207089759805,
          -0.5444956434884186,
          0.3899272528541567,
          2.5698129782836743,
          -0.11640931874614713,
          1.3596695183088932,
          -1.1666648545636011,
          -0.7515037806380355,
          0.7715939742823078,
          -0.013332847760373875,
          -1.2704859989140342,
          0.47479066511925117,
          -1.9253094556986887,
          -1.4245184754304094,
          0.05863659768091849,
          -0.5155285868235054,
          1.766424272489394,
          -0.5145414808204791,
          -0.1030165600762554,
          0.168505296837029,
          -1.4908861266742255,
          1.294831098885771,
          0.6449135591591009,
          0.21959083896676643,
          -0.15823133231896624,
          0.4464432195435138,
          1.3996432835581543,
          -0.16358154903111488,
          0.16521625511828078,
          0.5199434399902836,
          -0.6257848452729105,
          -0.07992790604518829,
          -0.6277382151628513,
          0.6227013890770359,
          -0.8858591437274465,
          -0.13336187782494424,
          -0.28299274620106535,
          0.5617654005784839,
          0.23755257493123932,
          -0.0216818148345745,
          0.5063254835456331,
          0.7511656812182244,
          0.22002542883778634,
          -1.1577718677253217,
          -0.5696006943221648,
          -1.0793127500776791,
          -0.18760100787502546,
          -0.6994761063626701,
          -0.4254064702821228,
          -0.6635044495950063,
          -0.24863847729328858,
          -0.5484007112522068,
          0.41802733027857053,
          -0.23283610199866664,
          -1.4514708836393224,
          0.8905610350590825,
          -0.7028875280487179,
          -0.8416870656085875,
          1.8522424106951112,
          -0.1052985416642793,
          0.46352049671538764,
          -1.159485888668599,
          3.0010732593636726,
          -0.5969134910206177,
          0.3686871073907188,
          1.1832488187523973
         ]
        }
       ],
       "layout": {
        "legend": {
         "bgcolor": "#F5F6F9",
         "font": {
          "color": "#4D5663"
         }
        },
        "paper_bgcolor": "#F5F6F9",
        "plot_bgcolor": "#F5F6F9",
        "template": {
         "data": {
          "bar": [
           {
            "error_x": {
             "color": "#2a3f5f"
            },
            "error_y": {
             "color": "#2a3f5f"
            },
            "marker": {
             "line": {
              "color": "#E5ECF6",
              "width": 0.5
             },
             "pattern": {
              "fillmode": "overlay",
              "size": 10,
              "solidity": 0.2
             }
            },
            "type": "bar"
           }
          ],
          "barpolar": [
           {
            "marker": {
             "line": {
              "color": "#E5ECF6",
              "width": 0.5
             },
             "pattern": {
              "fillmode": "overlay",
              "size": 10,
              "solidity": 0.2
             }
            },
            "type": "barpolar"
           }
          ],
          "carpet": [
           {
            "aaxis": {
             "endlinecolor": "#2a3f5f",
             "gridcolor": "white",
             "linecolor": "white",
             "minorgridcolor": "white",
             "startlinecolor": "#2a3f5f"
            },
            "baxis": {
             "endlinecolor": "#2a3f5f",
             "gridcolor": "white",
             "linecolor": "white",
             "minorgridcolor": "white",
             "startlinecolor": "#2a3f5f"
            },
            "type": "carpet"
           }
          ],
          "choropleth": [
           {
            "colorbar": {
             "outlinewidth": 0,
             "ticks": ""
            },
            "type": "choropleth"
           }
          ],
          "contour": [
           {
            "colorbar": {
             "outlinewidth": 0,
             "ticks": ""
            },
            "colorscale": [
             [
              0,
              "#0d0887"
             ],
             [
              0.1111111111111111,
              "#46039f"
             ],
             [
              0.2222222222222222,
              "#7201a8"
             ],
             [
              0.3333333333333333,
              "#9c179e"
             ],
             [
              0.4444444444444444,
              "#bd3786"
             ],
             [
              0.5555555555555556,
              "#d8576b"
             ],
             [
              0.6666666666666666,
              "#ed7953"
             ],
             [
              0.7777777777777778,
              "#fb9f3a"
             ],
             [
              0.8888888888888888,
              "#fdca26"
             ],
             [
              1,
              "#f0f921"
             ]
            ],
            "type": "contour"
           }
          ],
          "contourcarpet": [
           {
            "colorbar": {
             "outlinewidth": 0,
             "ticks": ""
            },
            "type": "contourcarpet"
           }
          ],
          "heatmap": [
           {
            "colorbar": {
             "outlinewidth": 0,
             "ticks": ""
            },
            "colorscale": [
             [
              0,
              "#0d0887"
             ],
             [
              0.1111111111111111,
              "#46039f"
             ],
             [
              0.2222222222222222,
              "#7201a8"
             ],
             [
              0.3333333333333333,
              "#9c179e"
             ],
             [
              0.4444444444444444,
              "#bd3786"
             ],
             [
              0.5555555555555556,
              "#d8576b"
             ],
             [
              0.6666666666666666,
              "#ed7953"
             ],
             [
              0.7777777777777778,
              "#fb9f3a"
             ],
             [
              0.8888888888888888,
              "#fdca26"
             ],
             [
              1,
              "#f0f921"
             ]
            ],
            "type": "heatmap"
           }
          ],
          "heatmapgl": [
           {
            "colorbar": {
             "outlinewidth": 0,
             "ticks": ""
            },
            "colorscale": [
             [
              0,
              "#0d0887"
             ],
             [
              0.1111111111111111,
              "#46039f"
             ],
             [
              0.2222222222222222,
              "#7201a8"
             ],
             [
              0.3333333333333333,
              "#9c179e"
             ],
             [
              0.4444444444444444,
              "#bd3786"
             ],
             [
              0.5555555555555556,
              "#d8576b"
             ],
             [
              0.6666666666666666,
              "#ed7953"
             ],
             [
              0.7777777777777778,
              "#fb9f3a"
             ],
             [
              0.8888888888888888,
              "#fdca26"
             ],
             [
              1,
              "#f0f921"
             ]
            ],
            "type": "heatmapgl"
           }
          ],
          "histogram": [
           {
            "marker": {
             "pattern": {
              "fillmode": "overlay",
              "size": 10,
              "solidity": 0.2
             }
            },
            "type": "histogram"
           }
          ],
          "histogram2d": [
           {
            "colorbar": {
             "outlinewidth": 0,
             "ticks": ""
            },
            "colorscale": [
             [
              0,
              "#0d0887"
             ],
             [
              0.1111111111111111,
              "#46039f"
             ],
             [
              0.2222222222222222,
              "#7201a8"
             ],
             [
              0.3333333333333333,
              "#9c179e"
             ],
             [
              0.4444444444444444,
              "#bd3786"
             ],
             [
              0.5555555555555556,
              "#d8576b"
             ],
             [
              0.6666666666666666,
              "#ed7953"
             ],
             [
              0.7777777777777778,
              "#fb9f3a"
             ],
             [
              0.8888888888888888,
              "#fdca26"
             ],
             [
              1,
              "#f0f921"
             ]
            ],
            "type": "histogram2d"
           }
          ],
          "histogram2dcontour": [
           {
            "colorbar": {
             "outlinewidth": 0,
             "ticks": ""
            },
            "colorscale": [
             [
              0,
              "#0d0887"
             ],
             [
              0.1111111111111111,
              "#46039f"
             ],
             [
              0.2222222222222222,
              "#7201a8"
             ],
             [
              0.3333333333333333,
              "#9c179e"
             ],
             [
              0.4444444444444444,
              "#bd3786"
             ],
             [
              0.5555555555555556,
              "#d8576b"
             ],
             [
              0.6666666666666666,
              "#ed7953"
             ],
             [
              0.7777777777777778,
              "#fb9f3a"
             ],
             [
              0.8888888888888888,
              "#fdca26"
             ],
             [
              1,
              "#f0f921"
             ]
            ],
            "type": "histogram2dcontour"
           }
          ],
          "mesh3d": [
           {
            "colorbar": {
             "outlinewidth": 0,
             "ticks": ""
            },
            "type": "mesh3d"
           }
          ],
          "parcoords": [
           {
            "line": {
             "colorbar": {
              "outlinewidth": 0,
              "ticks": ""
             }
            },
            "type": "parcoords"
           }
          ],
          "pie": [
           {
            "automargin": true,
            "type": "pie"
           }
          ],
          "scatter": [
           {
            "marker": {
             "colorbar": {
              "outlinewidth": 0,
              "ticks": ""
             }
            },
            "type": "scatter"
           }
          ],
          "scatter3d": [
           {
            "line": {
             "colorbar": {
              "outlinewidth": 0,
              "ticks": ""
             }
            },
            "marker": {
             "colorbar": {
              "outlinewidth": 0,
              "ticks": ""
             }
            },
            "type": "scatter3d"
           }
          ],
          "scattercarpet": [
           {
            "marker": {
             "colorbar": {
              "outlinewidth": 0,
              "ticks": ""
             }
            },
            "type": "scattercarpet"
           }
          ],
          "scattergeo": [
           {
            "marker": {
             "colorbar": {
              "outlinewidth": 0,
              "ticks": ""
             }
            },
            "type": "scattergeo"
           }
          ],
          "scattergl": [
           {
            "marker": {
             "colorbar": {
              "outlinewidth": 0,
              "ticks": ""
             }
            },
            "type": "scattergl"
           }
          ],
          "scattermapbox": [
           {
            "marker": {
             "colorbar": {
              "outlinewidth": 0,
              "ticks": ""
             }
            },
            "type": "scattermapbox"
           }
          ],
          "scatterpolar": [
           {
            "marker": {
             "colorbar": {
              "outlinewidth": 0,
              "ticks": ""
             }
            },
            "type": "scatterpolar"
           }
          ],
          "scatterpolargl": [
           {
            "marker": {
             "colorbar": {
              "outlinewidth": 0,
              "ticks": ""
             }
            },
            "type": "scatterpolargl"
           }
          ],
          "scatterternary": [
           {
            "marker": {
             "colorbar": {
              "outlinewidth": 0,
              "ticks": ""
             }
            },
            "type": "scatterternary"
           }
          ],
          "surface": [
           {
            "colorbar": {
             "outlinewidth": 0,
             "ticks": ""
            },
            "colorscale": [
             [
              0,
              "#0d0887"
             ],
             [
              0.1111111111111111,
              "#46039f"
             ],
             [
              0.2222222222222222,
              "#7201a8"
             ],
             [
              0.3333333333333333,
              "#9c179e"
             ],
             [
              0.4444444444444444,
              "#bd3786"
             ],
             [
              0.5555555555555556,
              "#d8576b"
             ],
             [
              0.6666666666666666,
              "#ed7953"
             ],
             [
              0.7777777777777778,
              "#fb9f3a"
             ],
             [
              0.8888888888888888,
              "#fdca26"
             ],
             [
              1,
              "#f0f921"
             ]
            ],
            "type": "surface"
           }
          ],
          "table": [
           {
            "cells": {
             "fill": {
              "color": "#EBF0F8"
             },
             "line": {
              "color": "white"
             }
            },
            "header": {
             "fill": {
              "color": "#C8D4E3"
             },
             "line": {
              "color": "white"
             }
            },
            "type": "table"
           }
          ]
         },
         "layout": {
          "annotationdefaults": {
           "arrowcolor": "#2a3f5f",
           "arrowhead": 0,
           "arrowwidth": 1
          },
          "autotypenumbers": "strict",
          "coloraxis": {
           "colorbar": {
            "outlinewidth": 0,
            "ticks": ""
           }
          },
          "colorscale": {
           "diverging": [
            [
             0,
             "#8e0152"
            ],
            [
             0.1,
             "#c51b7d"
            ],
            [
             0.2,
             "#de77ae"
            ],
            [
             0.3,
             "#f1b6da"
            ],
            [
             0.4,
             "#fde0ef"
            ],
            [
             0.5,
             "#f7f7f7"
            ],
            [
             0.6,
             "#e6f5d0"
            ],
            [
             0.7,
             "#b8e186"
            ],
            [
             0.8,
             "#7fbc41"
            ],
            [
             0.9,
             "#4d9221"
            ],
            [
             1,
             "#276419"
            ]
           ],
           "sequential": [
            [
             0,
             "#0d0887"
            ],
            [
             0.1111111111111111,
             "#46039f"
            ],
            [
             0.2222222222222222,
             "#7201a8"
            ],
            [
             0.3333333333333333,
             "#9c179e"
            ],
            [
             0.4444444444444444,
             "#bd3786"
            ],
            [
             0.5555555555555556,
             "#d8576b"
            ],
            [
             0.6666666666666666,
             "#ed7953"
            ],
            [
             0.7777777777777778,
             "#fb9f3a"
            ],
            [
             0.8888888888888888,
             "#fdca26"
            ],
            [
             1,
             "#f0f921"
            ]
           ],
           "sequentialminus": [
            [
             0,
             "#0d0887"
            ],
            [
             0.1111111111111111,
             "#46039f"
            ],
            [
             0.2222222222222222,
             "#7201a8"
            ],
            [
             0.3333333333333333,
             "#9c179e"
            ],
            [
             0.4444444444444444,
             "#bd3786"
            ],
            [
             0.5555555555555556,
             "#d8576b"
            ],
            [
             0.6666666666666666,
             "#ed7953"
            ],
            [
             0.7777777777777778,
             "#fb9f3a"
            ],
            [
             0.8888888888888888,
             "#fdca26"
            ],
            [
             1,
             "#f0f921"
            ]
           ]
          },
          "colorway": [
           "#636efa",
           "#EF553B",
           "#00cc96",
           "#ab63fa",
           "#FFA15A",
           "#19d3f3",
           "#FF6692",
           "#B6E880",
           "#FF97FF",
           "#FECB52"
          ],
          "font": {
           "color": "#2a3f5f"
          },
          "geo": {
           "bgcolor": "white",
           "lakecolor": "white",
           "landcolor": "#E5ECF6",
           "showlakes": true,
           "showland": true,
           "subunitcolor": "white"
          },
          "hoverlabel": {
           "align": "left"
          },
          "hovermode": "closest",
          "mapbox": {
           "style": "light"
          },
          "paper_bgcolor": "white",
          "plot_bgcolor": "#E5ECF6",
          "polar": {
           "angularaxis": {
            "gridcolor": "white",
            "linecolor": "white",
            "ticks": ""
           },
           "bgcolor": "#E5ECF6",
           "radialaxis": {
            "gridcolor": "white",
            "linecolor": "white",
            "ticks": ""
           }
          },
          "scene": {
           "xaxis": {
            "backgroundcolor": "#E5ECF6",
            "gridcolor": "white",
            "gridwidth": 2,
            "linecolor": "white",
            "showbackground": true,
            "ticks": "",
            "zerolinecolor": "white"
           },
           "yaxis": {
            "backgroundcolor": "#E5ECF6",
            "gridcolor": "white",
            "gridwidth": 2,
            "linecolor": "white",
            "showbackground": true,
            "ticks": "",
            "zerolinecolor": "white"
           },
           "zaxis": {
            "backgroundcolor": "#E5ECF6",
            "gridcolor": "white",
            "gridwidth": 2,
            "linecolor": "white",
            "showbackground": true,
            "ticks": "",
            "zerolinecolor": "white"
           }
          },
          "shapedefaults": {
           "line": {
            "color": "#2a3f5f"
           }
          },
          "ternary": {
           "aaxis": {
            "gridcolor": "white",
            "linecolor": "white",
            "ticks": ""
           },
           "baxis": {
            "gridcolor": "white",
            "linecolor": "white",
            "ticks": ""
           },
           "bgcolor": "#E5ECF6",
           "caxis": {
            "gridcolor": "white",
            "linecolor": "white",
            "ticks": ""
           }
          },
          "title": {
           "x": 0.05
          },
          "xaxis": {
           "automargin": true,
           "gridcolor": "white",
           "linecolor": "white",
           "ticks": "",
           "title": {
            "standoff": 15
           },
           "zerolinecolor": "white",
           "zerolinewidth": 2
          },
          "yaxis": {
           "automargin": true,
           "gridcolor": "white",
           "linecolor": "white",
           "ticks": "",
           "title": {
            "standoff": 15
           },
           "zerolinecolor": "white",
           "zerolinewidth": 2
          }
         }
        },
        "title": {
         "font": {
          "color": "#4D5663"
         }
        },
        "xaxis": {
         "gridcolor": "#E1E5ED",
         "showgrid": true,
         "tickfont": {
          "color": "#4D5663"
         },
         "title": {
          "font": {
           "color": "#4D5663"
          },
          "text": ""
         },
         "zerolinecolor": "#E1E5ED"
        },
        "yaxis": {
         "gridcolor": "#E1E5ED",
         "showgrid": true,
         "tickfont": {
          "color": "#4D5663"
         },
         "title": {
          "font": {
           "color": "#4D5663"
          },
          "text": ""
         },
         "zerolinecolor": "#E1E5ED"
        }
       }
      },
      "text/html": [
       "<div>                            <div id=\"be283c92-4738-43a3-8311-cccf04c15d66\" class=\"plotly-graph-div\" style=\"height:525px; width:100%;\"></div>            <script type=\"text/javascript\">                require([\"plotly\"], function(Plotly) {                    window.PLOTLYENV=window.PLOTLYENV || {};\n",
       "                    window.PLOTLYENV.BASE_URL='https://plot.ly';                                    if (document.getElementById(\"be283c92-4738-43a3-8311-cccf04c15d66\")) {                    Plotly.newPlot(                        \"be283c92-4738-43a3-8311-cccf04c15d66\",                        [{\"boxpoints\":false,\"line\":{\"width\":1.3},\"marker\":{\"color\":\"rgba(255, 153, 51, 1.0)\"},\"name\":\"A\",\"orientation\":\"v\",\"type\":\"box\",\"y\":[-1.4540004081478248,-0.11007355043051158,0.10982869675375188,-0.6483522274923497,0.6456682145863891,-0.9941365717586216,0.49132505126695764,0.574692293480332,-0.601149273426994,1.1681530928816495,0.9225460509197592,1.4080120518402826,0.5112988358011514,1.9042321289343245,-1.0519246485155396,-1.6145722564049436,-0.3069777634201451,-1.046904859984683,-0.19803089353167186,-0.319827137822687,-1.8082591352742183,2.0747833640870983,-0.19248509296146513,0.08128642613710906,-0.45443881176401013,0.7097203042406512,-0.38455851977652145,1.3908414664195914,-1.3692379339272545,0.44948683633089076,2.2757464103816396,-0.7935122389343489,-0.6456240932055214,-0.4204489550137737,0.19391000998362268,1.8194934307807404,-0.18217550385942105,-0.008290286976937332,0.8243979074928602,0.3721440133587712,0.5998082876547112,1.7708564035903112,1.7102348631178188,1.418303290602573,-0.34701523804234624,0.5032772588783692,-1.2452558870960557,-0.9970360030520007,0.5907178721512375,-2.7230352978400645,0.20055780980890967,-0.6137366637905584,-0.6086630310241073,-1.1087394788361375,0.6641586046761034,0.7193702690264225,0.9296696099660978,0.7317327604793983,-0.047201435658269515,-0.30334032362370084,0.02862471197069708,-0.27828523810730366,-0.44179553515129544,-0.024118842829569834,0.31227647731563263,0.8701847072134986,-0.22309656965636257,-0.20770513965651302,0.47142175538379566,0.5011247094412172,-1.3620146525279155,-0.14795098303784995,0.14196298736049628,-1.016884709309532,-0.4917906274473433,-0.12051799859600523,-0.17247939382189223,0.9541553890998549,1.4315140899860428,-0.00992095518753176,0.6018254201751347,-1.5789016803240072,0.727904003014525,-1.0147581420106258,1.0690133891339306,-1.1021364000773435,-0.23513861545976072,0.18364122505394662,-0.8165901971585968,-0.6081818370731323,0.621396892849809,-0.10947553062274686,0.11382492392576911,0.43714209861981645,-0.2654839651102387,1.5224160299697473,0.1199575783051826,0.6250937851392976,0.6354018783850093,-1.286302152646409]},{\"boxpoints\":false,\"line\":{\"width\":1.3},\"marker\":{\"color\":\"rgba(55, 128, 191, 1.0)\"},\"name\":\"B\",\"orientation\":\"v\",\"type\":\"box\",\"y\":[0.9804902717892854,-0.8116560269021028,-0.5304074349441019,0.7314708976817439,-1.317813889901291,0.5515653245923914,-1.007512904863618,0.027869316274254607,0.9373009762002932,0.3263313741977739,-1.4731555994613688,-1.5692248514343379,0.2247986762962962,-0.237046026508892,-0.29187496753921166,-0.5276451598659568,-0.4604939334911615,1.0622630019029553,0.2018053826239793,0.2152987530552919,0.5765946081004806,-1.0574687398285258,0.8147327040239873,-1.565196244472277,2.1161876872641905,-1.152433159222957,-0.4421984138276069,0.9879694617836262,-1.1377408514340306,-0.2904951299578208,0.941100139067152,-0.679405397666701,-0.14503723137893423,-2.3704740272865727,-1.4393468389346427,-1.9138285718222479,-0.40541957113900345,-0.6406358830486115,1.9669854746622704,0.24587824563188523,-1.0450644420469437,-0.3915593556466746,0.1319976106693394,-0.541910078691539,-0.45877995278105627,-0.04744886791407573,1.6744233390504226,-2.30929247012321,-0.42269700138534194,-0.4059181196519094,-0.47253102278763687,-1.5863850507771629,-0.1432502014946788,-0.3977794705846313,0.25058076876857827,1.0380414048510445,0.6510006302802921,-0.2380316037498957,-0.8630875614869196,0.6666007826208047,-1.869332074666846,-0.10507746883011831,0.26794216779872787,-1.8705098086426515,0.1589793056477878,-0.2250804552980786,-0.37249110592689794,0.36992866619033515,-0.8588867390570646,0.6841615555235582,0.6895449549121019,-1.653588892920698,-0.9066261328784851,0.06339155195534256,1.289405210397382,1.9058872332362038,0.9120647093077785,0.991419763084864,0.1620854385425183,-0.07940006271257556,1.3785162664718305,-0.27038388476787795,-0.9615886098208666,0.00405632774123973,1.2870366134246083,0.647698409026788,1.437094810613269,1.714407268630869,-0.7207396837198342,-0.8724684564766381,-1.091969997227892,-0.6433087841112413,-2.1803283139883036,1.647186106737404,0.6038710322432059,0.9708787477958503,-1.4414590443258994,0.0008702819208328536,-1.219643854961161,-0.6606360890090951]},{\"boxpoints\":false,\"line\":{\"width\":1.3},\"marker\":{\"color\":\"rgba(50, 171, 96, 1.0)\"},\"name\":\"C\",\"orientation\":\"v\",\"type\":\"box\",\"y\":[-1.161719298691836,-1.0916825074866223,-2.9825477305727035,-2.475669661262326,1.456186346184792,1.3816041807016337,1.3195304049192735,0.6587256882669855,-1.439165067192226,-0.43699058870637647,0.030662369922433153,-1.074801261596589,1.4672896709547916,2.4294741808989597,-1.3300612411519335,0.12360199885813726,-1.1100320626833795,-1.9481812739962805,0.5101036728576388,0.19210497589930678,0.878977715696145,-0.8354183307024506,1.6624700659165366,0.05130672063425422,-0.49685589778790046,-0.27972718918567735,0.8195072984821689,-1.0524532465814262,-0.20993416349935998,-0.11582228972763953,0.014037098737650168,0.8219951862155216,0.4374724389433576,-0.418675610794777,0.32164517262803943,0.15320059147000115,0.6772608912459958,-0.01641495746276642,0.3090623540014178,0.2701293389588942,0.027057053498706393,-0.20771001965939312,-0.05677398146816477,1.250600094924929,0.5220909669365739,1.4234962228342811,0.6321146987710506,0.5334532009607121,0.1629850540939295,-0.87829596628481,2.5280168787052193,2.209469459525066,0.7932948359942287,-0.875025889694795,1.1402833376921382,0.467238083670141,-0.6367012618862695,-0.61033591225038,-0.24992263127232084,0.11207716720034717,-0.14607539411494389,-1.0628437541075413,0.16618139310731325,-0.4240969510625668,-1.457684160338106,-1.495750098327223,-0.02166679295452642,0.5417684211281204,-1.7124295423139781,-0.9146427628437475,0.17495224840908674,0.8865119250208765,1.3718927634002418,0.2359446029107882,1.224195854810709,-0.7443163795201444,1.7726948378175622,-1.0174667808833495,0.12868898593907074,0.090533232086863,-0.0734277166777296,-0.5265644035620964,0.8107837785590719,-1.183999544757503,-0.862035349573676,0.5176448294608778,0.18869043790781748,0.9888947010910468,-1.4379535636986602,0.5416497866026636,1.6759241420414497,0.9456654320533658,-1.2649454655124723,-2.2216352260489542,-1.327699359671679,-1.6589965933037774,-1.089696945007076,0.5293226014151536,0.5765582145015115,1.5264108758043518]},{\"boxpoints\":false,\"line\":{\"width\":1.3},\"marker\":{\"color\":\"rgba(128, 0, 128, 1.0)\"},\"name\":\"D\",\"orientation\":\"v\",\"type\":\"box\",\"y\":[0.6970478968175908,-0.008281257382003382,0.056427851613856064,-1.3364228238042606,1.8669013933166234,0.010045041235569934,-1.5276487157483474,0.3755057040612648,-0.5490921349090621,-0.36269090826021194,0.8696582649739367,0.23639989494106622,-0.029962836343930963,0.02221121178753949,0.22823138899536707,-0.34603891847596324,1.2720414653213947,-0.5310037013792711,0.18305790711090902,1.1659576412888744,-1.0445411205881696,-1.1289465438812338,-0.5465652450053174,-0.6722834217872077,0.6570728061688761,-0.8099790247116009,-0.5580385726012115,-1.428083789056553,-0.14035958876059954,2.7827720721939677,1.3402267903666338,-0.8500619499620251,-1.0469215854597327,-0.9641702000968998,0.9869207089759805,-0.5444956434884186,0.3899272528541567,2.5698129782836743,-0.11640931874614713,1.3596695183088932,-1.1666648545636011,-0.7515037806380355,0.7715939742823078,-0.013332847760373875,-1.2704859989140342,0.47479066511925117,-1.9253094556986887,-1.4245184754304094,0.05863659768091849,-0.5155285868235054,1.766424272489394,-0.5145414808204791,-0.1030165600762554,0.168505296837029,-1.4908861266742255,1.294831098885771,0.6449135591591009,0.21959083896676643,-0.15823133231896624,0.4464432195435138,1.3996432835581543,-0.16358154903111488,0.16521625511828078,0.5199434399902836,-0.6257848452729105,-0.07992790604518829,-0.6277382151628513,0.6227013890770359,-0.8858591437274465,-0.13336187782494424,-0.28299274620106535,0.5617654005784839,0.23755257493123932,-0.0216818148345745,0.5063254835456331,0.7511656812182244,0.22002542883778634,-1.1577718677253217,-0.5696006943221648,-1.0793127500776791,-0.18760100787502546,-0.6994761063626701,-0.4254064702821228,-0.6635044495950063,-0.24863847729328858,-0.5484007112522068,0.41802733027857053,-0.23283610199866664,-1.4514708836393224,0.8905610350590825,-0.7028875280487179,-0.8416870656085875,1.8522424106951112,-0.1052985416642793,0.46352049671538764,-1.159485888668599,3.0010732593636726,-0.5969134910206177,0.3686871073907188,1.1832488187523973]}],                        {\"legend\":{\"bgcolor\":\"#F5F6F9\",\"font\":{\"color\":\"#4D5663\"}},\"paper_bgcolor\":\"#F5F6F9\",\"plot_bgcolor\":\"#F5F6F9\",\"template\":{\"data\":{\"bar\":[{\"error_x\":{\"color\":\"#2a3f5f\"},\"error_y\":{\"color\":\"#2a3f5f\"},\"marker\":{\"line\":{\"color\":\"#E5ECF6\",\"width\":0.5},\"pattern\":{\"fillmode\":\"overlay\",\"size\":10,\"solidity\":0.2}},\"type\":\"bar\"}],\"barpolar\":[{\"marker\":{\"line\":{\"color\":\"#E5ECF6\",\"width\":0.5},\"pattern\":{\"fillmode\":\"overlay\",\"size\":10,\"solidity\":0.2}},\"type\":\"barpolar\"}],\"carpet\":[{\"aaxis\":{\"endlinecolor\":\"#2a3f5f\",\"gridcolor\":\"white\",\"linecolor\":\"white\",\"minorgridcolor\":\"white\",\"startlinecolor\":\"#2a3f5f\"},\"baxis\":{\"endlinecolor\":\"#2a3f5f\",\"gridcolor\":\"white\",\"linecolor\":\"white\",\"minorgridcolor\":\"white\",\"startlinecolor\":\"#2a3f5f\"},\"type\":\"carpet\"}],\"choropleth\":[{\"colorbar\":{\"outlinewidth\":0,\"ticks\":\"\"},\"type\":\"choropleth\"}],\"contour\":[{\"colorbar\":{\"outlinewidth\":0,\"ticks\":\"\"},\"colorscale\":[[0.0,\"#0d0887\"],[0.1111111111111111,\"#46039f\"],[0.2222222222222222,\"#7201a8\"],[0.3333333333333333,\"#9c179e\"],[0.4444444444444444,\"#bd3786\"],[0.5555555555555556,\"#d8576b\"],[0.6666666666666666,\"#ed7953\"],[0.7777777777777778,\"#fb9f3a\"],[0.8888888888888888,\"#fdca26\"],[1.0,\"#f0f921\"]],\"type\":\"contour\"}],\"contourcarpet\":[{\"colorbar\":{\"outlinewidth\":0,\"ticks\":\"\"},\"type\":\"contourcarpet\"}],\"heatmap\":[{\"colorbar\":{\"outlinewidth\":0,\"ticks\":\"\"},\"colorscale\":[[0.0,\"#0d0887\"],[0.1111111111111111,\"#46039f\"],[0.2222222222222222,\"#7201a8\"],[0.3333333333333333,\"#9c179e\"],[0.4444444444444444,\"#bd3786\"],[0.5555555555555556,\"#d8576b\"],[0.6666666666666666,\"#ed7953\"],[0.7777777777777778,\"#fb9f3a\"],[0.8888888888888888,\"#fdca26\"],[1.0,\"#f0f921\"]],\"type\":\"heatmap\"}],\"heatmapgl\":[{\"colorbar\":{\"outlinewidth\":0,\"ticks\":\"\"},\"colorscale\":[[0.0,\"#0d0887\"],[0.1111111111111111,\"#46039f\"],[0.2222222222222222,\"#7201a8\"],[0.3333333333333333,\"#9c179e\"],[0.4444444444444444,\"#bd3786\"],[0.5555555555555556,\"#d8576b\"],[0.6666666666666666,\"#ed7953\"],[0.7777777777777778,\"#fb9f3a\"],[0.8888888888888888,\"#fdca26\"],[1.0,\"#f0f921\"]],\"type\":\"heatmapgl\"}],\"histogram\":[{\"marker\":{\"pattern\":{\"fillmode\":\"overlay\",\"size\":10,\"solidity\":0.2}},\"type\":\"histogram\"}],\"histogram2d\":[{\"colorbar\":{\"outlinewidth\":0,\"ticks\":\"\"},\"colorscale\":[[0.0,\"#0d0887\"],[0.1111111111111111,\"#46039f\"],[0.2222222222222222,\"#7201a8\"],[0.3333333333333333,\"#9c179e\"],[0.4444444444444444,\"#bd3786\"],[0.5555555555555556,\"#d8576b\"],[0.6666666666666666,\"#ed7953\"],[0.7777777777777778,\"#fb9f3a\"],[0.8888888888888888,\"#fdca26\"],[1.0,\"#f0f921\"]],\"type\":\"histogram2d\"}],\"histogram2dcontour\":[{\"colorbar\":{\"outlinewidth\":0,\"ticks\":\"\"},\"colorscale\":[[0.0,\"#0d0887\"],[0.1111111111111111,\"#46039f\"],[0.2222222222222222,\"#7201a8\"],[0.3333333333333333,\"#9c179e\"],[0.4444444444444444,\"#bd3786\"],[0.5555555555555556,\"#d8576b\"],[0.6666666666666666,\"#ed7953\"],[0.7777777777777778,\"#fb9f3a\"],[0.8888888888888888,\"#fdca26\"],[1.0,\"#f0f921\"]],\"type\":\"histogram2dcontour\"}],\"mesh3d\":[{\"colorbar\":{\"outlinewidth\":0,\"ticks\":\"\"},\"type\":\"mesh3d\"}],\"parcoords\":[{\"line\":{\"colorbar\":{\"outlinewidth\":0,\"ticks\":\"\"}},\"type\":\"parcoords\"}],\"pie\":[{\"automargin\":true,\"type\":\"pie\"}],\"scatter\":[{\"marker\":{\"colorbar\":{\"outlinewidth\":0,\"ticks\":\"\"}},\"type\":\"scatter\"}],\"scatter3d\":[{\"line\":{\"colorbar\":{\"outlinewidth\":0,\"ticks\":\"\"}},\"marker\":{\"colorbar\":{\"outlinewidth\":0,\"ticks\":\"\"}},\"type\":\"scatter3d\"}],\"scattercarpet\":[{\"marker\":{\"colorbar\":{\"outlinewidth\":0,\"ticks\":\"\"}},\"type\":\"scattercarpet\"}],\"scattergeo\":[{\"marker\":{\"colorbar\":{\"outlinewidth\":0,\"ticks\":\"\"}},\"type\":\"scattergeo\"}],\"scattergl\":[{\"marker\":{\"colorbar\":{\"outlinewidth\":0,\"ticks\":\"\"}},\"type\":\"scattergl\"}],\"scattermapbox\":[{\"marker\":{\"colorbar\":{\"outlinewidth\":0,\"ticks\":\"\"}},\"type\":\"scattermapbox\"}],\"scatterpolar\":[{\"marker\":{\"colorbar\":{\"outlinewidth\":0,\"ticks\":\"\"}},\"type\":\"scatterpolar\"}],\"scatterpolargl\":[{\"marker\":{\"colorbar\":{\"outlinewidth\":0,\"ticks\":\"\"}},\"type\":\"scatterpolargl\"}],\"scatterternary\":[{\"marker\":{\"colorbar\":{\"outlinewidth\":0,\"ticks\":\"\"}},\"type\":\"scatterternary\"}],\"surface\":[{\"colorbar\":{\"outlinewidth\":0,\"ticks\":\"\"},\"colorscale\":[[0.0,\"#0d0887\"],[0.1111111111111111,\"#46039f\"],[0.2222222222222222,\"#7201a8\"],[0.3333333333333333,\"#9c179e\"],[0.4444444444444444,\"#bd3786\"],[0.5555555555555556,\"#d8576b\"],[0.6666666666666666,\"#ed7953\"],[0.7777777777777778,\"#fb9f3a\"],[0.8888888888888888,\"#fdca26\"],[1.0,\"#f0f921\"]],\"type\":\"surface\"}],\"table\":[{\"cells\":{\"fill\":{\"color\":\"#EBF0F8\"},\"line\":{\"color\":\"white\"}},\"header\":{\"fill\":{\"color\":\"#C8D4E3\"},\"line\":{\"color\":\"white\"}},\"type\":\"table\"}]},\"layout\":{\"annotationdefaults\":{\"arrowcolor\":\"#2a3f5f\",\"arrowhead\":0,\"arrowwidth\":1},\"autotypenumbers\":\"strict\",\"coloraxis\":{\"colorbar\":{\"outlinewidth\":0,\"ticks\":\"\"}},\"colorscale\":{\"diverging\":[[0,\"#8e0152\"],[0.1,\"#c51b7d\"],[0.2,\"#de77ae\"],[0.3,\"#f1b6da\"],[0.4,\"#fde0ef\"],[0.5,\"#f7f7f7\"],[0.6,\"#e6f5d0\"],[0.7,\"#b8e186\"],[0.8,\"#7fbc41\"],[0.9,\"#4d9221\"],[1,\"#276419\"]],\"sequential\":[[0.0,\"#0d0887\"],[0.1111111111111111,\"#46039f\"],[0.2222222222222222,\"#7201a8\"],[0.3333333333333333,\"#9c179e\"],[0.4444444444444444,\"#bd3786\"],[0.5555555555555556,\"#d8576b\"],[0.6666666666666666,\"#ed7953\"],[0.7777777777777778,\"#fb9f3a\"],[0.8888888888888888,\"#fdca26\"],[1.0,\"#f0f921\"]],\"sequentialminus\":[[0.0,\"#0d0887\"],[0.1111111111111111,\"#46039f\"],[0.2222222222222222,\"#7201a8\"],[0.3333333333333333,\"#9c179e\"],[0.4444444444444444,\"#bd3786\"],[0.5555555555555556,\"#d8576b\"],[0.6666666666666666,\"#ed7953\"],[0.7777777777777778,\"#fb9f3a\"],[0.8888888888888888,\"#fdca26\"],[1.0,\"#f0f921\"]]},\"colorway\":[\"#636efa\",\"#EF553B\",\"#00cc96\",\"#ab63fa\",\"#FFA15A\",\"#19d3f3\",\"#FF6692\",\"#B6E880\",\"#FF97FF\",\"#FECB52\"],\"font\":{\"color\":\"#2a3f5f\"},\"geo\":{\"bgcolor\":\"white\",\"lakecolor\":\"white\",\"landcolor\":\"#E5ECF6\",\"showlakes\":true,\"showland\":true,\"subunitcolor\":\"white\"},\"hoverlabel\":{\"align\":\"left\"},\"hovermode\":\"closest\",\"mapbox\":{\"style\":\"light\"},\"paper_bgcolor\":\"white\",\"plot_bgcolor\":\"#E5ECF6\",\"polar\":{\"angularaxis\":{\"gridcolor\":\"white\",\"linecolor\":\"white\",\"ticks\":\"\"},\"bgcolor\":\"#E5ECF6\",\"radialaxis\":{\"gridcolor\":\"white\",\"linecolor\":\"white\",\"ticks\":\"\"}},\"scene\":{\"xaxis\":{\"backgroundcolor\":\"#E5ECF6\",\"gridcolor\":\"white\",\"gridwidth\":2,\"linecolor\":\"white\",\"showbackground\":true,\"ticks\":\"\",\"zerolinecolor\":\"white\"},\"yaxis\":{\"backgroundcolor\":\"#E5ECF6\",\"gridcolor\":\"white\",\"gridwidth\":2,\"linecolor\":\"white\",\"showbackground\":true,\"ticks\":\"\",\"zerolinecolor\":\"white\"},\"zaxis\":{\"backgroundcolor\":\"#E5ECF6\",\"gridcolor\":\"white\",\"gridwidth\":2,\"linecolor\":\"white\",\"showbackground\":true,\"ticks\":\"\",\"zerolinecolor\":\"white\"}},\"shapedefaults\":{\"line\":{\"color\":\"#2a3f5f\"}},\"ternary\":{\"aaxis\":{\"gridcolor\":\"white\",\"linecolor\":\"white\",\"ticks\":\"\"},\"baxis\":{\"gridcolor\":\"white\",\"linecolor\":\"white\",\"ticks\":\"\"},\"bgcolor\":\"#E5ECF6\",\"caxis\":{\"gridcolor\":\"white\",\"linecolor\":\"white\",\"ticks\":\"\"}},\"title\":{\"x\":0.05},\"xaxis\":{\"automargin\":true,\"gridcolor\":\"white\",\"linecolor\":\"white\",\"ticks\":\"\",\"title\":{\"standoff\":15},\"zerolinecolor\":\"white\",\"zerolinewidth\":2},\"yaxis\":{\"automargin\":true,\"gridcolor\":\"white\",\"linecolor\":\"white\",\"ticks\":\"\",\"title\":{\"standoff\":15},\"zerolinecolor\":\"white\",\"zerolinewidth\":2}}},\"title\":{\"font\":{\"color\":\"#4D5663\"}},\"xaxis\":{\"gridcolor\":\"#E1E5ED\",\"showgrid\":true,\"tickfont\":{\"color\":\"#4D5663\"},\"title\":{\"font\":{\"color\":\"#4D5663\"},\"text\":\"\"},\"zerolinecolor\":\"#E1E5ED\"},\"yaxis\":{\"gridcolor\":\"#E1E5ED\",\"showgrid\":true,\"tickfont\":{\"color\":\"#4D5663\"},\"title\":{\"font\":{\"color\":\"#4D5663\"},\"text\":\"\"},\"zerolinecolor\":\"#E1E5ED\"}},                        {\"showLink\": true, \"linkText\": \"Export to plot.ly\", \"plotlyServerURL\": \"https://plot.ly\", \"responsive\": true}                    ).then(function(){\n",
       "                            \n",
       "var gd = document.getElementById('be283c92-4738-43a3-8311-cccf04c15d66');\n",
       "var x = new MutationObserver(function (mutations, observer) {{\n",
       "        var display = window.getComputedStyle(gd).display;\n",
       "        if (!display || display === 'none') {{\n",
       "            console.log([gd, 'removed!']);\n",
       "            Plotly.purge(gd);\n",
       "            observer.disconnect();\n",
       "        }}\n",
       "}});\n",
       "\n",
       "// Listen for the removal of the full notebook cells\n",
       "var notebookContainer = gd.closest('#notebook-container');\n",
       "if (notebookContainer) {{\n",
       "    x.observe(notebookContainer, {childList: true});\n",
       "}}\n",
       "\n",
       "// Listen for the clearing of the current output cell\n",
       "var outputEl = gd.closest('.output');\n",
       "if (outputEl) {{\n",
       "    x.observe(outputEl, {childList: true});\n",
       "}}\n",
       "\n",
       "                        })                };                });            </script>        </div>"
      ]
     },
     "metadata": {},
     "output_type": "display_data"
    }
   ],
   "source": [
    "df.iplot(kind='box')"
   ]
  },
  {
   "cell_type": "markdown",
   "metadata": {},
   "source": [
    "## 3d Surface"
   ]
  },
  {
   "cell_type": "code",
   "execution_count": 14,
   "metadata": {},
   "outputs": [
    {
     "data": {
      "application/vnd.plotly.v1+json": {
       "config": {
        "linkText": "Export to plot.ly",
        "plotlyServerURL": "https://plot.ly",
        "showLink": true
       },
       "data": [
        {
         "colorscale": [
          [
           0,
           "rgb(165,0,38)"
          ],
          [
           0.1,
           "rgb(215,48,39)"
          ],
          [
           0.2,
           "rgb(244,109,67)"
          ],
          [
           0.3,
           "rgb(253,174,97)"
          ],
          [
           0.4,
           "rgb(254,224,144)"
          ],
          [
           0.5,
           "rgb(255,255,191)"
          ],
          [
           0.6,
           "rgb(224,243,248)"
          ],
          [
           0.7,
           "rgb(171,217,233)"
          ],
          [
           0.8,
           "rgb(116,173,209)"
          ],
          [
           0.9,
           "rgb(69,117,180)"
          ],
          [
           1,
           "rgb(49,54,149)"
          ]
         ],
         "type": "surface",
         "x": [
          0,
          1,
          2,
          3,
          4
         ],
         "y": [
          "x",
          "y",
          "z"
         ],
         "z": [
          [
           1,
           2,
           3,
           4,
           5
          ],
          [
           10,
           20,
           30,
           20,
           10
          ],
          [
           5,
           4,
           3,
           2,
           1
          ]
         ]
        }
       ],
       "layout": {
        "legend": {
         "bgcolor": "#F5F6F9",
         "font": {
          "color": "#4D5663"
         }
        },
        "paper_bgcolor": "#F5F6F9",
        "plot_bgcolor": "#F5F6F9",
        "template": {
         "data": {
          "bar": [
           {
            "error_x": {
             "color": "#2a3f5f"
            },
            "error_y": {
             "color": "#2a3f5f"
            },
            "marker": {
             "line": {
              "color": "#E5ECF6",
              "width": 0.5
             },
             "pattern": {
              "fillmode": "overlay",
              "size": 10,
              "solidity": 0.2
             }
            },
            "type": "bar"
           }
          ],
          "barpolar": [
           {
            "marker": {
             "line": {
              "color": "#E5ECF6",
              "width": 0.5
             },
             "pattern": {
              "fillmode": "overlay",
              "size": 10,
              "solidity": 0.2
             }
            },
            "type": "barpolar"
           }
          ],
          "carpet": [
           {
            "aaxis": {
             "endlinecolor": "#2a3f5f",
             "gridcolor": "white",
             "linecolor": "white",
             "minorgridcolor": "white",
             "startlinecolor": "#2a3f5f"
            },
            "baxis": {
             "endlinecolor": "#2a3f5f",
             "gridcolor": "white",
             "linecolor": "white",
             "minorgridcolor": "white",
             "startlinecolor": "#2a3f5f"
            },
            "type": "carpet"
           }
          ],
          "choropleth": [
           {
            "colorbar": {
             "outlinewidth": 0,
             "ticks": ""
            },
            "type": "choropleth"
           }
          ],
          "contour": [
           {
            "colorbar": {
             "outlinewidth": 0,
             "ticks": ""
            },
            "colorscale": [
             [
              0,
              "#0d0887"
             ],
             [
              0.1111111111111111,
              "#46039f"
             ],
             [
              0.2222222222222222,
              "#7201a8"
             ],
             [
              0.3333333333333333,
              "#9c179e"
             ],
             [
              0.4444444444444444,
              "#bd3786"
             ],
             [
              0.5555555555555556,
              "#d8576b"
             ],
             [
              0.6666666666666666,
              "#ed7953"
             ],
             [
              0.7777777777777778,
              "#fb9f3a"
             ],
             [
              0.8888888888888888,
              "#fdca26"
             ],
             [
              1,
              "#f0f921"
             ]
            ],
            "type": "contour"
           }
          ],
          "contourcarpet": [
           {
            "colorbar": {
             "outlinewidth": 0,
             "ticks": ""
            },
            "type": "contourcarpet"
           }
          ],
          "heatmap": [
           {
            "colorbar": {
             "outlinewidth": 0,
             "ticks": ""
            },
            "colorscale": [
             [
              0,
              "#0d0887"
             ],
             [
              0.1111111111111111,
              "#46039f"
             ],
             [
              0.2222222222222222,
              "#7201a8"
             ],
             [
              0.3333333333333333,
              "#9c179e"
             ],
             [
              0.4444444444444444,
              "#bd3786"
             ],
             [
              0.5555555555555556,
              "#d8576b"
             ],
             [
              0.6666666666666666,
              "#ed7953"
             ],
             [
              0.7777777777777778,
              "#fb9f3a"
             ],
             [
              0.8888888888888888,
              "#fdca26"
             ],
             [
              1,
              "#f0f921"
             ]
            ],
            "type": "heatmap"
           }
          ],
          "heatmapgl": [
           {
            "colorbar": {
             "outlinewidth": 0,
             "ticks": ""
            },
            "colorscale": [
             [
              0,
              "#0d0887"
             ],
             [
              0.1111111111111111,
              "#46039f"
             ],
             [
              0.2222222222222222,
              "#7201a8"
             ],
             [
              0.3333333333333333,
              "#9c179e"
             ],
             [
              0.4444444444444444,
              "#bd3786"
             ],
             [
              0.5555555555555556,
              "#d8576b"
             ],
             [
              0.6666666666666666,
              "#ed7953"
             ],
             [
              0.7777777777777778,
              "#fb9f3a"
             ],
             [
              0.8888888888888888,
              "#fdca26"
             ],
             [
              1,
              "#f0f921"
             ]
            ],
            "type": "heatmapgl"
           }
          ],
          "histogram": [
           {
            "marker": {
             "pattern": {
              "fillmode": "overlay",
              "size": 10,
              "solidity": 0.2
             }
            },
            "type": "histogram"
           }
          ],
          "histogram2d": [
           {
            "colorbar": {
             "outlinewidth": 0,
             "ticks": ""
            },
            "colorscale": [
             [
              0,
              "#0d0887"
             ],
             [
              0.1111111111111111,
              "#46039f"
             ],
             [
              0.2222222222222222,
              "#7201a8"
             ],
             [
              0.3333333333333333,
              "#9c179e"
             ],
             [
              0.4444444444444444,
              "#bd3786"
             ],
             [
              0.5555555555555556,
              "#d8576b"
             ],
             [
              0.6666666666666666,
              "#ed7953"
             ],
             [
              0.7777777777777778,
              "#fb9f3a"
             ],
             [
              0.8888888888888888,
              "#fdca26"
             ],
             [
              1,
              "#f0f921"
             ]
            ],
            "type": "histogram2d"
           }
          ],
          "histogram2dcontour": [
           {
            "colorbar": {
             "outlinewidth": 0,
             "ticks": ""
            },
            "colorscale": [
             [
              0,
              "#0d0887"
             ],
             [
              0.1111111111111111,
              "#46039f"
             ],
             [
              0.2222222222222222,
              "#7201a8"
             ],
             [
              0.3333333333333333,
              "#9c179e"
             ],
             [
              0.4444444444444444,
              "#bd3786"
             ],
             [
              0.5555555555555556,
              "#d8576b"
             ],
             [
              0.6666666666666666,
              "#ed7953"
             ],
             [
              0.7777777777777778,
              "#fb9f3a"
             ],
             [
              0.8888888888888888,
              "#fdca26"
             ],
             [
              1,
              "#f0f921"
             ]
            ],
            "type": "histogram2dcontour"
           }
          ],
          "mesh3d": [
           {
            "colorbar": {
             "outlinewidth": 0,
             "ticks": ""
            },
            "type": "mesh3d"
           }
          ],
          "parcoords": [
           {
            "line": {
             "colorbar": {
              "outlinewidth": 0,
              "ticks": ""
             }
            },
            "type": "parcoords"
           }
          ],
          "pie": [
           {
            "automargin": true,
            "type": "pie"
           }
          ],
          "scatter": [
           {
            "marker": {
             "colorbar": {
              "outlinewidth": 0,
              "ticks": ""
             }
            },
            "type": "scatter"
           }
          ],
          "scatter3d": [
           {
            "line": {
             "colorbar": {
              "outlinewidth": 0,
              "ticks": ""
             }
            },
            "marker": {
             "colorbar": {
              "outlinewidth": 0,
              "ticks": ""
             }
            },
            "type": "scatter3d"
           }
          ],
          "scattercarpet": [
           {
            "marker": {
             "colorbar": {
              "outlinewidth": 0,
              "ticks": ""
             }
            },
            "type": "scattercarpet"
           }
          ],
          "scattergeo": [
           {
            "marker": {
             "colorbar": {
              "outlinewidth": 0,
              "ticks": ""
             }
            },
            "type": "scattergeo"
           }
          ],
          "scattergl": [
           {
            "marker": {
             "colorbar": {
              "outlinewidth": 0,
              "ticks": ""
             }
            },
            "type": "scattergl"
           }
          ],
          "scattermapbox": [
           {
            "marker": {
             "colorbar": {
              "outlinewidth": 0,
              "ticks": ""
             }
            },
            "type": "scattermapbox"
           }
          ],
          "scatterpolar": [
           {
            "marker": {
             "colorbar": {
              "outlinewidth": 0,
              "ticks": ""
             }
            },
            "type": "scatterpolar"
           }
          ],
          "scatterpolargl": [
           {
            "marker": {
             "colorbar": {
              "outlinewidth": 0,
              "ticks": ""
             }
            },
            "type": "scatterpolargl"
           }
          ],
          "scatterternary": [
           {
            "marker": {
             "colorbar": {
              "outlinewidth": 0,
              "ticks": ""
             }
            },
            "type": "scatterternary"
           }
          ],
          "surface": [
           {
            "colorbar": {
             "outlinewidth": 0,
             "ticks": ""
            },
            "colorscale": [
             [
              0,
              "#0d0887"
             ],
             [
              0.1111111111111111,
              "#46039f"
             ],
             [
              0.2222222222222222,
              "#7201a8"
             ],
             [
              0.3333333333333333,
              "#9c179e"
             ],
             [
              0.4444444444444444,
              "#bd3786"
             ],
             [
              0.5555555555555556,
              "#d8576b"
             ],
             [
              0.6666666666666666,
              "#ed7953"
             ],
             [
              0.7777777777777778,
              "#fb9f3a"
             ],
             [
              0.8888888888888888,
              "#fdca26"
             ],
             [
              1,
              "#f0f921"
             ]
            ],
            "type": "surface"
           }
          ],
          "table": [
           {
            "cells": {
             "fill": {
              "color": "#EBF0F8"
             },
             "line": {
              "color": "white"
             }
            },
            "header": {
             "fill": {
              "color": "#C8D4E3"
             },
             "line": {
              "color": "white"
             }
            },
            "type": "table"
           }
          ]
         },
         "layout": {
          "annotationdefaults": {
           "arrowcolor": "#2a3f5f",
           "arrowhead": 0,
           "arrowwidth": 1
          },
          "autotypenumbers": "strict",
          "coloraxis": {
           "colorbar": {
            "outlinewidth": 0,
            "ticks": ""
           }
          },
          "colorscale": {
           "diverging": [
            [
             0,
             "#8e0152"
            ],
            [
             0.1,
             "#c51b7d"
            ],
            [
             0.2,
             "#de77ae"
            ],
            [
             0.3,
             "#f1b6da"
            ],
            [
             0.4,
             "#fde0ef"
            ],
            [
             0.5,
             "#f7f7f7"
            ],
            [
             0.6,
             "#e6f5d0"
            ],
            [
             0.7,
             "#b8e186"
            ],
            [
             0.8,
             "#7fbc41"
            ],
            [
             0.9,
             "#4d9221"
            ],
            [
             1,
             "#276419"
            ]
           ],
           "sequential": [
            [
             0,
             "#0d0887"
            ],
            [
             0.1111111111111111,
             "#46039f"
            ],
            [
             0.2222222222222222,
             "#7201a8"
            ],
            [
             0.3333333333333333,
             "#9c179e"
            ],
            [
             0.4444444444444444,
             "#bd3786"
            ],
            [
             0.5555555555555556,
             "#d8576b"
            ],
            [
             0.6666666666666666,
             "#ed7953"
            ],
            [
             0.7777777777777778,
             "#fb9f3a"
            ],
            [
             0.8888888888888888,
             "#fdca26"
            ],
            [
             1,
             "#f0f921"
            ]
           ],
           "sequentialminus": [
            [
             0,
             "#0d0887"
            ],
            [
             0.1111111111111111,
             "#46039f"
            ],
            [
             0.2222222222222222,
             "#7201a8"
            ],
            [
             0.3333333333333333,
             "#9c179e"
            ],
            [
             0.4444444444444444,
             "#bd3786"
            ],
            [
             0.5555555555555556,
             "#d8576b"
            ],
            [
             0.6666666666666666,
             "#ed7953"
            ],
            [
             0.7777777777777778,
             "#fb9f3a"
            ],
            [
             0.8888888888888888,
             "#fdca26"
            ],
            [
             1,
             "#f0f921"
            ]
           ]
          },
          "colorway": [
           "#636efa",
           "#EF553B",
           "#00cc96",
           "#ab63fa",
           "#FFA15A",
           "#19d3f3",
           "#FF6692",
           "#B6E880",
           "#FF97FF",
           "#FECB52"
          ],
          "font": {
           "color": "#2a3f5f"
          },
          "geo": {
           "bgcolor": "white",
           "lakecolor": "white",
           "landcolor": "#E5ECF6",
           "showlakes": true,
           "showland": true,
           "subunitcolor": "white"
          },
          "hoverlabel": {
           "align": "left"
          },
          "hovermode": "closest",
          "mapbox": {
           "style": "light"
          },
          "paper_bgcolor": "white",
          "plot_bgcolor": "#E5ECF6",
          "polar": {
           "angularaxis": {
            "gridcolor": "white",
            "linecolor": "white",
            "ticks": ""
           },
           "bgcolor": "#E5ECF6",
           "radialaxis": {
            "gridcolor": "white",
            "linecolor": "white",
            "ticks": ""
           }
          },
          "scene": {
           "xaxis": {
            "backgroundcolor": "#E5ECF6",
            "gridcolor": "white",
            "gridwidth": 2,
            "linecolor": "white",
            "showbackground": true,
            "ticks": "",
            "zerolinecolor": "white"
           },
           "yaxis": {
            "backgroundcolor": "#E5ECF6",
            "gridcolor": "white",
            "gridwidth": 2,
            "linecolor": "white",
            "showbackground": true,
            "ticks": "",
            "zerolinecolor": "white"
           },
           "zaxis": {
            "backgroundcolor": "#E5ECF6",
            "gridcolor": "white",
            "gridwidth": 2,
            "linecolor": "white",
            "showbackground": true,
            "ticks": "",
            "zerolinecolor": "white"
           }
          },
          "shapedefaults": {
           "line": {
            "color": "#2a3f5f"
           }
          },
          "ternary": {
           "aaxis": {
            "gridcolor": "white",
            "linecolor": "white",
            "ticks": ""
           },
           "baxis": {
            "gridcolor": "white",
            "linecolor": "white",
            "ticks": ""
           },
           "bgcolor": "#E5ECF6",
           "caxis": {
            "gridcolor": "white",
            "linecolor": "white",
            "ticks": ""
           }
          },
          "title": {
           "x": 0.05
          },
          "xaxis": {
           "automargin": true,
           "gridcolor": "white",
           "linecolor": "white",
           "ticks": "",
           "title": {
            "standoff": 15
           },
           "zerolinecolor": "white",
           "zerolinewidth": 2
          },
          "yaxis": {
           "automargin": true,
           "gridcolor": "white",
           "linecolor": "white",
           "ticks": "",
           "title": {
            "standoff": 15
           },
           "zerolinecolor": "white",
           "zerolinewidth": 2
          }
         }
        },
        "title": {
         "font": {
          "color": "#4D5663"
         }
        },
        "xaxis": {
         "gridcolor": "#E1E5ED",
         "showgrid": true,
         "tickfont": {
          "color": "#4D5663"
         },
         "title": {
          "font": {
           "color": "#4D5663"
          },
          "text": ""
         },
         "zerolinecolor": "#E1E5ED"
        },
        "yaxis": {
         "gridcolor": "#E1E5ED",
         "showgrid": true,
         "tickfont": {
          "color": "#4D5663"
         },
         "title": {
          "font": {
           "color": "#4D5663"
          },
          "text": ""
         },
         "zerolinecolor": "#E1E5ED"
        }
       }
      },
      "text/html": [
       "<div>                            <div id=\"69fa0964-81d5-496e-89c6-24177be2bf43\" class=\"plotly-graph-div\" style=\"height:525px; width:100%;\"></div>            <script type=\"text/javascript\">                require([\"plotly\"], function(Plotly) {                    window.PLOTLYENV=window.PLOTLYENV || {};\n",
       "                    window.PLOTLYENV.BASE_URL='https://plot.ly';                                    if (document.getElementById(\"69fa0964-81d5-496e-89c6-24177be2bf43\")) {                    Plotly.newPlot(                        \"69fa0964-81d5-496e-89c6-24177be2bf43\",                        [{\"colorscale\":[[0.0,\"rgb(165,0,38)\"],[0.1,\"rgb(215,48,39)\"],[0.2,\"rgb(244,109,67)\"],[0.3,\"rgb(253,174,97)\"],[0.4,\"rgb(254,224,144)\"],[0.5,\"rgb(255,255,191)\"],[0.6,\"rgb(224,243,248)\"],[0.7,\"rgb(171,217,233)\"],[0.8,\"rgb(116,173,209)\"],[0.9,\"rgb(69,117,180)\"],[1.0,\"rgb(49,54,149)\"]],\"type\":\"surface\",\"x\":[0,1,2,3,4],\"y\":[\"x\",\"y\",\"z\"],\"z\":[[1,2,3,4,5],[10,20,30,20,10],[5,4,3,2,1]]}],                        {\"legend\":{\"bgcolor\":\"#F5F6F9\",\"font\":{\"color\":\"#4D5663\"}},\"paper_bgcolor\":\"#F5F6F9\",\"plot_bgcolor\":\"#F5F6F9\",\"template\":{\"data\":{\"bar\":[{\"error_x\":{\"color\":\"#2a3f5f\"},\"error_y\":{\"color\":\"#2a3f5f\"},\"marker\":{\"line\":{\"color\":\"#E5ECF6\",\"width\":0.5},\"pattern\":{\"fillmode\":\"overlay\",\"size\":10,\"solidity\":0.2}},\"type\":\"bar\"}],\"barpolar\":[{\"marker\":{\"line\":{\"color\":\"#E5ECF6\",\"width\":0.5},\"pattern\":{\"fillmode\":\"overlay\",\"size\":10,\"solidity\":0.2}},\"type\":\"barpolar\"}],\"carpet\":[{\"aaxis\":{\"endlinecolor\":\"#2a3f5f\",\"gridcolor\":\"white\",\"linecolor\":\"white\",\"minorgridcolor\":\"white\",\"startlinecolor\":\"#2a3f5f\"},\"baxis\":{\"endlinecolor\":\"#2a3f5f\",\"gridcolor\":\"white\",\"linecolor\":\"white\",\"minorgridcolor\":\"white\",\"startlinecolor\":\"#2a3f5f\"},\"type\":\"carpet\"}],\"choropleth\":[{\"colorbar\":{\"outlinewidth\":0,\"ticks\":\"\"},\"type\":\"choropleth\"}],\"contour\":[{\"colorbar\":{\"outlinewidth\":0,\"ticks\":\"\"},\"colorscale\":[[0.0,\"#0d0887\"],[0.1111111111111111,\"#46039f\"],[0.2222222222222222,\"#7201a8\"],[0.3333333333333333,\"#9c179e\"],[0.4444444444444444,\"#bd3786\"],[0.5555555555555556,\"#d8576b\"],[0.6666666666666666,\"#ed7953\"],[0.7777777777777778,\"#fb9f3a\"],[0.8888888888888888,\"#fdca26\"],[1.0,\"#f0f921\"]],\"type\":\"contour\"}],\"contourcarpet\":[{\"colorbar\":{\"outlinewidth\":0,\"ticks\":\"\"},\"type\":\"contourcarpet\"}],\"heatmap\":[{\"colorbar\":{\"outlinewidth\":0,\"ticks\":\"\"},\"colorscale\":[[0.0,\"#0d0887\"],[0.1111111111111111,\"#46039f\"],[0.2222222222222222,\"#7201a8\"],[0.3333333333333333,\"#9c179e\"],[0.4444444444444444,\"#bd3786\"],[0.5555555555555556,\"#d8576b\"],[0.6666666666666666,\"#ed7953\"],[0.7777777777777778,\"#fb9f3a\"],[0.8888888888888888,\"#fdca26\"],[1.0,\"#f0f921\"]],\"type\":\"heatmap\"}],\"heatmapgl\":[{\"colorbar\":{\"outlinewidth\":0,\"ticks\":\"\"},\"colorscale\":[[0.0,\"#0d0887\"],[0.1111111111111111,\"#46039f\"],[0.2222222222222222,\"#7201a8\"],[0.3333333333333333,\"#9c179e\"],[0.4444444444444444,\"#bd3786\"],[0.5555555555555556,\"#d8576b\"],[0.6666666666666666,\"#ed7953\"],[0.7777777777777778,\"#fb9f3a\"],[0.8888888888888888,\"#fdca26\"],[1.0,\"#f0f921\"]],\"type\":\"heatmapgl\"}],\"histogram\":[{\"marker\":{\"pattern\":{\"fillmode\":\"overlay\",\"size\":10,\"solidity\":0.2}},\"type\":\"histogram\"}],\"histogram2d\":[{\"colorbar\":{\"outlinewidth\":0,\"ticks\":\"\"},\"colorscale\":[[0.0,\"#0d0887\"],[0.1111111111111111,\"#46039f\"],[0.2222222222222222,\"#7201a8\"],[0.3333333333333333,\"#9c179e\"],[0.4444444444444444,\"#bd3786\"],[0.5555555555555556,\"#d8576b\"],[0.6666666666666666,\"#ed7953\"],[0.7777777777777778,\"#fb9f3a\"],[0.8888888888888888,\"#fdca26\"],[1.0,\"#f0f921\"]],\"type\":\"histogram2d\"}],\"histogram2dcontour\":[{\"colorbar\":{\"outlinewidth\":0,\"ticks\":\"\"},\"colorscale\":[[0.0,\"#0d0887\"],[0.1111111111111111,\"#46039f\"],[0.2222222222222222,\"#7201a8\"],[0.3333333333333333,\"#9c179e\"],[0.4444444444444444,\"#bd3786\"],[0.5555555555555556,\"#d8576b\"],[0.6666666666666666,\"#ed7953\"],[0.7777777777777778,\"#fb9f3a\"],[0.8888888888888888,\"#fdca26\"],[1.0,\"#f0f921\"]],\"type\":\"histogram2dcontour\"}],\"mesh3d\":[{\"colorbar\":{\"outlinewidth\":0,\"ticks\":\"\"},\"type\":\"mesh3d\"}],\"parcoords\":[{\"line\":{\"colorbar\":{\"outlinewidth\":0,\"ticks\":\"\"}},\"type\":\"parcoords\"}],\"pie\":[{\"automargin\":true,\"type\":\"pie\"}],\"scatter\":[{\"marker\":{\"colorbar\":{\"outlinewidth\":0,\"ticks\":\"\"}},\"type\":\"scatter\"}],\"scatter3d\":[{\"line\":{\"colorbar\":{\"outlinewidth\":0,\"ticks\":\"\"}},\"marker\":{\"colorbar\":{\"outlinewidth\":0,\"ticks\":\"\"}},\"type\":\"scatter3d\"}],\"scattercarpet\":[{\"marker\":{\"colorbar\":{\"outlinewidth\":0,\"ticks\":\"\"}},\"type\":\"scattercarpet\"}],\"scattergeo\":[{\"marker\":{\"colorbar\":{\"outlinewidth\":0,\"ticks\":\"\"}},\"type\":\"scattergeo\"}],\"scattergl\":[{\"marker\":{\"colorbar\":{\"outlinewidth\":0,\"ticks\":\"\"}},\"type\":\"scattergl\"}],\"scattermapbox\":[{\"marker\":{\"colorbar\":{\"outlinewidth\":0,\"ticks\":\"\"}},\"type\":\"scattermapbox\"}],\"scatterpolar\":[{\"marker\":{\"colorbar\":{\"outlinewidth\":0,\"ticks\":\"\"}},\"type\":\"scatterpolar\"}],\"scatterpolargl\":[{\"marker\":{\"colorbar\":{\"outlinewidth\":0,\"ticks\":\"\"}},\"type\":\"scatterpolargl\"}],\"scatterternary\":[{\"marker\":{\"colorbar\":{\"outlinewidth\":0,\"ticks\":\"\"}},\"type\":\"scatterternary\"}],\"surface\":[{\"colorbar\":{\"outlinewidth\":0,\"ticks\":\"\"},\"colorscale\":[[0.0,\"#0d0887\"],[0.1111111111111111,\"#46039f\"],[0.2222222222222222,\"#7201a8\"],[0.3333333333333333,\"#9c179e\"],[0.4444444444444444,\"#bd3786\"],[0.5555555555555556,\"#d8576b\"],[0.6666666666666666,\"#ed7953\"],[0.7777777777777778,\"#fb9f3a\"],[0.8888888888888888,\"#fdca26\"],[1.0,\"#f0f921\"]],\"type\":\"surface\"}],\"table\":[{\"cells\":{\"fill\":{\"color\":\"#EBF0F8\"},\"line\":{\"color\":\"white\"}},\"header\":{\"fill\":{\"color\":\"#C8D4E3\"},\"line\":{\"color\":\"white\"}},\"type\":\"table\"}]},\"layout\":{\"annotationdefaults\":{\"arrowcolor\":\"#2a3f5f\",\"arrowhead\":0,\"arrowwidth\":1},\"autotypenumbers\":\"strict\",\"coloraxis\":{\"colorbar\":{\"outlinewidth\":0,\"ticks\":\"\"}},\"colorscale\":{\"diverging\":[[0,\"#8e0152\"],[0.1,\"#c51b7d\"],[0.2,\"#de77ae\"],[0.3,\"#f1b6da\"],[0.4,\"#fde0ef\"],[0.5,\"#f7f7f7\"],[0.6,\"#e6f5d0\"],[0.7,\"#b8e186\"],[0.8,\"#7fbc41\"],[0.9,\"#4d9221\"],[1,\"#276419\"]],\"sequential\":[[0.0,\"#0d0887\"],[0.1111111111111111,\"#46039f\"],[0.2222222222222222,\"#7201a8\"],[0.3333333333333333,\"#9c179e\"],[0.4444444444444444,\"#bd3786\"],[0.5555555555555556,\"#d8576b\"],[0.6666666666666666,\"#ed7953\"],[0.7777777777777778,\"#fb9f3a\"],[0.8888888888888888,\"#fdca26\"],[1.0,\"#f0f921\"]],\"sequentialminus\":[[0.0,\"#0d0887\"],[0.1111111111111111,\"#46039f\"],[0.2222222222222222,\"#7201a8\"],[0.3333333333333333,\"#9c179e\"],[0.4444444444444444,\"#bd3786\"],[0.5555555555555556,\"#d8576b\"],[0.6666666666666666,\"#ed7953\"],[0.7777777777777778,\"#fb9f3a\"],[0.8888888888888888,\"#fdca26\"],[1.0,\"#f0f921\"]]},\"colorway\":[\"#636efa\",\"#EF553B\",\"#00cc96\",\"#ab63fa\",\"#FFA15A\",\"#19d3f3\",\"#FF6692\",\"#B6E880\",\"#FF97FF\",\"#FECB52\"],\"font\":{\"color\":\"#2a3f5f\"},\"geo\":{\"bgcolor\":\"white\",\"lakecolor\":\"white\",\"landcolor\":\"#E5ECF6\",\"showlakes\":true,\"showland\":true,\"subunitcolor\":\"white\"},\"hoverlabel\":{\"align\":\"left\"},\"hovermode\":\"closest\",\"mapbox\":{\"style\":\"light\"},\"paper_bgcolor\":\"white\",\"plot_bgcolor\":\"#E5ECF6\",\"polar\":{\"angularaxis\":{\"gridcolor\":\"white\",\"linecolor\":\"white\",\"ticks\":\"\"},\"bgcolor\":\"#E5ECF6\",\"radialaxis\":{\"gridcolor\":\"white\",\"linecolor\":\"white\",\"ticks\":\"\"}},\"scene\":{\"xaxis\":{\"backgroundcolor\":\"#E5ECF6\",\"gridcolor\":\"white\",\"gridwidth\":2,\"linecolor\":\"white\",\"showbackground\":true,\"ticks\":\"\",\"zerolinecolor\":\"white\"},\"yaxis\":{\"backgroundcolor\":\"#E5ECF6\",\"gridcolor\":\"white\",\"gridwidth\":2,\"linecolor\":\"white\",\"showbackground\":true,\"ticks\":\"\",\"zerolinecolor\":\"white\"},\"zaxis\":{\"backgroundcolor\":\"#E5ECF6\",\"gridcolor\":\"white\",\"gridwidth\":2,\"linecolor\":\"white\",\"showbackground\":true,\"ticks\":\"\",\"zerolinecolor\":\"white\"}},\"shapedefaults\":{\"line\":{\"color\":\"#2a3f5f\"}},\"ternary\":{\"aaxis\":{\"gridcolor\":\"white\",\"linecolor\":\"white\",\"ticks\":\"\"},\"baxis\":{\"gridcolor\":\"white\",\"linecolor\":\"white\",\"ticks\":\"\"},\"bgcolor\":\"#E5ECF6\",\"caxis\":{\"gridcolor\":\"white\",\"linecolor\":\"white\",\"ticks\":\"\"}},\"title\":{\"x\":0.05},\"xaxis\":{\"automargin\":true,\"gridcolor\":\"white\",\"linecolor\":\"white\",\"ticks\":\"\",\"title\":{\"standoff\":15},\"zerolinecolor\":\"white\",\"zerolinewidth\":2},\"yaxis\":{\"automargin\":true,\"gridcolor\":\"white\",\"linecolor\":\"white\",\"ticks\":\"\",\"title\":{\"standoff\":15},\"zerolinecolor\":\"white\",\"zerolinewidth\":2}}},\"title\":{\"font\":{\"color\":\"#4D5663\"}},\"xaxis\":{\"gridcolor\":\"#E1E5ED\",\"showgrid\":true,\"tickfont\":{\"color\":\"#4D5663\"},\"title\":{\"font\":{\"color\":\"#4D5663\"},\"text\":\"\"},\"zerolinecolor\":\"#E1E5ED\"},\"yaxis\":{\"gridcolor\":\"#E1E5ED\",\"showgrid\":true,\"tickfont\":{\"color\":\"#4D5663\"},\"title\":{\"font\":{\"color\":\"#4D5663\"},\"text\":\"\"},\"zerolinecolor\":\"#E1E5ED\"}},                        {\"showLink\": true, \"linkText\": \"Export to plot.ly\", \"plotlyServerURL\": \"https://plot.ly\", \"responsive\": true}                    ).then(function(){\n",
       "                            \n",
       "var gd = document.getElementById('69fa0964-81d5-496e-89c6-24177be2bf43');\n",
       "var x = new MutationObserver(function (mutations, observer) {{\n",
       "        var display = window.getComputedStyle(gd).display;\n",
       "        if (!display || display === 'none') {{\n",
       "            console.log([gd, 'removed!']);\n",
       "            Plotly.purge(gd);\n",
       "            observer.disconnect();\n",
       "        }}\n",
       "}});\n",
       "\n",
       "// Listen for the removal of the full notebook cells\n",
       "var notebookContainer = gd.closest('#notebook-container');\n",
       "if (notebookContainer) {{\n",
       "    x.observe(notebookContainer, {childList: true});\n",
       "}}\n",
       "\n",
       "// Listen for the clearing of the current output cell\n",
       "var outputEl = gd.closest('.output');\n",
       "if (outputEl) {{\n",
       "    x.observe(outputEl, {childList: true});\n",
       "}}\n",
       "\n",
       "                        })                };                });            </script>        </div>"
      ]
     },
     "metadata": {},
     "output_type": "display_data"
    }
   ],
   "source": [
    "df3 = pd.DataFrame({'x':[1,2,3,4,5],'y':[10,20,30,20,10],'z':[5,4,3,2,1]})\n",
    "df3.iplot(kind='surface',colorscale='rdylbu')"
   ]
  },
  {
   "cell_type": "markdown",
   "metadata": {},
   "source": [
    "## Spread"
   ]
  },
  {
   "cell_type": "code",
   "execution_count": 15,
   "metadata": {},
   "outputs": [
    {
     "name": "stderr",
     "output_type": "stream",
     "text": [
      "C:\\Users\\user\\miniconda3\\lib\\site-packages\\cufflinks\\plotlytools.py:849: FutureWarning:\n",
      "\n",
      "The pandas.np module is deprecated and will be removed from pandas in a future version. Import numpy directly instead\n",
      "\n",
      "C:\\Users\\user\\miniconda3\\lib\\site-packages\\cufflinks\\plotlytools.py:850: FutureWarning:\n",
      "\n",
      "The pandas.np module is deprecated and will be removed from pandas in a future version. Import numpy directly instead\n",
      "\n"
     ]
    },
    {
     "data": {
      "application/vnd.plotly.v1+json": {
       "config": {
        "linkText": "Export to plot.ly",
        "plotlyServerURL": "https://plot.ly",
        "showLink": true
       },
       "data": [
        {
         "line": {
          "color": "rgba(255, 153, 51, 1.0)",
          "dash": "solid",
          "shape": "linear",
          "width": 1.3
         },
         "mode": "lines",
         "name": "A",
         "text": "",
         "type": "scatter",
         "x": [
          0,
          1,
          2,
          3,
          4,
          5,
          6,
          7,
          8,
          9,
          10,
          11,
          12,
          13,
          14,
          15,
          16,
          17,
          18,
          19,
          20,
          21,
          22,
          23,
          24,
          25,
          26,
          27,
          28,
          29,
          30,
          31,
          32,
          33,
          34,
          35,
          36,
          37,
          38,
          39,
          40,
          41,
          42,
          43,
          44,
          45,
          46,
          47,
          48,
          49,
          50,
          51,
          52,
          53,
          54,
          55,
          56,
          57,
          58,
          59,
          60,
          61,
          62,
          63,
          64,
          65,
          66,
          67,
          68,
          69,
          70,
          71,
          72,
          73,
          74,
          75,
          76,
          77,
          78,
          79,
          80,
          81,
          82,
          83,
          84,
          85,
          86,
          87,
          88,
          89,
          90,
          91,
          92,
          93,
          94,
          95,
          96,
          97,
          98,
          99
         ],
         "y": [
          -1.4540004081478248,
          -0.11007355043051158,
          0.10982869675375188,
          -0.6483522274923497,
          0.6456682145863891,
          -0.9941365717586216,
          0.49132505126695764,
          0.574692293480332,
          -0.601149273426994,
          1.1681530928816495,
          0.9225460509197592,
          1.4080120518402826,
          0.5112988358011514,
          1.9042321289343245,
          -1.0519246485155396,
          -1.6145722564049436,
          -0.3069777634201451,
          -1.046904859984683,
          -0.19803089353167186,
          -0.319827137822687,
          -1.8082591352742183,
          2.0747833640870983,
          -0.19248509296146513,
          0.08128642613710906,
          -0.45443881176401013,
          0.7097203042406512,
          -0.38455851977652145,
          1.3908414664195914,
          -1.3692379339272545,
          0.44948683633089076,
          2.2757464103816396,
          -0.7935122389343489,
          -0.6456240932055214,
          -0.4204489550137737,
          0.19391000998362268,
          1.8194934307807404,
          -0.18217550385942105,
          -0.008290286976937332,
          0.8243979074928602,
          0.3721440133587712,
          0.5998082876547112,
          1.7708564035903112,
          1.7102348631178188,
          1.418303290602573,
          -0.34701523804234624,
          0.5032772588783692,
          -1.2452558870960557,
          -0.9970360030520007,
          0.5907178721512375,
          -2.7230352978400645,
          0.20055780980890967,
          -0.6137366637905584,
          -0.6086630310241073,
          -1.1087394788361375,
          0.6641586046761034,
          0.7193702690264225,
          0.9296696099660978,
          0.7317327604793983,
          -0.047201435658269515,
          -0.30334032362370084,
          0.02862471197069708,
          -0.27828523810730366,
          -0.44179553515129544,
          -0.024118842829569834,
          0.31227647731563263,
          0.8701847072134986,
          -0.22309656965636257,
          -0.20770513965651302,
          0.47142175538379566,
          0.5011247094412172,
          -1.3620146525279155,
          -0.14795098303784995,
          0.14196298736049628,
          -1.016884709309532,
          -0.4917906274473433,
          -0.12051799859600523,
          -0.17247939382189223,
          0.9541553890998549,
          1.4315140899860428,
          -0.00992095518753176,
          0.6018254201751347,
          -1.5789016803240072,
          0.727904003014525,
          -1.0147581420106258,
          1.0690133891339306,
          -1.1021364000773435,
          -0.23513861545976072,
          0.18364122505394662,
          -0.8165901971585968,
          -0.6081818370731323,
          0.621396892849809,
          -0.10947553062274686,
          0.11382492392576911,
          0.43714209861981645,
          -0.2654839651102387,
          1.5224160299697473,
          0.1199575783051826,
          0.6250937851392976,
          0.6354018783850093,
          -1.286302152646409
         ]
        },
        {
         "line": {
          "color": "rgba(55, 128, 191, 1.0)",
          "dash": "solid",
          "shape": "linear",
          "width": 1.3
         },
         "mode": "lines",
         "name": "B",
         "text": "",
         "type": "scatter",
         "x": [
          0,
          1,
          2,
          3,
          4,
          5,
          6,
          7,
          8,
          9,
          10,
          11,
          12,
          13,
          14,
          15,
          16,
          17,
          18,
          19,
          20,
          21,
          22,
          23,
          24,
          25,
          26,
          27,
          28,
          29,
          30,
          31,
          32,
          33,
          34,
          35,
          36,
          37,
          38,
          39,
          40,
          41,
          42,
          43,
          44,
          45,
          46,
          47,
          48,
          49,
          50,
          51,
          52,
          53,
          54,
          55,
          56,
          57,
          58,
          59,
          60,
          61,
          62,
          63,
          64,
          65,
          66,
          67,
          68,
          69,
          70,
          71,
          72,
          73,
          74,
          75,
          76,
          77,
          78,
          79,
          80,
          81,
          82,
          83,
          84,
          85,
          86,
          87,
          88,
          89,
          90,
          91,
          92,
          93,
          94,
          95,
          96,
          97,
          98,
          99
         ],
         "y": [
          0.9804902717892854,
          -0.8116560269021028,
          -0.5304074349441019,
          0.7314708976817439,
          -1.317813889901291,
          0.5515653245923914,
          -1.007512904863618,
          0.027869316274254607,
          0.9373009762002932,
          0.3263313741977739,
          -1.4731555994613688,
          -1.5692248514343379,
          0.2247986762962962,
          -0.237046026508892,
          -0.29187496753921166,
          -0.5276451598659568,
          -0.4604939334911615,
          1.0622630019029553,
          0.2018053826239793,
          0.2152987530552919,
          0.5765946081004806,
          -1.0574687398285258,
          0.8147327040239873,
          -1.565196244472277,
          2.1161876872641905,
          -1.152433159222957,
          -0.4421984138276069,
          0.9879694617836262,
          -1.1377408514340306,
          -0.2904951299578208,
          0.941100139067152,
          -0.679405397666701,
          -0.14503723137893423,
          -2.3704740272865727,
          -1.4393468389346427,
          -1.9138285718222479,
          -0.40541957113900345,
          -0.6406358830486115,
          1.9669854746622704,
          0.24587824563188523,
          -1.0450644420469437,
          -0.3915593556466746,
          0.1319976106693394,
          -0.541910078691539,
          -0.45877995278105627,
          -0.04744886791407573,
          1.6744233390504226,
          -2.30929247012321,
          -0.42269700138534194,
          -0.4059181196519094,
          -0.47253102278763687,
          -1.5863850507771629,
          -0.1432502014946788,
          -0.3977794705846313,
          0.25058076876857827,
          1.0380414048510445,
          0.6510006302802921,
          -0.2380316037498957,
          -0.8630875614869196,
          0.6666007826208047,
          -1.869332074666846,
          -0.10507746883011831,
          0.26794216779872787,
          -1.8705098086426515,
          0.1589793056477878,
          -0.2250804552980786,
          -0.37249110592689794,
          0.36992866619033515,
          -0.8588867390570646,
          0.6841615555235582,
          0.6895449549121019,
          -1.653588892920698,
          -0.9066261328784851,
          0.06339155195534256,
          1.289405210397382,
          1.9058872332362038,
          0.9120647093077785,
          0.991419763084864,
          0.1620854385425183,
          -0.07940006271257556,
          1.3785162664718305,
          -0.27038388476787795,
          -0.9615886098208666,
          0.00405632774123973,
          1.2870366134246083,
          0.647698409026788,
          1.437094810613269,
          1.714407268630869,
          -0.7207396837198342,
          -0.8724684564766381,
          -1.091969997227892,
          -0.6433087841112413,
          -2.1803283139883036,
          1.647186106737404,
          0.6038710322432059,
          0.9708787477958503,
          -1.4414590443258994,
          0.0008702819208328536,
          -1.219643854961161,
          -0.6606360890090951
         ]
        },
        {
         "connectgaps": false,
         "fill": "tozeroy",
         "line": {
          "color": "green",
          "dash": "solid",
          "shape": "linear",
          "width": 0.5
         },
         "mode": "lines",
         "name": "Spread",
         "showlegend": false,
         "type": "scatter",
         "x": [
          0,
          1,
          2,
          3,
          4,
          5,
          6,
          7,
          8,
          9,
          10,
          11,
          12,
          13,
          14,
          15,
          16,
          17,
          18,
          19,
          20,
          21,
          22,
          23,
          24,
          25,
          26,
          27,
          28,
          29,
          30,
          31,
          32,
          33,
          34,
          35,
          36,
          37,
          38,
          39,
          40,
          41,
          42,
          43,
          44,
          45,
          46,
          47,
          48,
          49,
          50,
          51,
          52,
          53,
          54,
          55,
          56,
          57,
          58,
          59,
          60,
          61,
          62,
          63,
          64,
          65,
          66,
          67,
          68,
          69,
          70,
          71,
          72,
          73,
          74,
          75,
          76,
          77,
          78,
          79,
          80,
          81,
          82,
          83,
          84,
          85,
          86,
          87,
          88,
          89,
          90,
          91,
          92,
          93,
          94,
          95,
          96,
          97,
          98,
          99
         ],
         "xaxis": "x2",
         "y": [
          "",
          0.7015824764715912,
          0.6402361316978538,
          "",
          1.9634821044876802,
          "",
          1.4988379561305756,
          0.5468229772060774,
          "",
          0.8418217186838756,
          2.395701650381128,
          2.9772369032746204,
          0.2865001595048552,
          2.1412781554432163,
          "",
          "",
          0.15351617007101642,
          "",
          "",
          "",
          "",
          3.132252103915624,
          "",
          1.646482670609386,
          "",
          1.8621534634636083,
          0.05763989405108544,
          0.4028720046359652,
          "",
          0.7399819662887115,
          1.3346462713144875,
          "",
          "",
          1.950025072272799,
          1.6332568489182653,
          3.7333220026029883,
          0.2232440672795824,
          0.6323455960716742,
          "",
          0.12626576772688594,
          1.644872729701655,
          2.162415759236986,
          1.5782372524484793,
          1.960213369294112,
          0.11176471473871002,
          0.5507261267924449,
          "",
          1.3122564670712091,
          1.0134148735365796,
          "",
          0.6730888325965465,
          0.9726483869866045,
          "",
          "",
          0.41357783590752517,
          "",
          0.27866897968580573,
          0.969764364229294,
          0.81588612582865,
          "",
          1.897956786637543,
          "",
          "",
          1.8463909658130817,
          0.15329717166784482,
          1.0952651625115772,
          0.14939453627053537,
          "",
          1.3303084944408603,
          "",
          "",
          1.505637909882848,
          1.0485891202389814,
          "",
          "",
          "",
          "",
          "",
          1.2694286514435245,
          0.0694791075250438,
          "",
          "",
          1.6894926128353915,
          "",
          "",
          "",
          "",
          "",
          "",
          0.26428661940350573,
          1.713366890077701,
          0.5338332534884944,
          2.2941532379140726,
          "",
          "",
          0.5515372821738971,
          1.561416622631082,
          0.6242235032184648,
          1.8550457333461703,
          ""
         ],
         "yaxis": "y2"
        },
        {
         "connectgaps": false,
         "fill": "tozeroy",
         "line": {
          "color": "red",
          "dash": "solid",
          "shape": "linear",
          "width": 0.5
         },
         "mode": "lines",
         "name": "Spread",
         "showlegend": false,
         "type": "scatter",
         "x": [
          0,
          1,
          2,
          3,
          4,
          5,
          6,
          7,
          8,
          9,
          10,
          11,
          12,
          13,
          14,
          15,
          16,
          17,
          18,
          19,
          20,
          21,
          22,
          23,
          24,
          25,
          26,
          27,
          28,
          29,
          30,
          31,
          32,
          33,
          34,
          35,
          36,
          37,
          38,
          39,
          40,
          41,
          42,
          43,
          44,
          45,
          46,
          47,
          48,
          49,
          50,
          51,
          52,
          53,
          54,
          55,
          56,
          57,
          58,
          59,
          60,
          61,
          62,
          63,
          64,
          65,
          66,
          67,
          68,
          69,
          70,
          71,
          72,
          73,
          74,
          75,
          76,
          77,
          78,
          79,
          80,
          81,
          82,
          83,
          84,
          85,
          86,
          87,
          88,
          89,
          90,
          91,
          92,
          93,
          94,
          95,
          96,
          97,
          98,
          99
         ],
         "xaxis": "x2",
         "y": [
          -2.4344906799371104,
          "",
          "",
          -1.3798231251740936,
          "",
          -1.545701896351013,
          "",
          "",
          -1.5384502496272872,
          "",
          "",
          "",
          "",
          "",
          -0.760049680976328,
          -1.0869270965389868,
          "",
          -2.1091678618876384,
          -0.39983627615565115,
          -0.5351258908779789,
          -2.384853743374699,
          "",
          -1.0072177969854526,
          "",
          -2.570626499028201,
          "",
          "",
          "",
          -0.23149708249322387,
          "",
          "",
          -0.11410684126764781,
          -0.5005868618265872,
          "",
          "",
          "",
          "",
          "",
          -1.1425875671694101,
          "",
          "",
          "",
          "",
          "",
          "",
          "",
          -2.9196792261464783,
          "",
          "",
          -2.317117178188155,
          "",
          "",
          -0.46541282952942853,
          -0.7109600082515062,
          "",
          -0.3186711358246219,
          "",
          "",
          "",
          -0.9699411062445056,
          "",
          -0.17320776927718534,
          -0.7097377029500234,
          "",
          "",
          "",
          "",
          -0.5776338058468482,
          "",
          -0.18303684608234094,
          -2.0515596074400175,
          "",
          "",
          -1.0802762612648744,
          -1.7811958378447255,
          -2.026405231832209,
          -1.0845441031296708,
          -0.03726437398500915,
          "",
          "",
          -0.7766908462966957,
          -1.3085177955561293,
          "",
          -1.0188144697518655,
          -0.21802322429067766,
          -1.7498348091041316,
          -1.6722334260730298,
          -1.5307660435769224,
          -0.09585051343876261,
          "",
          "",
          "",
          "",
          -1.2100440081175876,
          -0.8693549973534447,
          "",
          "",
          "",
          "",
          -0.6256660636373138
         ],
         "yaxis": "y2"
        }
       ],
       "layout": {
        "hovermode": "x",
        "legend": {
         "bgcolor": "#F5F6F9",
         "font": {
          "color": "#4D5663"
         }
        },
        "paper_bgcolor": "#F5F6F9",
        "plot_bgcolor": "#F5F6F9",
        "template": {
         "data": {
          "bar": [
           {
            "error_x": {
             "color": "#2a3f5f"
            },
            "error_y": {
             "color": "#2a3f5f"
            },
            "marker": {
             "line": {
              "color": "#E5ECF6",
              "width": 0.5
             },
             "pattern": {
              "fillmode": "overlay",
              "size": 10,
              "solidity": 0.2
             }
            },
            "type": "bar"
           }
          ],
          "barpolar": [
           {
            "marker": {
             "line": {
              "color": "#E5ECF6",
              "width": 0.5
             },
             "pattern": {
              "fillmode": "overlay",
              "size": 10,
              "solidity": 0.2
             }
            },
            "type": "barpolar"
           }
          ],
          "carpet": [
           {
            "aaxis": {
             "endlinecolor": "#2a3f5f",
             "gridcolor": "white",
             "linecolor": "white",
             "minorgridcolor": "white",
             "startlinecolor": "#2a3f5f"
            },
            "baxis": {
             "endlinecolor": "#2a3f5f",
             "gridcolor": "white",
             "linecolor": "white",
             "minorgridcolor": "white",
             "startlinecolor": "#2a3f5f"
            },
            "type": "carpet"
           }
          ],
          "choropleth": [
           {
            "colorbar": {
             "outlinewidth": 0,
             "ticks": ""
            },
            "type": "choropleth"
           }
          ],
          "contour": [
           {
            "colorbar": {
             "outlinewidth": 0,
             "ticks": ""
            },
            "colorscale": [
             [
              0,
              "#0d0887"
             ],
             [
              0.1111111111111111,
              "#46039f"
             ],
             [
              0.2222222222222222,
              "#7201a8"
             ],
             [
              0.3333333333333333,
              "#9c179e"
             ],
             [
              0.4444444444444444,
              "#bd3786"
             ],
             [
              0.5555555555555556,
              "#d8576b"
             ],
             [
              0.6666666666666666,
              "#ed7953"
             ],
             [
              0.7777777777777778,
              "#fb9f3a"
             ],
             [
              0.8888888888888888,
              "#fdca26"
             ],
             [
              1,
              "#f0f921"
             ]
            ],
            "type": "contour"
           }
          ],
          "contourcarpet": [
           {
            "colorbar": {
             "outlinewidth": 0,
             "ticks": ""
            },
            "type": "contourcarpet"
           }
          ],
          "heatmap": [
           {
            "colorbar": {
             "outlinewidth": 0,
             "ticks": ""
            },
            "colorscale": [
             [
              0,
              "#0d0887"
             ],
             [
              0.1111111111111111,
              "#46039f"
             ],
             [
              0.2222222222222222,
              "#7201a8"
             ],
             [
              0.3333333333333333,
              "#9c179e"
             ],
             [
              0.4444444444444444,
              "#bd3786"
             ],
             [
              0.5555555555555556,
              "#d8576b"
             ],
             [
              0.6666666666666666,
              "#ed7953"
             ],
             [
              0.7777777777777778,
              "#fb9f3a"
             ],
             [
              0.8888888888888888,
              "#fdca26"
             ],
             [
              1,
              "#f0f921"
             ]
            ],
            "type": "heatmap"
           }
          ],
          "heatmapgl": [
           {
            "colorbar": {
             "outlinewidth": 0,
             "ticks": ""
            },
            "colorscale": [
             [
              0,
              "#0d0887"
             ],
             [
              0.1111111111111111,
              "#46039f"
             ],
             [
              0.2222222222222222,
              "#7201a8"
             ],
             [
              0.3333333333333333,
              "#9c179e"
             ],
             [
              0.4444444444444444,
              "#bd3786"
             ],
             [
              0.5555555555555556,
              "#d8576b"
             ],
             [
              0.6666666666666666,
              "#ed7953"
             ],
             [
              0.7777777777777778,
              "#fb9f3a"
             ],
             [
              0.8888888888888888,
              "#fdca26"
             ],
             [
              1,
              "#f0f921"
             ]
            ],
            "type": "heatmapgl"
           }
          ],
          "histogram": [
           {
            "marker": {
             "pattern": {
              "fillmode": "overlay",
              "size": 10,
              "solidity": 0.2
             }
            },
            "type": "histogram"
           }
          ],
          "histogram2d": [
           {
            "colorbar": {
             "outlinewidth": 0,
             "ticks": ""
            },
            "colorscale": [
             [
              0,
              "#0d0887"
             ],
             [
              0.1111111111111111,
              "#46039f"
             ],
             [
              0.2222222222222222,
              "#7201a8"
             ],
             [
              0.3333333333333333,
              "#9c179e"
             ],
             [
              0.4444444444444444,
              "#bd3786"
             ],
             [
              0.5555555555555556,
              "#d8576b"
             ],
             [
              0.6666666666666666,
              "#ed7953"
             ],
             [
              0.7777777777777778,
              "#fb9f3a"
             ],
             [
              0.8888888888888888,
              "#fdca26"
             ],
             [
              1,
              "#f0f921"
             ]
            ],
            "type": "histogram2d"
           }
          ],
          "histogram2dcontour": [
           {
            "colorbar": {
             "outlinewidth": 0,
             "ticks": ""
            },
            "colorscale": [
             [
              0,
              "#0d0887"
             ],
             [
              0.1111111111111111,
              "#46039f"
             ],
             [
              0.2222222222222222,
              "#7201a8"
             ],
             [
              0.3333333333333333,
              "#9c179e"
             ],
             [
              0.4444444444444444,
              "#bd3786"
             ],
             [
              0.5555555555555556,
              "#d8576b"
             ],
             [
              0.6666666666666666,
              "#ed7953"
             ],
             [
              0.7777777777777778,
              "#fb9f3a"
             ],
             [
              0.8888888888888888,
              "#fdca26"
             ],
             [
              1,
              "#f0f921"
             ]
            ],
            "type": "histogram2dcontour"
           }
          ],
          "mesh3d": [
           {
            "colorbar": {
             "outlinewidth": 0,
             "ticks": ""
            },
            "type": "mesh3d"
           }
          ],
          "parcoords": [
           {
            "line": {
             "colorbar": {
              "outlinewidth": 0,
              "ticks": ""
             }
            },
            "type": "parcoords"
           }
          ],
          "pie": [
           {
            "automargin": true,
            "type": "pie"
           }
          ],
          "scatter": [
           {
            "marker": {
             "colorbar": {
              "outlinewidth": 0,
              "ticks": ""
             }
            },
            "type": "scatter"
           }
          ],
          "scatter3d": [
           {
            "line": {
             "colorbar": {
              "outlinewidth": 0,
              "ticks": ""
             }
            },
            "marker": {
             "colorbar": {
              "outlinewidth": 0,
              "ticks": ""
             }
            },
            "type": "scatter3d"
           }
          ],
          "scattercarpet": [
           {
            "marker": {
             "colorbar": {
              "outlinewidth": 0,
              "ticks": ""
             }
            },
            "type": "scattercarpet"
           }
          ],
          "scattergeo": [
           {
            "marker": {
             "colorbar": {
              "outlinewidth": 0,
              "ticks": ""
             }
            },
            "type": "scattergeo"
           }
          ],
          "scattergl": [
           {
            "marker": {
             "colorbar": {
              "outlinewidth": 0,
              "ticks": ""
             }
            },
            "type": "scattergl"
           }
          ],
          "scattermapbox": [
           {
            "marker": {
             "colorbar": {
              "outlinewidth": 0,
              "ticks": ""
             }
            },
            "type": "scattermapbox"
           }
          ],
          "scatterpolar": [
           {
            "marker": {
             "colorbar": {
              "outlinewidth": 0,
              "ticks": ""
             }
            },
            "type": "scatterpolar"
           }
          ],
          "scatterpolargl": [
           {
            "marker": {
             "colorbar": {
              "outlinewidth": 0,
              "ticks": ""
             }
            },
            "type": "scatterpolargl"
           }
          ],
          "scatterternary": [
           {
            "marker": {
             "colorbar": {
              "outlinewidth": 0,
              "ticks": ""
             }
            },
            "type": "scatterternary"
           }
          ],
          "surface": [
           {
            "colorbar": {
             "outlinewidth": 0,
             "ticks": ""
            },
            "colorscale": [
             [
              0,
              "#0d0887"
             ],
             [
              0.1111111111111111,
              "#46039f"
             ],
             [
              0.2222222222222222,
              "#7201a8"
             ],
             [
              0.3333333333333333,
              "#9c179e"
             ],
             [
              0.4444444444444444,
              "#bd3786"
             ],
             [
              0.5555555555555556,
              "#d8576b"
             ],
             [
              0.6666666666666666,
              "#ed7953"
             ],
             [
              0.7777777777777778,
              "#fb9f3a"
             ],
             [
              0.8888888888888888,
              "#fdca26"
             ],
             [
              1,
              "#f0f921"
             ]
            ],
            "type": "surface"
           }
          ],
          "table": [
           {
            "cells": {
             "fill": {
              "color": "#EBF0F8"
             },
             "line": {
              "color": "white"
             }
            },
            "header": {
             "fill": {
              "color": "#C8D4E3"
             },
             "line": {
              "color": "white"
             }
            },
            "type": "table"
           }
          ]
         },
         "layout": {
          "annotationdefaults": {
           "arrowcolor": "#2a3f5f",
           "arrowhead": 0,
           "arrowwidth": 1
          },
          "autotypenumbers": "strict",
          "coloraxis": {
           "colorbar": {
            "outlinewidth": 0,
            "ticks": ""
           }
          },
          "colorscale": {
           "diverging": [
            [
             0,
             "#8e0152"
            ],
            [
             0.1,
             "#c51b7d"
            ],
            [
             0.2,
             "#de77ae"
            ],
            [
             0.3,
             "#f1b6da"
            ],
            [
             0.4,
             "#fde0ef"
            ],
            [
             0.5,
             "#f7f7f7"
            ],
            [
             0.6,
             "#e6f5d0"
            ],
            [
             0.7,
             "#b8e186"
            ],
            [
             0.8,
             "#7fbc41"
            ],
            [
             0.9,
             "#4d9221"
            ],
            [
             1,
             "#276419"
            ]
           ],
           "sequential": [
            [
             0,
             "#0d0887"
            ],
            [
             0.1111111111111111,
             "#46039f"
            ],
            [
             0.2222222222222222,
             "#7201a8"
            ],
            [
             0.3333333333333333,
             "#9c179e"
            ],
            [
             0.4444444444444444,
             "#bd3786"
            ],
            [
             0.5555555555555556,
             "#d8576b"
            ],
            [
             0.6666666666666666,
             "#ed7953"
            ],
            [
             0.7777777777777778,
             "#fb9f3a"
            ],
            [
             0.8888888888888888,
             "#fdca26"
            ],
            [
             1,
             "#f0f921"
            ]
           ],
           "sequentialminus": [
            [
             0,
             "#0d0887"
            ],
            [
             0.1111111111111111,
             "#46039f"
            ],
            [
             0.2222222222222222,
             "#7201a8"
            ],
            [
             0.3333333333333333,
             "#9c179e"
            ],
            [
             0.4444444444444444,
             "#bd3786"
            ],
            [
             0.5555555555555556,
             "#d8576b"
            ],
            [
             0.6666666666666666,
             "#ed7953"
            ],
            [
             0.7777777777777778,
             "#fb9f3a"
            ],
            [
             0.8888888888888888,
             "#fdca26"
            ],
            [
             1,
             "#f0f921"
            ]
           ]
          },
          "colorway": [
           "#636efa",
           "#EF553B",
           "#00cc96",
           "#ab63fa",
           "#FFA15A",
           "#19d3f3",
           "#FF6692",
           "#B6E880",
           "#FF97FF",
           "#FECB52"
          ],
          "font": {
           "color": "#2a3f5f"
          },
          "geo": {
           "bgcolor": "white",
           "lakecolor": "white",
           "landcolor": "#E5ECF6",
           "showlakes": true,
           "showland": true,
           "subunitcolor": "white"
          },
          "hoverlabel": {
           "align": "left"
          },
          "hovermode": "closest",
          "mapbox": {
           "style": "light"
          },
          "paper_bgcolor": "white",
          "plot_bgcolor": "#E5ECF6",
          "polar": {
           "angularaxis": {
            "gridcolor": "white",
            "linecolor": "white",
            "ticks": ""
           },
           "bgcolor": "#E5ECF6",
           "radialaxis": {
            "gridcolor": "white",
            "linecolor": "white",
            "ticks": ""
           }
          },
          "scene": {
           "xaxis": {
            "backgroundcolor": "#E5ECF6",
            "gridcolor": "white",
            "gridwidth": 2,
            "linecolor": "white",
            "showbackground": true,
            "ticks": "",
            "zerolinecolor": "white"
           },
           "yaxis": {
            "backgroundcolor": "#E5ECF6",
            "gridcolor": "white",
            "gridwidth": 2,
            "linecolor": "white",
            "showbackground": true,
            "ticks": "",
            "zerolinecolor": "white"
           },
           "zaxis": {
            "backgroundcolor": "#E5ECF6",
            "gridcolor": "white",
            "gridwidth": 2,
            "linecolor": "white",
            "showbackground": true,
            "ticks": "",
            "zerolinecolor": "white"
           }
          },
          "shapedefaults": {
           "line": {
            "color": "#2a3f5f"
           }
          },
          "ternary": {
           "aaxis": {
            "gridcolor": "white",
            "linecolor": "white",
            "ticks": ""
           },
           "baxis": {
            "gridcolor": "white",
            "linecolor": "white",
            "ticks": ""
           },
           "bgcolor": "#E5ECF6",
           "caxis": {
            "gridcolor": "white",
            "linecolor": "white",
            "ticks": ""
           }
          },
          "title": {
           "x": 0.05
          },
          "xaxis": {
           "automargin": true,
           "gridcolor": "white",
           "linecolor": "white",
           "ticks": "",
           "title": {
            "standoff": 15
           },
           "zerolinecolor": "white",
           "zerolinewidth": 2
          },
          "yaxis": {
           "automargin": true,
           "gridcolor": "white",
           "linecolor": "white",
           "ticks": "",
           "title": {
            "standoff": 15
           },
           "zerolinecolor": "white",
           "zerolinewidth": 2
          }
         }
        },
        "title": {
         "font": {
          "color": "#4D5663"
         }
        },
        "xaxis": {
         "gridcolor": "#E1E5ED",
         "showgrid": true,
         "tickfont": {
          "color": "#4D5663"
         },
         "title": {
          "font": {
           "color": "#4D5663"
          },
          "text": ""
         },
         "zerolinecolor": "#E1E5ED"
        },
        "xaxis2": {
         "anchor": "y2",
         "gridcolor": "#E1E5ED",
         "showgrid": true,
         "showticklabels": false,
         "tickfont": {
          "color": "#4D5663"
         },
         "title": {
          "font": {
           "color": "#4D5663"
          },
          "text": ""
         },
         "zerolinecolor": "#E1E5ED"
        },
        "yaxis": {
         "domain": [
          0.3,
          1
         ],
         "gridcolor": "#E1E5ED",
         "showgrid": true,
         "tickfont": {
          "color": "#4D5663"
         },
         "title": {
          "font": {
           "color": "#4D5663"
          },
          "text": ""
         },
         "zerolinecolor": "#E1E5ED"
        },
        "yaxis2": {
         "domain": [
          0,
          0.25
         ],
         "gridcolor": "#E1E5ED",
         "showgrid": true,
         "tickfont": {
          "color": "#4D5663"
         },
         "title": {
          "font": {
           "color": "#4D5663"
          },
          "text": "Spread"
         },
         "zerolinecolor": "#E1E5ED"
        }
       }
      },
      "text/html": [
       "<div>                            <div id=\"5136ab7c-3672-427d-b24b-e50f95c7b471\" class=\"plotly-graph-div\" style=\"height:525px; width:100%;\"></div>            <script type=\"text/javascript\">                require([\"plotly\"], function(Plotly) {                    window.PLOTLYENV=window.PLOTLYENV || {};\n",
       "                    window.PLOTLYENV.BASE_URL='https://plot.ly';                                    if (document.getElementById(\"5136ab7c-3672-427d-b24b-e50f95c7b471\")) {                    Plotly.newPlot(                        \"5136ab7c-3672-427d-b24b-e50f95c7b471\",                        [{\"line\":{\"color\":\"rgba(255, 153, 51, 1.0)\",\"dash\":\"solid\",\"shape\":\"linear\",\"width\":1.3},\"mode\":\"lines\",\"name\":\"A\",\"text\":\"\",\"type\":\"scatter\",\"x\":[0,1,2,3,4,5,6,7,8,9,10,11,12,13,14,15,16,17,18,19,20,21,22,23,24,25,26,27,28,29,30,31,32,33,34,35,36,37,38,39,40,41,42,43,44,45,46,47,48,49,50,51,52,53,54,55,56,57,58,59,60,61,62,63,64,65,66,67,68,69,70,71,72,73,74,75,76,77,78,79,80,81,82,83,84,85,86,87,88,89,90,91,92,93,94,95,96,97,98,99],\"y\":[-1.4540004081478248,-0.11007355043051158,0.10982869675375188,-0.6483522274923497,0.6456682145863891,-0.9941365717586216,0.49132505126695764,0.574692293480332,-0.601149273426994,1.1681530928816495,0.9225460509197592,1.4080120518402826,0.5112988358011514,1.9042321289343245,-1.0519246485155396,-1.6145722564049436,-0.3069777634201451,-1.046904859984683,-0.19803089353167186,-0.319827137822687,-1.8082591352742183,2.0747833640870983,-0.19248509296146513,0.08128642613710906,-0.45443881176401013,0.7097203042406512,-0.38455851977652145,1.3908414664195914,-1.3692379339272545,0.44948683633089076,2.2757464103816396,-0.7935122389343489,-0.6456240932055214,-0.4204489550137737,0.19391000998362268,1.8194934307807404,-0.18217550385942105,-0.008290286976937332,0.8243979074928602,0.3721440133587712,0.5998082876547112,1.7708564035903112,1.7102348631178188,1.418303290602573,-0.34701523804234624,0.5032772588783692,-1.2452558870960557,-0.9970360030520007,0.5907178721512375,-2.7230352978400645,0.20055780980890967,-0.6137366637905584,-0.6086630310241073,-1.1087394788361375,0.6641586046761034,0.7193702690264225,0.9296696099660978,0.7317327604793983,-0.047201435658269515,-0.30334032362370084,0.02862471197069708,-0.27828523810730366,-0.44179553515129544,-0.024118842829569834,0.31227647731563263,0.8701847072134986,-0.22309656965636257,-0.20770513965651302,0.47142175538379566,0.5011247094412172,-1.3620146525279155,-0.14795098303784995,0.14196298736049628,-1.016884709309532,-0.4917906274473433,-0.12051799859600523,-0.17247939382189223,0.9541553890998549,1.4315140899860428,-0.00992095518753176,0.6018254201751347,-1.5789016803240072,0.727904003014525,-1.0147581420106258,1.0690133891339306,-1.1021364000773435,-0.23513861545976072,0.18364122505394662,-0.8165901971585968,-0.6081818370731323,0.621396892849809,-0.10947553062274686,0.11382492392576911,0.43714209861981645,-0.2654839651102387,1.5224160299697473,0.1199575783051826,0.6250937851392976,0.6354018783850093,-1.286302152646409]},{\"line\":{\"color\":\"rgba(55, 128, 191, 1.0)\",\"dash\":\"solid\",\"shape\":\"linear\",\"width\":1.3},\"mode\":\"lines\",\"name\":\"B\",\"text\":\"\",\"type\":\"scatter\",\"x\":[0,1,2,3,4,5,6,7,8,9,10,11,12,13,14,15,16,17,18,19,20,21,22,23,24,25,26,27,28,29,30,31,32,33,34,35,36,37,38,39,40,41,42,43,44,45,46,47,48,49,50,51,52,53,54,55,56,57,58,59,60,61,62,63,64,65,66,67,68,69,70,71,72,73,74,75,76,77,78,79,80,81,82,83,84,85,86,87,88,89,90,91,92,93,94,95,96,97,98,99],\"y\":[0.9804902717892854,-0.8116560269021028,-0.5304074349441019,0.7314708976817439,-1.317813889901291,0.5515653245923914,-1.007512904863618,0.027869316274254607,0.9373009762002932,0.3263313741977739,-1.4731555994613688,-1.5692248514343379,0.2247986762962962,-0.237046026508892,-0.29187496753921166,-0.5276451598659568,-0.4604939334911615,1.0622630019029553,0.2018053826239793,0.2152987530552919,0.5765946081004806,-1.0574687398285258,0.8147327040239873,-1.565196244472277,2.1161876872641905,-1.152433159222957,-0.4421984138276069,0.9879694617836262,-1.1377408514340306,-0.2904951299578208,0.941100139067152,-0.679405397666701,-0.14503723137893423,-2.3704740272865727,-1.4393468389346427,-1.9138285718222479,-0.40541957113900345,-0.6406358830486115,1.9669854746622704,0.24587824563188523,-1.0450644420469437,-0.3915593556466746,0.1319976106693394,-0.541910078691539,-0.45877995278105627,-0.04744886791407573,1.6744233390504226,-2.30929247012321,-0.42269700138534194,-0.4059181196519094,-0.47253102278763687,-1.5863850507771629,-0.1432502014946788,-0.3977794705846313,0.25058076876857827,1.0380414048510445,0.6510006302802921,-0.2380316037498957,-0.8630875614869196,0.6666007826208047,-1.869332074666846,-0.10507746883011831,0.26794216779872787,-1.8705098086426515,0.1589793056477878,-0.2250804552980786,-0.37249110592689794,0.36992866619033515,-0.8588867390570646,0.6841615555235582,0.6895449549121019,-1.653588892920698,-0.9066261328784851,0.06339155195534256,1.289405210397382,1.9058872332362038,0.9120647093077785,0.991419763084864,0.1620854385425183,-0.07940006271257556,1.3785162664718305,-0.27038388476787795,-0.9615886098208666,0.00405632774123973,1.2870366134246083,0.647698409026788,1.437094810613269,1.714407268630869,-0.7207396837198342,-0.8724684564766381,-1.091969997227892,-0.6433087841112413,-2.1803283139883036,1.647186106737404,0.6038710322432059,0.9708787477958503,-1.4414590443258994,0.0008702819208328536,-1.219643854961161,-0.6606360890090951]},{\"connectgaps\":false,\"fill\":\"tozeroy\",\"line\":{\"color\":\"green\",\"dash\":\"solid\",\"shape\":\"linear\",\"width\":0.5},\"mode\":\"lines\",\"name\":\"Spread\",\"showlegend\":false,\"type\":\"scatter\",\"x\":[0,1,2,3,4,5,6,7,8,9,10,11,12,13,14,15,16,17,18,19,20,21,22,23,24,25,26,27,28,29,30,31,32,33,34,35,36,37,38,39,40,41,42,43,44,45,46,47,48,49,50,51,52,53,54,55,56,57,58,59,60,61,62,63,64,65,66,67,68,69,70,71,72,73,74,75,76,77,78,79,80,81,82,83,84,85,86,87,88,89,90,91,92,93,94,95,96,97,98,99],\"xaxis\":\"x2\",\"y\":[\"\",0.7015824764715912,0.6402361316978538,\"\",1.9634821044876802,\"\",1.4988379561305756,0.5468229772060774,\"\",0.8418217186838756,2.395701650381128,2.9772369032746204,0.2865001595048552,2.1412781554432163,\"\",\"\",0.15351617007101642,\"\",\"\",\"\",\"\",3.132252103915624,\"\",1.646482670609386,\"\",1.8621534634636083,0.05763989405108544,0.4028720046359652,\"\",0.7399819662887115,1.3346462713144875,\"\",\"\",1.950025072272799,1.6332568489182653,3.7333220026029883,0.2232440672795824,0.6323455960716742,\"\",0.12626576772688594,1.644872729701655,2.162415759236986,1.5782372524484793,1.960213369294112,0.11176471473871002,0.5507261267924449,\"\",1.3122564670712091,1.0134148735365796,\"\",0.6730888325965465,0.9726483869866045,\"\",\"\",0.41357783590752517,\"\",0.27866897968580573,0.969764364229294,0.81588612582865,\"\",1.897956786637543,\"\",\"\",1.8463909658130817,0.15329717166784482,1.0952651625115772,0.14939453627053537,\"\",1.3303084944408603,\"\",\"\",1.505637909882848,1.0485891202389814,\"\",\"\",\"\",\"\",\"\",1.2694286514435245,0.0694791075250438,\"\",\"\",1.6894926128353915,\"\",\"\",\"\",\"\",\"\",\"\",0.26428661940350573,1.713366890077701,0.5338332534884944,2.2941532379140726,\"\",\"\",0.5515372821738971,1.561416622631082,0.6242235032184648,1.8550457333461703,\"\"],\"yaxis\":\"y2\"},{\"connectgaps\":false,\"fill\":\"tozeroy\",\"line\":{\"color\":\"red\",\"dash\":\"solid\",\"shape\":\"linear\",\"width\":0.5},\"mode\":\"lines\",\"name\":\"Spread\",\"showlegend\":false,\"type\":\"scatter\",\"x\":[0,1,2,3,4,5,6,7,8,9,10,11,12,13,14,15,16,17,18,19,20,21,22,23,24,25,26,27,28,29,30,31,32,33,34,35,36,37,38,39,40,41,42,43,44,45,46,47,48,49,50,51,52,53,54,55,56,57,58,59,60,61,62,63,64,65,66,67,68,69,70,71,72,73,74,75,76,77,78,79,80,81,82,83,84,85,86,87,88,89,90,91,92,93,94,95,96,97,98,99],\"xaxis\":\"x2\",\"y\":[-2.4344906799371104,\"\",\"\",-1.3798231251740936,\"\",-1.545701896351013,\"\",\"\",-1.5384502496272872,\"\",\"\",\"\",\"\",\"\",-0.760049680976328,-1.0869270965389868,\"\",-2.1091678618876384,-0.39983627615565115,-0.5351258908779789,-2.384853743374699,\"\",-1.0072177969854526,\"\",-2.570626499028201,\"\",\"\",\"\",-0.23149708249322387,\"\",\"\",-0.11410684126764781,-0.5005868618265872,\"\",\"\",\"\",\"\",\"\",-1.1425875671694101,\"\",\"\",\"\",\"\",\"\",\"\",\"\",-2.9196792261464783,\"\",\"\",-2.317117178188155,\"\",\"\",-0.46541282952942853,-0.7109600082515062,\"\",-0.3186711358246219,\"\",\"\",\"\",-0.9699411062445056,\"\",-0.17320776927718534,-0.7097377029500234,\"\",\"\",\"\",\"\",-0.5776338058468482,\"\",-0.18303684608234094,-2.0515596074400175,\"\",\"\",-1.0802762612648744,-1.7811958378447255,-2.026405231832209,-1.0845441031296708,-0.03726437398500915,\"\",\"\",-0.7766908462966957,-1.3085177955561293,\"\",-1.0188144697518655,-0.21802322429067766,-1.7498348091041316,-1.6722334260730298,-1.5307660435769224,-0.09585051343876261,\"\",\"\",\"\",\"\",-1.2100440081175876,-0.8693549973534447,\"\",\"\",\"\",\"\",-0.6256660636373138],\"yaxis\":\"y2\"}],                        {\"hovermode\":\"x\",\"legend\":{\"bgcolor\":\"#F5F6F9\",\"font\":{\"color\":\"#4D5663\"}},\"paper_bgcolor\":\"#F5F6F9\",\"plot_bgcolor\":\"#F5F6F9\",\"template\":{\"data\":{\"bar\":[{\"error_x\":{\"color\":\"#2a3f5f\"},\"error_y\":{\"color\":\"#2a3f5f\"},\"marker\":{\"line\":{\"color\":\"#E5ECF6\",\"width\":0.5},\"pattern\":{\"fillmode\":\"overlay\",\"size\":10,\"solidity\":0.2}},\"type\":\"bar\"}],\"barpolar\":[{\"marker\":{\"line\":{\"color\":\"#E5ECF6\",\"width\":0.5},\"pattern\":{\"fillmode\":\"overlay\",\"size\":10,\"solidity\":0.2}},\"type\":\"barpolar\"}],\"carpet\":[{\"aaxis\":{\"endlinecolor\":\"#2a3f5f\",\"gridcolor\":\"white\",\"linecolor\":\"white\",\"minorgridcolor\":\"white\",\"startlinecolor\":\"#2a3f5f\"},\"baxis\":{\"endlinecolor\":\"#2a3f5f\",\"gridcolor\":\"white\",\"linecolor\":\"white\",\"minorgridcolor\":\"white\",\"startlinecolor\":\"#2a3f5f\"},\"type\":\"carpet\"}],\"choropleth\":[{\"colorbar\":{\"outlinewidth\":0,\"ticks\":\"\"},\"type\":\"choropleth\"}],\"contour\":[{\"colorbar\":{\"outlinewidth\":0,\"ticks\":\"\"},\"colorscale\":[[0.0,\"#0d0887\"],[0.1111111111111111,\"#46039f\"],[0.2222222222222222,\"#7201a8\"],[0.3333333333333333,\"#9c179e\"],[0.4444444444444444,\"#bd3786\"],[0.5555555555555556,\"#d8576b\"],[0.6666666666666666,\"#ed7953\"],[0.7777777777777778,\"#fb9f3a\"],[0.8888888888888888,\"#fdca26\"],[1.0,\"#f0f921\"]],\"type\":\"contour\"}],\"contourcarpet\":[{\"colorbar\":{\"outlinewidth\":0,\"ticks\":\"\"},\"type\":\"contourcarpet\"}],\"heatmap\":[{\"colorbar\":{\"outlinewidth\":0,\"ticks\":\"\"},\"colorscale\":[[0.0,\"#0d0887\"],[0.1111111111111111,\"#46039f\"],[0.2222222222222222,\"#7201a8\"],[0.3333333333333333,\"#9c179e\"],[0.4444444444444444,\"#bd3786\"],[0.5555555555555556,\"#d8576b\"],[0.6666666666666666,\"#ed7953\"],[0.7777777777777778,\"#fb9f3a\"],[0.8888888888888888,\"#fdca26\"],[1.0,\"#f0f921\"]],\"type\":\"heatmap\"}],\"heatmapgl\":[{\"colorbar\":{\"outlinewidth\":0,\"ticks\":\"\"},\"colorscale\":[[0.0,\"#0d0887\"],[0.1111111111111111,\"#46039f\"],[0.2222222222222222,\"#7201a8\"],[0.3333333333333333,\"#9c179e\"],[0.4444444444444444,\"#bd3786\"],[0.5555555555555556,\"#d8576b\"],[0.6666666666666666,\"#ed7953\"],[0.7777777777777778,\"#fb9f3a\"],[0.8888888888888888,\"#fdca26\"],[1.0,\"#f0f921\"]],\"type\":\"heatmapgl\"}],\"histogram\":[{\"marker\":{\"pattern\":{\"fillmode\":\"overlay\",\"size\":10,\"solidity\":0.2}},\"type\":\"histogram\"}],\"histogram2d\":[{\"colorbar\":{\"outlinewidth\":0,\"ticks\":\"\"},\"colorscale\":[[0.0,\"#0d0887\"],[0.1111111111111111,\"#46039f\"],[0.2222222222222222,\"#7201a8\"],[0.3333333333333333,\"#9c179e\"],[0.4444444444444444,\"#bd3786\"],[0.5555555555555556,\"#d8576b\"],[0.6666666666666666,\"#ed7953\"],[0.7777777777777778,\"#fb9f3a\"],[0.8888888888888888,\"#fdca26\"],[1.0,\"#f0f921\"]],\"type\":\"histogram2d\"}],\"histogram2dcontour\":[{\"colorbar\":{\"outlinewidth\":0,\"ticks\":\"\"},\"colorscale\":[[0.0,\"#0d0887\"],[0.1111111111111111,\"#46039f\"],[0.2222222222222222,\"#7201a8\"],[0.3333333333333333,\"#9c179e\"],[0.4444444444444444,\"#bd3786\"],[0.5555555555555556,\"#d8576b\"],[0.6666666666666666,\"#ed7953\"],[0.7777777777777778,\"#fb9f3a\"],[0.8888888888888888,\"#fdca26\"],[1.0,\"#f0f921\"]],\"type\":\"histogram2dcontour\"}],\"mesh3d\":[{\"colorbar\":{\"outlinewidth\":0,\"ticks\":\"\"},\"type\":\"mesh3d\"}],\"parcoords\":[{\"line\":{\"colorbar\":{\"outlinewidth\":0,\"ticks\":\"\"}},\"type\":\"parcoords\"}],\"pie\":[{\"automargin\":true,\"type\":\"pie\"}],\"scatter\":[{\"marker\":{\"colorbar\":{\"outlinewidth\":0,\"ticks\":\"\"}},\"type\":\"scatter\"}],\"scatter3d\":[{\"line\":{\"colorbar\":{\"outlinewidth\":0,\"ticks\":\"\"}},\"marker\":{\"colorbar\":{\"outlinewidth\":0,\"ticks\":\"\"}},\"type\":\"scatter3d\"}],\"scattercarpet\":[{\"marker\":{\"colorbar\":{\"outlinewidth\":0,\"ticks\":\"\"}},\"type\":\"scattercarpet\"}],\"scattergeo\":[{\"marker\":{\"colorbar\":{\"outlinewidth\":0,\"ticks\":\"\"}},\"type\":\"scattergeo\"}],\"scattergl\":[{\"marker\":{\"colorbar\":{\"outlinewidth\":0,\"ticks\":\"\"}},\"type\":\"scattergl\"}],\"scattermapbox\":[{\"marker\":{\"colorbar\":{\"outlinewidth\":0,\"ticks\":\"\"}},\"type\":\"scattermapbox\"}],\"scatterpolar\":[{\"marker\":{\"colorbar\":{\"outlinewidth\":0,\"ticks\":\"\"}},\"type\":\"scatterpolar\"}],\"scatterpolargl\":[{\"marker\":{\"colorbar\":{\"outlinewidth\":0,\"ticks\":\"\"}},\"type\":\"scatterpolargl\"}],\"scatterternary\":[{\"marker\":{\"colorbar\":{\"outlinewidth\":0,\"ticks\":\"\"}},\"type\":\"scatterternary\"}],\"surface\":[{\"colorbar\":{\"outlinewidth\":0,\"ticks\":\"\"},\"colorscale\":[[0.0,\"#0d0887\"],[0.1111111111111111,\"#46039f\"],[0.2222222222222222,\"#7201a8\"],[0.3333333333333333,\"#9c179e\"],[0.4444444444444444,\"#bd3786\"],[0.5555555555555556,\"#d8576b\"],[0.6666666666666666,\"#ed7953\"],[0.7777777777777778,\"#fb9f3a\"],[0.8888888888888888,\"#fdca26\"],[1.0,\"#f0f921\"]],\"type\":\"surface\"}],\"table\":[{\"cells\":{\"fill\":{\"color\":\"#EBF0F8\"},\"line\":{\"color\":\"white\"}},\"header\":{\"fill\":{\"color\":\"#C8D4E3\"},\"line\":{\"color\":\"white\"}},\"type\":\"table\"}]},\"layout\":{\"annotationdefaults\":{\"arrowcolor\":\"#2a3f5f\",\"arrowhead\":0,\"arrowwidth\":1},\"autotypenumbers\":\"strict\",\"coloraxis\":{\"colorbar\":{\"outlinewidth\":0,\"ticks\":\"\"}},\"colorscale\":{\"diverging\":[[0,\"#8e0152\"],[0.1,\"#c51b7d\"],[0.2,\"#de77ae\"],[0.3,\"#f1b6da\"],[0.4,\"#fde0ef\"],[0.5,\"#f7f7f7\"],[0.6,\"#e6f5d0\"],[0.7,\"#b8e186\"],[0.8,\"#7fbc41\"],[0.9,\"#4d9221\"],[1,\"#276419\"]],\"sequential\":[[0.0,\"#0d0887\"],[0.1111111111111111,\"#46039f\"],[0.2222222222222222,\"#7201a8\"],[0.3333333333333333,\"#9c179e\"],[0.4444444444444444,\"#bd3786\"],[0.5555555555555556,\"#d8576b\"],[0.6666666666666666,\"#ed7953\"],[0.7777777777777778,\"#fb9f3a\"],[0.8888888888888888,\"#fdca26\"],[1.0,\"#f0f921\"]],\"sequentialminus\":[[0.0,\"#0d0887\"],[0.1111111111111111,\"#46039f\"],[0.2222222222222222,\"#7201a8\"],[0.3333333333333333,\"#9c179e\"],[0.4444444444444444,\"#bd3786\"],[0.5555555555555556,\"#d8576b\"],[0.6666666666666666,\"#ed7953\"],[0.7777777777777778,\"#fb9f3a\"],[0.8888888888888888,\"#fdca26\"],[1.0,\"#f0f921\"]]},\"colorway\":[\"#636efa\",\"#EF553B\",\"#00cc96\",\"#ab63fa\",\"#FFA15A\",\"#19d3f3\",\"#FF6692\",\"#B6E880\",\"#FF97FF\",\"#FECB52\"],\"font\":{\"color\":\"#2a3f5f\"},\"geo\":{\"bgcolor\":\"white\",\"lakecolor\":\"white\",\"landcolor\":\"#E5ECF6\",\"showlakes\":true,\"showland\":true,\"subunitcolor\":\"white\"},\"hoverlabel\":{\"align\":\"left\"},\"hovermode\":\"closest\",\"mapbox\":{\"style\":\"light\"},\"paper_bgcolor\":\"white\",\"plot_bgcolor\":\"#E5ECF6\",\"polar\":{\"angularaxis\":{\"gridcolor\":\"white\",\"linecolor\":\"white\",\"ticks\":\"\"},\"bgcolor\":\"#E5ECF6\",\"radialaxis\":{\"gridcolor\":\"white\",\"linecolor\":\"white\",\"ticks\":\"\"}},\"scene\":{\"xaxis\":{\"backgroundcolor\":\"#E5ECF6\",\"gridcolor\":\"white\",\"gridwidth\":2,\"linecolor\":\"white\",\"showbackground\":true,\"ticks\":\"\",\"zerolinecolor\":\"white\"},\"yaxis\":{\"backgroundcolor\":\"#E5ECF6\",\"gridcolor\":\"white\",\"gridwidth\":2,\"linecolor\":\"white\",\"showbackground\":true,\"ticks\":\"\",\"zerolinecolor\":\"white\"},\"zaxis\":{\"backgroundcolor\":\"#E5ECF6\",\"gridcolor\":\"white\",\"gridwidth\":2,\"linecolor\":\"white\",\"showbackground\":true,\"ticks\":\"\",\"zerolinecolor\":\"white\"}},\"shapedefaults\":{\"line\":{\"color\":\"#2a3f5f\"}},\"ternary\":{\"aaxis\":{\"gridcolor\":\"white\",\"linecolor\":\"white\",\"ticks\":\"\"},\"baxis\":{\"gridcolor\":\"white\",\"linecolor\":\"white\",\"ticks\":\"\"},\"bgcolor\":\"#E5ECF6\",\"caxis\":{\"gridcolor\":\"white\",\"linecolor\":\"white\",\"ticks\":\"\"}},\"title\":{\"x\":0.05},\"xaxis\":{\"automargin\":true,\"gridcolor\":\"white\",\"linecolor\":\"white\",\"ticks\":\"\",\"title\":{\"standoff\":15},\"zerolinecolor\":\"white\",\"zerolinewidth\":2},\"yaxis\":{\"automargin\":true,\"gridcolor\":\"white\",\"linecolor\":\"white\",\"ticks\":\"\",\"title\":{\"standoff\":15},\"zerolinecolor\":\"white\",\"zerolinewidth\":2}}},\"title\":{\"font\":{\"color\":\"#4D5663\"}},\"xaxis\":{\"gridcolor\":\"#E1E5ED\",\"showgrid\":true,\"tickfont\":{\"color\":\"#4D5663\"},\"title\":{\"font\":{\"color\":\"#4D5663\"},\"text\":\"\"},\"zerolinecolor\":\"#E1E5ED\"},\"xaxis2\":{\"anchor\":\"y2\",\"gridcolor\":\"#E1E5ED\",\"showgrid\":true,\"showticklabels\":false,\"tickfont\":{\"color\":\"#4D5663\"},\"title\":{\"font\":{\"color\":\"#4D5663\"},\"text\":\"\"},\"zerolinecolor\":\"#E1E5ED\"},\"yaxis\":{\"domain\":[0.3,1],\"gridcolor\":\"#E1E5ED\",\"showgrid\":true,\"tickfont\":{\"color\":\"#4D5663\"},\"title\":{\"font\":{\"color\":\"#4D5663\"},\"text\":\"\"},\"zerolinecolor\":\"#E1E5ED\"},\"yaxis2\":{\"domain\":[0,0.25],\"gridcolor\":\"#E1E5ED\",\"showgrid\":true,\"tickfont\":{\"color\":\"#4D5663\"},\"title\":{\"font\":{\"color\":\"#4D5663\"},\"text\":\"Spread\"},\"zerolinecolor\":\"#E1E5ED\"}},                        {\"showLink\": true, \"linkText\": \"Export to plot.ly\", \"plotlyServerURL\": \"https://plot.ly\", \"responsive\": true}                    ).then(function(){\n",
       "                            \n",
       "var gd = document.getElementById('5136ab7c-3672-427d-b24b-e50f95c7b471');\n",
       "var x = new MutationObserver(function (mutations, observer) {{\n",
       "        var display = window.getComputedStyle(gd).display;\n",
       "        if (!display || display === 'none') {{\n",
       "            console.log([gd, 'removed!']);\n",
       "            Plotly.purge(gd);\n",
       "            observer.disconnect();\n",
       "        }}\n",
       "}});\n",
       "\n",
       "// Listen for the removal of the full notebook cells\n",
       "var notebookContainer = gd.closest('#notebook-container');\n",
       "if (notebookContainer) {{\n",
       "    x.observe(notebookContainer, {childList: true});\n",
       "}}\n",
       "\n",
       "// Listen for the clearing of the current output cell\n",
       "var outputEl = gd.closest('.output');\n",
       "if (outputEl) {{\n",
       "    x.observe(outputEl, {childList: true});\n",
       "}}\n",
       "\n",
       "                        })                };                });            </script>        </div>"
      ]
     },
     "metadata": {},
     "output_type": "display_data"
    }
   ],
   "source": [
    "df[['A','B']].iplot(kind='spread')"
   ]
  },
  {
   "cell_type": "markdown",
   "metadata": {},
   "source": [
    "## histogram"
   ]
  },
  {
   "cell_type": "code",
   "execution_count": 16,
   "metadata": {},
   "outputs": [
    {
     "data": {
      "application/vnd.plotly.v1+json": {
       "config": {
        "linkText": "Export to plot.ly",
        "plotlyServerURL": "https://plot.ly",
        "showLink": true
       },
       "data": [
        {
         "histfunc": "count",
         "histnorm": "",
         "marker": {
          "color": "rgba(255, 153, 51, 1.0)",
          "line": {
           "color": "#4D5663",
           "width": 1.3
          }
         },
         "name": "A",
         "nbinsx": 25,
         "opacity": 0.8,
         "orientation": "v",
         "type": "histogram",
         "x": [
          -1.4540004081478248,
          -0.11007355043051158,
          0.10982869675375188,
          -0.6483522274923497,
          0.6456682145863891,
          -0.9941365717586216,
          0.49132505126695764,
          0.574692293480332,
          -0.601149273426994,
          1.1681530928816495,
          0.9225460509197592,
          1.4080120518402826,
          0.5112988358011514,
          1.9042321289343245,
          -1.0519246485155396,
          -1.6145722564049436,
          -0.3069777634201451,
          -1.046904859984683,
          -0.19803089353167186,
          -0.319827137822687,
          -1.8082591352742183,
          2.0747833640870983,
          -0.19248509296146513,
          0.08128642613710906,
          -0.45443881176401013,
          0.7097203042406512,
          -0.38455851977652145,
          1.3908414664195914,
          -1.3692379339272545,
          0.44948683633089076,
          2.2757464103816396,
          -0.7935122389343489,
          -0.6456240932055214,
          -0.4204489550137737,
          0.19391000998362268,
          1.8194934307807404,
          -0.18217550385942105,
          -0.008290286976937332,
          0.8243979074928602,
          0.3721440133587712,
          0.5998082876547112,
          1.7708564035903112,
          1.7102348631178188,
          1.418303290602573,
          -0.34701523804234624,
          0.5032772588783692,
          -1.2452558870960557,
          -0.9970360030520007,
          0.5907178721512375,
          -2.7230352978400645,
          0.20055780980890967,
          -0.6137366637905584,
          -0.6086630310241073,
          -1.1087394788361375,
          0.6641586046761034,
          0.7193702690264225,
          0.9296696099660978,
          0.7317327604793983,
          -0.047201435658269515,
          -0.30334032362370084,
          0.02862471197069708,
          -0.27828523810730366,
          -0.44179553515129544,
          -0.024118842829569834,
          0.31227647731563263,
          0.8701847072134986,
          -0.22309656965636257,
          -0.20770513965651302,
          0.47142175538379566,
          0.5011247094412172,
          -1.3620146525279155,
          -0.14795098303784995,
          0.14196298736049628,
          -1.016884709309532,
          -0.4917906274473433,
          -0.12051799859600523,
          -0.17247939382189223,
          0.9541553890998549,
          1.4315140899860428,
          -0.00992095518753176,
          0.6018254201751347,
          -1.5789016803240072,
          0.727904003014525,
          -1.0147581420106258,
          1.0690133891339306,
          -1.1021364000773435,
          -0.23513861545976072,
          0.18364122505394662,
          -0.8165901971585968,
          -0.6081818370731323,
          0.621396892849809,
          -0.10947553062274686,
          0.11382492392576911,
          0.43714209861981645,
          -0.2654839651102387,
          1.5224160299697473,
          0.1199575783051826,
          0.6250937851392976,
          0.6354018783850093,
          -1.286302152646409
         ]
        }
       ],
       "layout": {
        "barmode": "overlay",
        "legend": {
         "bgcolor": "#F5F6F9",
         "font": {
          "color": "#4D5663"
         }
        },
        "paper_bgcolor": "#F5F6F9",
        "plot_bgcolor": "#F5F6F9",
        "template": {
         "data": {
          "bar": [
           {
            "error_x": {
             "color": "#2a3f5f"
            },
            "error_y": {
             "color": "#2a3f5f"
            },
            "marker": {
             "line": {
              "color": "#E5ECF6",
              "width": 0.5
             },
             "pattern": {
              "fillmode": "overlay",
              "size": 10,
              "solidity": 0.2
             }
            },
            "type": "bar"
           }
          ],
          "barpolar": [
           {
            "marker": {
             "line": {
              "color": "#E5ECF6",
              "width": 0.5
             },
             "pattern": {
              "fillmode": "overlay",
              "size": 10,
              "solidity": 0.2
             }
            },
            "type": "barpolar"
           }
          ],
          "carpet": [
           {
            "aaxis": {
             "endlinecolor": "#2a3f5f",
             "gridcolor": "white",
             "linecolor": "white",
             "minorgridcolor": "white",
             "startlinecolor": "#2a3f5f"
            },
            "baxis": {
             "endlinecolor": "#2a3f5f",
             "gridcolor": "white",
             "linecolor": "white",
             "minorgridcolor": "white",
             "startlinecolor": "#2a3f5f"
            },
            "type": "carpet"
           }
          ],
          "choropleth": [
           {
            "colorbar": {
             "outlinewidth": 0,
             "ticks": ""
            },
            "type": "choropleth"
           }
          ],
          "contour": [
           {
            "colorbar": {
             "outlinewidth": 0,
             "ticks": ""
            },
            "colorscale": [
             [
              0,
              "#0d0887"
             ],
             [
              0.1111111111111111,
              "#46039f"
             ],
             [
              0.2222222222222222,
              "#7201a8"
             ],
             [
              0.3333333333333333,
              "#9c179e"
             ],
             [
              0.4444444444444444,
              "#bd3786"
             ],
             [
              0.5555555555555556,
              "#d8576b"
             ],
             [
              0.6666666666666666,
              "#ed7953"
             ],
             [
              0.7777777777777778,
              "#fb9f3a"
             ],
             [
              0.8888888888888888,
              "#fdca26"
             ],
             [
              1,
              "#f0f921"
             ]
            ],
            "type": "contour"
           }
          ],
          "contourcarpet": [
           {
            "colorbar": {
             "outlinewidth": 0,
             "ticks": ""
            },
            "type": "contourcarpet"
           }
          ],
          "heatmap": [
           {
            "colorbar": {
             "outlinewidth": 0,
             "ticks": ""
            },
            "colorscale": [
             [
              0,
              "#0d0887"
             ],
             [
              0.1111111111111111,
              "#46039f"
             ],
             [
              0.2222222222222222,
              "#7201a8"
             ],
             [
              0.3333333333333333,
              "#9c179e"
             ],
             [
              0.4444444444444444,
              "#bd3786"
             ],
             [
              0.5555555555555556,
              "#d8576b"
             ],
             [
              0.6666666666666666,
              "#ed7953"
             ],
             [
              0.7777777777777778,
              "#fb9f3a"
             ],
             [
              0.8888888888888888,
              "#fdca26"
             ],
             [
              1,
              "#f0f921"
             ]
            ],
            "type": "heatmap"
           }
          ],
          "heatmapgl": [
           {
            "colorbar": {
             "outlinewidth": 0,
             "ticks": ""
            },
            "colorscale": [
             [
              0,
              "#0d0887"
             ],
             [
              0.1111111111111111,
              "#46039f"
             ],
             [
              0.2222222222222222,
              "#7201a8"
             ],
             [
              0.3333333333333333,
              "#9c179e"
             ],
             [
              0.4444444444444444,
              "#bd3786"
             ],
             [
              0.5555555555555556,
              "#d8576b"
             ],
             [
              0.6666666666666666,
              "#ed7953"
             ],
             [
              0.7777777777777778,
              "#fb9f3a"
             ],
             [
              0.8888888888888888,
              "#fdca26"
             ],
             [
              1,
              "#f0f921"
             ]
            ],
            "type": "heatmapgl"
           }
          ],
          "histogram": [
           {
            "marker": {
             "pattern": {
              "fillmode": "overlay",
              "size": 10,
              "solidity": 0.2
             }
            },
            "type": "histogram"
           }
          ],
          "histogram2d": [
           {
            "colorbar": {
             "outlinewidth": 0,
             "ticks": ""
            },
            "colorscale": [
             [
              0,
              "#0d0887"
             ],
             [
              0.1111111111111111,
              "#46039f"
             ],
             [
              0.2222222222222222,
              "#7201a8"
             ],
             [
              0.3333333333333333,
              "#9c179e"
             ],
             [
              0.4444444444444444,
              "#bd3786"
             ],
             [
              0.5555555555555556,
              "#d8576b"
             ],
             [
              0.6666666666666666,
              "#ed7953"
             ],
             [
              0.7777777777777778,
              "#fb9f3a"
             ],
             [
              0.8888888888888888,
              "#fdca26"
             ],
             [
              1,
              "#f0f921"
             ]
            ],
            "type": "histogram2d"
           }
          ],
          "histogram2dcontour": [
           {
            "colorbar": {
             "outlinewidth": 0,
             "ticks": ""
            },
            "colorscale": [
             [
              0,
              "#0d0887"
             ],
             [
              0.1111111111111111,
              "#46039f"
             ],
             [
              0.2222222222222222,
              "#7201a8"
             ],
             [
              0.3333333333333333,
              "#9c179e"
             ],
             [
              0.4444444444444444,
              "#bd3786"
             ],
             [
              0.5555555555555556,
              "#d8576b"
             ],
             [
              0.6666666666666666,
              "#ed7953"
             ],
             [
              0.7777777777777778,
              "#fb9f3a"
             ],
             [
              0.8888888888888888,
              "#fdca26"
             ],
             [
              1,
              "#f0f921"
             ]
            ],
            "type": "histogram2dcontour"
           }
          ],
          "mesh3d": [
           {
            "colorbar": {
             "outlinewidth": 0,
             "ticks": ""
            },
            "type": "mesh3d"
           }
          ],
          "parcoords": [
           {
            "line": {
             "colorbar": {
              "outlinewidth": 0,
              "ticks": ""
             }
            },
            "type": "parcoords"
           }
          ],
          "pie": [
           {
            "automargin": true,
            "type": "pie"
           }
          ],
          "scatter": [
           {
            "marker": {
             "colorbar": {
              "outlinewidth": 0,
              "ticks": ""
             }
            },
            "type": "scatter"
           }
          ],
          "scatter3d": [
           {
            "line": {
             "colorbar": {
              "outlinewidth": 0,
              "ticks": ""
             }
            },
            "marker": {
             "colorbar": {
              "outlinewidth": 0,
              "ticks": ""
             }
            },
            "type": "scatter3d"
           }
          ],
          "scattercarpet": [
           {
            "marker": {
             "colorbar": {
              "outlinewidth": 0,
              "ticks": ""
             }
            },
            "type": "scattercarpet"
           }
          ],
          "scattergeo": [
           {
            "marker": {
             "colorbar": {
              "outlinewidth": 0,
              "ticks": ""
             }
            },
            "type": "scattergeo"
           }
          ],
          "scattergl": [
           {
            "marker": {
             "colorbar": {
              "outlinewidth": 0,
              "ticks": ""
             }
            },
            "type": "scattergl"
           }
          ],
          "scattermapbox": [
           {
            "marker": {
             "colorbar": {
              "outlinewidth": 0,
              "ticks": ""
             }
            },
            "type": "scattermapbox"
           }
          ],
          "scatterpolar": [
           {
            "marker": {
             "colorbar": {
              "outlinewidth": 0,
              "ticks": ""
             }
            },
            "type": "scatterpolar"
           }
          ],
          "scatterpolargl": [
           {
            "marker": {
             "colorbar": {
              "outlinewidth": 0,
              "ticks": ""
             }
            },
            "type": "scatterpolargl"
           }
          ],
          "scatterternary": [
           {
            "marker": {
             "colorbar": {
              "outlinewidth": 0,
              "ticks": ""
             }
            },
            "type": "scatterternary"
           }
          ],
          "surface": [
           {
            "colorbar": {
             "outlinewidth": 0,
             "ticks": ""
            },
            "colorscale": [
             [
              0,
              "#0d0887"
             ],
             [
              0.1111111111111111,
              "#46039f"
             ],
             [
              0.2222222222222222,
              "#7201a8"
             ],
             [
              0.3333333333333333,
              "#9c179e"
             ],
             [
              0.4444444444444444,
              "#bd3786"
             ],
             [
              0.5555555555555556,
              "#d8576b"
             ],
             [
              0.6666666666666666,
              "#ed7953"
             ],
             [
              0.7777777777777778,
              "#fb9f3a"
             ],
             [
              0.8888888888888888,
              "#fdca26"
             ],
             [
              1,
              "#f0f921"
             ]
            ],
            "type": "surface"
           }
          ],
          "table": [
           {
            "cells": {
             "fill": {
              "color": "#EBF0F8"
             },
             "line": {
              "color": "white"
             }
            },
            "header": {
             "fill": {
              "color": "#C8D4E3"
             },
             "line": {
              "color": "white"
             }
            },
            "type": "table"
           }
          ]
         },
         "layout": {
          "annotationdefaults": {
           "arrowcolor": "#2a3f5f",
           "arrowhead": 0,
           "arrowwidth": 1
          },
          "autotypenumbers": "strict",
          "coloraxis": {
           "colorbar": {
            "outlinewidth": 0,
            "ticks": ""
           }
          },
          "colorscale": {
           "diverging": [
            [
             0,
             "#8e0152"
            ],
            [
             0.1,
             "#c51b7d"
            ],
            [
             0.2,
             "#de77ae"
            ],
            [
             0.3,
             "#f1b6da"
            ],
            [
             0.4,
             "#fde0ef"
            ],
            [
             0.5,
             "#f7f7f7"
            ],
            [
             0.6,
             "#e6f5d0"
            ],
            [
             0.7,
             "#b8e186"
            ],
            [
             0.8,
             "#7fbc41"
            ],
            [
             0.9,
             "#4d9221"
            ],
            [
             1,
             "#276419"
            ]
           ],
           "sequential": [
            [
             0,
             "#0d0887"
            ],
            [
             0.1111111111111111,
             "#46039f"
            ],
            [
             0.2222222222222222,
             "#7201a8"
            ],
            [
             0.3333333333333333,
             "#9c179e"
            ],
            [
             0.4444444444444444,
             "#bd3786"
            ],
            [
             0.5555555555555556,
             "#d8576b"
            ],
            [
             0.6666666666666666,
             "#ed7953"
            ],
            [
             0.7777777777777778,
             "#fb9f3a"
            ],
            [
             0.8888888888888888,
             "#fdca26"
            ],
            [
             1,
             "#f0f921"
            ]
           ],
           "sequentialminus": [
            [
             0,
             "#0d0887"
            ],
            [
             0.1111111111111111,
             "#46039f"
            ],
            [
             0.2222222222222222,
             "#7201a8"
            ],
            [
             0.3333333333333333,
             "#9c179e"
            ],
            [
             0.4444444444444444,
             "#bd3786"
            ],
            [
             0.5555555555555556,
             "#d8576b"
            ],
            [
             0.6666666666666666,
             "#ed7953"
            ],
            [
             0.7777777777777778,
             "#fb9f3a"
            ],
            [
             0.8888888888888888,
             "#fdca26"
            ],
            [
             1,
             "#f0f921"
            ]
           ]
          },
          "colorway": [
           "#636efa",
           "#EF553B",
           "#00cc96",
           "#ab63fa",
           "#FFA15A",
           "#19d3f3",
           "#FF6692",
           "#B6E880",
           "#FF97FF",
           "#FECB52"
          ],
          "font": {
           "color": "#2a3f5f"
          },
          "geo": {
           "bgcolor": "white",
           "lakecolor": "white",
           "landcolor": "#E5ECF6",
           "showlakes": true,
           "showland": true,
           "subunitcolor": "white"
          },
          "hoverlabel": {
           "align": "left"
          },
          "hovermode": "closest",
          "mapbox": {
           "style": "light"
          },
          "paper_bgcolor": "white",
          "plot_bgcolor": "#E5ECF6",
          "polar": {
           "angularaxis": {
            "gridcolor": "white",
            "linecolor": "white",
            "ticks": ""
           },
           "bgcolor": "#E5ECF6",
           "radialaxis": {
            "gridcolor": "white",
            "linecolor": "white",
            "ticks": ""
           }
          },
          "scene": {
           "xaxis": {
            "backgroundcolor": "#E5ECF6",
            "gridcolor": "white",
            "gridwidth": 2,
            "linecolor": "white",
            "showbackground": true,
            "ticks": "",
            "zerolinecolor": "white"
           },
           "yaxis": {
            "backgroundcolor": "#E5ECF6",
            "gridcolor": "white",
            "gridwidth": 2,
            "linecolor": "white",
            "showbackground": true,
            "ticks": "",
            "zerolinecolor": "white"
           },
           "zaxis": {
            "backgroundcolor": "#E5ECF6",
            "gridcolor": "white",
            "gridwidth": 2,
            "linecolor": "white",
            "showbackground": true,
            "ticks": "",
            "zerolinecolor": "white"
           }
          },
          "shapedefaults": {
           "line": {
            "color": "#2a3f5f"
           }
          },
          "ternary": {
           "aaxis": {
            "gridcolor": "white",
            "linecolor": "white",
            "ticks": ""
           },
           "baxis": {
            "gridcolor": "white",
            "linecolor": "white",
            "ticks": ""
           },
           "bgcolor": "#E5ECF6",
           "caxis": {
            "gridcolor": "white",
            "linecolor": "white",
            "ticks": ""
           }
          },
          "title": {
           "x": 0.05
          },
          "xaxis": {
           "automargin": true,
           "gridcolor": "white",
           "linecolor": "white",
           "ticks": "",
           "title": {
            "standoff": 15
           },
           "zerolinecolor": "white",
           "zerolinewidth": 2
          },
          "yaxis": {
           "automargin": true,
           "gridcolor": "white",
           "linecolor": "white",
           "ticks": "",
           "title": {
            "standoff": 15
           },
           "zerolinecolor": "white",
           "zerolinewidth": 2
          }
         }
        },
        "title": {
         "font": {
          "color": "#4D5663"
         }
        },
        "xaxis": {
         "gridcolor": "#E1E5ED",
         "showgrid": true,
         "tickfont": {
          "color": "#4D5663"
         },
         "title": {
          "font": {
           "color": "#4D5663"
          },
          "text": ""
         },
         "zerolinecolor": "#E1E5ED"
        },
        "yaxis": {
         "gridcolor": "#E1E5ED",
         "showgrid": true,
         "tickfont": {
          "color": "#4D5663"
         },
         "title": {
          "font": {
           "color": "#4D5663"
          },
          "text": ""
         },
         "zerolinecolor": "#E1E5ED"
        }
       }
      },
      "text/html": [
       "<div>                            <div id=\"be66edf8-fd1a-4eb5-a3a6-66c20fd9c070\" class=\"plotly-graph-div\" style=\"height:525px; width:100%;\"></div>            <script type=\"text/javascript\">                require([\"plotly\"], function(Plotly) {                    window.PLOTLYENV=window.PLOTLYENV || {};\n",
       "                    window.PLOTLYENV.BASE_URL='https://plot.ly';                                    if (document.getElementById(\"be66edf8-fd1a-4eb5-a3a6-66c20fd9c070\")) {                    Plotly.newPlot(                        \"be66edf8-fd1a-4eb5-a3a6-66c20fd9c070\",                        [{\"histfunc\":\"count\",\"histnorm\":\"\",\"marker\":{\"color\":\"rgba(255, 153, 51, 1.0)\",\"line\":{\"color\":\"#4D5663\",\"width\":1.3}},\"name\":\"A\",\"nbinsx\":25,\"opacity\":0.8,\"orientation\":\"v\",\"type\":\"histogram\",\"x\":[-1.4540004081478248,-0.11007355043051158,0.10982869675375188,-0.6483522274923497,0.6456682145863891,-0.9941365717586216,0.49132505126695764,0.574692293480332,-0.601149273426994,1.1681530928816495,0.9225460509197592,1.4080120518402826,0.5112988358011514,1.9042321289343245,-1.0519246485155396,-1.6145722564049436,-0.3069777634201451,-1.046904859984683,-0.19803089353167186,-0.319827137822687,-1.8082591352742183,2.0747833640870983,-0.19248509296146513,0.08128642613710906,-0.45443881176401013,0.7097203042406512,-0.38455851977652145,1.3908414664195914,-1.3692379339272545,0.44948683633089076,2.2757464103816396,-0.7935122389343489,-0.6456240932055214,-0.4204489550137737,0.19391000998362268,1.8194934307807404,-0.18217550385942105,-0.008290286976937332,0.8243979074928602,0.3721440133587712,0.5998082876547112,1.7708564035903112,1.7102348631178188,1.418303290602573,-0.34701523804234624,0.5032772588783692,-1.2452558870960557,-0.9970360030520007,0.5907178721512375,-2.7230352978400645,0.20055780980890967,-0.6137366637905584,-0.6086630310241073,-1.1087394788361375,0.6641586046761034,0.7193702690264225,0.9296696099660978,0.7317327604793983,-0.047201435658269515,-0.30334032362370084,0.02862471197069708,-0.27828523810730366,-0.44179553515129544,-0.024118842829569834,0.31227647731563263,0.8701847072134986,-0.22309656965636257,-0.20770513965651302,0.47142175538379566,0.5011247094412172,-1.3620146525279155,-0.14795098303784995,0.14196298736049628,-1.016884709309532,-0.4917906274473433,-0.12051799859600523,-0.17247939382189223,0.9541553890998549,1.4315140899860428,-0.00992095518753176,0.6018254201751347,-1.5789016803240072,0.727904003014525,-1.0147581420106258,1.0690133891339306,-1.1021364000773435,-0.23513861545976072,0.18364122505394662,-0.8165901971585968,-0.6081818370731323,0.621396892849809,-0.10947553062274686,0.11382492392576911,0.43714209861981645,-0.2654839651102387,1.5224160299697473,0.1199575783051826,0.6250937851392976,0.6354018783850093,-1.286302152646409]}],                        {\"barmode\":\"overlay\",\"legend\":{\"bgcolor\":\"#F5F6F9\",\"font\":{\"color\":\"#4D5663\"}},\"paper_bgcolor\":\"#F5F6F9\",\"plot_bgcolor\":\"#F5F6F9\",\"template\":{\"data\":{\"bar\":[{\"error_x\":{\"color\":\"#2a3f5f\"},\"error_y\":{\"color\":\"#2a3f5f\"},\"marker\":{\"line\":{\"color\":\"#E5ECF6\",\"width\":0.5},\"pattern\":{\"fillmode\":\"overlay\",\"size\":10,\"solidity\":0.2}},\"type\":\"bar\"}],\"barpolar\":[{\"marker\":{\"line\":{\"color\":\"#E5ECF6\",\"width\":0.5},\"pattern\":{\"fillmode\":\"overlay\",\"size\":10,\"solidity\":0.2}},\"type\":\"barpolar\"}],\"carpet\":[{\"aaxis\":{\"endlinecolor\":\"#2a3f5f\",\"gridcolor\":\"white\",\"linecolor\":\"white\",\"minorgridcolor\":\"white\",\"startlinecolor\":\"#2a3f5f\"},\"baxis\":{\"endlinecolor\":\"#2a3f5f\",\"gridcolor\":\"white\",\"linecolor\":\"white\",\"minorgridcolor\":\"white\",\"startlinecolor\":\"#2a3f5f\"},\"type\":\"carpet\"}],\"choropleth\":[{\"colorbar\":{\"outlinewidth\":0,\"ticks\":\"\"},\"type\":\"choropleth\"}],\"contour\":[{\"colorbar\":{\"outlinewidth\":0,\"ticks\":\"\"},\"colorscale\":[[0.0,\"#0d0887\"],[0.1111111111111111,\"#46039f\"],[0.2222222222222222,\"#7201a8\"],[0.3333333333333333,\"#9c179e\"],[0.4444444444444444,\"#bd3786\"],[0.5555555555555556,\"#d8576b\"],[0.6666666666666666,\"#ed7953\"],[0.7777777777777778,\"#fb9f3a\"],[0.8888888888888888,\"#fdca26\"],[1.0,\"#f0f921\"]],\"type\":\"contour\"}],\"contourcarpet\":[{\"colorbar\":{\"outlinewidth\":0,\"ticks\":\"\"},\"type\":\"contourcarpet\"}],\"heatmap\":[{\"colorbar\":{\"outlinewidth\":0,\"ticks\":\"\"},\"colorscale\":[[0.0,\"#0d0887\"],[0.1111111111111111,\"#46039f\"],[0.2222222222222222,\"#7201a8\"],[0.3333333333333333,\"#9c179e\"],[0.4444444444444444,\"#bd3786\"],[0.5555555555555556,\"#d8576b\"],[0.6666666666666666,\"#ed7953\"],[0.7777777777777778,\"#fb9f3a\"],[0.8888888888888888,\"#fdca26\"],[1.0,\"#f0f921\"]],\"type\":\"heatmap\"}],\"heatmapgl\":[{\"colorbar\":{\"outlinewidth\":0,\"ticks\":\"\"},\"colorscale\":[[0.0,\"#0d0887\"],[0.1111111111111111,\"#46039f\"],[0.2222222222222222,\"#7201a8\"],[0.3333333333333333,\"#9c179e\"],[0.4444444444444444,\"#bd3786\"],[0.5555555555555556,\"#d8576b\"],[0.6666666666666666,\"#ed7953\"],[0.7777777777777778,\"#fb9f3a\"],[0.8888888888888888,\"#fdca26\"],[1.0,\"#f0f921\"]],\"type\":\"heatmapgl\"}],\"histogram\":[{\"marker\":{\"pattern\":{\"fillmode\":\"overlay\",\"size\":10,\"solidity\":0.2}},\"type\":\"histogram\"}],\"histogram2d\":[{\"colorbar\":{\"outlinewidth\":0,\"ticks\":\"\"},\"colorscale\":[[0.0,\"#0d0887\"],[0.1111111111111111,\"#46039f\"],[0.2222222222222222,\"#7201a8\"],[0.3333333333333333,\"#9c179e\"],[0.4444444444444444,\"#bd3786\"],[0.5555555555555556,\"#d8576b\"],[0.6666666666666666,\"#ed7953\"],[0.7777777777777778,\"#fb9f3a\"],[0.8888888888888888,\"#fdca26\"],[1.0,\"#f0f921\"]],\"type\":\"histogram2d\"}],\"histogram2dcontour\":[{\"colorbar\":{\"outlinewidth\":0,\"ticks\":\"\"},\"colorscale\":[[0.0,\"#0d0887\"],[0.1111111111111111,\"#46039f\"],[0.2222222222222222,\"#7201a8\"],[0.3333333333333333,\"#9c179e\"],[0.4444444444444444,\"#bd3786\"],[0.5555555555555556,\"#d8576b\"],[0.6666666666666666,\"#ed7953\"],[0.7777777777777778,\"#fb9f3a\"],[0.8888888888888888,\"#fdca26\"],[1.0,\"#f0f921\"]],\"type\":\"histogram2dcontour\"}],\"mesh3d\":[{\"colorbar\":{\"outlinewidth\":0,\"ticks\":\"\"},\"type\":\"mesh3d\"}],\"parcoords\":[{\"line\":{\"colorbar\":{\"outlinewidth\":0,\"ticks\":\"\"}},\"type\":\"parcoords\"}],\"pie\":[{\"automargin\":true,\"type\":\"pie\"}],\"scatter\":[{\"marker\":{\"colorbar\":{\"outlinewidth\":0,\"ticks\":\"\"}},\"type\":\"scatter\"}],\"scatter3d\":[{\"line\":{\"colorbar\":{\"outlinewidth\":0,\"ticks\":\"\"}},\"marker\":{\"colorbar\":{\"outlinewidth\":0,\"ticks\":\"\"}},\"type\":\"scatter3d\"}],\"scattercarpet\":[{\"marker\":{\"colorbar\":{\"outlinewidth\":0,\"ticks\":\"\"}},\"type\":\"scattercarpet\"}],\"scattergeo\":[{\"marker\":{\"colorbar\":{\"outlinewidth\":0,\"ticks\":\"\"}},\"type\":\"scattergeo\"}],\"scattergl\":[{\"marker\":{\"colorbar\":{\"outlinewidth\":0,\"ticks\":\"\"}},\"type\":\"scattergl\"}],\"scattermapbox\":[{\"marker\":{\"colorbar\":{\"outlinewidth\":0,\"ticks\":\"\"}},\"type\":\"scattermapbox\"}],\"scatterpolar\":[{\"marker\":{\"colorbar\":{\"outlinewidth\":0,\"ticks\":\"\"}},\"type\":\"scatterpolar\"}],\"scatterpolargl\":[{\"marker\":{\"colorbar\":{\"outlinewidth\":0,\"ticks\":\"\"}},\"type\":\"scatterpolargl\"}],\"scatterternary\":[{\"marker\":{\"colorbar\":{\"outlinewidth\":0,\"ticks\":\"\"}},\"type\":\"scatterternary\"}],\"surface\":[{\"colorbar\":{\"outlinewidth\":0,\"ticks\":\"\"},\"colorscale\":[[0.0,\"#0d0887\"],[0.1111111111111111,\"#46039f\"],[0.2222222222222222,\"#7201a8\"],[0.3333333333333333,\"#9c179e\"],[0.4444444444444444,\"#bd3786\"],[0.5555555555555556,\"#d8576b\"],[0.6666666666666666,\"#ed7953\"],[0.7777777777777778,\"#fb9f3a\"],[0.8888888888888888,\"#fdca26\"],[1.0,\"#f0f921\"]],\"type\":\"surface\"}],\"table\":[{\"cells\":{\"fill\":{\"color\":\"#EBF0F8\"},\"line\":{\"color\":\"white\"}},\"header\":{\"fill\":{\"color\":\"#C8D4E3\"},\"line\":{\"color\":\"white\"}},\"type\":\"table\"}]},\"layout\":{\"annotationdefaults\":{\"arrowcolor\":\"#2a3f5f\",\"arrowhead\":0,\"arrowwidth\":1},\"autotypenumbers\":\"strict\",\"coloraxis\":{\"colorbar\":{\"outlinewidth\":0,\"ticks\":\"\"}},\"colorscale\":{\"diverging\":[[0,\"#8e0152\"],[0.1,\"#c51b7d\"],[0.2,\"#de77ae\"],[0.3,\"#f1b6da\"],[0.4,\"#fde0ef\"],[0.5,\"#f7f7f7\"],[0.6,\"#e6f5d0\"],[0.7,\"#b8e186\"],[0.8,\"#7fbc41\"],[0.9,\"#4d9221\"],[1,\"#276419\"]],\"sequential\":[[0.0,\"#0d0887\"],[0.1111111111111111,\"#46039f\"],[0.2222222222222222,\"#7201a8\"],[0.3333333333333333,\"#9c179e\"],[0.4444444444444444,\"#bd3786\"],[0.5555555555555556,\"#d8576b\"],[0.6666666666666666,\"#ed7953\"],[0.7777777777777778,\"#fb9f3a\"],[0.8888888888888888,\"#fdca26\"],[1.0,\"#f0f921\"]],\"sequentialminus\":[[0.0,\"#0d0887\"],[0.1111111111111111,\"#46039f\"],[0.2222222222222222,\"#7201a8\"],[0.3333333333333333,\"#9c179e\"],[0.4444444444444444,\"#bd3786\"],[0.5555555555555556,\"#d8576b\"],[0.6666666666666666,\"#ed7953\"],[0.7777777777777778,\"#fb9f3a\"],[0.8888888888888888,\"#fdca26\"],[1.0,\"#f0f921\"]]},\"colorway\":[\"#636efa\",\"#EF553B\",\"#00cc96\",\"#ab63fa\",\"#FFA15A\",\"#19d3f3\",\"#FF6692\",\"#B6E880\",\"#FF97FF\",\"#FECB52\"],\"font\":{\"color\":\"#2a3f5f\"},\"geo\":{\"bgcolor\":\"white\",\"lakecolor\":\"white\",\"landcolor\":\"#E5ECF6\",\"showlakes\":true,\"showland\":true,\"subunitcolor\":\"white\"},\"hoverlabel\":{\"align\":\"left\"},\"hovermode\":\"closest\",\"mapbox\":{\"style\":\"light\"},\"paper_bgcolor\":\"white\",\"plot_bgcolor\":\"#E5ECF6\",\"polar\":{\"angularaxis\":{\"gridcolor\":\"white\",\"linecolor\":\"white\",\"ticks\":\"\"},\"bgcolor\":\"#E5ECF6\",\"radialaxis\":{\"gridcolor\":\"white\",\"linecolor\":\"white\",\"ticks\":\"\"}},\"scene\":{\"xaxis\":{\"backgroundcolor\":\"#E5ECF6\",\"gridcolor\":\"white\",\"gridwidth\":2,\"linecolor\":\"white\",\"showbackground\":true,\"ticks\":\"\",\"zerolinecolor\":\"white\"},\"yaxis\":{\"backgroundcolor\":\"#E5ECF6\",\"gridcolor\":\"white\",\"gridwidth\":2,\"linecolor\":\"white\",\"showbackground\":true,\"ticks\":\"\",\"zerolinecolor\":\"white\"},\"zaxis\":{\"backgroundcolor\":\"#E5ECF6\",\"gridcolor\":\"white\",\"gridwidth\":2,\"linecolor\":\"white\",\"showbackground\":true,\"ticks\":\"\",\"zerolinecolor\":\"white\"}},\"shapedefaults\":{\"line\":{\"color\":\"#2a3f5f\"}},\"ternary\":{\"aaxis\":{\"gridcolor\":\"white\",\"linecolor\":\"white\",\"ticks\":\"\"},\"baxis\":{\"gridcolor\":\"white\",\"linecolor\":\"white\",\"ticks\":\"\"},\"bgcolor\":\"#E5ECF6\",\"caxis\":{\"gridcolor\":\"white\",\"linecolor\":\"white\",\"ticks\":\"\"}},\"title\":{\"x\":0.05},\"xaxis\":{\"automargin\":true,\"gridcolor\":\"white\",\"linecolor\":\"white\",\"ticks\":\"\",\"title\":{\"standoff\":15},\"zerolinecolor\":\"white\",\"zerolinewidth\":2},\"yaxis\":{\"automargin\":true,\"gridcolor\":\"white\",\"linecolor\":\"white\",\"ticks\":\"\",\"title\":{\"standoff\":15},\"zerolinecolor\":\"white\",\"zerolinewidth\":2}}},\"title\":{\"font\":{\"color\":\"#4D5663\"}},\"xaxis\":{\"gridcolor\":\"#E1E5ED\",\"showgrid\":true,\"tickfont\":{\"color\":\"#4D5663\"},\"title\":{\"font\":{\"color\":\"#4D5663\"},\"text\":\"\"},\"zerolinecolor\":\"#E1E5ED\"},\"yaxis\":{\"gridcolor\":\"#E1E5ED\",\"showgrid\":true,\"tickfont\":{\"color\":\"#4D5663\"},\"title\":{\"font\":{\"color\":\"#4D5663\"},\"text\":\"\"},\"zerolinecolor\":\"#E1E5ED\"}},                        {\"showLink\": true, \"linkText\": \"Export to plot.ly\", \"plotlyServerURL\": \"https://plot.ly\", \"responsive\": true}                    ).then(function(){\n",
       "                            \n",
       "var gd = document.getElementById('be66edf8-fd1a-4eb5-a3a6-66c20fd9c070');\n",
       "var x = new MutationObserver(function (mutations, observer) {{\n",
       "        var display = window.getComputedStyle(gd).display;\n",
       "        if (!display || display === 'none') {{\n",
       "            console.log([gd, 'removed!']);\n",
       "            Plotly.purge(gd);\n",
       "            observer.disconnect();\n",
       "        }}\n",
       "}});\n",
       "\n",
       "// Listen for the removal of the full notebook cells\n",
       "var notebookContainer = gd.closest('#notebook-container');\n",
       "if (notebookContainer) {{\n",
       "    x.observe(notebookContainer, {childList: true});\n",
       "}}\n",
       "\n",
       "// Listen for the clearing of the current output cell\n",
       "var outputEl = gd.closest('.output');\n",
       "if (outputEl) {{\n",
       "    x.observe(outputEl, {childList: true});\n",
       "}}\n",
       "\n",
       "                        })                };                });            </script>        </div>"
      ]
     },
     "metadata": {},
     "output_type": "display_data"
    }
   ],
   "source": [
    "df['A'].iplot(kind='hist',bins=25)"
   ]
  },
  {
   "cell_type": "code",
   "execution_count": 17,
   "metadata": {},
   "outputs": [
    {
     "data": {
      "application/vnd.plotly.v1+json": {
       "config": {
        "linkText": "Export to plot.ly",
        "plotlyServerURL": "https://plot.ly",
        "showLink": true
       },
       "data": [
        {
         "marker": {
          "color": [
           "rgb(255, 153, 51)",
           "rgb(55, 128, 191)",
           "rgb(50, 171, 96)",
           "rgb(128, 0, 128)",
           "rgb(219, 64, 82)",
           "rgb(0, 128, 128)",
           "rgb(255, 255, 51)",
           "rgb(128, 128, 0)",
           "rgb(251, 128, 114)",
           "rgb(128, 177, 211)"
          ],
          "line": {
           "width": 1.3
          },
          "size": [
           45,
           46,
           12,
           21,
           92,
           91,
           90,
           78,
           40,
           58,
           66,
           46,
           92,
           110,
           41,
           68,
           45,
           30,
           75,
           69,
           82,
           50,
           96,
           67,
           57,
           61,
           80,
           47,
           62,
           64,
           66,
           81,
           74,
           58,
           71,
           68,
           78,
           65,
           71,
           71,
           66,
           62,
           65,
           88,
           75,
           91,
           77,
           75,
           69,
           50,
           112,
           106,
           80,
           50,
           86,
           74,
           54,
           55,
           61,
           68,
           63,
           46,
           69,
           58,
           39,
           38,
           65,
           75,
           35,
           49,
           69,
           82,
           91,
           70,
           88,
           52,
           98,
           47,
           68,
           67,
           64,
           56,
           80,
           44,
           50,
           75,
           69,
           84,
           40,
           75,
           96,
           83,
           43,
           25,
           42,
           36,
           46,
           75,
           76,
           93
          ],
          "symbol": "circle"
         },
         "mode": "markers",
         "text": "",
         "type": "scatter",
         "x": [
          -1.4540004081478248,
          -0.11007355043051158,
          0.10982869675375188,
          -0.6483522274923497,
          0.6456682145863891,
          -0.9941365717586216,
          0.49132505126695764,
          0.574692293480332,
          -0.601149273426994,
          1.1681530928816495,
          0.9225460509197592,
          1.4080120518402826,
          0.5112988358011514,
          1.9042321289343245,
          -1.0519246485155396,
          -1.6145722564049436,
          -0.3069777634201451,
          -1.046904859984683,
          -0.19803089353167186,
          -0.319827137822687,
          -1.8082591352742183,
          2.0747833640870983,
          -0.19248509296146513,
          0.08128642613710906,
          -0.45443881176401013,
          0.7097203042406512,
          -0.38455851977652145,
          1.3908414664195914,
          -1.3692379339272545,
          0.44948683633089076,
          2.2757464103816396,
          -0.7935122389343489,
          -0.6456240932055214,
          -0.4204489550137737,
          0.19391000998362268,
          1.8194934307807404,
          -0.18217550385942105,
          -0.008290286976937332,
          0.8243979074928602,
          0.3721440133587712,
          0.5998082876547112,
          1.7708564035903112,
          1.7102348631178188,
          1.418303290602573,
          -0.34701523804234624,
          0.5032772588783692,
          -1.2452558870960557,
          -0.9970360030520007,
          0.5907178721512375,
          -2.7230352978400645,
          0.20055780980890967,
          -0.6137366637905584,
          -0.6086630310241073,
          -1.1087394788361375,
          0.6641586046761034,
          0.7193702690264225,
          0.9296696099660978,
          0.7317327604793983,
          -0.047201435658269515,
          -0.30334032362370084,
          0.02862471197069708,
          -0.27828523810730366,
          -0.44179553515129544,
          -0.024118842829569834,
          0.31227647731563263,
          0.8701847072134986,
          -0.22309656965636257,
          -0.20770513965651302,
          0.47142175538379566,
          0.5011247094412172,
          -1.3620146525279155,
          -0.14795098303784995,
          0.14196298736049628,
          -1.016884709309532,
          -0.4917906274473433,
          -0.12051799859600523,
          -0.17247939382189223,
          0.9541553890998549,
          1.4315140899860428,
          -0.00992095518753176,
          0.6018254201751347,
          -1.5789016803240072,
          0.727904003014525,
          -1.0147581420106258,
          1.0690133891339306,
          -1.1021364000773435,
          -0.23513861545976072,
          0.18364122505394662,
          -0.8165901971585968,
          -0.6081818370731323,
          0.621396892849809,
          -0.10947553062274686,
          0.11382492392576911,
          0.43714209861981645,
          -0.2654839651102387,
          1.5224160299697473,
          0.1199575783051826,
          0.6250937851392976,
          0.6354018783850093,
          -1.286302152646409
         ],
         "y": [
          0.9804902717892854,
          -0.8116560269021028,
          -0.5304074349441019,
          0.7314708976817439,
          -1.317813889901291,
          0.5515653245923914,
          -1.007512904863618,
          0.027869316274254607,
          0.9373009762002932,
          0.3263313741977739,
          -1.4731555994613688,
          -1.5692248514343379,
          0.2247986762962962,
          -0.237046026508892,
          -0.29187496753921166,
          -0.5276451598659568,
          -0.4604939334911615,
          1.0622630019029553,
          0.2018053826239793,
          0.2152987530552919,
          0.5765946081004806,
          -1.0574687398285258,
          0.8147327040239873,
          -1.565196244472277,
          2.1161876872641905,
          -1.152433159222957,
          -0.4421984138276069,
          0.9879694617836262,
          -1.1377408514340306,
          -0.2904951299578208,
          0.941100139067152,
          -0.679405397666701,
          -0.14503723137893423,
          -2.3704740272865727,
          -1.4393468389346427,
          -1.9138285718222479,
          -0.40541957113900345,
          -0.6406358830486115,
          1.9669854746622704,
          0.24587824563188523,
          -1.0450644420469437,
          -0.3915593556466746,
          0.1319976106693394,
          -0.541910078691539,
          -0.45877995278105627,
          -0.04744886791407573,
          1.6744233390504226,
          -2.30929247012321,
          -0.42269700138534194,
          -0.4059181196519094,
          -0.47253102278763687,
          -1.5863850507771629,
          -0.1432502014946788,
          -0.3977794705846313,
          0.25058076876857827,
          1.0380414048510445,
          0.6510006302802921,
          -0.2380316037498957,
          -0.8630875614869196,
          0.6666007826208047,
          -1.869332074666846,
          -0.10507746883011831,
          0.26794216779872787,
          -1.8705098086426515,
          0.1589793056477878,
          -0.2250804552980786,
          -0.37249110592689794,
          0.36992866619033515,
          -0.8588867390570646,
          0.6841615555235582,
          0.6895449549121019,
          -1.653588892920698,
          -0.9066261328784851,
          0.06339155195534256,
          1.289405210397382,
          1.9058872332362038,
          0.9120647093077785,
          0.991419763084864,
          0.1620854385425183,
          -0.07940006271257556,
          1.3785162664718305,
          -0.27038388476787795,
          -0.9615886098208666,
          0.00405632774123973,
          1.2870366134246083,
          0.647698409026788,
          1.437094810613269,
          1.714407268630869,
          -0.7207396837198342,
          -0.8724684564766381,
          -1.091969997227892,
          -0.6433087841112413,
          -2.1803283139883036,
          1.647186106737404,
          0.6038710322432059,
          0.9708787477958503,
          -1.4414590443258994,
          0.0008702819208328536,
          -1.219643854961161,
          -0.6606360890090951
         ]
        }
       ],
       "layout": {
        "legend": {
         "bgcolor": "#F5F6F9",
         "font": {
          "color": "#4D5663"
         }
        },
        "paper_bgcolor": "#F5F6F9",
        "plot_bgcolor": "#F5F6F9",
        "template": {
         "data": {
          "bar": [
           {
            "error_x": {
             "color": "#2a3f5f"
            },
            "error_y": {
             "color": "#2a3f5f"
            },
            "marker": {
             "line": {
              "color": "#E5ECF6",
              "width": 0.5
             },
             "pattern": {
              "fillmode": "overlay",
              "size": 10,
              "solidity": 0.2
             }
            },
            "type": "bar"
           }
          ],
          "barpolar": [
           {
            "marker": {
             "line": {
              "color": "#E5ECF6",
              "width": 0.5
             },
             "pattern": {
              "fillmode": "overlay",
              "size": 10,
              "solidity": 0.2
             }
            },
            "type": "barpolar"
           }
          ],
          "carpet": [
           {
            "aaxis": {
             "endlinecolor": "#2a3f5f",
             "gridcolor": "white",
             "linecolor": "white",
             "minorgridcolor": "white",
             "startlinecolor": "#2a3f5f"
            },
            "baxis": {
             "endlinecolor": "#2a3f5f",
             "gridcolor": "white",
             "linecolor": "white",
             "minorgridcolor": "white",
             "startlinecolor": "#2a3f5f"
            },
            "type": "carpet"
           }
          ],
          "choropleth": [
           {
            "colorbar": {
             "outlinewidth": 0,
             "ticks": ""
            },
            "type": "choropleth"
           }
          ],
          "contour": [
           {
            "colorbar": {
             "outlinewidth": 0,
             "ticks": ""
            },
            "colorscale": [
             [
              0,
              "#0d0887"
             ],
             [
              0.1111111111111111,
              "#46039f"
             ],
             [
              0.2222222222222222,
              "#7201a8"
             ],
             [
              0.3333333333333333,
              "#9c179e"
             ],
             [
              0.4444444444444444,
              "#bd3786"
             ],
             [
              0.5555555555555556,
              "#d8576b"
             ],
             [
              0.6666666666666666,
              "#ed7953"
             ],
             [
              0.7777777777777778,
              "#fb9f3a"
             ],
             [
              0.8888888888888888,
              "#fdca26"
             ],
             [
              1,
              "#f0f921"
             ]
            ],
            "type": "contour"
           }
          ],
          "contourcarpet": [
           {
            "colorbar": {
             "outlinewidth": 0,
             "ticks": ""
            },
            "type": "contourcarpet"
           }
          ],
          "heatmap": [
           {
            "colorbar": {
             "outlinewidth": 0,
             "ticks": ""
            },
            "colorscale": [
             [
              0,
              "#0d0887"
             ],
             [
              0.1111111111111111,
              "#46039f"
             ],
             [
              0.2222222222222222,
              "#7201a8"
             ],
             [
              0.3333333333333333,
              "#9c179e"
             ],
             [
              0.4444444444444444,
              "#bd3786"
             ],
             [
              0.5555555555555556,
              "#d8576b"
             ],
             [
              0.6666666666666666,
              "#ed7953"
             ],
             [
              0.7777777777777778,
              "#fb9f3a"
             ],
             [
              0.8888888888888888,
              "#fdca26"
             ],
             [
              1,
              "#f0f921"
             ]
            ],
            "type": "heatmap"
           }
          ],
          "heatmapgl": [
           {
            "colorbar": {
             "outlinewidth": 0,
             "ticks": ""
            },
            "colorscale": [
             [
              0,
              "#0d0887"
             ],
             [
              0.1111111111111111,
              "#46039f"
             ],
             [
              0.2222222222222222,
              "#7201a8"
             ],
             [
              0.3333333333333333,
              "#9c179e"
             ],
             [
              0.4444444444444444,
              "#bd3786"
             ],
             [
              0.5555555555555556,
              "#d8576b"
             ],
             [
              0.6666666666666666,
              "#ed7953"
             ],
             [
              0.7777777777777778,
              "#fb9f3a"
             ],
             [
              0.8888888888888888,
              "#fdca26"
             ],
             [
              1,
              "#f0f921"
             ]
            ],
            "type": "heatmapgl"
           }
          ],
          "histogram": [
           {
            "marker": {
             "pattern": {
              "fillmode": "overlay",
              "size": 10,
              "solidity": 0.2
             }
            },
            "type": "histogram"
           }
          ],
          "histogram2d": [
           {
            "colorbar": {
             "outlinewidth": 0,
             "ticks": ""
            },
            "colorscale": [
             [
              0,
              "#0d0887"
             ],
             [
              0.1111111111111111,
              "#46039f"
             ],
             [
              0.2222222222222222,
              "#7201a8"
             ],
             [
              0.3333333333333333,
              "#9c179e"
             ],
             [
              0.4444444444444444,
              "#bd3786"
             ],
             [
              0.5555555555555556,
              "#d8576b"
             ],
             [
              0.6666666666666666,
              "#ed7953"
             ],
             [
              0.7777777777777778,
              "#fb9f3a"
             ],
             [
              0.8888888888888888,
              "#fdca26"
             ],
             [
              1,
              "#f0f921"
             ]
            ],
            "type": "histogram2d"
           }
          ],
          "histogram2dcontour": [
           {
            "colorbar": {
             "outlinewidth": 0,
             "ticks": ""
            },
            "colorscale": [
             [
              0,
              "#0d0887"
             ],
             [
              0.1111111111111111,
              "#46039f"
             ],
             [
              0.2222222222222222,
              "#7201a8"
             ],
             [
              0.3333333333333333,
              "#9c179e"
             ],
             [
              0.4444444444444444,
              "#bd3786"
             ],
             [
              0.5555555555555556,
              "#d8576b"
             ],
             [
              0.6666666666666666,
              "#ed7953"
             ],
             [
              0.7777777777777778,
              "#fb9f3a"
             ],
             [
              0.8888888888888888,
              "#fdca26"
             ],
             [
              1,
              "#f0f921"
             ]
            ],
            "type": "histogram2dcontour"
           }
          ],
          "mesh3d": [
           {
            "colorbar": {
             "outlinewidth": 0,
             "ticks": ""
            },
            "type": "mesh3d"
           }
          ],
          "parcoords": [
           {
            "line": {
             "colorbar": {
              "outlinewidth": 0,
              "ticks": ""
             }
            },
            "type": "parcoords"
           }
          ],
          "pie": [
           {
            "automargin": true,
            "type": "pie"
           }
          ],
          "scatter": [
           {
            "marker": {
             "colorbar": {
              "outlinewidth": 0,
              "ticks": ""
             }
            },
            "type": "scatter"
           }
          ],
          "scatter3d": [
           {
            "line": {
             "colorbar": {
              "outlinewidth": 0,
              "ticks": ""
             }
            },
            "marker": {
             "colorbar": {
              "outlinewidth": 0,
              "ticks": ""
             }
            },
            "type": "scatter3d"
           }
          ],
          "scattercarpet": [
           {
            "marker": {
             "colorbar": {
              "outlinewidth": 0,
              "ticks": ""
             }
            },
            "type": "scattercarpet"
           }
          ],
          "scattergeo": [
           {
            "marker": {
             "colorbar": {
              "outlinewidth": 0,
              "ticks": ""
             }
            },
            "type": "scattergeo"
           }
          ],
          "scattergl": [
           {
            "marker": {
             "colorbar": {
              "outlinewidth": 0,
              "ticks": ""
             }
            },
            "type": "scattergl"
           }
          ],
          "scattermapbox": [
           {
            "marker": {
             "colorbar": {
              "outlinewidth": 0,
              "ticks": ""
             }
            },
            "type": "scattermapbox"
           }
          ],
          "scatterpolar": [
           {
            "marker": {
             "colorbar": {
              "outlinewidth": 0,
              "ticks": ""
             }
            },
            "type": "scatterpolar"
           }
          ],
          "scatterpolargl": [
           {
            "marker": {
             "colorbar": {
              "outlinewidth": 0,
              "ticks": ""
             }
            },
            "type": "scatterpolargl"
           }
          ],
          "scatterternary": [
           {
            "marker": {
             "colorbar": {
              "outlinewidth": 0,
              "ticks": ""
             }
            },
            "type": "scatterternary"
           }
          ],
          "surface": [
           {
            "colorbar": {
             "outlinewidth": 0,
             "ticks": ""
            },
            "colorscale": [
             [
              0,
              "#0d0887"
             ],
             [
              0.1111111111111111,
              "#46039f"
             ],
             [
              0.2222222222222222,
              "#7201a8"
             ],
             [
              0.3333333333333333,
              "#9c179e"
             ],
             [
              0.4444444444444444,
              "#bd3786"
             ],
             [
              0.5555555555555556,
              "#d8576b"
             ],
             [
              0.6666666666666666,
              "#ed7953"
             ],
             [
              0.7777777777777778,
              "#fb9f3a"
             ],
             [
              0.8888888888888888,
              "#fdca26"
             ],
             [
              1,
              "#f0f921"
             ]
            ],
            "type": "surface"
           }
          ],
          "table": [
           {
            "cells": {
             "fill": {
              "color": "#EBF0F8"
             },
             "line": {
              "color": "white"
             }
            },
            "header": {
             "fill": {
              "color": "#C8D4E3"
             },
             "line": {
              "color": "white"
             }
            },
            "type": "table"
           }
          ]
         },
         "layout": {
          "annotationdefaults": {
           "arrowcolor": "#2a3f5f",
           "arrowhead": 0,
           "arrowwidth": 1
          },
          "autotypenumbers": "strict",
          "coloraxis": {
           "colorbar": {
            "outlinewidth": 0,
            "ticks": ""
           }
          },
          "colorscale": {
           "diverging": [
            [
             0,
             "#8e0152"
            ],
            [
             0.1,
             "#c51b7d"
            ],
            [
             0.2,
             "#de77ae"
            ],
            [
             0.3,
             "#f1b6da"
            ],
            [
             0.4,
             "#fde0ef"
            ],
            [
             0.5,
             "#f7f7f7"
            ],
            [
             0.6,
             "#e6f5d0"
            ],
            [
             0.7,
             "#b8e186"
            ],
            [
             0.8,
             "#7fbc41"
            ],
            [
             0.9,
             "#4d9221"
            ],
            [
             1,
             "#276419"
            ]
           ],
           "sequential": [
            [
             0,
             "#0d0887"
            ],
            [
             0.1111111111111111,
             "#46039f"
            ],
            [
             0.2222222222222222,
             "#7201a8"
            ],
            [
             0.3333333333333333,
             "#9c179e"
            ],
            [
             0.4444444444444444,
             "#bd3786"
            ],
            [
             0.5555555555555556,
             "#d8576b"
            ],
            [
             0.6666666666666666,
             "#ed7953"
            ],
            [
             0.7777777777777778,
             "#fb9f3a"
            ],
            [
             0.8888888888888888,
             "#fdca26"
            ],
            [
             1,
             "#f0f921"
            ]
           ],
           "sequentialminus": [
            [
             0,
             "#0d0887"
            ],
            [
             0.1111111111111111,
             "#46039f"
            ],
            [
             0.2222222222222222,
             "#7201a8"
            ],
            [
             0.3333333333333333,
             "#9c179e"
            ],
            [
             0.4444444444444444,
             "#bd3786"
            ],
            [
             0.5555555555555556,
             "#d8576b"
            ],
            [
             0.6666666666666666,
             "#ed7953"
            ],
            [
             0.7777777777777778,
             "#fb9f3a"
            ],
            [
             0.8888888888888888,
             "#fdca26"
            ],
            [
             1,
             "#f0f921"
            ]
           ]
          },
          "colorway": [
           "#636efa",
           "#EF553B",
           "#00cc96",
           "#ab63fa",
           "#FFA15A",
           "#19d3f3",
           "#FF6692",
           "#B6E880",
           "#FF97FF",
           "#FECB52"
          ],
          "font": {
           "color": "#2a3f5f"
          },
          "geo": {
           "bgcolor": "white",
           "lakecolor": "white",
           "landcolor": "#E5ECF6",
           "showlakes": true,
           "showland": true,
           "subunitcolor": "white"
          },
          "hoverlabel": {
           "align": "left"
          },
          "hovermode": "closest",
          "mapbox": {
           "style": "light"
          },
          "paper_bgcolor": "white",
          "plot_bgcolor": "#E5ECF6",
          "polar": {
           "angularaxis": {
            "gridcolor": "white",
            "linecolor": "white",
            "ticks": ""
           },
           "bgcolor": "#E5ECF6",
           "radialaxis": {
            "gridcolor": "white",
            "linecolor": "white",
            "ticks": ""
           }
          },
          "scene": {
           "xaxis": {
            "backgroundcolor": "#E5ECF6",
            "gridcolor": "white",
            "gridwidth": 2,
            "linecolor": "white",
            "showbackground": true,
            "ticks": "",
            "zerolinecolor": "white"
           },
           "yaxis": {
            "backgroundcolor": "#E5ECF6",
            "gridcolor": "white",
            "gridwidth": 2,
            "linecolor": "white",
            "showbackground": true,
            "ticks": "",
            "zerolinecolor": "white"
           },
           "zaxis": {
            "backgroundcolor": "#E5ECF6",
            "gridcolor": "white",
            "gridwidth": 2,
            "linecolor": "white",
            "showbackground": true,
            "ticks": "",
            "zerolinecolor": "white"
           }
          },
          "shapedefaults": {
           "line": {
            "color": "#2a3f5f"
           }
          },
          "ternary": {
           "aaxis": {
            "gridcolor": "white",
            "linecolor": "white",
            "ticks": ""
           },
           "baxis": {
            "gridcolor": "white",
            "linecolor": "white",
            "ticks": ""
           },
           "bgcolor": "#E5ECF6",
           "caxis": {
            "gridcolor": "white",
            "linecolor": "white",
            "ticks": ""
           }
          },
          "title": {
           "x": 0.05
          },
          "xaxis": {
           "automargin": true,
           "gridcolor": "white",
           "linecolor": "white",
           "ticks": "",
           "title": {
            "standoff": 15
           },
           "zerolinecolor": "white",
           "zerolinewidth": 2
          },
          "yaxis": {
           "automargin": true,
           "gridcolor": "white",
           "linecolor": "white",
           "ticks": "",
           "title": {
            "standoff": 15
           },
           "zerolinecolor": "white",
           "zerolinewidth": 2
          }
         }
        },
        "title": {
         "font": {
          "color": "#4D5663"
         }
        },
        "xaxis": {
         "gridcolor": "#E1E5ED",
         "showgrid": true,
         "tickfont": {
          "color": "#4D5663"
         },
         "title": {
          "font": {
           "color": "#4D5663"
          },
          "text": ""
         },
         "zerolinecolor": "#E1E5ED"
        },
        "yaxis": {
         "gridcolor": "#E1E5ED",
         "showgrid": true,
         "tickfont": {
          "color": "#4D5663"
         },
         "title": {
          "font": {
           "color": "#4D5663"
          },
          "text": ""
         },
         "zerolinecolor": "#E1E5ED"
        }
       }
      },
      "text/html": [
       "<div>                            <div id=\"5505a5fe-d0a3-475a-bd65-9df83fde96ef\" class=\"plotly-graph-div\" style=\"height:525px; width:100%;\"></div>            <script type=\"text/javascript\">                require([\"plotly\"], function(Plotly) {                    window.PLOTLYENV=window.PLOTLYENV || {};\n",
       "                    window.PLOTLYENV.BASE_URL='https://plot.ly';                                    if (document.getElementById(\"5505a5fe-d0a3-475a-bd65-9df83fde96ef\")) {                    Plotly.newPlot(                        \"5505a5fe-d0a3-475a-bd65-9df83fde96ef\",                        [{\"marker\":{\"color\":[\"rgb(255, 153, 51)\",\"rgb(55, 128, 191)\",\"rgb(50, 171, 96)\",\"rgb(128, 0, 128)\",\"rgb(219, 64, 82)\",\"rgb(0, 128, 128)\",\"rgb(255, 255, 51)\",\"rgb(128, 128, 0)\",\"rgb(251, 128, 114)\",\"rgb(128, 177, 211)\"],\"line\":{\"width\":1.3},\"size\":[45,46,12,21,92,91,90,78,40,58,66,46,92,110,41,68,45,30,75,69,82,50,96,67,57,61,80,47,62,64,66,81,74,58,71,68,78,65,71,71,66,62,65,88,75,91,77,75,69,50,112,106,80,50,86,74,54,55,61,68,63,46,69,58,39,38,65,75,35,49,69,82,91,70,88,52,98,47,68,67,64,56,80,44,50,75,69,84,40,75,96,83,43,25,42,36,46,75,76,93],\"symbol\":\"circle\"},\"mode\":\"markers\",\"text\":\"\",\"type\":\"scatter\",\"x\":[-1.4540004081478248,-0.11007355043051158,0.10982869675375188,-0.6483522274923497,0.6456682145863891,-0.9941365717586216,0.49132505126695764,0.574692293480332,-0.601149273426994,1.1681530928816495,0.9225460509197592,1.4080120518402826,0.5112988358011514,1.9042321289343245,-1.0519246485155396,-1.6145722564049436,-0.3069777634201451,-1.046904859984683,-0.19803089353167186,-0.319827137822687,-1.8082591352742183,2.0747833640870983,-0.19248509296146513,0.08128642613710906,-0.45443881176401013,0.7097203042406512,-0.38455851977652145,1.3908414664195914,-1.3692379339272545,0.44948683633089076,2.2757464103816396,-0.7935122389343489,-0.6456240932055214,-0.4204489550137737,0.19391000998362268,1.8194934307807404,-0.18217550385942105,-0.008290286976937332,0.8243979074928602,0.3721440133587712,0.5998082876547112,1.7708564035903112,1.7102348631178188,1.418303290602573,-0.34701523804234624,0.5032772588783692,-1.2452558870960557,-0.9970360030520007,0.5907178721512375,-2.7230352978400645,0.20055780980890967,-0.6137366637905584,-0.6086630310241073,-1.1087394788361375,0.6641586046761034,0.7193702690264225,0.9296696099660978,0.7317327604793983,-0.047201435658269515,-0.30334032362370084,0.02862471197069708,-0.27828523810730366,-0.44179553515129544,-0.024118842829569834,0.31227647731563263,0.8701847072134986,-0.22309656965636257,-0.20770513965651302,0.47142175538379566,0.5011247094412172,-1.3620146525279155,-0.14795098303784995,0.14196298736049628,-1.016884709309532,-0.4917906274473433,-0.12051799859600523,-0.17247939382189223,0.9541553890998549,1.4315140899860428,-0.00992095518753176,0.6018254201751347,-1.5789016803240072,0.727904003014525,-1.0147581420106258,1.0690133891339306,-1.1021364000773435,-0.23513861545976072,0.18364122505394662,-0.8165901971585968,-0.6081818370731323,0.621396892849809,-0.10947553062274686,0.11382492392576911,0.43714209861981645,-0.2654839651102387,1.5224160299697473,0.1199575783051826,0.6250937851392976,0.6354018783850093,-1.286302152646409],\"y\":[0.9804902717892854,-0.8116560269021028,-0.5304074349441019,0.7314708976817439,-1.317813889901291,0.5515653245923914,-1.007512904863618,0.027869316274254607,0.9373009762002932,0.3263313741977739,-1.4731555994613688,-1.5692248514343379,0.2247986762962962,-0.237046026508892,-0.29187496753921166,-0.5276451598659568,-0.4604939334911615,1.0622630019029553,0.2018053826239793,0.2152987530552919,0.5765946081004806,-1.0574687398285258,0.8147327040239873,-1.565196244472277,2.1161876872641905,-1.152433159222957,-0.4421984138276069,0.9879694617836262,-1.1377408514340306,-0.2904951299578208,0.941100139067152,-0.679405397666701,-0.14503723137893423,-2.3704740272865727,-1.4393468389346427,-1.9138285718222479,-0.40541957113900345,-0.6406358830486115,1.9669854746622704,0.24587824563188523,-1.0450644420469437,-0.3915593556466746,0.1319976106693394,-0.541910078691539,-0.45877995278105627,-0.04744886791407573,1.6744233390504226,-2.30929247012321,-0.42269700138534194,-0.4059181196519094,-0.47253102278763687,-1.5863850507771629,-0.1432502014946788,-0.3977794705846313,0.25058076876857827,1.0380414048510445,0.6510006302802921,-0.2380316037498957,-0.8630875614869196,0.6666007826208047,-1.869332074666846,-0.10507746883011831,0.26794216779872787,-1.8705098086426515,0.1589793056477878,-0.2250804552980786,-0.37249110592689794,0.36992866619033515,-0.8588867390570646,0.6841615555235582,0.6895449549121019,-1.653588892920698,-0.9066261328784851,0.06339155195534256,1.289405210397382,1.9058872332362038,0.9120647093077785,0.991419763084864,0.1620854385425183,-0.07940006271257556,1.3785162664718305,-0.27038388476787795,-0.9615886098208666,0.00405632774123973,1.2870366134246083,0.647698409026788,1.437094810613269,1.714407268630869,-0.7207396837198342,-0.8724684564766381,-1.091969997227892,-0.6433087841112413,-2.1803283139883036,1.647186106737404,0.6038710322432059,0.9708787477958503,-1.4414590443258994,0.0008702819208328536,-1.219643854961161,-0.6606360890090951]}],                        {\"legend\":{\"bgcolor\":\"#F5F6F9\",\"font\":{\"color\":\"#4D5663\"}},\"paper_bgcolor\":\"#F5F6F9\",\"plot_bgcolor\":\"#F5F6F9\",\"template\":{\"data\":{\"bar\":[{\"error_x\":{\"color\":\"#2a3f5f\"},\"error_y\":{\"color\":\"#2a3f5f\"},\"marker\":{\"line\":{\"color\":\"#E5ECF6\",\"width\":0.5},\"pattern\":{\"fillmode\":\"overlay\",\"size\":10,\"solidity\":0.2}},\"type\":\"bar\"}],\"barpolar\":[{\"marker\":{\"line\":{\"color\":\"#E5ECF6\",\"width\":0.5},\"pattern\":{\"fillmode\":\"overlay\",\"size\":10,\"solidity\":0.2}},\"type\":\"barpolar\"}],\"carpet\":[{\"aaxis\":{\"endlinecolor\":\"#2a3f5f\",\"gridcolor\":\"white\",\"linecolor\":\"white\",\"minorgridcolor\":\"white\",\"startlinecolor\":\"#2a3f5f\"},\"baxis\":{\"endlinecolor\":\"#2a3f5f\",\"gridcolor\":\"white\",\"linecolor\":\"white\",\"minorgridcolor\":\"white\",\"startlinecolor\":\"#2a3f5f\"},\"type\":\"carpet\"}],\"choropleth\":[{\"colorbar\":{\"outlinewidth\":0,\"ticks\":\"\"},\"type\":\"choropleth\"}],\"contour\":[{\"colorbar\":{\"outlinewidth\":0,\"ticks\":\"\"},\"colorscale\":[[0.0,\"#0d0887\"],[0.1111111111111111,\"#46039f\"],[0.2222222222222222,\"#7201a8\"],[0.3333333333333333,\"#9c179e\"],[0.4444444444444444,\"#bd3786\"],[0.5555555555555556,\"#d8576b\"],[0.6666666666666666,\"#ed7953\"],[0.7777777777777778,\"#fb9f3a\"],[0.8888888888888888,\"#fdca26\"],[1.0,\"#f0f921\"]],\"type\":\"contour\"}],\"contourcarpet\":[{\"colorbar\":{\"outlinewidth\":0,\"ticks\":\"\"},\"type\":\"contourcarpet\"}],\"heatmap\":[{\"colorbar\":{\"outlinewidth\":0,\"ticks\":\"\"},\"colorscale\":[[0.0,\"#0d0887\"],[0.1111111111111111,\"#46039f\"],[0.2222222222222222,\"#7201a8\"],[0.3333333333333333,\"#9c179e\"],[0.4444444444444444,\"#bd3786\"],[0.5555555555555556,\"#d8576b\"],[0.6666666666666666,\"#ed7953\"],[0.7777777777777778,\"#fb9f3a\"],[0.8888888888888888,\"#fdca26\"],[1.0,\"#f0f921\"]],\"type\":\"heatmap\"}],\"heatmapgl\":[{\"colorbar\":{\"outlinewidth\":0,\"ticks\":\"\"},\"colorscale\":[[0.0,\"#0d0887\"],[0.1111111111111111,\"#46039f\"],[0.2222222222222222,\"#7201a8\"],[0.3333333333333333,\"#9c179e\"],[0.4444444444444444,\"#bd3786\"],[0.5555555555555556,\"#d8576b\"],[0.6666666666666666,\"#ed7953\"],[0.7777777777777778,\"#fb9f3a\"],[0.8888888888888888,\"#fdca26\"],[1.0,\"#f0f921\"]],\"type\":\"heatmapgl\"}],\"histogram\":[{\"marker\":{\"pattern\":{\"fillmode\":\"overlay\",\"size\":10,\"solidity\":0.2}},\"type\":\"histogram\"}],\"histogram2d\":[{\"colorbar\":{\"outlinewidth\":0,\"ticks\":\"\"},\"colorscale\":[[0.0,\"#0d0887\"],[0.1111111111111111,\"#46039f\"],[0.2222222222222222,\"#7201a8\"],[0.3333333333333333,\"#9c179e\"],[0.4444444444444444,\"#bd3786\"],[0.5555555555555556,\"#d8576b\"],[0.6666666666666666,\"#ed7953\"],[0.7777777777777778,\"#fb9f3a\"],[0.8888888888888888,\"#fdca26\"],[1.0,\"#f0f921\"]],\"type\":\"histogram2d\"}],\"histogram2dcontour\":[{\"colorbar\":{\"outlinewidth\":0,\"ticks\":\"\"},\"colorscale\":[[0.0,\"#0d0887\"],[0.1111111111111111,\"#46039f\"],[0.2222222222222222,\"#7201a8\"],[0.3333333333333333,\"#9c179e\"],[0.4444444444444444,\"#bd3786\"],[0.5555555555555556,\"#d8576b\"],[0.6666666666666666,\"#ed7953\"],[0.7777777777777778,\"#fb9f3a\"],[0.8888888888888888,\"#fdca26\"],[1.0,\"#f0f921\"]],\"type\":\"histogram2dcontour\"}],\"mesh3d\":[{\"colorbar\":{\"outlinewidth\":0,\"ticks\":\"\"},\"type\":\"mesh3d\"}],\"parcoords\":[{\"line\":{\"colorbar\":{\"outlinewidth\":0,\"ticks\":\"\"}},\"type\":\"parcoords\"}],\"pie\":[{\"automargin\":true,\"type\":\"pie\"}],\"scatter\":[{\"marker\":{\"colorbar\":{\"outlinewidth\":0,\"ticks\":\"\"}},\"type\":\"scatter\"}],\"scatter3d\":[{\"line\":{\"colorbar\":{\"outlinewidth\":0,\"ticks\":\"\"}},\"marker\":{\"colorbar\":{\"outlinewidth\":0,\"ticks\":\"\"}},\"type\":\"scatter3d\"}],\"scattercarpet\":[{\"marker\":{\"colorbar\":{\"outlinewidth\":0,\"ticks\":\"\"}},\"type\":\"scattercarpet\"}],\"scattergeo\":[{\"marker\":{\"colorbar\":{\"outlinewidth\":0,\"ticks\":\"\"}},\"type\":\"scattergeo\"}],\"scattergl\":[{\"marker\":{\"colorbar\":{\"outlinewidth\":0,\"ticks\":\"\"}},\"type\":\"scattergl\"}],\"scattermapbox\":[{\"marker\":{\"colorbar\":{\"outlinewidth\":0,\"ticks\":\"\"}},\"type\":\"scattermapbox\"}],\"scatterpolar\":[{\"marker\":{\"colorbar\":{\"outlinewidth\":0,\"ticks\":\"\"}},\"type\":\"scatterpolar\"}],\"scatterpolargl\":[{\"marker\":{\"colorbar\":{\"outlinewidth\":0,\"ticks\":\"\"}},\"type\":\"scatterpolargl\"}],\"scatterternary\":[{\"marker\":{\"colorbar\":{\"outlinewidth\":0,\"ticks\":\"\"}},\"type\":\"scatterternary\"}],\"surface\":[{\"colorbar\":{\"outlinewidth\":0,\"ticks\":\"\"},\"colorscale\":[[0.0,\"#0d0887\"],[0.1111111111111111,\"#46039f\"],[0.2222222222222222,\"#7201a8\"],[0.3333333333333333,\"#9c179e\"],[0.4444444444444444,\"#bd3786\"],[0.5555555555555556,\"#d8576b\"],[0.6666666666666666,\"#ed7953\"],[0.7777777777777778,\"#fb9f3a\"],[0.8888888888888888,\"#fdca26\"],[1.0,\"#f0f921\"]],\"type\":\"surface\"}],\"table\":[{\"cells\":{\"fill\":{\"color\":\"#EBF0F8\"},\"line\":{\"color\":\"white\"}},\"header\":{\"fill\":{\"color\":\"#C8D4E3\"},\"line\":{\"color\":\"white\"}},\"type\":\"table\"}]},\"layout\":{\"annotationdefaults\":{\"arrowcolor\":\"#2a3f5f\",\"arrowhead\":0,\"arrowwidth\":1},\"autotypenumbers\":\"strict\",\"coloraxis\":{\"colorbar\":{\"outlinewidth\":0,\"ticks\":\"\"}},\"colorscale\":{\"diverging\":[[0,\"#8e0152\"],[0.1,\"#c51b7d\"],[0.2,\"#de77ae\"],[0.3,\"#f1b6da\"],[0.4,\"#fde0ef\"],[0.5,\"#f7f7f7\"],[0.6,\"#e6f5d0\"],[0.7,\"#b8e186\"],[0.8,\"#7fbc41\"],[0.9,\"#4d9221\"],[1,\"#276419\"]],\"sequential\":[[0.0,\"#0d0887\"],[0.1111111111111111,\"#46039f\"],[0.2222222222222222,\"#7201a8\"],[0.3333333333333333,\"#9c179e\"],[0.4444444444444444,\"#bd3786\"],[0.5555555555555556,\"#d8576b\"],[0.6666666666666666,\"#ed7953\"],[0.7777777777777778,\"#fb9f3a\"],[0.8888888888888888,\"#fdca26\"],[1.0,\"#f0f921\"]],\"sequentialminus\":[[0.0,\"#0d0887\"],[0.1111111111111111,\"#46039f\"],[0.2222222222222222,\"#7201a8\"],[0.3333333333333333,\"#9c179e\"],[0.4444444444444444,\"#bd3786\"],[0.5555555555555556,\"#d8576b\"],[0.6666666666666666,\"#ed7953\"],[0.7777777777777778,\"#fb9f3a\"],[0.8888888888888888,\"#fdca26\"],[1.0,\"#f0f921\"]]},\"colorway\":[\"#636efa\",\"#EF553B\",\"#00cc96\",\"#ab63fa\",\"#FFA15A\",\"#19d3f3\",\"#FF6692\",\"#B6E880\",\"#FF97FF\",\"#FECB52\"],\"font\":{\"color\":\"#2a3f5f\"},\"geo\":{\"bgcolor\":\"white\",\"lakecolor\":\"white\",\"landcolor\":\"#E5ECF6\",\"showlakes\":true,\"showland\":true,\"subunitcolor\":\"white\"},\"hoverlabel\":{\"align\":\"left\"},\"hovermode\":\"closest\",\"mapbox\":{\"style\":\"light\"},\"paper_bgcolor\":\"white\",\"plot_bgcolor\":\"#E5ECF6\",\"polar\":{\"angularaxis\":{\"gridcolor\":\"white\",\"linecolor\":\"white\",\"ticks\":\"\"},\"bgcolor\":\"#E5ECF6\",\"radialaxis\":{\"gridcolor\":\"white\",\"linecolor\":\"white\",\"ticks\":\"\"}},\"scene\":{\"xaxis\":{\"backgroundcolor\":\"#E5ECF6\",\"gridcolor\":\"white\",\"gridwidth\":2,\"linecolor\":\"white\",\"showbackground\":true,\"ticks\":\"\",\"zerolinecolor\":\"white\"},\"yaxis\":{\"backgroundcolor\":\"#E5ECF6\",\"gridcolor\":\"white\",\"gridwidth\":2,\"linecolor\":\"white\",\"showbackground\":true,\"ticks\":\"\",\"zerolinecolor\":\"white\"},\"zaxis\":{\"backgroundcolor\":\"#E5ECF6\",\"gridcolor\":\"white\",\"gridwidth\":2,\"linecolor\":\"white\",\"showbackground\":true,\"ticks\":\"\",\"zerolinecolor\":\"white\"}},\"shapedefaults\":{\"line\":{\"color\":\"#2a3f5f\"}},\"ternary\":{\"aaxis\":{\"gridcolor\":\"white\",\"linecolor\":\"white\",\"ticks\":\"\"},\"baxis\":{\"gridcolor\":\"white\",\"linecolor\":\"white\",\"ticks\":\"\"},\"bgcolor\":\"#E5ECF6\",\"caxis\":{\"gridcolor\":\"white\",\"linecolor\":\"white\",\"ticks\":\"\"}},\"title\":{\"x\":0.05},\"xaxis\":{\"automargin\":true,\"gridcolor\":\"white\",\"linecolor\":\"white\",\"ticks\":\"\",\"title\":{\"standoff\":15},\"zerolinecolor\":\"white\",\"zerolinewidth\":2},\"yaxis\":{\"automargin\":true,\"gridcolor\":\"white\",\"linecolor\":\"white\",\"ticks\":\"\",\"title\":{\"standoff\":15},\"zerolinecolor\":\"white\",\"zerolinewidth\":2}}},\"title\":{\"font\":{\"color\":\"#4D5663\"}},\"xaxis\":{\"gridcolor\":\"#E1E5ED\",\"showgrid\":true,\"tickfont\":{\"color\":\"#4D5663\"},\"title\":{\"font\":{\"color\":\"#4D5663\"},\"text\":\"\"},\"zerolinecolor\":\"#E1E5ED\"},\"yaxis\":{\"gridcolor\":\"#E1E5ED\",\"showgrid\":true,\"tickfont\":{\"color\":\"#4D5663\"},\"title\":{\"font\":{\"color\":\"#4D5663\"},\"text\":\"\"},\"zerolinecolor\":\"#E1E5ED\"}},                        {\"showLink\": true, \"linkText\": \"Export to plot.ly\", \"plotlyServerURL\": \"https://plot.ly\", \"responsive\": true}                    ).then(function(){\n",
       "                            \n",
       "var gd = document.getElementById('5505a5fe-d0a3-475a-bd65-9df83fde96ef');\n",
       "var x = new MutationObserver(function (mutations, observer) {{\n",
       "        var display = window.getComputedStyle(gd).display;\n",
       "        if (!display || display === 'none') {{\n",
       "            console.log([gd, 'removed!']);\n",
       "            Plotly.purge(gd);\n",
       "            observer.disconnect();\n",
       "        }}\n",
       "}});\n",
       "\n",
       "// Listen for the removal of the full notebook cells\n",
       "var notebookContainer = gd.closest('#notebook-container');\n",
       "if (notebookContainer) {{\n",
       "    x.observe(notebookContainer, {childList: true});\n",
       "}}\n",
       "\n",
       "// Listen for the clearing of the current output cell\n",
       "var outputEl = gd.closest('.output');\n",
       "if (outputEl) {{\n",
       "    x.observe(outputEl, {childList: true});\n",
       "}}\n",
       "\n",
       "                        })                };                });            </script>        </div>"
      ]
     },
     "metadata": {},
     "output_type": "display_data"
    }
   ],
   "source": [
    "df.iplot(kind='bubble',x='A',y='B',size='C')"
   ]
  },
  {
   "cell_type": "markdown",
   "metadata": {},
   "source": [
    "## scatter_matrix()\n",
    "\n",
    "Similar to sns.pairplot()"
   ]
  },
  {
   "cell_type": "code",
   "execution_count": 18,
   "metadata": {},
   "outputs": [
    {
     "data": {
      "application/vnd.plotly.v1+json": {
       "config": {
        "linkText": "Export to plot.ly",
        "plotlyServerURL": "https://plot.ly",
        "showLink": true
       },
       "data": [
        {
         "histfunc": "count",
         "histnorm": "",
         "marker": {
          "color": "rgba(255, 153, 51, 1.0)",
          "line": {
           "color": "#4D5663",
           "width": 1.3
          }
         },
         "name": "A",
         "nbinsx": 10,
         "opacity": 0.8,
         "orientation": "v",
         "type": "histogram",
         "x": [
          -1.4540004081478248,
          -0.11007355043051158,
          0.10982869675375188,
          -0.6483522274923497,
          0.6456682145863891,
          -0.9941365717586216,
          0.49132505126695764,
          0.574692293480332,
          -0.601149273426994,
          1.1681530928816495,
          0.9225460509197592,
          1.4080120518402826,
          0.5112988358011514,
          1.9042321289343245,
          -1.0519246485155396,
          -1.6145722564049436,
          -0.3069777634201451,
          -1.046904859984683,
          -0.19803089353167186,
          -0.319827137822687,
          -1.8082591352742183,
          2.0747833640870983,
          -0.19248509296146513,
          0.08128642613710906,
          -0.45443881176401013,
          0.7097203042406512,
          -0.38455851977652145,
          1.3908414664195914,
          -1.3692379339272545,
          0.44948683633089076,
          2.2757464103816396,
          -0.7935122389343489,
          -0.6456240932055214,
          -0.4204489550137737,
          0.19391000998362268,
          1.8194934307807404,
          -0.18217550385942105,
          -0.008290286976937332,
          0.8243979074928602,
          0.3721440133587712,
          0.5998082876547112,
          1.7708564035903112,
          1.7102348631178188,
          1.418303290602573,
          -0.34701523804234624,
          0.5032772588783692,
          -1.2452558870960557,
          -0.9970360030520007,
          0.5907178721512375,
          -2.7230352978400645,
          0.20055780980890967,
          -0.6137366637905584,
          -0.6086630310241073,
          -1.1087394788361375,
          0.6641586046761034,
          0.7193702690264225,
          0.9296696099660978,
          0.7317327604793983,
          -0.047201435658269515,
          -0.30334032362370084,
          0.02862471197069708,
          -0.27828523810730366,
          -0.44179553515129544,
          -0.024118842829569834,
          0.31227647731563263,
          0.8701847072134986,
          -0.22309656965636257,
          -0.20770513965651302,
          0.47142175538379566,
          0.5011247094412172,
          -1.3620146525279155,
          -0.14795098303784995,
          0.14196298736049628,
          -1.016884709309532,
          -0.4917906274473433,
          -0.12051799859600523,
          -0.17247939382189223,
          0.9541553890998549,
          1.4315140899860428,
          -0.00992095518753176,
          0.6018254201751347,
          -1.5789016803240072,
          0.727904003014525,
          -1.0147581420106258,
          1.0690133891339306,
          -1.1021364000773435,
          -0.23513861545976072,
          0.18364122505394662,
          -0.8165901971585968,
          -0.6081818370731323,
          0.621396892849809,
          -0.10947553062274686,
          0.11382492392576911,
          0.43714209861981645,
          -0.2654839651102387,
          1.5224160299697473,
          0.1199575783051826,
          0.6250937851392976,
          0.6354018783850093,
          -1.286302152646409
         ],
         "xaxis": "x",
         "yaxis": "y"
        },
        {
         "line": {
          "color": "rgba(128, 128, 128, 1.0)",
          "dash": "solid",
          "shape": "linear",
          "width": 1.3
         },
         "marker": {
          "size": 2,
          "symbol": "circle"
         },
         "mode": "markers",
         "name": "A",
         "text": "",
         "type": "scatter",
         "x": [
          0.9804902717892854,
          -0.8116560269021028,
          -0.5304074349441019,
          0.7314708976817439,
          -1.317813889901291,
          0.5515653245923914,
          -1.007512904863618,
          0.027869316274254607,
          0.9373009762002932,
          0.3263313741977739,
          -1.4731555994613688,
          -1.5692248514343379,
          0.2247986762962962,
          -0.237046026508892,
          -0.29187496753921166,
          -0.5276451598659568,
          -0.4604939334911615,
          1.0622630019029553,
          0.2018053826239793,
          0.2152987530552919,
          0.5765946081004806,
          -1.0574687398285258,
          0.8147327040239873,
          -1.565196244472277,
          2.1161876872641905,
          -1.152433159222957,
          -0.4421984138276069,
          0.9879694617836262,
          -1.1377408514340306,
          -0.2904951299578208,
          0.941100139067152,
          -0.679405397666701,
          -0.14503723137893423,
          -2.3704740272865727,
          -1.4393468389346427,
          -1.9138285718222479,
          -0.40541957113900345,
          -0.6406358830486115,
          1.9669854746622704,
          0.24587824563188523,
          -1.0450644420469437,
          -0.3915593556466746,
          0.1319976106693394,
          -0.541910078691539,
          -0.45877995278105627,
          -0.04744886791407573,
          1.6744233390504226,
          -2.30929247012321,
          -0.42269700138534194,
          -0.4059181196519094,
          -0.47253102278763687,
          -1.5863850507771629,
          -0.1432502014946788,
          -0.3977794705846313,
          0.25058076876857827,
          1.0380414048510445,
          0.6510006302802921,
          -0.2380316037498957,
          -0.8630875614869196,
          0.6666007826208047,
          -1.869332074666846,
          -0.10507746883011831,
          0.26794216779872787,
          -1.8705098086426515,
          0.1589793056477878,
          -0.2250804552980786,
          -0.37249110592689794,
          0.36992866619033515,
          -0.8588867390570646,
          0.6841615555235582,
          0.6895449549121019,
          -1.653588892920698,
          -0.9066261328784851,
          0.06339155195534256,
          1.289405210397382,
          1.9058872332362038,
          0.9120647093077785,
          0.991419763084864,
          0.1620854385425183,
          -0.07940006271257556,
          1.3785162664718305,
          -0.27038388476787795,
          -0.9615886098208666,
          0.00405632774123973,
          1.2870366134246083,
          0.647698409026788,
          1.437094810613269,
          1.714407268630869,
          -0.7207396837198342,
          -0.8724684564766381,
          -1.091969997227892,
          -0.6433087841112413,
          -2.1803283139883036,
          1.647186106737404,
          0.6038710322432059,
          0.9708787477958503,
          -1.4414590443258994,
          0.0008702819208328536,
          -1.219643854961161,
          -0.6606360890090951
         ],
         "xaxis": "x2",
         "y": [
          -1.4540004081478248,
          -0.11007355043051158,
          0.10982869675375188,
          -0.6483522274923497,
          0.6456682145863891,
          -0.9941365717586216,
          0.49132505126695764,
          0.574692293480332,
          -0.601149273426994,
          1.1681530928816495,
          0.9225460509197592,
          1.4080120518402826,
          0.5112988358011514,
          1.9042321289343245,
          -1.0519246485155396,
          -1.6145722564049436,
          -0.3069777634201451,
          -1.046904859984683,
          -0.19803089353167186,
          -0.319827137822687,
          -1.8082591352742183,
          2.0747833640870983,
          -0.19248509296146513,
          0.08128642613710906,
          -0.45443881176401013,
          0.7097203042406512,
          -0.38455851977652145,
          1.3908414664195914,
          -1.3692379339272545,
          0.44948683633089076,
          2.2757464103816396,
          -0.7935122389343489,
          -0.6456240932055214,
          -0.4204489550137737,
          0.19391000998362268,
          1.8194934307807404,
          -0.18217550385942105,
          -0.008290286976937332,
          0.8243979074928602,
          0.3721440133587712,
          0.5998082876547112,
          1.7708564035903112,
          1.7102348631178188,
          1.418303290602573,
          -0.34701523804234624,
          0.5032772588783692,
          -1.2452558870960557,
          -0.9970360030520007,
          0.5907178721512375,
          -2.7230352978400645,
          0.20055780980890967,
          -0.6137366637905584,
          -0.6086630310241073,
          -1.1087394788361375,
          0.6641586046761034,
          0.7193702690264225,
          0.9296696099660978,
          0.7317327604793983,
          -0.047201435658269515,
          -0.30334032362370084,
          0.02862471197069708,
          -0.27828523810730366,
          -0.44179553515129544,
          -0.024118842829569834,
          0.31227647731563263,
          0.8701847072134986,
          -0.22309656965636257,
          -0.20770513965651302,
          0.47142175538379566,
          0.5011247094412172,
          -1.3620146525279155,
          -0.14795098303784995,
          0.14196298736049628,
          -1.016884709309532,
          -0.4917906274473433,
          -0.12051799859600523,
          -0.17247939382189223,
          0.9541553890998549,
          1.4315140899860428,
          -0.00992095518753176,
          0.6018254201751347,
          -1.5789016803240072,
          0.727904003014525,
          -1.0147581420106258,
          1.0690133891339306,
          -1.1021364000773435,
          -0.23513861545976072,
          0.18364122505394662,
          -0.8165901971585968,
          -0.6081818370731323,
          0.621396892849809,
          -0.10947553062274686,
          0.11382492392576911,
          0.43714209861981645,
          -0.2654839651102387,
          1.5224160299697473,
          0.1199575783051826,
          0.6250937851392976,
          0.6354018783850093,
          -1.286302152646409
         ],
         "yaxis": "y2"
        },
        {
         "line": {
          "color": "rgba(128, 128, 128, 1.0)",
          "dash": "solid",
          "shape": "linear",
          "width": 1.3
         },
         "marker": {
          "size": 2,
          "symbol": "circle"
         },
         "mode": "markers",
         "name": "A",
         "text": "",
         "type": "scatter",
         "x": [
          -1.161719298691836,
          -1.0916825074866223,
          -2.9825477305727035,
          -2.475669661262326,
          1.456186346184792,
          1.3816041807016337,
          1.3195304049192735,
          0.6587256882669855,
          -1.439165067192226,
          -0.43699058870637647,
          0.030662369922433153,
          -1.074801261596589,
          1.4672896709547916,
          2.4294741808989597,
          -1.3300612411519335,
          0.12360199885813726,
          -1.1100320626833795,
          -1.9481812739962805,
          0.5101036728576388,
          0.19210497589930678,
          0.878977715696145,
          -0.8354183307024506,
          1.6624700659165366,
          0.05130672063425422,
          -0.49685589778790046,
          -0.27972718918567735,
          0.8195072984821689,
          -1.0524532465814262,
          -0.20993416349935998,
          -0.11582228972763953,
          0.014037098737650168,
          0.8219951862155216,
          0.4374724389433576,
          -0.418675610794777,
          0.32164517262803943,
          0.15320059147000115,
          0.6772608912459958,
          -0.01641495746276642,
          0.3090623540014178,
          0.2701293389588942,
          0.027057053498706393,
          -0.20771001965939312,
          -0.05677398146816477,
          1.250600094924929,
          0.5220909669365739,
          1.4234962228342811,
          0.6321146987710506,
          0.5334532009607121,
          0.1629850540939295,
          -0.87829596628481,
          2.5280168787052193,
          2.209469459525066,
          0.7932948359942287,
          -0.875025889694795,
          1.1402833376921382,
          0.467238083670141,
          -0.6367012618862695,
          -0.61033591225038,
          -0.24992263127232084,
          0.11207716720034717,
          -0.14607539411494389,
          -1.0628437541075413,
          0.16618139310731325,
          -0.4240969510625668,
          -1.457684160338106,
          -1.495750098327223,
          -0.02166679295452642,
          0.5417684211281204,
          -1.7124295423139781,
          -0.9146427628437475,
          0.17495224840908674,
          0.8865119250208765,
          1.3718927634002418,
          0.2359446029107882,
          1.224195854810709,
          -0.7443163795201444,
          1.7726948378175622,
          -1.0174667808833495,
          0.12868898593907074,
          0.090533232086863,
          -0.0734277166777296,
          -0.5265644035620964,
          0.8107837785590719,
          -1.183999544757503,
          -0.862035349573676,
          0.5176448294608778,
          0.18869043790781748,
          0.9888947010910468,
          -1.4379535636986602,
          0.5416497866026636,
          1.6759241420414497,
          0.9456654320533658,
          -1.2649454655124723,
          -2.2216352260489542,
          -1.327699359671679,
          -1.6589965933037774,
          -1.089696945007076,
          0.5293226014151536,
          0.5765582145015115,
          1.5264108758043518
         ],
         "xaxis": "x3",
         "y": [
          -1.4540004081478248,
          -0.11007355043051158,
          0.10982869675375188,
          -0.6483522274923497,
          0.6456682145863891,
          -0.9941365717586216,
          0.49132505126695764,
          0.574692293480332,
          -0.601149273426994,
          1.1681530928816495,
          0.9225460509197592,
          1.4080120518402826,
          0.5112988358011514,
          1.9042321289343245,
          -1.0519246485155396,
          -1.6145722564049436,
          -0.3069777634201451,
          -1.046904859984683,
          -0.19803089353167186,
          -0.319827137822687,
          -1.8082591352742183,
          2.0747833640870983,
          -0.19248509296146513,
          0.08128642613710906,
          -0.45443881176401013,
          0.7097203042406512,
          -0.38455851977652145,
          1.3908414664195914,
          -1.3692379339272545,
          0.44948683633089076,
          2.2757464103816396,
          -0.7935122389343489,
          -0.6456240932055214,
          -0.4204489550137737,
          0.19391000998362268,
          1.8194934307807404,
          -0.18217550385942105,
          -0.008290286976937332,
          0.8243979074928602,
          0.3721440133587712,
          0.5998082876547112,
          1.7708564035903112,
          1.7102348631178188,
          1.418303290602573,
          -0.34701523804234624,
          0.5032772588783692,
          -1.2452558870960557,
          -0.9970360030520007,
          0.5907178721512375,
          -2.7230352978400645,
          0.20055780980890967,
          -0.6137366637905584,
          -0.6086630310241073,
          -1.1087394788361375,
          0.6641586046761034,
          0.7193702690264225,
          0.9296696099660978,
          0.7317327604793983,
          -0.047201435658269515,
          -0.30334032362370084,
          0.02862471197069708,
          -0.27828523810730366,
          -0.44179553515129544,
          -0.024118842829569834,
          0.31227647731563263,
          0.8701847072134986,
          -0.22309656965636257,
          -0.20770513965651302,
          0.47142175538379566,
          0.5011247094412172,
          -1.3620146525279155,
          -0.14795098303784995,
          0.14196298736049628,
          -1.016884709309532,
          -0.4917906274473433,
          -0.12051799859600523,
          -0.17247939382189223,
          0.9541553890998549,
          1.4315140899860428,
          -0.00992095518753176,
          0.6018254201751347,
          -1.5789016803240072,
          0.727904003014525,
          -1.0147581420106258,
          1.0690133891339306,
          -1.1021364000773435,
          -0.23513861545976072,
          0.18364122505394662,
          -0.8165901971585968,
          -0.6081818370731323,
          0.621396892849809,
          -0.10947553062274686,
          0.11382492392576911,
          0.43714209861981645,
          -0.2654839651102387,
          1.5224160299697473,
          0.1199575783051826,
          0.6250937851392976,
          0.6354018783850093,
          -1.286302152646409
         ],
         "yaxis": "y3"
        },
        {
         "line": {
          "color": "rgba(128, 128, 128, 1.0)",
          "dash": "solid",
          "shape": "linear",
          "width": 1.3
         },
         "marker": {
          "size": 2,
          "symbol": "circle"
         },
         "mode": "markers",
         "name": "A",
         "text": "",
         "type": "scatter",
         "x": [
          0.6970478968175908,
          -0.008281257382003382,
          0.056427851613856064,
          -1.3364228238042606,
          1.8669013933166234,
          0.010045041235569934,
          -1.5276487157483474,
          0.3755057040612648,
          -0.5490921349090621,
          -0.36269090826021194,
          0.8696582649739367,
          0.23639989494106622,
          -0.029962836343930963,
          0.02221121178753949,
          0.22823138899536707,
          -0.34603891847596324,
          1.2720414653213947,
          -0.5310037013792711,
          0.18305790711090902,
          1.1659576412888744,
          -1.0445411205881696,
          -1.1289465438812338,
          -0.5465652450053174,
          -0.6722834217872077,
          0.6570728061688761,
          -0.8099790247116009,
          -0.5580385726012115,
          -1.428083789056553,
          -0.14035958876059954,
          2.7827720721939677,
          1.3402267903666338,
          -0.8500619499620251,
          -1.0469215854597327,
          -0.9641702000968998,
          0.9869207089759805,
          -0.5444956434884186,
          0.3899272528541567,
          2.5698129782836743,
          -0.11640931874614713,
          1.3596695183088932,
          -1.1666648545636011,
          -0.7515037806380355,
          0.7715939742823078,
          -0.013332847760373875,
          -1.2704859989140342,
          0.47479066511925117,
          -1.9253094556986887,
          -1.4245184754304094,
          0.05863659768091849,
          -0.5155285868235054,
          1.766424272489394,
          -0.5145414808204791,
          -0.1030165600762554,
          0.168505296837029,
          -1.4908861266742255,
          1.294831098885771,
          0.6449135591591009,
          0.21959083896676643,
          -0.15823133231896624,
          0.4464432195435138,
          1.3996432835581543,
          -0.16358154903111488,
          0.16521625511828078,
          0.5199434399902836,
          -0.6257848452729105,
          -0.07992790604518829,
          -0.6277382151628513,
          0.6227013890770359,
          -0.8858591437274465,
          -0.13336187782494424,
          -0.28299274620106535,
          0.5617654005784839,
          0.23755257493123932,
          -0.0216818148345745,
          0.5063254835456331,
          0.7511656812182244,
          0.22002542883778634,
          -1.1577718677253217,
          -0.5696006943221648,
          -1.0793127500776791,
          -0.18760100787502546,
          -0.6994761063626701,
          -0.4254064702821228,
          -0.6635044495950063,
          -0.24863847729328858,
          -0.5484007112522068,
          0.41802733027857053,
          -0.23283610199866664,
          -1.4514708836393224,
          0.8905610350590825,
          -0.7028875280487179,
          -0.8416870656085875,
          1.8522424106951112,
          -0.1052985416642793,
          0.46352049671538764,
          -1.159485888668599,
          3.0010732593636726,
          -0.5969134910206177,
          0.3686871073907188,
          1.1832488187523973
         ],
         "xaxis": "x4",
         "y": [
          -1.4540004081478248,
          -0.11007355043051158,
          0.10982869675375188,
          -0.6483522274923497,
          0.6456682145863891,
          -0.9941365717586216,
          0.49132505126695764,
          0.574692293480332,
          -0.601149273426994,
          1.1681530928816495,
          0.9225460509197592,
          1.4080120518402826,
          0.5112988358011514,
          1.9042321289343245,
          -1.0519246485155396,
          -1.6145722564049436,
          -0.3069777634201451,
          -1.046904859984683,
          -0.19803089353167186,
          -0.319827137822687,
          -1.8082591352742183,
          2.0747833640870983,
          -0.19248509296146513,
          0.08128642613710906,
          -0.45443881176401013,
          0.7097203042406512,
          -0.38455851977652145,
          1.3908414664195914,
          -1.3692379339272545,
          0.44948683633089076,
          2.2757464103816396,
          -0.7935122389343489,
          -0.6456240932055214,
          -0.4204489550137737,
          0.19391000998362268,
          1.8194934307807404,
          -0.18217550385942105,
          -0.008290286976937332,
          0.8243979074928602,
          0.3721440133587712,
          0.5998082876547112,
          1.7708564035903112,
          1.7102348631178188,
          1.418303290602573,
          -0.34701523804234624,
          0.5032772588783692,
          -1.2452558870960557,
          -0.9970360030520007,
          0.5907178721512375,
          -2.7230352978400645,
          0.20055780980890967,
          -0.6137366637905584,
          -0.6086630310241073,
          -1.1087394788361375,
          0.6641586046761034,
          0.7193702690264225,
          0.9296696099660978,
          0.7317327604793983,
          -0.047201435658269515,
          -0.30334032362370084,
          0.02862471197069708,
          -0.27828523810730366,
          -0.44179553515129544,
          -0.024118842829569834,
          0.31227647731563263,
          0.8701847072134986,
          -0.22309656965636257,
          -0.20770513965651302,
          0.47142175538379566,
          0.5011247094412172,
          -1.3620146525279155,
          -0.14795098303784995,
          0.14196298736049628,
          -1.016884709309532,
          -0.4917906274473433,
          -0.12051799859600523,
          -0.17247939382189223,
          0.9541553890998549,
          1.4315140899860428,
          -0.00992095518753176,
          0.6018254201751347,
          -1.5789016803240072,
          0.727904003014525,
          -1.0147581420106258,
          1.0690133891339306,
          -1.1021364000773435,
          -0.23513861545976072,
          0.18364122505394662,
          -0.8165901971585968,
          -0.6081818370731323,
          0.621396892849809,
          -0.10947553062274686,
          0.11382492392576911,
          0.43714209861981645,
          -0.2654839651102387,
          1.5224160299697473,
          0.1199575783051826,
          0.6250937851392976,
          0.6354018783850093,
          -1.286302152646409
         ],
         "yaxis": "y4"
        },
        {
         "line": {
          "color": "rgba(128, 128, 128, 1.0)",
          "dash": "solid",
          "shape": "linear",
          "width": 1.3
         },
         "marker": {
          "size": 2,
          "symbol": "circle"
         },
         "mode": "markers",
         "name": "B",
         "text": "",
         "type": "scatter",
         "x": [
          -1.4540004081478248,
          -0.11007355043051158,
          0.10982869675375188,
          -0.6483522274923497,
          0.6456682145863891,
          -0.9941365717586216,
          0.49132505126695764,
          0.574692293480332,
          -0.601149273426994,
          1.1681530928816495,
          0.9225460509197592,
          1.4080120518402826,
          0.5112988358011514,
          1.9042321289343245,
          -1.0519246485155396,
          -1.6145722564049436,
          -0.3069777634201451,
          -1.046904859984683,
          -0.19803089353167186,
          -0.319827137822687,
          -1.8082591352742183,
          2.0747833640870983,
          -0.19248509296146513,
          0.08128642613710906,
          -0.45443881176401013,
          0.7097203042406512,
          -0.38455851977652145,
          1.3908414664195914,
          -1.3692379339272545,
          0.44948683633089076,
          2.2757464103816396,
          -0.7935122389343489,
          -0.6456240932055214,
          -0.4204489550137737,
          0.19391000998362268,
          1.8194934307807404,
          -0.18217550385942105,
          -0.008290286976937332,
          0.8243979074928602,
          0.3721440133587712,
          0.5998082876547112,
          1.7708564035903112,
          1.7102348631178188,
          1.418303290602573,
          -0.34701523804234624,
          0.5032772588783692,
          -1.2452558870960557,
          -0.9970360030520007,
          0.5907178721512375,
          -2.7230352978400645,
          0.20055780980890967,
          -0.6137366637905584,
          -0.6086630310241073,
          -1.1087394788361375,
          0.6641586046761034,
          0.7193702690264225,
          0.9296696099660978,
          0.7317327604793983,
          -0.047201435658269515,
          -0.30334032362370084,
          0.02862471197069708,
          -0.27828523810730366,
          -0.44179553515129544,
          -0.024118842829569834,
          0.31227647731563263,
          0.8701847072134986,
          -0.22309656965636257,
          -0.20770513965651302,
          0.47142175538379566,
          0.5011247094412172,
          -1.3620146525279155,
          -0.14795098303784995,
          0.14196298736049628,
          -1.016884709309532,
          -0.4917906274473433,
          -0.12051799859600523,
          -0.17247939382189223,
          0.9541553890998549,
          1.4315140899860428,
          -0.00992095518753176,
          0.6018254201751347,
          -1.5789016803240072,
          0.727904003014525,
          -1.0147581420106258,
          1.0690133891339306,
          -1.1021364000773435,
          -0.23513861545976072,
          0.18364122505394662,
          -0.8165901971585968,
          -0.6081818370731323,
          0.621396892849809,
          -0.10947553062274686,
          0.11382492392576911,
          0.43714209861981645,
          -0.2654839651102387,
          1.5224160299697473,
          0.1199575783051826,
          0.6250937851392976,
          0.6354018783850093,
          -1.286302152646409
         ],
         "xaxis": "x5",
         "y": [
          0.9804902717892854,
          -0.8116560269021028,
          -0.5304074349441019,
          0.7314708976817439,
          -1.317813889901291,
          0.5515653245923914,
          -1.007512904863618,
          0.027869316274254607,
          0.9373009762002932,
          0.3263313741977739,
          -1.4731555994613688,
          -1.5692248514343379,
          0.2247986762962962,
          -0.237046026508892,
          -0.29187496753921166,
          -0.5276451598659568,
          -0.4604939334911615,
          1.0622630019029553,
          0.2018053826239793,
          0.2152987530552919,
          0.5765946081004806,
          -1.0574687398285258,
          0.8147327040239873,
          -1.565196244472277,
          2.1161876872641905,
          -1.152433159222957,
          -0.4421984138276069,
          0.9879694617836262,
          -1.1377408514340306,
          -0.2904951299578208,
          0.941100139067152,
          -0.679405397666701,
          -0.14503723137893423,
          -2.3704740272865727,
          -1.4393468389346427,
          -1.9138285718222479,
          -0.40541957113900345,
          -0.6406358830486115,
          1.9669854746622704,
          0.24587824563188523,
          -1.0450644420469437,
          -0.3915593556466746,
          0.1319976106693394,
          -0.541910078691539,
          -0.45877995278105627,
          -0.04744886791407573,
          1.6744233390504226,
          -2.30929247012321,
          -0.42269700138534194,
          -0.4059181196519094,
          -0.47253102278763687,
          -1.5863850507771629,
          -0.1432502014946788,
          -0.3977794705846313,
          0.25058076876857827,
          1.0380414048510445,
          0.6510006302802921,
          -0.2380316037498957,
          -0.8630875614869196,
          0.6666007826208047,
          -1.869332074666846,
          -0.10507746883011831,
          0.26794216779872787,
          -1.8705098086426515,
          0.1589793056477878,
          -0.2250804552980786,
          -0.37249110592689794,
          0.36992866619033515,
          -0.8588867390570646,
          0.6841615555235582,
          0.6895449549121019,
          -1.653588892920698,
          -0.9066261328784851,
          0.06339155195534256,
          1.289405210397382,
          1.9058872332362038,
          0.9120647093077785,
          0.991419763084864,
          0.1620854385425183,
          -0.07940006271257556,
          1.3785162664718305,
          -0.27038388476787795,
          -0.9615886098208666,
          0.00405632774123973,
          1.2870366134246083,
          0.647698409026788,
          1.437094810613269,
          1.714407268630869,
          -0.7207396837198342,
          -0.8724684564766381,
          -1.091969997227892,
          -0.6433087841112413,
          -2.1803283139883036,
          1.647186106737404,
          0.6038710322432059,
          0.9708787477958503,
          -1.4414590443258994,
          0.0008702819208328536,
          -1.219643854961161,
          -0.6606360890090951
         ],
         "yaxis": "y5"
        },
        {
         "histfunc": "count",
         "histnorm": "",
         "marker": {
          "color": "rgba(55, 128, 191, 1.0)",
          "line": {
           "color": "#4D5663",
           "width": 1.3
          }
         },
         "name": "B",
         "nbinsx": 10,
         "opacity": 0.8,
         "orientation": "v",
         "type": "histogram",
         "x": [
          0.9804902717892854,
          -0.8116560269021028,
          -0.5304074349441019,
          0.7314708976817439,
          -1.317813889901291,
          0.5515653245923914,
          -1.007512904863618,
          0.027869316274254607,
          0.9373009762002932,
          0.3263313741977739,
          -1.4731555994613688,
          -1.5692248514343379,
          0.2247986762962962,
          -0.237046026508892,
          -0.29187496753921166,
          -0.5276451598659568,
          -0.4604939334911615,
          1.0622630019029553,
          0.2018053826239793,
          0.2152987530552919,
          0.5765946081004806,
          -1.0574687398285258,
          0.8147327040239873,
          -1.565196244472277,
          2.1161876872641905,
          -1.152433159222957,
          -0.4421984138276069,
          0.9879694617836262,
          -1.1377408514340306,
          -0.2904951299578208,
          0.941100139067152,
          -0.679405397666701,
          -0.14503723137893423,
          -2.3704740272865727,
          -1.4393468389346427,
          -1.9138285718222479,
          -0.40541957113900345,
          -0.6406358830486115,
          1.9669854746622704,
          0.24587824563188523,
          -1.0450644420469437,
          -0.3915593556466746,
          0.1319976106693394,
          -0.541910078691539,
          -0.45877995278105627,
          -0.04744886791407573,
          1.6744233390504226,
          -2.30929247012321,
          -0.42269700138534194,
          -0.4059181196519094,
          -0.47253102278763687,
          -1.5863850507771629,
          -0.1432502014946788,
          -0.3977794705846313,
          0.25058076876857827,
          1.0380414048510445,
          0.6510006302802921,
          -0.2380316037498957,
          -0.8630875614869196,
          0.6666007826208047,
          -1.869332074666846,
          -0.10507746883011831,
          0.26794216779872787,
          -1.8705098086426515,
          0.1589793056477878,
          -0.2250804552980786,
          -0.37249110592689794,
          0.36992866619033515,
          -0.8588867390570646,
          0.6841615555235582,
          0.6895449549121019,
          -1.653588892920698,
          -0.9066261328784851,
          0.06339155195534256,
          1.289405210397382,
          1.9058872332362038,
          0.9120647093077785,
          0.991419763084864,
          0.1620854385425183,
          -0.07940006271257556,
          1.3785162664718305,
          -0.27038388476787795,
          -0.9615886098208666,
          0.00405632774123973,
          1.2870366134246083,
          0.647698409026788,
          1.437094810613269,
          1.714407268630869,
          -0.7207396837198342,
          -0.8724684564766381,
          -1.091969997227892,
          -0.6433087841112413,
          -2.1803283139883036,
          1.647186106737404,
          0.6038710322432059,
          0.9708787477958503,
          -1.4414590443258994,
          0.0008702819208328536,
          -1.219643854961161,
          -0.6606360890090951
         ],
         "xaxis": "x6",
         "yaxis": "y6"
        },
        {
         "line": {
          "color": "rgba(128, 128, 128, 1.0)",
          "dash": "solid",
          "shape": "linear",
          "width": 1.3
         },
         "marker": {
          "size": 2,
          "symbol": "circle"
         },
         "mode": "markers",
         "name": "B",
         "text": "",
         "type": "scatter",
         "x": [
          -1.161719298691836,
          -1.0916825074866223,
          -2.9825477305727035,
          -2.475669661262326,
          1.456186346184792,
          1.3816041807016337,
          1.3195304049192735,
          0.6587256882669855,
          -1.439165067192226,
          -0.43699058870637647,
          0.030662369922433153,
          -1.074801261596589,
          1.4672896709547916,
          2.4294741808989597,
          -1.3300612411519335,
          0.12360199885813726,
          -1.1100320626833795,
          -1.9481812739962805,
          0.5101036728576388,
          0.19210497589930678,
          0.878977715696145,
          -0.8354183307024506,
          1.6624700659165366,
          0.05130672063425422,
          -0.49685589778790046,
          -0.27972718918567735,
          0.8195072984821689,
          -1.0524532465814262,
          -0.20993416349935998,
          -0.11582228972763953,
          0.014037098737650168,
          0.8219951862155216,
          0.4374724389433576,
          -0.418675610794777,
          0.32164517262803943,
          0.15320059147000115,
          0.6772608912459958,
          -0.01641495746276642,
          0.3090623540014178,
          0.2701293389588942,
          0.027057053498706393,
          -0.20771001965939312,
          -0.05677398146816477,
          1.250600094924929,
          0.5220909669365739,
          1.4234962228342811,
          0.6321146987710506,
          0.5334532009607121,
          0.1629850540939295,
          -0.87829596628481,
          2.5280168787052193,
          2.209469459525066,
          0.7932948359942287,
          -0.875025889694795,
          1.1402833376921382,
          0.467238083670141,
          -0.6367012618862695,
          -0.61033591225038,
          -0.24992263127232084,
          0.11207716720034717,
          -0.14607539411494389,
          -1.0628437541075413,
          0.16618139310731325,
          -0.4240969510625668,
          -1.457684160338106,
          -1.495750098327223,
          -0.02166679295452642,
          0.5417684211281204,
          -1.7124295423139781,
          -0.9146427628437475,
          0.17495224840908674,
          0.8865119250208765,
          1.3718927634002418,
          0.2359446029107882,
          1.224195854810709,
          -0.7443163795201444,
          1.7726948378175622,
          -1.0174667808833495,
          0.12868898593907074,
          0.090533232086863,
          -0.0734277166777296,
          -0.5265644035620964,
          0.8107837785590719,
          -1.183999544757503,
          -0.862035349573676,
          0.5176448294608778,
          0.18869043790781748,
          0.9888947010910468,
          -1.4379535636986602,
          0.5416497866026636,
          1.6759241420414497,
          0.9456654320533658,
          -1.2649454655124723,
          -2.2216352260489542,
          -1.327699359671679,
          -1.6589965933037774,
          -1.089696945007076,
          0.5293226014151536,
          0.5765582145015115,
          1.5264108758043518
         ],
         "xaxis": "x7",
         "y": [
          0.9804902717892854,
          -0.8116560269021028,
          -0.5304074349441019,
          0.7314708976817439,
          -1.317813889901291,
          0.5515653245923914,
          -1.007512904863618,
          0.027869316274254607,
          0.9373009762002932,
          0.3263313741977739,
          -1.4731555994613688,
          -1.5692248514343379,
          0.2247986762962962,
          -0.237046026508892,
          -0.29187496753921166,
          -0.5276451598659568,
          -0.4604939334911615,
          1.0622630019029553,
          0.2018053826239793,
          0.2152987530552919,
          0.5765946081004806,
          -1.0574687398285258,
          0.8147327040239873,
          -1.565196244472277,
          2.1161876872641905,
          -1.152433159222957,
          -0.4421984138276069,
          0.9879694617836262,
          -1.1377408514340306,
          -0.2904951299578208,
          0.941100139067152,
          -0.679405397666701,
          -0.14503723137893423,
          -2.3704740272865727,
          -1.4393468389346427,
          -1.9138285718222479,
          -0.40541957113900345,
          -0.6406358830486115,
          1.9669854746622704,
          0.24587824563188523,
          -1.0450644420469437,
          -0.3915593556466746,
          0.1319976106693394,
          -0.541910078691539,
          -0.45877995278105627,
          -0.04744886791407573,
          1.6744233390504226,
          -2.30929247012321,
          -0.42269700138534194,
          -0.4059181196519094,
          -0.47253102278763687,
          -1.5863850507771629,
          -0.1432502014946788,
          -0.3977794705846313,
          0.25058076876857827,
          1.0380414048510445,
          0.6510006302802921,
          -0.2380316037498957,
          -0.8630875614869196,
          0.6666007826208047,
          -1.869332074666846,
          -0.10507746883011831,
          0.26794216779872787,
          -1.8705098086426515,
          0.1589793056477878,
          -0.2250804552980786,
          -0.37249110592689794,
          0.36992866619033515,
          -0.8588867390570646,
          0.6841615555235582,
          0.6895449549121019,
          -1.653588892920698,
          -0.9066261328784851,
          0.06339155195534256,
          1.289405210397382,
          1.9058872332362038,
          0.9120647093077785,
          0.991419763084864,
          0.1620854385425183,
          -0.07940006271257556,
          1.3785162664718305,
          -0.27038388476787795,
          -0.9615886098208666,
          0.00405632774123973,
          1.2870366134246083,
          0.647698409026788,
          1.437094810613269,
          1.714407268630869,
          -0.7207396837198342,
          -0.8724684564766381,
          -1.091969997227892,
          -0.6433087841112413,
          -2.1803283139883036,
          1.647186106737404,
          0.6038710322432059,
          0.9708787477958503,
          -1.4414590443258994,
          0.0008702819208328536,
          -1.219643854961161,
          -0.6606360890090951
         ],
         "yaxis": "y7"
        },
        {
         "line": {
          "color": "rgba(128, 128, 128, 1.0)",
          "dash": "solid",
          "shape": "linear",
          "width": 1.3
         },
         "marker": {
          "size": 2,
          "symbol": "circle"
         },
         "mode": "markers",
         "name": "B",
         "text": "",
         "type": "scatter",
         "x": [
          0.6970478968175908,
          -0.008281257382003382,
          0.056427851613856064,
          -1.3364228238042606,
          1.8669013933166234,
          0.010045041235569934,
          -1.5276487157483474,
          0.3755057040612648,
          -0.5490921349090621,
          -0.36269090826021194,
          0.8696582649739367,
          0.23639989494106622,
          -0.029962836343930963,
          0.02221121178753949,
          0.22823138899536707,
          -0.34603891847596324,
          1.2720414653213947,
          -0.5310037013792711,
          0.18305790711090902,
          1.1659576412888744,
          -1.0445411205881696,
          -1.1289465438812338,
          -0.5465652450053174,
          -0.6722834217872077,
          0.6570728061688761,
          -0.8099790247116009,
          -0.5580385726012115,
          -1.428083789056553,
          -0.14035958876059954,
          2.7827720721939677,
          1.3402267903666338,
          -0.8500619499620251,
          -1.0469215854597327,
          -0.9641702000968998,
          0.9869207089759805,
          -0.5444956434884186,
          0.3899272528541567,
          2.5698129782836743,
          -0.11640931874614713,
          1.3596695183088932,
          -1.1666648545636011,
          -0.7515037806380355,
          0.7715939742823078,
          -0.013332847760373875,
          -1.2704859989140342,
          0.47479066511925117,
          -1.9253094556986887,
          -1.4245184754304094,
          0.05863659768091849,
          -0.5155285868235054,
          1.766424272489394,
          -0.5145414808204791,
          -0.1030165600762554,
          0.168505296837029,
          -1.4908861266742255,
          1.294831098885771,
          0.6449135591591009,
          0.21959083896676643,
          -0.15823133231896624,
          0.4464432195435138,
          1.3996432835581543,
          -0.16358154903111488,
          0.16521625511828078,
          0.5199434399902836,
          -0.6257848452729105,
          -0.07992790604518829,
          -0.6277382151628513,
          0.6227013890770359,
          -0.8858591437274465,
          -0.13336187782494424,
          -0.28299274620106535,
          0.5617654005784839,
          0.23755257493123932,
          -0.0216818148345745,
          0.5063254835456331,
          0.7511656812182244,
          0.22002542883778634,
          -1.1577718677253217,
          -0.5696006943221648,
          -1.0793127500776791,
          -0.18760100787502546,
          -0.6994761063626701,
          -0.4254064702821228,
          -0.6635044495950063,
          -0.24863847729328858,
          -0.5484007112522068,
          0.41802733027857053,
          -0.23283610199866664,
          -1.4514708836393224,
          0.8905610350590825,
          -0.7028875280487179,
          -0.8416870656085875,
          1.8522424106951112,
          -0.1052985416642793,
          0.46352049671538764,
          -1.159485888668599,
          3.0010732593636726,
          -0.5969134910206177,
          0.3686871073907188,
          1.1832488187523973
         ],
         "xaxis": "x8",
         "y": [
          0.9804902717892854,
          -0.8116560269021028,
          -0.5304074349441019,
          0.7314708976817439,
          -1.317813889901291,
          0.5515653245923914,
          -1.007512904863618,
          0.027869316274254607,
          0.9373009762002932,
          0.3263313741977739,
          -1.4731555994613688,
          -1.5692248514343379,
          0.2247986762962962,
          -0.237046026508892,
          -0.29187496753921166,
          -0.5276451598659568,
          -0.4604939334911615,
          1.0622630019029553,
          0.2018053826239793,
          0.2152987530552919,
          0.5765946081004806,
          -1.0574687398285258,
          0.8147327040239873,
          -1.565196244472277,
          2.1161876872641905,
          -1.152433159222957,
          -0.4421984138276069,
          0.9879694617836262,
          -1.1377408514340306,
          -0.2904951299578208,
          0.941100139067152,
          -0.679405397666701,
          -0.14503723137893423,
          -2.3704740272865727,
          -1.4393468389346427,
          -1.9138285718222479,
          -0.40541957113900345,
          -0.6406358830486115,
          1.9669854746622704,
          0.24587824563188523,
          -1.0450644420469437,
          -0.3915593556466746,
          0.1319976106693394,
          -0.541910078691539,
          -0.45877995278105627,
          -0.04744886791407573,
          1.6744233390504226,
          -2.30929247012321,
          -0.42269700138534194,
          -0.4059181196519094,
          -0.47253102278763687,
          -1.5863850507771629,
          -0.1432502014946788,
          -0.3977794705846313,
          0.25058076876857827,
          1.0380414048510445,
          0.6510006302802921,
          -0.2380316037498957,
          -0.8630875614869196,
          0.6666007826208047,
          -1.869332074666846,
          -0.10507746883011831,
          0.26794216779872787,
          -1.8705098086426515,
          0.1589793056477878,
          -0.2250804552980786,
          -0.37249110592689794,
          0.36992866619033515,
          -0.8588867390570646,
          0.6841615555235582,
          0.6895449549121019,
          -1.653588892920698,
          -0.9066261328784851,
          0.06339155195534256,
          1.289405210397382,
          1.9058872332362038,
          0.9120647093077785,
          0.991419763084864,
          0.1620854385425183,
          -0.07940006271257556,
          1.3785162664718305,
          -0.27038388476787795,
          -0.9615886098208666,
          0.00405632774123973,
          1.2870366134246083,
          0.647698409026788,
          1.437094810613269,
          1.714407268630869,
          -0.7207396837198342,
          -0.8724684564766381,
          -1.091969997227892,
          -0.6433087841112413,
          -2.1803283139883036,
          1.647186106737404,
          0.6038710322432059,
          0.9708787477958503,
          -1.4414590443258994,
          0.0008702819208328536,
          -1.219643854961161,
          -0.6606360890090951
         ],
         "yaxis": "y8"
        },
        {
         "line": {
          "color": "rgba(128, 128, 128, 1.0)",
          "dash": "solid",
          "shape": "linear",
          "width": 1.3
         },
         "marker": {
          "size": 2,
          "symbol": "circle"
         },
         "mode": "markers",
         "name": "C",
         "text": "",
         "type": "scatter",
         "x": [
          -1.4540004081478248,
          -0.11007355043051158,
          0.10982869675375188,
          -0.6483522274923497,
          0.6456682145863891,
          -0.9941365717586216,
          0.49132505126695764,
          0.574692293480332,
          -0.601149273426994,
          1.1681530928816495,
          0.9225460509197592,
          1.4080120518402826,
          0.5112988358011514,
          1.9042321289343245,
          -1.0519246485155396,
          -1.6145722564049436,
          -0.3069777634201451,
          -1.046904859984683,
          -0.19803089353167186,
          -0.319827137822687,
          -1.8082591352742183,
          2.0747833640870983,
          -0.19248509296146513,
          0.08128642613710906,
          -0.45443881176401013,
          0.7097203042406512,
          -0.38455851977652145,
          1.3908414664195914,
          -1.3692379339272545,
          0.44948683633089076,
          2.2757464103816396,
          -0.7935122389343489,
          -0.6456240932055214,
          -0.4204489550137737,
          0.19391000998362268,
          1.8194934307807404,
          -0.18217550385942105,
          -0.008290286976937332,
          0.8243979074928602,
          0.3721440133587712,
          0.5998082876547112,
          1.7708564035903112,
          1.7102348631178188,
          1.418303290602573,
          -0.34701523804234624,
          0.5032772588783692,
          -1.2452558870960557,
          -0.9970360030520007,
          0.5907178721512375,
          -2.7230352978400645,
          0.20055780980890967,
          -0.6137366637905584,
          -0.6086630310241073,
          -1.1087394788361375,
          0.6641586046761034,
          0.7193702690264225,
          0.9296696099660978,
          0.7317327604793983,
          -0.047201435658269515,
          -0.30334032362370084,
          0.02862471197069708,
          -0.27828523810730366,
          -0.44179553515129544,
          -0.024118842829569834,
          0.31227647731563263,
          0.8701847072134986,
          -0.22309656965636257,
          -0.20770513965651302,
          0.47142175538379566,
          0.5011247094412172,
          -1.3620146525279155,
          -0.14795098303784995,
          0.14196298736049628,
          -1.016884709309532,
          -0.4917906274473433,
          -0.12051799859600523,
          -0.17247939382189223,
          0.9541553890998549,
          1.4315140899860428,
          -0.00992095518753176,
          0.6018254201751347,
          -1.5789016803240072,
          0.727904003014525,
          -1.0147581420106258,
          1.0690133891339306,
          -1.1021364000773435,
          -0.23513861545976072,
          0.18364122505394662,
          -0.8165901971585968,
          -0.6081818370731323,
          0.621396892849809,
          -0.10947553062274686,
          0.11382492392576911,
          0.43714209861981645,
          -0.2654839651102387,
          1.5224160299697473,
          0.1199575783051826,
          0.6250937851392976,
          0.6354018783850093,
          -1.286302152646409
         ],
         "xaxis": "x9",
         "y": [
          -1.161719298691836,
          -1.0916825074866223,
          -2.9825477305727035,
          -2.475669661262326,
          1.456186346184792,
          1.3816041807016337,
          1.3195304049192735,
          0.6587256882669855,
          -1.439165067192226,
          -0.43699058870637647,
          0.030662369922433153,
          -1.074801261596589,
          1.4672896709547916,
          2.4294741808989597,
          -1.3300612411519335,
          0.12360199885813726,
          -1.1100320626833795,
          -1.9481812739962805,
          0.5101036728576388,
          0.19210497589930678,
          0.878977715696145,
          -0.8354183307024506,
          1.6624700659165366,
          0.05130672063425422,
          -0.49685589778790046,
          -0.27972718918567735,
          0.8195072984821689,
          -1.0524532465814262,
          -0.20993416349935998,
          -0.11582228972763953,
          0.014037098737650168,
          0.8219951862155216,
          0.4374724389433576,
          -0.418675610794777,
          0.32164517262803943,
          0.15320059147000115,
          0.6772608912459958,
          -0.01641495746276642,
          0.3090623540014178,
          0.2701293389588942,
          0.027057053498706393,
          -0.20771001965939312,
          -0.05677398146816477,
          1.250600094924929,
          0.5220909669365739,
          1.4234962228342811,
          0.6321146987710506,
          0.5334532009607121,
          0.1629850540939295,
          -0.87829596628481,
          2.5280168787052193,
          2.209469459525066,
          0.7932948359942287,
          -0.875025889694795,
          1.1402833376921382,
          0.467238083670141,
          -0.6367012618862695,
          -0.61033591225038,
          -0.24992263127232084,
          0.11207716720034717,
          -0.14607539411494389,
          -1.0628437541075413,
          0.16618139310731325,
          -0.4240969510625668,
          -1.457684160338106,
          -1.495750098327223,
          -0.02166679295452642,
          0.5417684211281204,
          -1.7124295423139781,
          -0.9146427628437475,
          0.17495224840908674,
          0.8865119250208765,
          1.3718927634002418,
          0.2359446029107882,
          1.224195854810709,
          -0.7443163795201444,
          1.7726948378175622,
          -1.0174667808833495,
          0.12868898593907074,
          0.090533232086863,
          -0.0734277166777296,
          -0.5265644035620964,
          0.8107837785590719,
          -1.183999544757503,
          -0.862035349573676,
          0.5176448294608778,
          0.18869043790781748,
          0.9888947010910468,
          -1.4379535636986602,
          0.5416497866026636,
          1.6759241420414497,
          0.9456654320533658,
          -1.2649454655124723,
          -2.2216352260489542,
          -1.327699359671679,
          -1.6589965933037774,
          -1.089696945007076,
          0.5293226014151536,
          0.5765582145015115,
          1.5264108758043518
         ],
         "yaxis": "y9"
        },
        {
         "line": {
          "color": "rgba(128, 128, 128, 1.0)",
          "dash": "solid",
          "shape": "linear",
          "width": 1.3
         },
         "marker": {
          "size": 2,
          "symbol": "circle"
         },
         "mode": "markers",
         "name": "C",
         "text": "",
         "type": "scatter",
         "x": [
          0.9804902717892854,
          -0.8116560269021028,
          -0.5304074349441019,
          0.7314708976817439,
          -1.317813889901291,
          0.5515653245923914,
          -1.007512904863618,
          0.027869316274254607,
          0.9373009762002932,
          0.3263313741977739,
          -1.4731555994613688,
          -1.5692248514343379,
          0.2247986762962962,
          -0.237046026508892,
          -0.29187496753921166,
          -0.5276451598659568,
          -0.4604939334911615,
          1.0622630019029553,
          0.2018053826239793,
          0.2152987530552919,
          0.5765946081004806,
          -1.0574687398285258,
          0.8147327040239873,
          -1.565196244472277,
          2.1161876872641905,
          -1.152433159222957,
          -0.4421984138276069,
          0.9879694617836262,
          -1.1377408514340306,
          -0.2904951299578208,
          0.941100139067152,
          -0.679405397666701,
          -0.14503723137893423,
          -2.3704740272865727,
          -1.4393468389346427,
          -1.9138285718222479,
          -0.40541957113900345,
          -0.6406358830486115,
          1.9669854746622704,
          0.24587824563188523,
          -1.0450644420469437,
          -0.3915593556466746,
          0.1319976106693394,
          -0.541910078691539,
          -0.45877995278105627,
          -0.04744886791407573,
          1.6744233390504226,
          -2.30929247012321,
          -0.42269700138534194,
          -0.4059181196519094,
          -0.47253102278763687,
          -1.5863850507771629,
          -0.1432502014946788,
          -0.3977794705846313,
          0.25058076876857827,
          1.0380414048510445,
          0.6510006302802921,
          -0.2380316037498957,
          -0.8630875614869196,
          0.6666007826208047,
          -1.869332074666846,
          -0.10507746883011831,
          0.26794216779872787,
          -1.8705098086426515,
          0.1589793056477878,
          -0.2250804552980786,
          -0.37249110592689794,
          0.36992866619033515,
          -0.8588867390570646,
          0.6841615555235582,
          0.6895449549121019,
          -1.653588892920698,
          -0.9066261328784851,
          0.06339155195534256,
          1.289405210397382,
          1.9058872332362038,
          0.9120647093077785,
          0.991419763084864,
          0.1620854385425183,
          -0.07940006271257556,
          1.3785162664718305,
          -0.27038388476787795,
          -0.9615886098208666,
          0.00405632774123973,
          1.2870366134246083,
          0.647698409026788,
          1.437094810613269,
          1.714407268630869,
          -0.7207396837198342,
          -0.8724684564766381,
          -1.091969997227892,
          -0.6433087841112413,
          -2.1803283139883036,
          1.647186106737404,
          0.6038710322432059,
          0.9708787477958503,
          -1.4414590443258994,
          0.0008702819208328536,
          -1.219643854961161,
          -0.6606360890090951
         ],
         "xaxis": "x10",
         "y": [
          -1.161719298691836,
          -1.0916825074866223,
          -2.9825477305727035,
          -2.475669661262326,
          1.456186346184792,
          1.3816041807016337,
          1.3195304049192735,
          0.6587256882669855,
          -1.439165067192226,
          -0.43699058870637647,
          0.030662369922433153,
          -1.074801261596589,
          1.4672896709547916,
          2.4294741808989597,
          -1.3300612411519335,
          0.12360199885813726,
          -1.1100320626833795,
          -1.9481812739962805,
          0.5101036728576388,
          0.19210497589930678,
          0.878977715696145,
          -0.8354183307024506,
          1.6624700659165366,
          0.05130672063425422,
          -0.49685589778790046,
          -0.27972718918567735,
          0.8195072984821689,
          -1.0524532465814262,
          -0.20993416349935998,
          -0.11582228972763953,
          0.014037098737650168,
          0.8219951862155216,
          0.4374724389433576,
          -0.418675610794777,
          0.32164517262803943,
          0.15320059147000115,
          0.6772608912459958,
          -0.01641495746276642,
          0.3090623540014178,
          0.2701293389588942,
          0.027057053498706393,
          -0.20771001965939312,
          -0.05677398146816477,
          1.250600094924929,
          0.5220909669365739,
          1.4234962228342811,
          0.6321146987710506,
          0.5334532009607121,
          0.1629850540939295,
          -0.87829596628481,
          2.5280168787052193,
          2.209469459525066,
          0.7932948359942287,
          -0.875025889694795,
          1.1402833376921382,
          0.467238083670141,
          -0.6367012618862695,
          -0.61033591225038,
          -0.24992263127232084,
          0.11207716720034717,
          -0.14607539411494389,
          -1.0628437541075413,
          0.16618139310731325,
          -0.4240969510625668,
          -1.457684160338106,
          -1.495750098327223,
          -0.02166679295452642,
          0.5417684211281204,
          -1.7124295423139781,
          -0.9146427628437475,
          0.17495224840908674,
          0.8865119250208765,
          1.3718927634002418,
          0.2359446029107882,
          1.224195854810709,
          -0.7443163795201444,
          1.7726948378175622,
          -1.0174667808833495,
          0.12868898593907074,
          0.090533232086863,
          -0.0734277166777296,
          -0.5265644035620964,
          0.8107837785590719,
          -1.183999544757503,
          -0.862035349573676,
          0.5176448294608778,
          0.18869043790781748,
          0.9888947010910468,
          -1.4379535636986602,
          0.5416497866026636,
          1.6759241420414497,
          0.9456654320533658,
          -1.2649454655124723,
          -2.2216352260489542,
          -1.327699359671679,
          -1.6589965933037774,
          -1.089696945007076,
          0.5293226014151536,
          0.5765582145015115,
          1.5264108758043518
         ],
         "yaxis": "y10"
        },
        {
         "histfunc": "count",
         "histnorm": "",
         "marker": {
          "color": "rgba(50, 171, 96, 1.0)",
          "line": {
           "color": "#4D5663",
           "width": 1.3
          }
         },
         "name": "C",
         "nbinsx": 10,
         "opacity": 0.8,
         "orientation": "v",
         "type": "histogram",
         "x": [
          -1.161719298691836,
          -1.0916825074866223,
          -2.9825477305727035,
          -2.475669661262326,
          1.456186346184792,
          1.3816041807016337,
          1.3195304049192735,
          0.6587256882669855,
          -1.439165067192226,
          -0.43699058870637647,
          0.030662369922433153,
          -1.074801261596589,
          1.4672896709547916,
          2.4294741808989597,
          -1.3300612411519335,
          0.12360199885813726,
          -1.1100320626833795,
          -1.9481812739962805,
          0.5101036728576388,
          0.19210497589930678,
          0.878977715696145,
          -0.8354183307024506,
          1.6624700659165366,
          0.05130672063425422,
          -0.49685589778790046,
          -0.27972718918567735,
          0.8195072984821689,
          -1.0524532465814262,
          -0.20993416349935998,
          -0.11582228972763953,
          0.014037098737650168,
          0.8219951862155216,
          0.4374724389433576,
          -0.418675610794777,
          0.32164517262803943,
          0.15320059147000115,
          0.6772608912459958,
          -0.01641495746276642,
          0.3090623540014178,
          0.2701293389588942,
          0.027057053498706393,
          -0.20771001965939312,
          -0.05677398146816477,
          1.250600094924929,
          0.5220909669365739,
          1.4234962228342811,
          0.6321146987710506,
          0.5334532009607121,
          0.1629850540939295,
          -0.87829596628481,
          2.5280168787052193,
          2.209469459525066,
          0.7932948359942287,
          -0.875025889694795,
          1.1402833376921382,
          0.467238083670141,
          -0.6367012618862695,
          -0.61033591225038,
          -0.24992263127232084,
          0.11207716720034717,
          -0.14607539411494389,
          -1.0628437541075413,
          0.16618139310731325,
          -0.4240969510625668,
          -1.457684160338106,
          -1.495750098327223,
          -0.02166679295452642,
          0.5417684211281204,
          -1.7124295423139781,
          -0.9146427628437475,
          0.17495224840908674,
          0.8865119250208765,
          1.3718927634002418,
          0.2359446029107882,
          1.224195854810709,
          -0.7443163795201444,
          1.7726948378175622,
          -1.0174667808833495,
          0.12868898593907074,
          0.090533232086863,
          -0.0734277166777296,
          -0.5265644035620964,
          0.8107837785590719,
          -1.183999544757503,
          -0.862035349573676,
          0.5176448294608778,
          0.18869043790781748,
          0.9888947010910468,
          -1.4379535636986602,
          0.5416497866026636,
          1.6759241420414497,
          0.9456654320533658,
          -1.2649454655124723,
          -2.2216352260489542,
          -1.327699359671679,
          -1.6589965933037774,
          -1.089696945007076,
          0.5293226014151536,
          0.5765582145015115,
          1.5264108758043518
         ],
         "xaxis": "x11",
         "yaxis": "y11"
        },
        {
         "line": {
          "color": "rgba(128, 128, 128, 1.0)",
          "dash": "solid",
          "shape": "linear",
          "width": 1.3
         },
         "marker": {
          "size": 2,
          "symbol": "circle"
         },
         "mode": "markers",
         "name": "C",
         "text": "",
         "type": "scatter",
         "x": [
          0.6970478968175908,
          -0.008281257382003382,
          0.056427851613856064,
          -1.3364228238042606,
          1.8669013933166234,
          0.010045041235569934,
          -1.5276487157483474,
          0.3755057040612648,
          -0.5490921349090621,
          -0.36269090826021194,
          0.8696582649739367,
          0.23639989494106622,
          -0.029962836343930963,
          0.02221121178753949,
          0.22823138899536707,
          -0.34603891847596324,
          1.2720414653213947,
          -0.5310037013792711,
          0.18305790711090902,
          1.1659576412888744,
          -1.0445411205881696,
          -1.1289465438812338,
          -0.5465652450053174,
          -0.6722834217872077,
          0.6570728061688761,
          -0.8099790247116009,
          -0.5580385726012115,
          -1.428083789056553,
          -0.14035958876059954,
          2.7827720721939677,
          1.3402267903666338,
          -0.8500619499620251,
          -1.0469215854597327,
          -0.9641702000968998,
          0.9869207089759805,
          -0.5444956434884186,
          0.3899272528541567,
          2.5698129782836743,
          -0.11640931874614713,
          1.3596695183088932,
          -1.1666648545636011,
          -0.7515037806380355,
          0.7715939742823078,
          -0.013332847760373875,
          -1.2704859989140342,
          0.47479066511925117,
          -1.9253094556986887,
          -1.4245184754304094,
          0.05863659768091849,
          -0.5155285868235054,
          1.766424272489394,
          -0.5145414808204791,
          -0.1030165600762554,
          0.168505296837029,
          -1.4908861266742255,
          1.294831098885771,
          0.6449135591591009,
          0.21959083896676643,
          -0.15823133231896624,
          0.4464432195435138,
          1.3996432835581543,
          -0.16358154903111488,
          0.16521625511828078,
          0.5199434399902836,
          -0.6257848452729105,
          -0.07992790604518829,
          -0.6277382151628513,
          0.6227013890770359,
          -0.8858591437274465,
          -0.13336187782494424,
          -0.28299274620106535,
          0.5617654005784839,
          0.23755257493123932,
          -0.0216818148345745,
          0.5063254835456331,
          0.7511656812182244,
          0.22002542883778634,
          -1.1577718677253217,
          -0.5696006943221648,
          -1.0793127500776791,
          -0.18760100787502546,
          -0.6994761063626701,
          -0.4254064702821228,
          -0.6635044495950063,
          -0.24863847729328858,
          -0.5484007112522068,
          0.41802733027857053,
          -0.23283610199866664,
          -1.4514708836393224,
          0.8905610350590825,
          -0.7028875280487179,
          -0.8416870656085875,
          1.8522424106951112,
          -0.1052985416642793,
          0.46352049671538764,
          -1.159485888668599,
          3.0010732593636726,
          -0.5969134910206177,
          0.3686871073907188,
          1.1832488187523973
         ],
         "xaxis": "x12",
         "y": [
          -1.161719298691836,
          -1.0916825074866223,
          -2.9825477305727035,
          -2.475669661262326,
          1.456186346184792,
          1.3816041807016337,
          1.3195304049192735,
          0.6587256882669855,
          -1.439165067192226,
          -0.43699058870637647,
          0.030662369922433153,
          -1.074801261596589,
          1.4672896709547916,
          2.4294741808989597,
          -1.3300612411519335,
          0.12360199885813726,
          -1.1100320626833795,
          -1.9481812739962805,
          0.5101036728576388,
          0.19210497589930678,
          0.878977715696145,
          -0.8354183307024506,
          1.6624700659165366,
          0.05130672063425422,
          -0.49685589778790046,
          -0.27972718918567735,
          0.8195072984821689,
          -1.0524532465814262,
          -0.20993416349935998,
          -0.11582228972763953,
          0.014037098737650168,
          0.8219951862155216,
          0.4374724389433576,
          -0.418675610794777,
          0.32164517262803943,
          0.15320059147000115,
          0.6772608912459958,
          -0.01641495746276642,
          0.3090623540014178,
          0.2701293389588942,
          0.027057053498706393,
          -0.20771001965939312,
          -0.05677398146816477,
          1.250600094924929,
          0.5220909669365739,
          1.4234962228342811,
          0.6321146987710506,
          0.5334532009607121,
          0.1629850540939295,
          -0.87829596628481,
          2.5280168787052193,
          2.209469459525066,
          0.7932948359942287,
          -0.875025889694795,
          1.1402833376921382,
          0.467238083670141,
          -0.6367012618862695,
          -0.61033591225038,
          -0.24992263127232084,
          0.11207716720034717,
          -0.14607539411494389,
          -1.0628437541075413,
          0.16618139310731325,
          -0.4240969510625668,
          -1.457684160338106,
          -1.495750098327223,
          -0.02166679295452642,
          0.5417684211281204,
          -1.7124295423139781,
          -0.9146427628437475,
          0.17495224840908674,
          0.8865119250208765,
          1.3718927634002418,
          0.2359446029107882,
          1.224195854810709,
          -0.7443163795201444,
          1.7726948378175622,
          -1.0174667808833495,
          0.12868898593907074,
          0.090533232086863,
          -0.0734277166777296,
          -0.5265644035620964,
          0.8107837785590719,
          -1.183999544757503,
          -0.862035349573676,
          0.5176448294608778,
          0.18869043790781748,
          0.9888947010910468,
          -1.4379535636986602,
          0.5416497866026636,
          1.6759241420414497,
          0.9456654320533658,
          -1.2649454655124723,
          -2.2216352260489542,
          -1.327699359671679,
          -1.6589965933037774,
          -1.089696945007076,
          0.5293226014151536,
          0.5765582145015115,
          1.5264108758043518
         ],
         "yaxis": "y12"
        },
        {
         "line": {
          "color": "rgba(128, 128, 128, 1.0)",
          "dash": "solid",
          "shape": "linear",
          "width": 1.3
         },
         "marker": {
          "size": 2,
          "symbol": "circle"
         },
         "mode": "markers",
         "name": "D",
         "text": "",
         "type": "scatter",
         "x": [
          -1.4540004081478248,
          -0.11007355043051158,
          0.10982869675375188,
          -0.6483522274923497,
          0.6456682145863891,
          -0.9941365717586216,
          0.49132505126695764,
          0.574692293480332,
          -0.601149273426994,
          1.1681530928816495,
          0.9225460509197592,
          1.4080120518402826,
          0.5112988358011514,
          1.9042321289343245,
          -1.0519246485155396,
          -1.6145722564049436,
          -0.3069777634201451,
          -1.046904859984683,
          -0.19803089353167186,
          -0.319827137822687,
          -1.8082591352742183,
          2.0747833640870983,
          -0.19248509296146513,
          0.08128642613710906,
          -0.45443881176401013,
          0.7097203042406512,
          -0.38455851977652145,
          1.3908414664195914,
          -1.3692379339272545,
          0.44948683633089076,
          2.2757464103816396,
          -0.7935122389343489,
          -0.6456240932055214,
          -0.4204489550137737,
          0.19391000998362268,
          1.8194934307807404,
          -0.18217550385942105,
          -0.008290286976937332,
          0.8243979074928602,
          0.3721440133587712,
          0.5998082876547112,
          1.7708564035903112,
          1.7102348631178188,
          1.418303290602573,
          -0.34701523804234624,
          0.5032772588783692,
          -1.2452558870960557,
          -0.9970360030520007,
          0.5907178721512375,
          -2.7230352978400645,
          0.20055780980890967,
          -0.6137366637905584,
          -0.6086630310241073,
          -1.1087394788361375,
          0.6641586046761034,
          0.7193702690264225,
          0.9296696099660978,
          0.7317327604793983,
          -0.047201435658269515,
          -0.30334032362370084,
          0.02862471197069708,
          -0.27828523810730366,
          -0.44179553515129544,
          -0.024118842829569834,
          0.31227647731563263,
          0.8701847072134986,
          -0.22309656965636257,
          -0.20770513965651302,
          0.47142175538379566,
          0.5011247094412172,
          -1.3620146525279155,
          -0.14795098303784995,
          0.14196298736049628,
          -1.016884709309532,
          -0.4917906274473433,
          -0.12051799859600523,
          -0.17247939382189223,
          0.9541553890998549,
          1.4315140899860428,
          -0.00992095518753176,
          0.6018254201751347,
          -1.5789016803240072,
          0.727904003014525,
          -1.0147581420106258,
          1.0690133891339306,
          -1.1021364000773435,
          -0.23513861545976072,
          0.18364122505394662,
          -0.8165901971585968,
          -0.6081818370731323,
          0.621396892849809,
          -0.10947553062274686,
          0.11382492392576911,
          0.43714209861981645,
          -0.2654839651102387,
          1.5224160299697473,
          0.1199575783051826,
          0.6250937851392976,
          0.6354018783850093,
          -1.286302152646409
         ],
         "xaxis": "x13",
         "y": [
          0.6970478968175908,
          -0.008281257382003382,
          0.056427851613856064,
          -1.3364228238042606,
          1.8669013933166234,
          0.010045041235569934,
          -1.5276487157483474,
          0.3755057040612648,
          -0.5490921349090621,
          -0.36269090826021194,
          0.8696582649739367,
          0.23639989494106622,
          -0.029962836343930963,
          0.02221121178753949,
          0.22823138899536707,
          -0.34603891847596324,
          1.2720414653213947,
          -0.5310037013792711,
          0.18305790711090902,
          1.1659576412888744,
          -1.0445411205881696,
          -1.1289465438812338,
          -0.5465652450053174,
          -0.6722834217872077,
          0.6570728061688761,
          -0.8099790247116009,
          -0.5580385726012115,
          -1.428083789056553,
          -0.14035958876059954,
          2.7827720721939677,
          1.3402267903666338,
          -0.8500619499620251,
          -1.0469215854597327,
          -0.9641702000968998,
          0.9869207089759805,
          -0.5444956434884186,
          0.3899272528541567,
          2.5698129782836743,
          -0.11640931874614713,
          1.3596695183088932,
          -1.1666648545636011,
          -0.7515037806380355,
          0.7715939742823078,
          -0.013332847760373875,
          -1.2704859989140342,
          0.47479066511925117,
          -1.9253094556986887,
          -1.4245184754304094,
          0.05863659768091849,
          -0.5155285868235054,
          1.766424272489394,
          -0.5145414808204791,
          -0.1030165600762554,
          0.168505296837029,
          -1.4908861266742255,
          1.294831098885771,
          0.6449135591591009,
          0.21959083896676643,
          -0.15823133231896624,
          0.4464432195435138,
          1.3996432835581543,
          -0.16358154903111488,
          0.16521625511828078,
          0.5199434399902836,
          -0.6257848452729105,
          -0.07992790604518829,
          -0.6277382151628513,
          0.6227013890770359,
          -0.8858591437274465,
          -0.13336187782494424,
          -0.28299274620106535,
          0.5617654005784839,
          0.23755257493123932,
          -0.0216818148345745,
          0.5063254835456331,
          0.7511656812182244,
          0.22002542883778634,
          -1.1577718677253217,
          -0.5696006943221648,
          -1.0793127500776791,
          -0.18760100787502546,
          -0.6994761063626701,
          -0.4254064702821228,
          -0.6635044495950063,
          -0.24863847729328858,
          -0.5484007112522068,
          0.41802733027857053,
          -0.23283610199866664,
          -1.4514708836393224,
          0.8905610350590825,
          -0.7028875280487179,
          -0.8416870656085875,
          1.8522424106951112,
          -0.1052985416642793,
          0.46352049671538764,
          -1.159485888668599,
          3.0010732593636726,
          -0.5969134910206177,
          0.3686871073907188,
          1.1832488187523973
         ],
         "yaxis": "y13"
        },
        {
         "line": {
          "color": "rgba(128, 128, 128, 1.0)",
          "dash": "solid",
          "shape": "linear",
          "width": 1.3
         },
         "marker": {
          "size": 2,
          "symbol": "circle"
         },
         "mode": "markers",
         "name": "D",
         "text": "",
         "type": "scatter",
         "x": [
          0.9804902717892854,
          -0.8116560269021028,
          -0.5304074349441019,
          0.7314708976817439,
          -1.317813889901291,
          0.5515653245923914,
          -1.007512904863618,
          0.027869316274254607,
          0.9373009762002932,
          0.3263313741977739,
          -1.4731555994613688,
          -1.5692248514343379,
          0.2247986762962962,
          -0.237046026508892,
          -0.29187496753921166,
          -0.5276451598659568,
          -0.4604939334911615,
          1.0622630019029553,
          0.2018053826239793,
          0.2152987530552919,
          0.5765946081004806,
          -1.0574687398285258,
          0.8147327040239873,
          -1.565196244472277,
          2.1161876872641905,
          -1.152433159222957,
          -0.4421984138276069,
          0.9879694617836262,
          -1.1377408514340306,
          -0.2904951299578208,
          0.941100139067152,
          -0.679405397666701,
          -0.14503723137893423,
          -2.3704740272865727,
          -1.4393468389346427,
          -1.9138285718222479,
          -0.40541957113900345,
          -0.6406358830486115,
          1.9669854746622704,
          0.24587824563188523,
          -1.0450644420469437,
          -0.3915593556466746,
          0.1319976106693394,
          -0.541910078691539,
          -0.45877995278105627,
          -0.04744886791407573,
          1.6744233390504226,
          -2.30929247012321,
          -0.42269700138534194,
          -0.4059181196519094,
          -0.47253102278763687,
          -1.5863850507771629,
          -0.1432502014946788,
          -0.3977794705846313,
          0.25058076876857827,
          1.0380414048510445,
          0.6510006302802921,
          -0.2380316037498957,
          -0.8630875614869196,
          0.6666007826208047,
          -1.869332074666846,
          -0.10507746883011831,
          0.26794216779872787,
          -1.8705098086426515,
          0.1589793056477878,
          -0.2250804552980786,
          -0.37249110592689794,
          0.36992866619033515,
          -0.8588867390570646,
          0.6841615555235582,
          0.6895449549121019,
          -1.653588892920698,
          -0.9066261328784851,
          0.06339155195534256,
          1.289405210397382,
          1.9058872332362038,
          0.9120647093077785,
          0.991419763084864,
          0.1620854385425183,
          -0.07940006271257556,
          1.3785162664718305,
          -0.27038388476787795,
          -0.9615886098208666,
          0.00405632774123973,
          1.2870366134246083,
          0.647698409026788,
          1.437094810613269,
          1.714407268630869,
          -0.7207396837198342,
          -0.8724684564766381,
          -1.091969997227892,
          -0.6433087841112413,
          -2.1803283139883036,
          1.647186106737404,
          0.6038710322432059,
          0.9708787477958503,
          -1.4414590443258994,
          0.0008702819208328536,
          -1.219643854961161,
          -0.6606360890090951
         ],
         "xaxis": "x14",
         "y": [
          0.6970478968175908,
          -0.008281257382003382,
          0.056427851613856064,
          -1.3364228238042606,
          1.8669013933166234,
          0.010045041235569934,
          -1.5276487157483474,
          0.3755057040612648,
          -0.5490921349090621,
          -0.36269090826021194,
          0.8696582649739367,
          0.23639989494106622,
          -0.029962836343930963,
          0.02221121178753949,
          0.22823138899536707,
          -0.34603891847596324,
          1.2720414653213947,
          -0.5310037013792711,
          0.18305790711090902,
          1.1659576412888744,
          -1.0445411205881696,
          -1.1289465438812338,
          -0.5465652450053174,
          -0.6722834217872077,
          0.6570728061688761,
          -0.8099790247116009,
          -0.5580385726012115,
          -1.428083789056553,
          -0.14035958876059954,
          2.7827720721939677,
          1.3402267903666338,
          -0.8500619499620251,
          -1.0469215854597327,
          -0.9641702000968998,
          0.9869207089759805,
          -0.5444956434884186,
          0.3899272528541567,
          2.5698129782836743,
          -0.11640931874614713,
          1.3596695183088932,
          -1.1666648545636011,
          -0.7515037806380355,
          0.7715939742823078,
          -0.013332847760373875,
          -1.2704859989140342,
          0.47479066511925117,
          -1.9253094556986887,
          -1.4245184754304094,
          0.05863659768091849,
          -0.5155285868235054,
          1.766424272489394,
          -0.5145414808204791,
          -0.1030165600762554,
          0.168505296837029,
          -1.4908861266742255,
          1.294831098885771,
          0.6449135591591009,
          0.21959083896676643,
          -0.15823133231896624,
          0.4464432195435138,
          1.3996432835581543,
          -0.16358154903111488,
          0.16521625511828078,
          0.5199434399902836,
          -0.6257848452729105,
          -0.07992790604518829,
          -0.6277382151628513,
          0.6227013890770359,
          -0.8858591437274465,
          -0.13336187782494424,
          -0.28299274620106535,
          0.5617654005784839,
          0.23755257493123932,
          -0.0216818148345745,
          0.5063254835456331,
          0.7511656812182244,
          0.22002542883778634,
          -1.1577718677253217,
          -0.5696006943221648,
          -1.0793127500776791,
          -0.18760100787502546,
          -0.6994761063626701,
          -0.4254064702821228,
          -0.6635044495950063,
          -0.24863847729328858,
          -0.5484007112522068,
          0.41802733027857053,
          -0.23283610199866664,
          -1.4514708836393224,
          0.8905610350590825,
          -0.7028875280487179,
          -0.8416870656085875,
          1.8522424106951112,
          -0.1052985416642793,
          0.46352049671538764,
          -1.159485888668599,
          3.0010732593636726,
          -0.5969134910206177,
          0.3686871073907188,
          1.1832488187523973
         ],
         "yaxis": "y14"
        },
        {
         "line": {
          "color": "rgba(128, 128, 128, 1.0)",
          "dash": "solid",
          "shape": "linear",
          "width": 1.3
         },
         "marker": {
          "size": 2,
          "symbol": "circle"
         },
         "mode": "markers",
         "name": "D",
         "text": "",
         "type": "scatter",
         "x": [
          -1.161719298691836,
          -1.0916825074866223,
          -2.9825477305727035,
          -2.475669661262326,
          1.456186346184792,
          1.3816041807016337,
          1.3195304049192735,
          0.6587256882669855,
          -1.439165067192226,
          -0.43699058870637647,
          0.030662369922433153,
          -1.074801261596589,
          1.4672896709547916,
          2.4294741808989597,
          -1.3300612411519335,
          0.12360199885813726,
          -1.1100320626833795,
          -1.9481812739962805,
          0.5101036728576388,
          0.19210497589930678,
          0.878977715696145,
          -0.8354183307024506,
          1.6624700659165366,
          0.05130672063425422,
          -0.49685589778790046,
          -0.27972718918567735,
          0.8195072984821689,
          -1.0524532465814262,
          -0.20993416349935998,
          -0.11582228972763953,
          0.014037098737650168,
          0.8219951862155216,
          0.4374724389433576,
          -0.418675610794777,
          0.32164517262803943,
          0.15320059147000115,
          0.6772608912459958,
          -0.01641495746276642,
          0.3090623540014178,
          0.2701293389588942,
          0.027057053498706393,
          -0.20771001965939312,
          -0.05677398146816477,
          1.250600094924929,
          0.5220909669365739,
          1.4234962228342811,
          0.6321146987710506,
          0.5334532009607121,
          0.1629850540939295,
          -0.87829596628481,
          2.5280168787052193,
          2.209469459525066,
          0.7932948359942287,
          -0.875025889694795,
          1.1402833376921382,
          0.467238083670141,
          -0.6367012618862695,
          -0.61033591225038,
          -0.24992263127232084,
          0.11207716720034717,
          -0.14607539411494389,
          -1.0628437541075413,
          0.16618139310731325,
          -0.4240969510625668,
          -1.457684160338106,
          -1.495750098327223,
          -0.02166679295452642,
          0.5417684211281204,
          -1.7124295423139781,
          -0.9146427628437475,
          0.17495224840908674,
          0.8865119250208765,
          1.3718927634002418,
          0.2359446029107882,
          1.224195854810709,
          -0.7443163795201444,
          1.7726948378175622,
          -1.0174667808833495,
          0.12868898593907074,
          0.090533232086863,
          -0.0734277166777296,
          -0.5265644035620964,
          0.8107837785590719,
          -1.183999544757503,
          -0.862035349573676,
          0.5176448294608778,
          0.18869043790781748,
          0.9888947010910468,
          -1.4379535636986602,
          0.5416497866026636,
          1.6759241420414497,
          0.9456654320533658,
          -1.2649454655124723,
          -2.2216352260489542,
          -1.327699359671679,
          -1.6589965933037774,
          -1.089696945007076,
          0.5293226014151536,
          0.5765582145015115,
          1.5264108758043518
         ],
         "xaxis": "x15",
         "y": [
          0.6970478968175908,
          -0.008281257382003382,
          0.056427851613856064,
          -1.3364228238042606,
          1.8669013933166234,
          0.010045041235569934,
          -1.5276487157483474,
          0.3755057040612648,
          -0.5490921349090621,
          -0.36269090826021194,
          0.8696582649739367,
          0.23639989494106622,
          -0.029962836343930963,
          0.02221121178753949,
          0.22823138899536707,
          -0.34603891847596324,
          1.2720414653213947,
          -0.5310037013792711,
          0.18305790711090902,
          1.1659576412888744,
          -1.0445411205881696,
          -1.1289465438812338,
          -0.5465652450053174,
          -0.6722834217872077,
          0.6570728061688761,
          -0.8099790247116009,
          -0.5580385726012115,
          -1.428083789056553,
          -0.14035958876059954,
          2.7827720721939677,
          1.3402267903666338,
          -0.8500619499620251,
          -1.0469215854597327,
          -0.9641702000968998,
          0.9869207089759805,
          -0.5444956434884186,
          0.3899272528541567,
          2.5698129782836743,
          -0.11640931874614713,
          1.3596695183088932,
          -1.1666648545636011,
          -0.7515037806380355,
          0.7715939742823078,
          -0.013332847760373875,
          -1.2704859989140342,
          0.47479066511925117,
          -1.9253094556986887,
          -1.4245184754304094,
          0.05863659768091849,
          -0.5155285868235054,
          1.766424272489394,
          -0.5145414808204791,
          -0.1030165600762554,
          0.168505296837029,
          -1.4908861266742255,
          1.294831098885771,
          0.6449135591591009,
          0.21959083896676643,
          -0.15823133231896624,
          0.4464432195435138,
          1.3996432835581543,
          -0.16358154903111488,
          0.16521625511828078,
          0.5199434399902836,
          -0.6257848452729105,
          -0.07992790604518829,
          -0.6277382151628513,
          0.6227013890770359,
          -0.8858591437274465,
          -0.13336187782494424,
          -0.28299274620106535,
          0.5617654005784839,
          0.23755257493123932,
          -0.0216818148345745,
          0.5063254835456331,
          0.7511656812182244,
          0.22002542883778634,
          -1.1577718677253217,
          -0.5696006943221648,
          -1.0793127500776791,
          -0.18760100787502546,
          -0.6994761063626701,
          -0.4254064702821228,
          -0.6635044495950063,
          -0.24863847729328858,
          -0.5484007112522068,
          0.41802733027857053,
          -0.23283610199866664,
          -1.4514708836393224,
          0.8905610350590825,
          -0.7028875280487179,
          -0.8416870656085875,
          1.8522424106951112,
          -0.1052985416642793,
          0.46352049671538764,
          -1.159485888668599,
          3.0010732593636726,
          -0.5969134910206177,
          0.3686871073907188,
          1.1832488187523973
         ],
         "yaxis": "y15"
        },
        {
         "histfunc": "count",
         "histnorm": "",
         "marker": {
          "color": "rgba(128, 0, 128, 1.0)",
          "line": {
           "color": "#4D5663",
           "width": 1.3
          }
         },
         "name": "D",
         "nbinsx": 10,
         "opacity": 0.8,
         "orientation": "v",
         "type": "histogram",
         "x": [
          0.6970478968175908,
          -0.008281257382003382,
          0.056427851613856064,
          -1.3364228238042606,
          1.8669013933166234,
          0.010045041235569934,
          -1.5276487157483474,
          0.3755057040612648,
          -0.5490921349090621,
          -0.36269090826021194,
          0.8696582649739367,
          0.23639989494106622,
          -0.029962836343930963,
          0.02221121178753949,
          0.22823138899536707,
          -0.34603891847596324,
          1.2720414653213947,
          -0.5310037013792711,
          0.18305790711090902,
          1.1659576412888744,
          -1.0445411205881696,
          -1.1289465438812338,
          -0.5465652450053174,
          -0.6722834217872077,
          0.6570728061688761,
          -0.8099790247116009,
          -0.5580385726012115,
          -1.428083789056553,
          -0.14035958876059954,
          2.7827720721939677,
          1.3402267903666338,
          -0.8500619499620251,
          -1.0469215854597327,
          -0.9641702000968998,
          0.9869207089759805,
          -0.5444956434884186,
          0.3899272528541567,
          2.5698129782836743,
          -0.11640931874614713,
          1.3596695183088932,
          -1.1666648545636011,
          -0.7515037806380355,
          0.7715939742823078,
          -0.013332847760373875,
          -1.2704859989140342,
          0.47479066511925117,
          -1.9253094556986887,
          -1.4245184754304094,
          0.05863659768091849,
          -0.5155285868235054,
          1.766424272489394,
          -0.5145414808204791,
          -0.1030165600762554,
          0.168505296837029,
          -1.4908861266742255,
          1.294831098885771,
          0.6449135591591009,
          0.21959083896676643,
          -0.15823133231896624,
          0.4464432195435138,
          1.3996432835581543,
          -0.16358154903111488,
          0.16521625511828078,
          0.5199434399902836,
          -0.6257848452729105,
          -0.07992790604518829,
          -0.6277382151628513,
          0.6227013890770359,
          -0.8858591437274465,
          -0.13336187782494424,
          -0.28299274620106535,
          0.5617654005784839,
          0.23755257493123932,
          -0.0216818148345745,
          0.5063254835456331,
          0.7511656812182244,
          0.22002542883778634,
          -1.1577718677253217,
          -0.5696006943221648,
          -1.0793127500776791,
          -0.18760100787502546,
          -0.6994761063626701,
          -0.4254064702821228,
          -0.6635044495950063,
          -0.24863847729328858,
          -0.5484007112522068,
          0.41802733027857053,
          -0.23283610199866664,
          -1.4514708836393224,
          0.8905610350590825,
          -0.7028875280487179,
          -0.8416870656085875,
          1.8522424106951112,
          -0.1052985416642793,
          0.46352049671538764,
          -1.159485888668599,
          3.0010732593636726,
          -0.5969134910206177,
          0.3686871073907188,
          1.1832488187523973
         ],
         "xaxis": "x16",
         "yaxis": "y16"
        }
       ],
       "layout": {
        "bargap": 0.02,
        "legend": {
         "bgcolor": "#F5F6F9",
         "font": {
          "color": "#4D5663"
         }
        },
        "paper_bgcolor": "#F5F6F9",
        "plot_bgcolor": "#F5F6F9",
        "showlegend": false,
        "template": {
         "data": {
          "bar": [
           {
            "error_x": {
             "color": "#2a3f5f"
            },
            "error_y": {
             "color": "#2a3f5f"
            },
            "marker": {
             "line": {
              "color": "#E5ECF6",
              "width": 0.5
             },
             "pattern": {
              "fillmode": "overlay",
              "size": 10,
              "solidity": 0.2
             }
            },
            "type": "bar"
           }
          ],
          "barpolar": [
           {
            "marker": {
             "line": {
              "color": "#E5ECF6",
              "width": 0.5
             },
             "pattern": {
              "fillmode": "overlay",
              "size": 10,
              "solidity": 0.2
             }
            },
            "type": "barpolar"
           }
          ],
          "carpet": [
           {
            "aaxis": {
             "endlinecolor": "#2a3f5f",
             "gridcolor": "white",
             "linecolor": "white",
             "minorgridcolor": "white",
             "startlinecolor": "#2a3f5f"
            },
            "baxis": {
             "endlinecolor": "#2a3f5f",
             "gridcolor": "white",
             "linecolor": "white",
             "minorgridcolor": "white",
             "startlinecolor": "#2a3f5f"
            },
            "type": "carpet"
           }
          ],
          "choropleth": [
           {
            "colorbar": {
             "outlinewidth": 0,
             "ticks": ""
            },
            "type": "choropleth"
           }
          ],
          "contour": [
           {
            "colorbar": {
             "outlinewidth": 0,
             "ticks": ""
            },
            "colorscale": [
             [
              0,
              "#0d0887"
             ],
             [
              0.1111111111111111,
              "#46039f"
             ],
             [
              0.2222222222222222,
              "#7201a8"
             ],
             [
              0.3333333333333333,
              "#9c179e"
             ],
             [
              0.4444444444444444,
              "#bd3786"
             ],
             [
              0.5555555555555556,
              "#d8576b"
             ],
             [
              0.6666666666666666,
              "#ed7953"
             ],
             [
              0.7777777777777778,
              "#fb9f3a"
             ],
             [
              0.8888888888888888,
              "#fdca26"
             ],
             [
              1,
              "#f0f921"
             ]
            ],
            "type": "contour"
           }
          ],
          "contourcarpet": [
           {
            "colorbar": {
             "outlinewidth": 0,
             "ticks": ""
            },
            "type": "contourcarpet"
           }
          ],
          "heatmap": [
           {
            "colorbar": {
             "outlinewidth": 0,
             "ticks": ""
            },
            "colorscale": [
             [
              0,
              "#0d0887"
             ],
             [
              0.1111111111111111,
              "#46039f"
             ],
             [
              0.2222222222222222,
              "#7201a8"
             ],
             [
              0.3333333333333333,
              "#9c179e"
             ],
             [
              0.4444444444444444,
              "#bd3786"
             ],
             [
              0.5555555555555556,
              "#d8576b"
             ],
             [
              0.6666666666666666,
              "#ed7953"
             ],
             [
              0.7777777777777778,
              "#fb9f3a"
             ],
             [
              0.8888888888888888,
              "#fdca26"
             ],
             [
              1,
              "#f0f921"
             ]
            ],
            "type": "heatmap"
           }
          ],
          "heatmapgl": [
           {
            "colorbar": {
             "outlinewidth": 0,
             "ticks": ""
            },
            "colorscale": [
             [
              0,
              "#0d0887"
             ],
             [
              0.1111111111111111,
              "#46039f"
             ],
             [
              0.2222222222222222,
              "#7201a8"
             ],
             [
              0.3333333333333333,
              "#9c179e"
             ],
             [
              0.4444444444444444,
              "#bd3786"
             ],
             [
              0.5555555555555556,
              "#d8576b"
             ],
             [
              0.6666666666666666,
              "#ed7953"
             ],
             [
              0.7777777777777778,
              "#fb9f3a"
             ],
             [
              0.8888888888888888,
              "#fdca26"
             ],
             [
              1,
              "#f0f921"
             ]
            ],
            "type": "heatmapgl"
           }
          ],
          "histogram": [
           {
            "marker": {
             "pattern": {
              "fillmode": "overlay",
              "size": 10,
              "solidity": 0.2
             }
            },
            "type": "histogram"
           }
          ],
          "histogram2d": [
           {
            "colorbar": {
             "outlinewidth": 0,
             "ticks": ""
            },
            "colorscale": [
             [
              0,
              "#0d0887"
             ],
             [
              0.1111111111111111,
              "#46039f"
             ],
             [
              0.2222222222222222,
              "#7201a8"
             ],
             [
              0.3333333333333333,
              "#9c179e"
             ],
             [
              0.4444444444444444,
              "#bd3786"
             ],
             [
              0.5555555555555556,
              "#d8576b"
             ],
             [
              0.6666666666666666,
              "#ed7953"
             ],
             [
              0.7777777777777778,
              "#fb9f3a"
             ],
             [
              0.8888888888888888,
              "#fdca26"
             ],
             [
              1,
              "#f0f921"
             ]
            ],
            "type": "histogram2d"
           }
          ],
          "histogram2dcontour": [
           {
            "colorbar": {
             "outlinewidth": 0,
             "ticks": ""
            },
            "colorscale": [
             [
              0,
              "#0d0887"
             ],
             [
              0.1111111111111111,
              "#46039f"
             ],
             [
              0.2222222222222222,
              "#7201a8"
             ],
             [
              0.3333333333333333,
              "#9c179e"
             ],
             [
              0.4444444444444444,
              "#bd3786"
             ],
             [
              0.5555555555555556,
              "#d8576b"
             ],
             [
              0.6666666666666666,
              "#ed7953"
             ],
             [
              0.7777777777777778,
              "#fb9f3a"
             ],
             [
              0.8888888888888888,
              "#fdca26"
             ],
             [
              1,
              "#f0f921"
             ]
            ],
            "type": "histogram2dcontour"
           }
          ],
          "mesh3d": [
           {
            "colorbar": {
             "outlinewidth": 0,
             "ticks": ""
            },
            "type": "mesh3d"
           }
          ],
          "parcoords": [
           {
            "line": {
             "colorbar": {
              "outlinewidth": 0,
              "ticks": ""
             }
            },
            "type": "parcoords"
           }
          ],
          "pie": [
           {
            "automargin": true,
            "type": "pie"
           }
          ],
          "scatter": [
           {
            "marker": {
             "colorbar": {
              "outlinewidth": 0,
              "ticks": ""
             }
            },
            "type": "scatter"
           }
          ],
          "scatter3d": [
           {
            "line": {
             "colorbar": {
              "outlinewidth": 0,
              "ticks": ""
             }
            },
            "marker": {
             "colorbar": {
              "outlinewidth": 0,
              "ticks": ""
             }
            },
            "type": "scatter3d"
           }
          ],
          "scattercarpet": [
           {
            "marker": {
             "colorbar": {
              "outlinewidth": 0,
              "ticks": ""
             }
            },
            "type": "scattercarpet"
           }
          ],
          "scattergeo": [
           {
            "marker": {
             "colorbar": {
              "outlinewidth": 0,
              "ticks": ""
             }
            },
            "type": "scattergeo"
           }
          ],
          "scattergl": [
           {
            "marker": {
             "colorbar": {
              "outlinewidth": 0,
              "ticks": ""
             }
            },
            "type": "scattergl"
           }
          ],
          "scattermapbox": [
           {
            "marker": {
             "colorbar": {
              "outlinewidth": 0,
              "ticks": ""
             }
            },
            "type": "scattermapbox"
           }
          ],
          "scatterpolar": [
           {
            "marker": {
             "colorbar": {
              "outlinewidth": 0,
              "ticks": ""
             }
            },
            "type": "scatterpolar"
           }
          ],
          "scatterpolargl": [
           {
            "marker": {
             "colorbar": {
              "outlinewidth": 0,
              "ticks": ""
             }
            },
            "type": "scatterpolargl"
           }
          ],
          "scatterternary": [
           {
            "marker": {
             "colorbar": {
              "outlinewidth": 0,
              "ticks": ""
             }
            },
            "type": "scatterternary"
           }
          ],
          "surface": [
           {
            "colorbar": {
             "outlinewidth": 0,
             "ticks": ""
            },
            "colorscale": [
             [
              0,
              "#0d0887"
             ],
             [
              0.1111111111111111,
              "#46039f"
             ],
             [
              0.2222222222222222,
              "#7201a8"
             ],
             [
              0.3333333333333333,
              "#9c179e"
             ],
             [
              0.4444444444444444,
              "#bd3786"
             ],
             [
              0.5555555555555556,
              "#d8576b"
             ],
             [
              0.6666666666666666,
              "#ed7953"
             ],
             [
              0.7777777777777778,
              "#fb9f3a"
             ],
             [
              0.8888888888888888,
              "#fdca26"
             ],
             [
              1,
              "#f0f921"
             ]
            ],
            "type": "surface"
           }
          ],
          "table": [
           {
            "cells": {
             "fill": {
              "color": "#EBF0F8"
             },
             "line": {
              "color": "white"
             }
            },
            "header": {
             "fill": {
              "color": "#C8D4E3"
             },
             "line": {
              "color": "white"
             }
            },
            "type": "table"
           }
          ]
         },
         "layout": {
          "annotationdefaults": {
           "arrowcolor": "#2a3f5f",
           "arrowhead": 0,
           "arrowwidth": 1
          },
          "autotypenumbers": "strict",
          "coloraxis": {
           "colorbar": {
            "outlinewidth": 0,
            "ticks": ""
           }
          },
          "colorscale": {
           "diverging": [
            [
             0,
             "#8e0152"
            ],
            [
             0.1,
             "#c51b7d"
            ],
            [
             0.2,
             "#de77ae"
            ],
            [
             0.3,
             "#f1b6da"
            ],
            [
             0.4,
             "#fde0ef"
            ],
            [
             0.5,
             "#f7f7f7"
            ],
            [
             0.6,
             "#e6f5d0"
            ],
            [
             0.7,
             "#b8e186"
            ],
            [
             0.8,
             "#7fbc41"
            ],
            [
             0.9,
             "#4d9221"
            ],
            [
             1,
             "#276419"
            ]
           ],
           "sequential": [
            [
             0,
             "#0d0887"
            ],
            [
             0.1111111111111111,
             "#46039f"
            ],
            [
             0.2222222222222222,
             "#7201a8"
            ],
            [
             0.3333333333333333,
             "#9c179e"
            ],
            [
             0.4444444444444444,
             "#bd3786"
            ],
            [
             0.5555555555555556,
             "#d8576b"
            ],
            [
             0.6666666666666666,
             "#ed7953"
            ],
            [
             0.7777777777777778,
             "#fb9f3a"
            ],
            [
             0.8888888888888888,
             "#fdca26"
            ],
            [
             1,
             "#f0f921"
            ]
           ],
           "sequentialminus": [
            [
             0,
             "#0d0887"
            ],
            [
             0.1111111111111111,
             "#46039f"
            ],
            [
             0.2222222222222222,
             "#7201a8"
            ],
            [
             0.3333333333333333,
             "#9c179e"
            ],
            [
             0.4444444444444444,
             "#bd3786"
            ],
            [
             0.5555555555555556,
             "#d8576b"
            ],
            [
             0.6666666666666666,
             "#ed7953"
            ],
            [
             0.7777777777777778,
             "#fb9f3a"
            ],
            [
             0.8888888888888888,
             "#fdca26"
            ],
            [
             1,
             "#f0f921"
            ]
           ]
          },
          "colorway": [
           "#636efa",
           "#EF553B",
           "#00cc96",
           "#ab63fa",
           "#FFA15A",
           "#19d3f3",
           "#FF6692",
           "#B6E880",
           "#FF97FF",
           "#FECB52"
          ],
          "font": {
           "color": "#2a3f5f"
          },
          "geo": {
           "bgcolor": "white",
           "lakecolor": "white",
           "landcolor": "#E5ECF6",
           "showlakes": true,
           "showland": true,
           "subunitcolor": "white"
          },
          "hoverlabel": {
           "align": "left"
          },
          "hovermode": "closest",
          "mapbox": {
           "style": "light"
          },
          "paper_bgcolor": "white",
          "plot_bgcolor": "#E5ECF6",
          "polar": {
           "angularaxis": {
            "gridcolor": "white",
            "linecolor": "white",
            "ticks": ""
           },
           "bgcolor": "#E5ECF6",
           "radialaxis": {
            "gridcolor": "white",
            "linecolor": "white",
            "ticks": ""
           }
          },
          "scene": {
           "xaxis": {
            "backgroundcolor": "#E5ECF6",
            "gridcolor": "white",
            "gridwidth": 2,
            "linecolor": "white",
            "showbackground": true,
            "ticks": "",
            "zerolinecolor": "white"
           },
           "yaxis": {
            "backgroundcolor": "#E5ECF6",
            "gridcolor": "white",
            "gridwidth": 2,
            "linecolor": "white",
            "showbackground": true,
            "ticks": "",
            "zerolinecolor": "white"
           },
           "zaxis": {
            "backgroundcolor": "#E5ECF6",
            "gridcolor": "white",
            "gridwidth": 2,
            "linecolor": "white",
            "showbackground": true,
            "ticks": "",
            "zerolinecolor": "white"
           }
          },
          "shapedefaults": {
           "line": {
            "color": "#2a3f5f"
           }
          },
          "ternary": {
           "aaxis": {
            "gridcolor": "white",
            "linecolor": "white",
            "ticks": ""
           },
           "baxis": {
            "gridcolor": "white",
            "linecolor": "white",
            "ticks": ""
           },
           "bgcolor": "#E5ECF6",
           "caxis": {
            "gridcolor": "white",
            "linecolor": "white",
            "ticks": ""
           }
          },
          "title": {
           "x": 0.05
          },
          "xaxis": {
           "automargin": true,
           "gridcolor": "white",
           "linecolor": "white",
           "ticks": "",
           "title": {
            "standoff": 15
           },
           "zerolinecolor": "white",
           "zerolinewidth": 2
          },
          "yaxis": {
           "automargin": true,
           "gridcolor": "white",
           "linecolor": "white",
           "ticks": "",
           "title": {
            "standoff": 15
           },
           "zerolinecolor": "white",
           "zerolinewidth": 2
          }
         }
        },
        "title": {
         "font": {
          "color": "#4D5663"
         }
        },
        "xaxis": {
         "anchor": "y",
         "domain": [
          0,
          0.2125
         ],
         "gridcolor": "#E1E5ED",
         "showgrid": false,
         "tickfont": {
          "color": "#4D5663"
         },
         "title": {
          "font": {
           "color": "#4D5663"
          },
          "text": ""
         },
         "zerolinecolor": "#E1E5ED"
        },
        "xaxis10": {
         "anchor": "y10",
         "domain": [
          0.2625,
          0.475
         ],
         "gridcolor": "#E1E5ED",
         "showgrid": false,
         "tickfont": {
          "color": "#4D5663"
         },
         "title": {
          "font": {
           "color": "#4D5663"
          },
          "text": ""
         },
         "zerolinecolor": "#E1E5ED"
        },
        "xaxis11": {
         "anchor": "y11",
         "domain": [
          0.525,
          0.7375
         ],
         "gridcolor": "#E1E5ED",
         "showgrid": false,
         "tickfont": {
          "color": "#4D5663"
         },
         "title": {
          "font": {
           "color": "#4D5663"
          },
          "text": ""
         },
         "zerolinecolor": "#E1E5ED"
        },
        "xaxis12": {
         "anchor": "y12",
         "domain": [
          0.7875,
          1
         ],
         "gridcolor": "#E1E5ED",
         "showgrid": false,
         "tickfont": {
          "color": "#4D5663"
         },
         "title": {
          "font": {
           "color": "#4D5663"
          },
          "text": ""
         },
         "zerolinecolor": "#E1E5ED"
        },
        "xaxis13": {
         "anchor": "y13",
         "domain": [
          0,
          0.2125
         ],
         "gridcolor": "#E1E5ED",
         "showgrid": false,
         "tickfont": {
          "color": "#4D5663"
         },
         "title": {
          "font": {
           "color": "#4D5663"
          },
          "text": ""
         },
         "zerolinecolor": "#E1E5ED"
        },
        "xaxis14": {
         "anchor": "y14",
         "domain": [
          0.2625,
          0.475
         ],
         "gridcolor": "#E1E5ED",
         "showgrid": false,
         "tickfont": {
          "color": "#4D5663"
         },
         "title": {
          "font": {
           "color": "#4D5663"
          },
          "text": ""
         },
         "zerolinecolor": "#E1E5ED"
        },
        "xaxis15": {
         "anchor": "y15",
         "domain": [
          0.525,
          0.7375
         ],
         "gridcolor": "#E1E5ED",
         "showgrid": false,
         "tickfont": {
          "color": "#4D5663"
         },
         "title": {
          "font": {
           "color": "#4D5663"
          },
          "text": ""
         },
         "zerolinecolor": "#E1E5ED"
        },
        "xaxis16": {
         "anchor": "y16",
         "domain": [
          0.7875,
          1
         ],
         "gridcolor": "#E1E5ED",
         "showgrid": false,
         "tickfont": {
          "color": "#4D5663"
         },
         "title": {
          "font": {
           "color": "#4D5663"
          },
          "text": ""
         },
         "zerolinecolor": "#E1E5ED"
        },
        "xaxis2": {
         "anchor": "y2",
         "domain": [
          0.2625,
          0.475
         ],
         "gridcolor": "#E1E5ED",
         "showgrid": false,
         "tickfont": {
          "color": "#4D5663"
         },
         "title": {
          "font": {
           "color": "#4D5663"
          },
          "text": ""
         },
         "zerolinecolor": "#E1E5ED"
        },
        "xaxis3": {
         "anchor": "y3",
         "domain": [
          0.525,
          0.7375
         ],
         "gridcolor": "#E1E5ED",
         "showgrid": false,
         "tickfont": {
          "color": "#4D5663"
         },
         "title": {
          "font": {
           "color": "#4D5663"
          },
          "text": ""
         },
         "zerolinecolor": "#E1E5ED"
        },
        "xaxis4": {
         "anchor": "y4",
         "domain": [
          0.7875,
          1
         ],
         "gridcolor": "#E1E5ED",
         "showgrid": false,
         "tickfont": {
          "color": "#4D5663"
         },
         "title": {
          "font": {
           "color": "#4D5663"
          },
          "text": ""
         },
         "zerolinecolor": "#E1E5ED"
        },
        "xaxis5": {
         "anchor": "y5",
         "domain": [
          0,
          0.2125
         ],
         "gridcolor": "#E1E5ED",
         "showgrid": false,
         "tickfont": {
          "color": "#4D5663"
         },
         "title": {
          "font": {
           "color": "#4D5663"
          },
          "text": ""
         },
         "zerolinecolor": "#E1E5ED"
        },
        "xaxis6": {
         "anchor": "y6",
         "domain": [
          0.2625,
          0.475
         ],
         "gridcolor": "#E1E5ED",
         "showgrid": false,
         "tickfont": {
          "color": "#4D5663"
         },
         "title": {
          "font": {
           "color": "#4D5663"
          },
          "text": ""
         },
         "zerolinecolor": "#E1E5ED"
        },
        "xaxis7": {
         "anchor": "y7",
         "domain": [
          0.525,
          0.7375
         ],
         "gridcolor": "#E1E5ED",
         "showgrid": false,
         "tickfont": {
          "color": "#4D5663"
         },
         "title": {
          "font": {
           "color": "#4D5663"
          },
          "text": ""
         },
         "zerolinecolor": "#E1E5ED"
        },
        "xaxis8": {
         "anchor": "y8",
         "domain": [
          0.7875,
          1
         ],
         "gridcolor": "#E1E5ED",
         "showgrid": false,
         "tickfont": {
          "color": "#4D5663"
         },
         "title": {
          "font": {
           "color": "#4D5663"
          },
          "text": ""
         },
         "zerolinecolor": "#E1E5ED"
        },
        "xaxis9": {
         "anchor": "y9",
         "domain": [
          0,
          0.2125
         ],
         "gridcolor": "#E1E5ED",
         "showgrid": false,
         "tickfont": {
          "color": "#4D5663"
         },
         "title": {
          "font": {
           "color": "#4D5663"
          },
          "text": ""
         },
         "zerolinecolor": "#E1E5ED"
        },
        "yaxis": {
         "anchor": "x",
         "domain": [
          0.8025,
          1
         ],
         "gridcolor": "#E1E5ED",
         "showgrid": false,
         "tickfont": {
          "color": "#4D5663"
         },
         "title": {
          "font": {
           "color": "#4D5663"
          },
          "text": ""
         },
         "zerolinecolor": "#E1E5ED"
        },
        "yaxis10": {
         "anchor": "x10",
         "domain": [
          0.2675,
          0.465
         ],
         "gridcolor": "#E1E5ED",
         "showgrid": false,
         "tickfont": {
          "color": "#4D5663"
         },
         "title": {
          "font": {
           "color": "#4D5663"
          },
          "text": ""
         },
         "zerolinecolor": "#E1E5ED"
        },
        "yaxis11": {
         "anchor": "x11",
         "domain": [
          0.2675,
          0.465
         ],
         "gridcolor": "#E1E5ED",
         "showgrid": false,
         "tickfont": {
          "color": "#4D5663"
         },
         "title": {
          "font": {
           "color": "#4D5663"
          },
          "text": ""
         },
         "zerolinecolor": "#E1E5ED"
        },
        "yaxis12": {
         "anchor": "x12",
         "domain": [
          0.2675,
          0.465
         ],
         "gridcolor": "#E1E5ED",
         "showgrid": false,
         "tickfont": {
          "color": "#4D5663"
         },
         "title": {
          "font": {
           "color": "#4D5663"
          },
          "text": ""
         },
         "zerolinecolor": "#E1E5ED"
        },
        "yaxis13": {
         "anchor": "x13",
         "domain": [
          0,
          0.1975
         ],
         "gridcolor": "#E1E5ED",
         "showgrid": false,
         "tickfont": {
          "color": "#4D5663"
         },
         "title": {
          "font": {
           "color": "#4D5663"
          },
          "text": ""
         },
         "zerolinecolor": "#E1E5ED"
        },
        "yaxis14": {
         "anchor": "x14",
         "domain": [
          0,
          0.1975
         ],
         "gridcolor": "#E1E5ED",
         "showgrid": false,
         "tickfont": {
          "color": "#4D5663"
         },
         "title": {
          "font": {
           "color": "#4D5663"
          },
          "text": ""
         },
         "zerolinecolor": "#E1E5ED"
        },
        "yaxis15": {
         "anchor": "x15",
         "domain": [
          0,
          0.1975
         ],
         "gridcolor": "#E1E5ED",
         "showgrid": false,
         "tickfont": {
          "color": "#4D5663"
         },
         "title": {
          "font": {
           "color": "#4D5663"
          },
          "text": ""
         },
         "zerolinecolor": "#E1E5ED"
        },
        "yaxis16": {
         "anchor": "x16",
         "domain": [
          0,
          0.1975
         ],
         "gridcolor": "#E1E5ED",
         "showgrid": false,
         "tickfont": {
          "color": "#4D5663"
         },
         "title": {
          "font": {
           "color": "#4D5663"
          },
          "text": ""
         },
         "zerolinecolor": "#E1E5ED"
        },
        "yaxis2": {
         "anchor": "x2",
         "domain": [
          0.8025,
          1
         ],
         "gridcolor": "#E1E5ED",
         "showgrid": false,
         "tickfont": {
          "color": "#4D5663"
         },
         "title": {
          "font": {
           "color": "#4D5663"
          },
          "text": ""
         },
         "zerolinecolor": "#E1E5ED"
        },
        "yaxis3": {
         "anchor": "x3",
         "domain": [
          0.8025,
          1
         ],
         "gridcolor": "#E1E5ED",
         "showgrid": false,
         "tickfont": {
          "color": "#4D5663"
         },
         "title": {
          "font": {
           "color": "#4D5663"
          },
          "text": ""
         },
         "zerolinecolor": "#E1E5ED"
        },
        "yaxis4": {
         "anchor": "x4",
         "domain": [
          0.8025,
          1
         ],
         "gridcolor": "#E1E5ED",
         "showgrid": false,
         "tickfont": {
          "color": "#4D5663"
         },
         "title": {
          "font": {
           "color": "#4D5663"
          },
          "text": ""
         },
         "zerolinecolor": "#E1E5ED"
        },
        "yaxis5": {
         "anchor": "x5",
         "domain": [
          0.535,
          0.7325
         ],
         "gridcolor": "#E1E5ED",
         "showgrid": false,
         "tickfont": {
          "color": "#4D5663"
         },
         "title": {
          "font": {
           "color": "#4D5663"
          },
          "text": ""
         },
         "zerolinecolor": "#E1E5ED"
        },
        "yaxis6": {
         "anchor": "x6",
         "domain": [
          0.535,
          0.7325
         ],
         "gridcolor": "#E1E5ED",
         "showgrid": false,
         "tickfont": {
          "color": "#4D5663"
         },
         "title": {
          "font": {
           "color": "#4D5663"
          },
          "text": ""
         },
         "zerolinecolor": "#E1E5ED"
        },
        "yaxis7": {
         "anchor": "x7",
         "domain": [
          0.535,
          0.7325
         ],
         "gridcolor": "#E1E5ED",
         "showgrid": false,
         "tickfont": {
          "color": "#4D5663"
         },
         "title": {
          "font": {
           "color": "#4D5663"
          },
          "text": ""
         },
         "zerolinecolor": "#E1E5ED"
        },
        "yaxis8": {
         "anchor": "x8",
         "domain": [
          0.535,
          0.7325
         ],
         "gridcolor": "#E1E5ED",
         "showgrid": false,
         "tickfont": {
          "color": "#4D5663"
         },
         "title": {
          "font": {
           "color": "#4D5663"
          },
          "text": ""
         },
         "zerolinecolor": "#E1E5ED"
        },
        "yaxis9": {
         "anchor": "x9",
         "domain": [
          0.2675,
          0.465
         ],
         "gridcolor": "#E1E5ED",
         "showgrid": false,
         "tickfont": {
          "color": "#4D5663"
         },
         "title": {
          "font": {
           "color": "#4D5663"
          },
          "text": ""
         },
         "zerolinecolor": "#E1E5ED"
        }
       }
      },
      "text/html": [
       "<div>                            <div id=\"4710d316-38a4-48b9-8630-388630b6f79d\" class=\"plotly-graph-div\" style=\"height:525px; width:100%;\"></div>            <script type=\"text/javascript\">                require([\"plotly\"], function(Plotly) {                    window.PLOTLYENV=window.PLOTLYENV || {};\n",
       "                    window.PLOTLYENV.BASE_URL='https://plot.ly';                                    if (document.getElementById(\"4710d316-38a4-48b9-8630-388630b6f79d\")) {                    Plotly.newPlot(                        \"4710d316-38a4-48b9-8630-388630b6f79d\",                        [{\"histfunc\":\"count\",\"histnorm\":\"\",\"marker\":{\"color\":\"rgba(255, 153, 51, 1.0)\",\"line\":{\"color\":\"#4D5663\",\"width\":1.3}},\"name\":\"A\",\"nbinsx\":10,\"opacity\":0.8,\"orientation\":\"v\",\"type\":\"histogram\",\"x\":[-1.4540004081478248,-0.11007355043051158,0.10982869675375188,-0.6483522274923497,0.6456682145863891,-0.9941365717586216,0.49132505126695764,0.574692293480332,-0.601149273426994,1.1681530928816495,0.9225460509197592,1.4080120518402826,0.5112988358011514,1.9042321289343245,-1.0519246485155396,-1.6145722564049436,-0.3069777634201451,-1.046904859984683,-0.19803089353167186,-0.319827137822687,-1.8082591352742183,2.0747833640870983,-0.19248509296146513,0.08128642613710906,-0.45443881176401013,0.7097203042406512,-0.38455851977652145,1.3908414664195914,-1.3692379339272545,0.44948683633089076,2.2757464103816396,-0.7935122389343489,-0.6456240932055214,-0.4204489550137737,0.19391000998362268,1.8194934307807404,-0.18217550385942105,-0.008290286976937332,0.8243979074928602,0.3721440133587712,0.5998082876547112,1.7708564035903112,1.7102348631178188,1.418303290602573,-0.34701523804234624,0.5032772588783692,-1.2452558870960557,-0.9970360030520007,0.5907178721512375,-2.7230352978400645,0.20055780980890967,-0.6137366637905584,-0.6086630310241073,-1.1087394788361375,0.6641586046761034,0.7193702690264225,0.9296696099660978,0.7317327604793983,-0.047201435658269515,-0.30334032362370084,0.02862471197069708,-0.27828523810730366,-0.44179553515129544,-0.024118842829569834,0.31227647731563263,0.8701847072134986,-0.22309656965636257,-0.20770513965651302,0.47142175538379566,0.5011247094412172,-1.3620146525279155,-0.14795098303784995,0.14196298736049628,-1.016884709309532,-0.4917906274473433,-0.12051799859600523,-0.17247939382189223,0.9541553890998549,1.4315140899860428,-0.00992095518753176,0.6018254201751347,-1.5789016803240072,0.727904003014525,-1.0147581420106258,1.0690133891339306,-1.1021364000773435,-0.23513861545976072,0.18364122505394662,-0.8165901971585968,-0.6081818370731323,0.621396892849809,-0.10947553062274686,0.11382492392576911,0.43714209861981645,-0.2654839651102387,1.5224160299697473,0.1199575783051826,0.6250937851392976,0.6354018783850093,-1.286302152646409],\"xaxis\":\"x\",\"yaxis\":\"y\"},{\"line\":{\"color\":\"rgba(128, 128, 128, 1.0)\",\"dash\":\"solid\",\"shape\":\"linear\",\"width\":1.3},\"marker\":{\"size\":2,\"symbol\":\"circle\"},\"mode\":\"markers\",\"name\":\"A\",\"text\":\"\",\"type\":\"scatter\",\"x\":[0.9804902717892854,-0.8116560269021028,-0.5304074349441019,0.7314708976817439,-1.317813889901291,0.5515653245923914,-1.007512904863618,0.027869316274254607,0.9373009762002932,0.3263313741977739,-1.4731555994613688,-1.5692248514343379,0.2247986762962962,-0.237046026508892,-0.29187496753921166,-0.5276451598659568,-0.4604939334911615,1.0622630019029553,0.2018053826239793,0.2152987530552919,0.5765946081004806,-1.0574687398285258,0.8147327040239873,-1.565196244472277,2.1161876872641905,-1.152433159222957,-0.4421984138276069,0.9879694617836262,-1.1377408514340306,-0.2904951299578208,0.941100139067152,-0.679405397666701,-0.14503723137893423,-2.3704740272865727,-1.4393468389346427,-1.9138285718222479,-0.40541957113900345,-0.6406358830486115,1.9669854746622704,0.24587824563188523,-1.0450644420469437,-0.3915593556466746,0.1319976106693394,-0.541910078691539,-0.45877995278105627,-0.04744886791407573,1.6744233390504226,-2.30929247012321,-0.42269700138534194,-0.4059181196519094,-0.47253102278763687,-1.5863850507771629,-0.1432502014946788,-0.3977794705846313,0.25058076876857827,1.0380414048510445,0.6510006302802921,-0.2380316037498957,-0.8630875614869196,0.6666007826208047,-1.869332074666846,-0.10507746883011831,0.26794216779872787,-1.8705098086426515,0.1589793056477878,-0.2250804552980786,-0.37249110592689794,0.36992866619033515,-0.8588867390570646,0.6841615555235582,0.6895449549121019,-1.653588892920698,-0.9066261328784851,0.06339155195534256,1.289405210397382,1.9058872332362038,0.9120647093077785,0.991419763084864,0.1620854385425183,-0.07940006271257556,1.3785162664718305,-0.27038388476787795,-0.9615886098208666,0.00405632774123973,1.2870366134246083,0.647698409026788,1.437094810613269,1.714407268630869,-0.7207396837198342,-0.8724684564766381,-1.091969997227892,-0.6433087841112413,-2.1803283139883036,1.647186106737404,0.6038710322432059,0.9708787477958503,-1.4414590443258994,0.0008702819208328536,-1.219643854961161,-0.6606360890090951],\"xaxis\":\"x2\",\"y\":[-1.4540004081478248,-0.11007355043051158,0.10982869675375188,-0.6483522274923497,0.6456682145863891,-0.9941365717586216,0.49132505126695764,0.574692293480332,-0.601149273426994,1.1681530928816495,0.9225460509197592,1.4080120518402826,0.5112988358011514,1.9042321289343245,-1.0519246485155396,-1.6145722564049436,-0.3069777634201451,-1.046904859984683,-0.19803089353167186,-0.319827137822687,-1.8082591352742183,2.0747833640870983,-0.19248509296146513,0.08128642613710906,-0.45443881176401013,0.7097203042406512,-0.38455851977652145,1.3908414664195914,-1.3692379339272545,0.44948683633089076,2.2757464103816396,-0.7935122389343489,-0.6456240932055214,-0.4204489550137737,0.19391000998362268,1.8194934307807404,-0.18217550385942105,-0.008290286976937332,0.8243979074928602,0.3721440133587712,0.5998082876547112,1.7708564035903112,1.7102348631178188,1.418303290602573,-0.34701523804234624,0.5032772588783692,-1.2452558870960557,-0.9970360030520007,0.5907178721512375,-2.7230352978400645,0.20055780980890967,-0.6137366637905584,-0.6086630310241073,-1.1087394788361375,0.6641586046761034,0.7193702690264225,0.9296696099660978,0.7317327604793983,-0.047201435658269515,-0.30334032362370084,0.02862471197069708,-0.27828523810730366,-0.44179553515129544,-0.024118842829569834,0.31227647731563263,0.8701847072134986,-0.22309656965636257,-0.20770513965651302,0.47142175538379566,0.5011247094412172,-1.3620146525279155,-0.14795098303784995,0.14196298736049628,-1.016884709309532,-0.4917906274473433,-0.12051799859600523,-0.17247939382189223,0.9541553890998549,1.4315140899860428,-0.00992095518753176,0.6018254201751347,-1.5789016803240072,0.727904003014525,-1.0147581420106258,1.0690133891339306,-1.1021364000773435,-0.23513861545976072,0.18364122505394662,-0.8165901971585968,-0.6081818370731323,0.621396892849809,-0.10947553062274686,0.11382492392576911,0.43714209861981645,-0.2654839651102387,1.5224160299697473,0.1199575783051826,0.6250937851392976,0.6354018783850093,-1.286302152646409],\"yaxis\":\"y2\"},{\"line\":{\"color\":\"rgba(128, 128, 128, 1.0)\",\"dash\":\"solid\",\"shape\":\"linear\",\"width\":1.3},\"marker\":{\"size\":2,\"symbol\":\"circle\"},\"mode\":\"markers\",\"name\":\"A\",\"text\":\"\",\"type\":\"scatter\",\"x\":[-1.161719298691836,-1.0916825074866223,-2.9825477305727035,-2.475669661262326,1.456186346184792,1.3816041807016337,1.3195304049192735,0.6587256882669855,-1.439165067192226,-0.43699058870637647,0.030662369922433153,-1.074801261596589,1.4672896709547916,2.4294741808989597,-1.3300612411519335,0.12360199885813726,-1.1100320626833795,-1.9481812739962805,0.5101036728576388,0.19210497589930678,0.878977715696145,-0.8354183307024506,1.6624700659165366,0.05130672063425422,-0.49685589778790046,-0.27972718918567735,0.8195072984821689,-1.0524532465814262,-0.20993416349935998,-0.11582228972763953,0.014037098737650168,0.8219951862155216,0.4374724389433576,-0.418675610794777,0.32164517262803943,0.15320059147000115,0.6772608912459958,-0.01641495746276642,0.3090623540014178,0.2701293389588942,0.027057053498706393,-0.20771001965939312,-0.05677398146816477,1.250600094924929,0.5220909669365739,1.4234962228342811,0.6321146987710506,0.5334532009607121,0.1629850540939295,-0.87829596628481,2.5280168787052193,2.209469459525066,0.7932948359942287,-0.875025889694795,1.1402833376921382,0.467238083670141,-0.6367012618862695,-0.61033591225038,-0.24992263127232084,0.11207716720034717,-0.14607539411494389,-1.0628437541075413,0.16618139310731325,-0.4240969510625668,-1.457684160338106,-1.495750098327223,-0.02166679295452642,0.5417684211281204,-1.7124295423139781,-0.9146427628437475,0.17495224840908674,0.8865119250208765,1.3718927634002418,0.2359446029107882,1.224195854810709,-0.7443163795201444,1.7726948378175622,-1.0174667808833495,0.12868898593907074,0.090533232086863,-0.0734277166777296,-0.5265644035620964,0.8107837785590719,-1.183999544757503,-0.862035349573676,0.5176448294608778,0.18869043790781748,0.9888947010910468,-1.4379535636986602,0.5416497866026636,1.6759241420414497,0.9456654320533658,-1.2649454655124723,-2.2216352260489542,-1.327699359671679,-1.6589965933037774,-1.089696945007076,0.5293226014151536,0.5765582145015115,1.5264108758043518],\"xaxis\":\"x3\",\"y\":[-1.4540004081478248,-0.11007355043051158,0.10982869675375188,-0.6483522274923497,0.6456682145863891,-0.9941365717586216,0.49132505126695764,0.574692293480332,-0.601149273426994,1.1681530928816495,0.9225460509197592,1.4080120518402826,0.5112988358011514,1.9042321289343245,-1.0519246485155396,-1.6145722564049436,-0.3069777634201451,-1.046904859984683,-0.19803089353167186,-0.319827137822687,-1.8082591352742183,2.0747833640870983,-0.19248509296146513,0.08128642613710906,-0.45443881176401013,0.7097203042406512,-0.38455851977652145,1.3908414664195914,-1.3692379339272545,0.44948683633089076,2.2757464103816396,-0.7935122389343489,-0.6456240932055214,-0.4204489550137737,0.19391000998362268,1.8194934307807404,-0.18217550385942105,-0.008290286976937332,0.8243979074928602,0.3721440133587712,0.5998082876547112,1.7708564035903112,1.7102348631178188,1.418303290602573,-0.34701523804234624,0.5032772588783692,-1.2452558870960557,-0.9970360030520007,0.5907178721512375,-2.7230352978400645,0.20055780980890967,-0.6137366637905584,-0.6086630310241073,-1.1087394788361375,0.6641586046761034,0.7193702690264225,0.9296696099660978,0.7317327604793983,-0.047201435658269515,-0.30334032362370084,0.02862471197069708,-0.27828523810730366,-0.44179553515129544,-0.024118842829569834,0.31227647731563263,0.8701847072134986,-0.22309656965636257,-0.20770513965651302,0.47142175538379566,0.5011247094412172,-1.3620146525279155,-0.14795098303784995,0.14196298736049628,-1.016884709309532,-0.4917906274473433,-0.12051799859600523,-0.17247939382189223,0.9541553890998549,1.4315140899860428,-0.00992095518753176,0.6018254201751347,-1.5789016803240072,0.727904003014525,-1.0147581420106258,1.0690133891339306,-1.1021364000773435,-0.23513861545976072,0.18364122505394662,-0.8165901971585968,-0.6081818370731323,0.621396892849809,-0.10947553062274686,0.11382492392576911,0.43714209861981645,-0.2654839651102387,1.5224160299697473,0.1199575783051826,0.6250937851392976,0.6354018783850093,-1.286302152646409],\"yaxis\":\"y3\"},{\"line\":{\"color\":\"rgba(128, 128, 128, 1.0)\",\"dash\":\"solid\",\"shape\":\"linear\",\"width\":1.3},\"marker\":{\"size\":2,\"symbol\":\"circle\"},\"mode\":\"markers\",\"name\":\"A\",\"text\":\"\",\"type\":\"scatter\",\"x\":[0.6970478968175908,-0.008281257382003382,0.056427851613856064,-1.3364228238042606,1.8669013933166234,0.010045041235569934,-1.5276487157483474,0.3755057040612648,-0.5490921349090621,-0.36269090826021194,0.8696582649739367,0.23639989494106622,-0.029962836343930963,0.02221121178753949,0.22823138899536707,-0.34603891847596324,1.2720414653213947,-0.5310037013792711,0.18305790711090902,1.1659576412888744,-1.0445411205881696,-1.1289465438812338,-0.5465652450053174,-0.6722834217872077,0.6570728061688761,-0.8099790247116009,-0.5580385726012115,-1.428083789056553,-0.14035958876059954,2.7827720721939677,1.3402267903666338,-0.8500619499620251,-1.0469215854597327,-0.9641702000968998,0.9869207089759805,-0.5444956434884186,0.3899272528541567,2.5698129782836743,-0.11640931874614713,1.3596695183088932,-1.1666648545636011,-0.7515037806380355,0.7715939742823078,-0.013332847760373875,-1.2704859989140342,0.47479066511925117,-1.9253094556986887,-1.4245184754304094,0.05863659768091849,-0.5155285868235054,1.766424272489394,-0.5145414808204791,-0.1030165600762554,0.168505296837029,-1.4908861266742255,1.294831098885771,0.6449135591591009,0.21959083896676643,-0.15823133231896624,0.4464432195435138,1.3996432835581543,-0.16358154903111488,0.16521625511828078,0.5199434399902836,-0.6257848452729105,-0.07992790604518829,-0.6277382151628513,0.6227013890770359,-0.8858591437274465,-0.13336187782494424,-0.28299274620106535,0.5617654005784839,0.23755257493123932,-0.0216818148345745,0.5063254835456331,0.7511656812182244,0.22002542883778634,-1.1577718677253217,-0.5696006943221648,-1.0793127500776791,-0.18760100787502546,-0.6994761063626701,-0.4254064702821228,-0.6635044495950063,-0.24863847729328858,-0.5484007112522068,0.41802733027857053,-0.23283610199866664,-1.4514708836393224,0.8905610350590825,-0.7028875280487179,-0.8416870656085875,1.8522424106951112,-0.1052985416642793,0.46352049671538764,-1.159485888668599,3.0010732593636726,-0.5969134910206177,0.3686871073907188,1.1832488187523973],\"xaxis\":\"x4\",\"y\":[-1.4540004081478248,-0.11007355043051158,0.10982869675375188,-0.6483522274923497,0.6456682145863891,-0.9941365717586216,0.49132505126695764,0.574692293480332,-0.601149273426994,1.1681530928816495,0.9225460509197592,1.4080120518402826,0.5112988358011514,1.9042321289343245,-1.0519246485155396,-1.6145722564049436,-0.3069777634201451,-1.046904859984683,-0.19803089353167186,-0.319827137822687,-1.8082591352742183,2.0747833640870983,-0.19248509296146513,0.08128642613710906,-0.45443881176401013,0.7097203042406512,-0.38455851977652145,1.3908414664195914,-1.3692379339272545,0.44948683633089076,2.2757464103816396,-0.7935122389343489,-0.6456240932055214,-0.4204489550137737,0.19391000998362268,1.8194934307807404,-0.18217550385942105,-0.008290286976937332,0.8243979074928602,0.3721440133587712,0.5998082876547112,1.7708564035903112,1.7102348631178188,1.418303290602573,-0.34701523804234624,0.5032772588783692,-1.2452558870960557,-0.9970360030520007,0.5907178721512375,-2.7230352978400645,0.20055780980890967,-0.6137366637905584,-0.6086630310241073,-1.1087394788361375,0.6641586046761034,0.7193702690264225,0.9296696099660978,0.7317327604793983,-0.047201435658269515,-0.30334032362370084,0.02862471197069708,-0.27828523810730366,-0.44179553515129544,-0.024118842829569834,0.31227647731563263,0.8701847072134986,-0.22309656965636257,-0.20770513965651302,0.47142175538379566,0.5011247094412172,-1.3620146525279155,-0.14795098303784995,0.14196298736049628,-1.016884709309532,-0.4917906274473433,-0.12051799859600523,-0.17247939382189223,0.9541553890998549,1.4315140899860428,-0.00992095518753176,0.6018254201751347,-1.5789016803240072,0.727904003014525,-1.0147581420106258,1.0690133891339306,-1.1021364000773435,-0.23513861545976072,0.18364122505394662,-0.8165901971585968,-0.6081818370731323,0.621396892849809,-0.10947553062274686,0.11382492392576911,0.43714209861981645,-0.2654839651102387,1.5224160299697473,0.1199575783051826,0.6250937851392976,0.6354018783850093,-1.286302152646409],\"yaxis\":\"y4\"},{\"line\":{\"color\":\"rgba(128, 128, 128, 1.0)\",\"dash\":\"solid\",\"shape\":\"linear\",\"width\":1.3},\"marker\":{\"size\":2,\"symbol\":\"circle\"},\"mode\":\"markers\",\"name\":\"B\",\"text\":\"\",\"type\":\"scatter\",\"x\":[-1.4540004081478248,-0.11007355043051158,0.10982869675375188,-0.6483522274923497,0.6456682145863891,-0.9941365717586216,0.49132505126695764,0.574692293480332,-0.601149273426994,1.1681530928816495,0.9225460509197592,1.4080120518402826,0.5112988358011514,1.9042321289343245,-1.0519246485155396,-1.6145722564049436,-0.3069777634201451,-1.046904859984683,-0.19803089353167186,-0.319827137822687,-1.8082591352742183,2.0747833640870983,-0.19248509296146513,0.08128642613710906,-0.45443881176401013,0.7097203042406512,-0.38455851977652145,1.3908414664195914,-1.3692379339272545,0.44948683633089076,2.2757464103816396,-0.7935122389343489,-0.6456240932055214,-0.4204489550137737,0.19391000998362268,1.8194934307807404,-0.18217550385942105,-0.008290286976937332,0.8243979074928602,0.3721440133587712,0.5998082876547112,1.7708564035903112,1.7102348631178188,1.418303290602573,-0.34701523804234624,0.5032772588783692,-1.2452558870960557,-0.9970360030520007,0.5907178721512375,-2.7230352978400645,0.20055780980890967,-0.6137366637905584,-0.6086630310241073,-1.1087394788361375,0.6641586046761034,0.7193702690264225,0.9296696099660978,0.7317327604793983,-0.047201435658269515,-0.30334032362370084,0.02862471197069708,-0.27828523810730366,-0.44179553515129544,-0.024118842829569834,0.31227647731563263,0.8701847072134986,-0.22309656965636257,-0.20770513965651302,0.47142175538379566,0.5011247094412172,-1.3620146525279155,-0.14795098303784995,0.14196298736049628,-1.016884709309532,-0.4917906274473433,-0.12051799859600523,-0.17247939382189223,0.9541553890998549,1.4315140899860428,-0.00992095518753176,0.6018254201751347,-1.5789016803240072,0.727904003014525,-1.0147581420106258,1.0690133891339306,-1.1021364000773435,-0.23513861545976072,0.18364122505394662,-0.8165901971585968,-0.6081818370731323,0.621396892849809,-0.10947553062274686,0.11382492392576911,0.43714209861981645,-0.2654839651102387,1.5224160299697473,0.1199575783051826,0.6250937851392976,0.6354018783850093,-1.286302152646409],\"xaxis\":\"x5\",\"y\":[0.9804902717892854,-0.8116560269021028,-0.5304074349441019,0.7314708976817439,-1.317813889901291,0.5515653245923914,-1.007512904863618,0.027869316274254607,0.9373009762002932,0.3263313741977739,-1.4731555994613688,-1.5692248514343379,0.2247986762962962,-0.237046026508892,-0.29187496753921166,-0.5276451598659568,-0.4604939334911615,1.0622630019029553,0.2018053826239793,0.2152987530552919,0.5765946081004806,-1.0574687398285258,0.8147327040239873,-1.565196244472277,2.1161876872641905,-1.152433159222957,-0.4421984138276069,0.9879694617836262,-1.1377408514340306,-0.2904951299578208,0.941100139067152,-0.679405397666701,-0.14503723137893423,-2.3704740272865727,-1.4393468389346427,-1.9138285718222479,-0.40541957113900345,-0.6406358830486115,1.9669854746622704,0.24587824563188523,-1.0450644420469437,-0.3915593556466746,0.1319976106693394,-0.541910078691539,-0.45877995278105627,-0.04744886791407573,1.6744233390504226,-2.30929247012321,-0.42269700138534194,-0.4059181196519094,-0.47253102278763687,-1.5863850507771629,-0.1432502014946788,-0.3977794705846313,0.25058076876857827,1.0380414048510445,0.6510006302802921,-0.2380316037498957,-0.8630875614869196,0.6666007826208047,-1.869332074666846,-0.10507746883011831,0.26794216779872787,-1.8705098086426515,0.1589793056477878,-0.2250804552980786,-0.37249110592689794,0.36992866619033515,-0.8588867390570646,0.6841615555235582,0.6895449549121019,-1.653588892920698,-0.9066261328784851,0.06339155195534256,1.289405210397382,1.9058872332362038,0.9120647093077785,0.991419763084864,0.1620854385425183,-0.07940006271257556,1.3785162664718305,-0.27038388476787795,-0.9615886098208666,0.00405632774123973,1.2870366134246083,0.647698409026788,1.437094810613269,1.714407268630869,-0.7207396837198342,-0.8724684564766381,-1.091969997227892,-0.6433087841112413,-2.1803283139883036,1.647186106737404,0.6038710322432059,0.9708787477958503,-1.4414590443258994,0.0008702819208328536,-1.219643854961161,-0.6606360890090951],\"yaxis\":\"y5\"},{\"histfunc\":\"count\",\"histnorm\":\"\",\"marker\":{\"color\":\"rgba(55, 128, 191, 1.0)\",\"line\":{\"color\":\"#4D5663\",\"width\":1.3}},\"name\":\"B\",\"nbinsx\":10,\"opacity\":0.8,\"orientation\":\"v\",\"type\":\"histogram\",\"x\":[0.9804902717892854,-0.8116560269021028,-0.5304074349441019,0.7314708976817439,-1.317813889901291,0.5515653245923914,-1.007512904863618,0.027869316274254607,0.9373009762002932,0.3263313741977739,-1.4731555994613688,-1.5692248514343379,0.2247986762962962,-0.237046026508892,-0.29187496753921166,-0.5276451598659568,-0.4604939334911615,1.0622630019029553,0.2018053826239793,0.2152987530552919,0.5765946081004806,-1.0574687398285258,0.8147327040239873,-1.565196244472277,2.1161876872641905,-1.152433159222957,-0.4421984138276069,0.9879694617836262,-1.1377408514340306,-0.2904951299578208,0.941100139067152,-0.679405397666701,-0.14503723137893423,-2.3704740272865727,-1.4393468389346427,-1.9138285718222479,-0.40541957113900345,-0.6406358830486115,1.9669854746622704,0.24587824563188523,-1.0450644420469437,-0.3915593556466746,0.1319976106693394,-0.541910078691539,-0.45877995278105627,-0.04744886791407573,1.6744233390504226,-2.30929247012321,-0.42269700138534194,-0.4059181196519094,-0.47253102278763687,-1.5863850507771629,-0.1432502014946788,-0.3977794705846313,0.25058076876857827,1.0380414048510445,0.6510006302802921,-0.2380316037498957,-0.8630875614869196,0.6666007826208047,-1.869332074666846,-0.10507746883011831,0.26794216779872787,-1.8705098086426515,0.1589793056477878,-0.2250804552980786,-0.37249110592689794,0.36992866619033515,-0.8588867390570646,0.6841615555235582,0.6895449549121019,-1.653588892920698,-0.9066261328784851,0.06339155195534256,1.289405210397382,1.9058872332362038,0.9120647093077785,0.991419763084864,0.1620854385425183,-0.07940006271257556,1.3785162664718305,-0.27038388476787795,-0.9615886098208666,0.00405632774123973,1.2870366134246083,0.647698409026788,1.437094810613269,1.714407268630869,-0.7207396837198342,-0.8724684564766381,-1.091969997227892,-0.6433087841112413,-2.1803283139883036,1.647186106737404,0.6038710322432059,0.9708787477958503,-1.4414590443258994,0.0008702819208328536,-1.219643854961161,-0.6606360890090951],\"xaxis\":\"x6\",\"yaxis\":\"y6\"},{\"line\":{\"color\":\"rgba(128, 128, 128, 1.0)\",\"dash\":\"solid\",\"shape\":\"linear\",\"width\":1.3},\"marker\":{\"size\":2,\"symbol\":\"circle\"},\"mode\":\"markers\",\"name\":\"B\",\"text\":\"\",\"type\":\"scatter\",\"x\":[-1.161719298691836,-1.0916825074866223,-2.9825477305727035,-2.475669661262326,1.456186346184792,1.3816041807016337,1.3195304049192735,0.6587256882669855,-1.439165067192226,-0.43699058870637647,0.030662369922433153,-1.074801261596589,1.4672896709547916,2.4294741808989597,-1.3300612411519335,0.12360199885813726,-1.1100320626833795,-1.9481812739962805,0.5101036728576388,0.19210497589930678,0.878977715696145,-0.8354183307024506,1.6624700659165366,0.05130672063425422,-0.49685589778790046,-0.27972718918567735,0.8195072984821689,-1.0524532465814262,-0.20993416349935998,-0.11582228972763953,0.014037098737650168,0.8219951862155216,0.4374724389433576,-0.418675610794777,0.32164517262803943,0.15320059147000115,0.6772608912459958,-0.01641495746276642,0.3090623540014178,0.2701293389588942,0.027057053498706393,-0.20771001965939312,-0.05677398146816477,1.250600094924929,0.5220909669365739,1.4234962228342811,0.6321146987710506,0.5334532009607121,0.1629850540939295,-0.87829596628481,2.5280168787052193,2.209469459525066,0.7932948359942287,-0.875025889694795,1.1402833376921382,0.467238083670141,-0.6367012618862695,-0.61033591225038,-0.24992263127232084,0.11207716720034717,-0.14607539411494389,-1.0628437541075413,0.16618139310731325,-0.4240969510625668,-1.457684160338106,-1.495750098327223,-0.02166679295452642,0.5417684211281204,-1.7124295423139781,-0.9146427628437475,0.17495224840908674,0.8865119250208765,1.3718927634002418,0.2359446029107882,1.224195854810709,-0.7443163795201444,1.7726948378175622,-1.0174667808833495,0.12868898593907074,0.090533232086863,-0.0734277166777296,-0.5265644035620964,0.8107837785590719,-1.183999544757503,-0.862035349573676,0.5176448294608778,0.18869043790781748,0.9888947010910468,-1.4379535636986602,0.5416497866026636,1.6759241420414497,0.9456654320533658,-1.2649454655124723,-2.2216352260489542,-1.327699359671679,-1.6589965933037774,-1.089696945007076,0.5293226014151536,0.5765582145015115,1.5264108758043518],\"xaxis\":\"x7\",\"y\":[0.9804902717892854,-0.8116560269021028,-0.5304074349441019,0.7314708976817439,-1.317813889901291,0.5515653245923914,-1.007512904863618,0.027869316274254607,0.9373009762002932,0.3263313741977739,-1.4731555994613688,-1.5692248514343379,0.2247986762962962,-0.237046026508892,-0.29187496753921166,-0.5276451598659568,-0.4604939334911615,1.0622630019029553,0.2018053826239793,0.2152987530552919,0.5765946081004806,-1.0574687398285258,0.8147327040239873,-1.565196244472277,2.1161876872641905,-1.152433159222957,-0.4421984138276069,0.9879694617836262,-1.1377408514340306,-0.2904951299578208,0.941100139067152,-0.679405397666701,-0.14503723137893423,-2.3704740272865727,-1.4393468389346427,-1.9138285718222479,-0.40541957113900345,-0.6406358830486115,1.9669854746622704,0.24587824563188523,-1.0450644420469437,-0.3915593556466746,0.1319976106693394,-0.541910078691539,-0.45877995278105627,-0.04744886791407573,1.6744233390504226,-2.30929247012321,-0.42269700138534194,-0.4059181196519094,-0.47253102278763687,-1.5863850507771629,-0.1432502014946788,-0.3977794705846313,0.25058076876857827,1.0380414048510445,0.6510006302802921,-0.2380316037498957,-0.8630875614869196,0.6666007826208047,-1.869332074666846,-0.10507746883011831,0.26794216779872787,-1.8705098086426515,0.1589793056477878,-0.2250804552980786,-0.37249110592689794,0.36992866619033515,-0.8588867390570646,0.6841615555235582,0.6895449549121019,-1.653588892920698,-0.9066261328784851,0.06339155195534256,1.289405210397382,1.9058872332362038,0.9120647093077785,0.991419763084864,0.1620854385425183,-0.07940006271257556,1.3785162664718305,-0.27038388476787795,-0.9615886098208666,0.00405632774123973,1.2870366134246083,0.647698409026788,1.437094810613269,1.714407268630869,-0.7207396837198342,-0.8724684564766381,-1.091969997227892,-0.6433087841112413,-2.1803283139883036,1.647186106737404,0.6038710322432059,0.9708787477958503,-1.4414590443258994,0.0008702819208328536,-1.219643854961161,-0.6606360890090951],\"yaxis\":\"y7\"},{\"line\":{\"color\":\"rgba(128, 128, 128, 1.0)\",\"dash\":\"solid\",\"shape\":\"linear\",\"width\":1.3},\"marker\":{\"size\":2,\"symbol\":\"circle\"},\"mode\":\"markers\",\"name\":\"B\",\"text\":\"\",\"type\":\"scatter\",\"x\":[0.6970478968175908,-0.008281257382003382,0.056427851613856064,-1.3364228238042606,1.8669013933166234,0.010045041235569934,-1.5276487157483474,0.3755057040612648,-0.5490921349090621,-0.36269090826021194,0.8696582649739367,0.23639989494106622,-0.029962836343930963,0.02221121178753949,0.22823138899536707,-0.34603891847596324,1.2720414653213947,-0.5310037013792711,0.18305790711090902,1.1659576412888744,-1.0445411205881696,-1.1289465438812338,-0.5465652450053174,-0.6722834217872077,0.6570728061688761,-0.8099790247116009,-0.5580385726012115,-1.428083789056553,-0.14035958876059954,2.7827720721939677,1.3402267903666338,-0.8500619499620251,-1.0469215854597327,-0.9641702000968998,0.9869207089759805,-0.5444956434884186,0.3899272528541567,2.5698129782836743,-0.11640931874614713,1.3596695183088932,-1.1666648545636011,-0.7515037806380355,0.7715939742823078,-0.013332847760373875,-1.2704859989140342,0.47479066511925117,-1.9253094556986887,-1.4245184754304094,0.05863659768091849,-0.5155285868235054,1.766424272489394,-0.5145414808204791,-0.1030165600762554,0.168505296837029,-1.4908861266742255,1.294831098885771,0.6449135591591009,0.21959083896676643,-0.15823133231896624,0.4464432195435138,1.3996432835581543,-0.16358154903111488,0.16521625511828078,0.5199434399902836,-0.6257848452729105,-0.07992790604518829,-0.6277382151628513,0.6227013890770359,-0.8858591437274465,-0.13336187782494424,-0.28299274620106535,0.5617654005784839,0.23755257493123932,-0.0216818148345745,0.5063254835456331,0.7511656812182244,0.22002542883778634,-1.1577718677253217,-0.5696006943221648,-1.0793127500776791,-0.18760100787502546,-0.6994761063626701,-0.4254064702821228,-0.6635044495950063,-0.24863847729328858,-0.5484007112522068,0.41802733027857053,-0.23283610199866664,-1.4514708836393224,0.8905610350590825,-0.7028875280487179,-0.8416870656085875,1.8522424106951112,-0.1052985416642793,0.46352049671538764,-1.159485888668599,3.0010732593636726,-0.5969134910206177,0.3686871073907188,1.1832488187523973],\"xaxis\":\"x8\",\"y\":[0.9804902717892854,-0.8116560269021028,-0.5304074349441019,0.7314708976817439,-1.317813889901291,0.5515653245923914,-1.007512904863618,0.027869316274254607,0.9373009762002932,0.3263313741977739,-1.4731555994613688,-1.5692248514343379,0.2247986762962962,-0.237046026508892,-0.29187496753921166,-0.5276451598659568,-0.4604939334911615,1.0622630019029553,0.2018053826239793,0.2152987530552919,0.5765946081004806,-1.0574687398285258,0.8147327040239873,-1.565196244472277,2.1161876872641905,-1.152433159222957,-0.4421984138276069,0.9879694617836262,-1.1377408514340306,-0.2904951299578208,0.941100139067152,-0.679405397666701,-0.14503723137893423,-2.3704740272865727,-1.4393468389346427,-1.9138285718222479,-0.40541957113900345,-0.6406358830486115,1.9669854746622704,0.24587824563188523,-1.0450644420469437,-0.3915593556466746,0.1319976106693394,-0.541910078691539,-0.45877995278105627,-0.04744886791407573,1.6744233390504226,-2.30929247012321,-0.42269700138534194,-0.4059181196519094,-0.47253102278763687,-1.5863850507771629,-0.1432502014946788,-0.3977794705846313,0.25058076876857827,1.0380414048510445,0.6510006302802921,-0.2380316037498957,-0.8630875614869196,0.6666007826208047,-1.869332074666846,-0.10507746883011831,0.26794216779872787,-1.8705098086426515,0.1589793056477878,-0.2250804552980786,-0.37249110592689794,0.36992866619033515,-0.8588867390570646,0.6841615555235582,0.6895449549121019,-1.653588892920698,-0.9066261328784851,0.06339155195534256,1.289405210397382,1.9058872332362038,0.9120647093077785,0.991419763084864,0.1620854385425183,-0.07940006271257556,1.3785162664718305,-0.27038388476787795,-0.9615886098208666,0.00405632774123973,1.2870366134246083,0.647698409026788,1.437094810613269,1.714407268630869,-0.7207396837198342,-0.8724684564766381,-1.091969997227892,-0.6433087841112413,-2.1803283139883036,1.647186106737404,0.6038710322432059,0.9708787477958503,-1.4414590443258994,0.0008702819208328536,-1.219643854961161,-0.6606360890090951],\"yaxis\":\"y8\"},{\"line\":{\"color\":\"rgba(128, 128, 128, 1.0)\",\"dash\":\"solid\",\"shape\":\"linear\",\"width\":1.3},\"marker\":{\"size\":2,\"symbol\":\"circle\"},\"mode\":\"markers\",\"name\":\"C\",\"text\":\"\",\"type\":\"scatter\",\"x\":[-1.4540004081478248,-0.11007355043051158,0.10982869675375188,-0.6483522274923497,0.6456682145863891,-0.9941365717586216,0.49132505126695764,0.574692293480332,-0.601149273426994,1.1681530928816495,0.9225460509197592,1.4080120518402826,0.5112988358011514,1.9042321289343245,-1.0519246485155396,-1.6145722564049436,-0.3069777634201451,-1.046904859984683,-0.19803089353167186,-0.319827137822687,-1.8082591352742183,2.0747833640870983,-0.19248509296146513,0.08128642613710906,-0.45443881176401013,0.7097203042406512,-0.38455851977652145,1.3908414664195914,-1.3692379339272545,0.44948683633089076,2.2757464103816396,-0.7935122389343489,-0.6456240932055214,-0.4204489550137737,0.19391000998362268,1.8194934307807404,-0.18217550385942105,-0.008290286976937332,0.8243979074928602,0.3721440133587712,0.5998082876547112,1.7708564035903112,1.7102348631178188,1.418303290602573,-0.34701523804234624,0.5032772588783692,-1.2452558870960557,-0.9970360030520007,0.5907178721512375,-2.7230352978400645,0.20055780980890967,-0.6137366637905584,-0.6086630310241073,-1.1087394788361375,0.6641586046761034,0.7193702690264225,0.9296696099660978,0.7317327604793983,-0.047201435658269515,-0.30334032362370084,0.02862471197069708,-0.27828523810730366,-0.44179553515129544,-0.024118842829569834,0.31227647731563263,0.8701847072134986,-0.22309656965636257,-0.20770513965651302,0.47142175538379566,0.5011247094412172,-1.3620146525279155,-0.14795098303784995,0.14196298736049628,-1.016884709309532,-0.4917906274473433,-0.12051799859600523,-0.17247939382189223,0.9541553890998549,1.4315140899860428,-0.00992095518753176,0.6018254201751347,-1.5789016803240072,0.727904003014525,-1.0147581420106258,1.0690133891339306,-1.1021364000773435,-0.23513861545976072,0.18364122505394662,-0.8165901971585968,-0.6081818370731323,0.621396892849809,-0.10947553062274686,0.11382492392576911,0.43714209861981645,-0.2654839651102387,1.5224160299697473,0.1199575783051826,0.6250937851392976,0.6354018783850093,-1.286302152646409],\"xaxis\":\"x9\",\"y\":[-1.161719298691836,-1.0916825074866223,-2.9825477305727035,-2.475669661262326,1.456186346184792,1.3816041807016337,1.3195304049192735,0.6587256882669855,-1.439165067192226,-0.43699058870637647,0.030662369922433153,-1.074801261596589,1.4672896709547916,2.4294741808989597,-1.3300612411519335,0.12360199885813726,-1.1100320626833795,-1.9481812739962805,0.5101036728576388,0.19210497589930678,0.878977715696145,-0.8354183307024506,1.6624700659165366,0.05130672063425422,-0.49685589778790046,-0.27972718918567735,0.8195072984821689,-1.0524532465814262,-0.20993416349935998,-0.11582228972763953,0.014037098737650168,0.8219951862155216,0.4374724389433576,-0.418675610794777,0.32164517262803943,0.15320059147000115,0.6772608912459958,-0.01641495746276642,0.3090623540014178,0.2701293389588942,0.027057053498706393,-0.20771001965939312,-0.05677398146816477,1.250600094924929,0.5220909669365739,1.4234962228342811,0.6321146987710506,0.5334532009607121,0.1629850540939295,-0.87829596628481,2.5280168787052193,2.209469459525066,0.7932948359942287,-0.875025889694795,1.1402833376921382,0.467238083670141,-0.6367012618862695,-0.61033591225038,-0.24992263127232084,0.11207716720034717,-0.14607539411494389,-1.0628437541075413,0.16618139310731325,-0.4240969510625668,-1.457684160338106,-1.495750098327223,-0.02166679295452642,0.5417684211281204,-1.7124295423139781,-0.9146427628437475,0.17495224840908674,0.8865119250208765,1.3718927634002418,0.2359446029107882,1.224195854810709,-0.7443163795201444,1.7726948378175622,-1.0174667808833495,0.12868898593907074,0.090533232086863,-0.0734277166777296,-0.5265644035620964,0.8107837785590719,-1.183999544757503,-0.862035349573676,0.5176448294608778,0.18869043790781748,0.9888947010910468,-1.4379535636986602,0.5416497866026636,1.6759241420414497,0.9456654320533658,-1.2649454655124723,-2.2216352260489542,-1.327699359671679,-1.6589965933037774,-1.089696945007076,0.5293226014151536,0.5765582145015115,1.5264108758043518],\"yaxis\":\"y9\"},{\"line\":{\"color\":\"rgba(128, 128, 128, 1.0)\",\"dash\":\"solid\",\"shape\":\"linear\",\"width\":1.3},\"marker\":{\"size\":2,\"symbol\":\"circle\"},\"mode\":\"markers\",\"name\":\"C\",\"text\":\"\",\"type\":\"scatter\",\"x\":[0.9804902717892854,-0.8116560269021028,-0.5304074349441019,0.7314708976817439,-1.317813889901291,0.5515653245923914,-1.007512904863618,0.027869316274254607,0.9373009762002932,0.3263313741977739,-1.4731555994613688,-1.5692248514343379,0.2247986762962962,-0.237046026508892,-0.29187496753921166,-0.5276451598659568,-0.4604939334911615,1.0622630019029553,0.2018053826239793,0.2152987530552919,0.5765946081004806,-1.0574687398285258,0.8147327040239873,-1.565196244472277,2.1161876872641905,-1.152433159222957,-0.4421984138276069,0.9879694617836262,-1.1377408514340306,-0.2904951299578208,0.941100139067152,-0.679405397666701,-0.14503723137893423,-2.3704740272865727,-1.4393468389346427,-1.9138285718222479,-0.40541957113900345,-0.6406358830486115,1.9669854746622704,0.24587824563188523,-1.0450644420469437,-0.3915593556466746,0.1319976106693394,-0.541910078691539,-0.45877995278105627,-0.04744886791407573,1.6744233390504226,-2.30929247012321,-0.42269700138534194,-0.4059181196519094,-0.47253102278763687,-1.5863850507771629,-0.1432502014946788,-0.3977794705846313,0.25058076876857827,1.0380414048510445,0.6510006302802921,-0.2380316037498957,-0.8630875614869196,0.6666007826208047,-1.869332074666846,-0.10507746883011831,0.26794216779872787,-1.8705098086426515,0.1589793056477878,-0.2250804552980786,-0.37249110592689794,0.36992866619033515,-0.8588867390570646,0.6841615555235582,0.6895449549121019,-1.653588892920698,-0.9066261328784851,0.06339155195534256,1.289405210397382,1.9058872332362038,0.9120647093077785,0.991419763084864,0.1620854385425183,-0.07940006271257556,1.3785162664718305,-0.27038388476787795,-0.9615886098208666,0.00405632774123973,1.2870366134246083,0.647698409026788,1.437094810613269,1.714407268630869,-0.7207396837198342,-0.8724684564766381,-1.091969997227892,-0.6433087841112413,-2.1803283139883036,1.647186106737404,0.6038710322432059,0.9708787477958503,-1.4414590443258994,0.0008702819208328536,-1.219643854961161,-0.6606360890090951],\"xaxis\":\"x10\",\"y\":[-1.161719298691836,-1.0916825074866223,-2.9825477305727035,-2.475669661262326,1.456186346184792,1.3816041807016337,1.3195304049192735,0.6587256882669855,-1.439165067192226,-0.43699058870637647,0.030662369922433153,-1.074801261596589,1.4672896709547916,2.4294741808989597,-1.3300612411519335,0.12360199885813726,-1.1100320626833795,-1.9481812739962805,0.5101036728576388,0.19210497589930678,0.878977715696145,-0.8354183307024506,1.6624700659165366,0.05130672063425422,-0.49685589778790046,-0.27972718918567735,0.8195072984821689,-1.0524532465814262,-0.20993416349935998,-0.11582228972763953,0.014037098737650168,0.8219951862155216,0.4374724389433576,-0.418675610794777,0.32164517262803943,0.15320059147000115,0.6772608912459958,-0.01641495746276642,0.3090623540014178,0.2701293389588942,0.027057053498706393,-0.20771001965939312,-0.05677398146816477,1.250600094924929,0.5220909669365739,1.4234962228342811,0.6321146987710506,0.5334532009607121,0.1629850540939295,-0.87829596628481,2.5280168787052193,2.209469459525066,0.7932948359942287,-0.875025889694795,1.1402833376921382,0.467238083670141,-0.6367012618862695,-0.61033591225038,-0.24992263127232084,0.11207716720034717,-0.14607539411494389,-1.0628437541075413,0.16618139310731325,-0.4240969510625668,-1.457684160338106,-1.495750098327223,-0.02166679295452642,0.5417684211281204,-1.7124295423139781,-0.9146427628437475,0.17495224840908674,0.8865119250208765,1.3718927634002418,0.2359446029107882,1.224195854810709,-0.7443163795201444,1.7726948378175622,-1.0174667808833495,0.12868898593907074,0.090533232086863,-0.0734277166777296,-0.5265644035620964,0.8107837785590719,-1.183999544757503,-0.862035349573676,0.5176448294608778,0.18869043790781748,0.9888947010910468,-1.4379535636986602,0.5416497866026636,1.6759241420414497,0.9456654320533658,-1.2649454655124723,-2.2216352260489542,-1.327699359671679,-1.6589965933037774,-1.089696945007076,0.5293226014151536,0.5765582145015115,1.5264108758043518],\"yaxis\":\"y10\"},{\"histfunc\":\"count\",\"histnorm\":\"\",\"marker\":{\"color\":\"rgba(50, 171, 96, 1.0)\",\"line\":{\"color\":\"#4D5663\",\"width\":1.3}},\"name\":\"C\",\"nbinsx\":10,\"opacity\":0.8,\"orientation\":\"v\",\"type\":\"histogram\",\"x\":[-1.161719298691836,-1.0916825074866223,-2.9825477305727035,-2.475669661262326,1.456186346184792,1.3816041807016337,1.3195304049192735,0.6587256882669855,-1.439165067192226,-0.43699058870637647,0.030662369922433153,-1.074801261596589,1.4672896709547916,2.4294741808989597,-1.3300612411519335,0.12360199885813726,-1.1100320626833795,-1.9481812739962805,0.5101036728576388,0.19210497589930678,0.878977715696145,-0.8354183307024506,1.6624700659165366,0.05130672063425422,-0.49685589778790046,-0.27972718918567735,0.8195072984821689,-1.0524532465814262,-0.20993416349935998,-0.11582228972763953,0.014037098737650168,0.8219951862155216,0.4374724389433576,-0.418675610794777,0.32164517262803943,0.15320059147000115,0.6772608912459958,-0.01641495746276642,0.3090623540014178,0.2701293389588942,0.027057053498706393,-0.20771001965939312,-0.05677398146816477,1.250600094924929,0.5220909669365739,1.4234962228342811,0.6321146987710506,0.5334532009607121,0.1629850540939295,-0.87829596628481,2.5280168787052193,2.209469459525066,0.7932948359942287,-0.875025889694795,1.1402833376921382,0.467238083670141,-0.6367012618862695,-0.61033591225038,-0.24992263127232084,0.11207716720034717,-0.14607539411494389,-1.0628437541075413,0.16618139310731325,-0.4240969510625668,-1.457684160338106,-1.495750098327223,-0.02166679295452642,0.5417684211281204,-1.7124295423139781,-0.9146427628437475,0.17495224840908674,0.8865119250208765,1.3718927634002418,0.2359446029107882,1.224195854810709,-0.7443163795201444,1.7726948378175622,-1.0174667808833495,0.12868898593907074,0.090533232086863,-0.0734277166777296,-0.5265644035620964,0.8107837785590719,-1.183999544757503,-0.862035349573676,0.5176448294608778,0.18869043790781748,0.9888947010910468,-1.4379535636986602,0.5416497866026636,1.6759241420414497,0.9456654320533658,-1.2649454655124723,-2.2216352260489542,-1.327699359671679,-1.6589965933037774,-1.089696945007076,0.5293226014151536,0.5765582145015115,1.5264108758043518],\"xaxis\":\"x11\",\"yaxis\":\"y11\"},{\"line\":{\"color\":\"rgba(128, 128, 128, 1.0)\",\"dash\":\"solid\",\"shape\":\"linear\",\"width\":1.3},\"marker\":{\"size\":2,\"symbol\":\"circle\"},\"mode\":\"markers\",\"name\":\"C\",\"text\":\"\",\"type\":\"scatter\",\"x\":[0.6970478968175908,-0.008281257382003382,0.056427851613856064,-1.3364228238042606,1.8669013933166234,0.010045041235569934,-1.5276487157483474,0.3755057040612648,-0.5490921349090621,-0.36269090826021194,0.8696582649739367,0.23639989494106622,-0.029962836343930963,0.02221121178753949,0.22823138899536707,-0.34603891847596324,1.2720414653213947,-0.5310037013792711,0.18305790711090902,1.1659576412888744,-1.0445411205881696,-1.1289465438812338,-0.5465652450053174,-0.6722834217872077,0.6570728061688761,-0.8099790247116009,-0.5580385726012115,-1.428083789056553,-0.14035958876059954,2.7827720721939677,1.3402267903666338,-0.8500619499620251,-1.0469215854597327,-0.9641702000968998,0.9869207089759805,-0.5444956434884186,0.3899272528541567,2.5698129782836743,-0.11640931874614713,1.3596695183088932,-1.1666648545636011,-0.7515037806380355,0.7715939742823078,-0.013332847760373875,-1.2704859989140342,0.47479066511925117,-1.9253094556986887,-1.4245184754304094,0.05863659768091849,-0.5155285868235054,1.766424272489394,-0.5145414808204791,-0.1030165600762554,0.168505296837029,-1.4908861266742255,1.294831098885771,0.6449135591591009,0.21959083896676643,-0.15823133231896624,0.4464432195435138,1.3996432835581543,-0.16358154903111488,0.16521625511828078,0.5199434399902836,-0.6257848452729105,-0.07992790604518829,-0.6277382151628513,0.6227013890770359,-0.8858591437274465,-0.13336187782494424,-0.28299274620106535,0.5617654005784839,0.23755257493123932,-0.0216818148345745,0.5063254835456331,0.7511656812182244,0.22002542883778634,-1.1577718677253217,-0.5696006943221648,-1.0793127500776791,-0.18760100787502546,-0.6994761063626701,-0.4254064702821228,-0.6635044495950063,-0.24863847729328858,-0.5484007112522068,0.41802733027857053,-0.23283610199866664,-1.4514708836393224,0.8905610350590825,-0.7028875280487179,-0.8416870656085875,1.8522424106951112,-0.1052985416642793,0.46352049671538764,-1.159485888668599,3.0010732593636726,-0.5969134910206177,0.3686871073907188,1.1832488187523973],\"xaxis\":\"x12\",\"y\":[-1.161719298691836,-1.0916825074866223,-2.9825477305727035,-2.475669661262326,1.456186346184792,1.3816041807016337,1.3195304049192735,0.6587256882669855,-1.439165067192226,-0.43699058870637647,0.030662369922433153,-1.074801261596589,1.4672896709547916,2.4294741808989597,-1.3300612411519335,0.12360199885813726,-1.1100320626833795,-1.9481812739962805,0.5101036728576388,0.19210497589930678,0.878977715696145,-0.8354183307024506,1.6624700659165366,0.05130672063425422,-0.49685589778790046,-0.27972718918567735,0.8195072984821689,-1.0524532465814262,-0.20993416349935998,-0.11582228972763953,0.014037098737650168,0.8219951862155216,0.4374724389433576,-0.418675610794777,0.32164517262803943,0.15320059147000115,0.6772608912459958,-0.01641495746276642,0.3090623540014178,0.2701293389588942,0.027057053498706393,-0.20771001965939312,-0.05677398146816477,1.250600094924929,0.5220909669365739,1.4234962228342811,0.6321146987710506,0.5334532009607121,0.1629850540939295,-0.87829596628481,2.5280168787052193,2.209469459525066,0.7932948359942287,-0.875025889694795,1.1402833376921382,0.467238083670141,-0.6367012618862695,-0.61033591225038,-0.24992263127232084,0.11207716720034717,-0.14607539411494389,-1.0628437541075413,0.16618139310731325,-0.4240969510625668,-1.457684160338106,-1.495750098327223,-0.02166679295452642,0.5417684211281204,-1.7124295423139781,-0.9146427628437475,0.17495224840908674,0.8865119250208765,1.3718927634002418,0.2359446029107882,1.224195854810709,-0.7443163795201444,1.7726948378175622,-1.0174667808833495,0.12868898593907074,0.090533232086863,-0.0734277166777296,-0.5265644035620964,0.8107837785590719,-1.183999544757503,-0.862035349573676,0.5176448294608778,0.18869043790781748,0.9888947010910468,-1.4379535636986602,0.5416497866026636,1.6759241420414497,0.9456654320533658,-1.2649454655124723,-2.2216352260489542,-1.327699359671679,-1.6589965933037774,-1.089696945007076,0.5293226014151536,0.5765582145015115,1.5264108758043518],\"yaxis\":\"y12\"},{\"line\":{\"color\":\"rgba(128, 128, 128, 1.0)\",\"dash\":\"solid\",\"shape\":\"linear\",\"width\":1.3},\"marker\":{\"size\":2,\"symbol\":\"circle\"},\"mode\":\"markers\",\"name\":\"D\",\"text\":\"\",\"type\":\"scatter\",\"x\":[-1.4540004081478248,-0.11007355043051158,0.10982869675375188,-0.6483522274923497,0.6456682145863891,-0.9941365717586216,0.49132505126695764,0.574692293480332,-0.601149273426994,1.1681530928816495,0.9225460509197592,1.4080120518402826,0.5112988358011514,1.9042321289343245,-1.0519246485155396,-1.6145722564049436,-0.3069777634201451,-1.046904859984683,-0.19803089353167186,-0.319827137822687,-1.8082591352742183,2.0747833640870983,-0.19248509296146513,0.08128642613710906,-0.45443881176401013,0.7097203042406512,-0.38455851977652145,1.3908414664195914,-1.3692379339272545,0.44948683633089076,2.2757464103816396,-0.7935122389343489,-0.6456240932055214,-0.4204489550137737,0.19391000998362268,1.8194934307807404,-0.18217550385942105,-0.008290286976937332,0.8243979074928602,0.3721440133587712,0.5998082876547112,1.7708564035903112,1.7102348631178188,1.418303290602573,-0.34701523804234624,0.5032772588783692,-1.2452558870960557,-0.9970360030520007,0.5907178721512375,-2.7230352978400645,0.20055780980890967,-0.6137366637905584,-0.6086630310241073,-1.1087394788361375,0.6641586046761034,0.7193702690264225,0.9296696099660978,0.7317327604793983,-0.047201435658269515,-0.30334032362370084,0.02862471197069708,-0.27828523810730366,-0.44179553515129544,-0.024118842829569834,0.31227647731563263,0.8701847072134986,-0.22309656965636257,-0.20770513965651302,0.47142175538379566,0.5011247094412172,-1.3620146525279155,-0.14795098303784995,0.14196298736049628,-1.016884709309532,-0.4917906274473433,-0.12051799859600523,-0.17247939382189223,0.9541553890998549,1.4315140899860428,-0.00992095518753176,0.6018254201751347,-1.5789016803240072,0.727904003014525,-1.0147581420106258,1.0690133891339306,-1.1021364000773435,-0.23513861545976072,0.18364122505394662,-0.8165901971585968,-0.6081818370731323,0.621396892849809,-0.10947553062274686,0.11382492392576911,0.43714209861981645,-0.2654839651102387,1.5224160299697473,0.1199575783051826,0.6250937851392976,0.6354018783850093,-1.286302152646409],\"xaxis\":\"x13\",\"y\":[0.6970478968175908,-0.008281257382003382,0.056427851613856064,-1.3364228238042606,1.8669013933166234,0.010045041235569934,-1.5276487157483474,0.3755057040612648,-0.5490921349090621,-0.36269090826021194,0.8696582649739367,0.23639989494106622,-0.029962836343930963,0.02221121178753949,0.22823138899536707,-0.34603891847596324,1.2720414653213947,-0.5310037013792711,0.18305790711090902,1.1659576412888744,-1.0445411205881696,-1.1289465438812338,-0.5465652450053174,-0.6722834217872077,0.6570728061688761,-0.8099790247116009,-0.5580385726012115,-1.428083789056553,-0.14035958876059954,2.7827720721939677,1.3402267903666338,-0.8500619499620251,-1.0469215854597327,-0.9641702000968998,0.9869207089759805,-0.5444956434884186,0.3899272528541567,2.5698129782836743,-0.11640931874614713,1.3596695183088932,-1.1666648545636011,-0.7515037806380355,0.7715939742823078,-0.013332847760373875,-1.2704859989140342,0.47479066511925117,-1.9253094556986887,-1.4245184754304094,0.05863659768091849,-0.5155285868235054,1.766424272489394,-0.5145414808204791,-0.1030165600762554,0.168505296837029,-1.4908861266742255,1.294831098885771,0.6449135591591009,0.21959083896676643,-0.15823133231896624,0.4464432195435138,1.3996432835581543,-0.16358154903111488,0.16521625511828078,0.5199434399902836,-0.6257848452729105,-0.07992790604518829,-0.6277382151628513,0.6227013890770359,-0.8858591437274465,-0.13336187782494424,-0.28299274620106535,0.5617654005784839,0.23755257493123932,-0.0216818148345745,0.5063254835456331,0.7511656812182244,0.22002542883778634,-1.1577718677253217,-0.5696006943221648,-1.0793127500776791,-0.18760100787502546,-0.6994761063626701,-0.4254064702821228,-0.6635044495950063,-0.24863847729328858,-0.5484007112522068,0.41802733027857053,-0.23283610199866664,-1.4514708836393224,0.8905610350590825,-0.7028875280487179,-0.8416870656085875,1.8522424106951112,-0.1052985416642793,0.46352049671538764,-1.159485888668599,3.0010732593636726,-0.5969134910206177,0.3686871073907188,1.1832488187523973],\"yaxis\":\"y13\"},{\"line\":{\"color\":\"rgba(128, 128, 128, 1.0)\",\"dash\":\"solid\",\"shape\":\"linear\",\"width\":1.3},\"marker\":{\"size\":2,\"symbol\":\"circle\"},\"mode\":\"markers\",\"name\":\"D\",\"text\":\"\",\"type\":\"scatter\",\"x\":[0.9804902717892854,-0.8116560269021028,-0.5304074349441019,0.7314708976817439,-1.317813889901291,0.5515653245923914,-1.007512904863618,0.027869316274254607,0.9373009762002932,0.3263313741977739,-1.4731555994613688,-1.5692248514343379,0.2247986762962962,-0.237046026508892,-0.29187496753921166,-0.5276451598659568,-0.4604939334911615,1.0622630019029553,0.2018053826239793,0.2152987530552919,0.5765946081004806,-1.0574687398285258,0.8147327040239873,-1.565196244472277,2.1161876872641905,-1.152433159222957,-0.4421984138276069,0.9879694617836262,-1.1377408514340306,-0.2904951299578208,0.941100139067152,-0.679405397666701,-0.14503723137893423,-2.3704740272865727,-1.4393468389346427,-1.9138285718222479,-0.40541957113900345,-0.6406358830486115,1.9669854746622704,0.24587824563188523,-1.0450644420469437,-0.3915593556466746,0.1319976106693394,-0.541910078691539,-0.45877995278105627,-0.04744886791407573,1.6744233390504226,-2.30929247012321,-0.42269700138534194,-0.4059181196519094,-0.47253102278763687,-1.5863850507771629,-0.1432502014946788,-0.3977794705846313,0.25058076876857827,1.0380414048510445,0.6510006302802921,-0.2380316037498957,-0.8630875614869196,0.6666007826208047,-1.869332074666846,-0.10507746883011831,0.26794216779872787,-1.8705098086426515,0.1589793056477878,-0.2250804552980786,-0.37249110592689794,0.36992866619033515,-0.8588867390570646,0.6841615555235582,0.6895449549121019,-1.653588892920698,-0.9066261328784851,0.06339155195534256,1.289405210397382,1.9058872332362038,0.9120647093077785,0.991419763084864,0.1620854385425183,-0.07940006271257556,1.3785162664718305,-0.27038388476787795,-0.9615886098208666,0.00405632774123973,1.2870366134246083,0.647698409026788,1.437094810613269,1.714407268630869,-0.7207396837198342,-0.8724684564766381,-1.091969997227892,-0.6433087841112413,-2.1803283139883036,1.647186106737404,0.6038710322432059,0.9708787477958503,-1.4414590443258994,0.0008702819208328536,-1.219643854961161,-0.6606360890090951],\"xaxis\":\"x14\",\"y\":[0.6970478968175908,-0.008281257382003382,0.056427851613856064,-1.3364228238042606,1.8669013933166234,0.010045041235569934,-1.5276487157483474,0.3755057040612648,-0.5490921349090621,-0.36269090826021194,0.8696582649739367,0.23639989494106622,-0.029962836343930963,0.02221121178753949,0.22823138899536707,-0.34603891847596324,1.2720414653213947,-0.5310037013792711,0.18305790711090902,1.1659576412888744,-1.0445411205881696,-1.1289465438812338,-0.5465652450053174,-0.6722834217872077,0.6570728061688761,-0.8099790247116009,-0.5580385726012115,-1.428083789056553,-0.14035958876059954,2.7827720721939677,1.3402267903666338,-0.8500619499620251,-1.0469215854597327,-0.9641702000968998,0.9869207089759805,-0.5444956434884186,0.3899272528541567,2.5698129782836743,-0.11640931874614713,1.3596695183088932,-1.1666648545636011,-0.7515037806380355,0.7715939742823078,-0.013332847760373875,-1.2704859989140342,0.47479066511925117,-1.9253094556986887,-1.4245184754304094,0.05863659768091849,-0.5155285868235054,1.766424272489394,-0.5145414808204791,-0.1030165600762554,0.168505296837029,-1.4908861266742255,1.294831098885771,0.6449135591591009,0.21959083896676643,-0.15823133231896624,0.4464432195435138,1.3996432835581543,-0.16358154903111488,0.16521625511828078,0.5199434399902836,-0.6257848452729105,-0.07992790604518829,-0.6277382151628513,0.6227013890770359,-0.8858591437274465,-0.13336187782494424,-0.28299274620106535,0.5617654005784839,0.23755257493123932,-0.0216818148345745,0.5063254835456331,0.7511656812182244,0.22002542883778634,-1.1577718677253217,-0.5696006943221648,-1.0793127500776791,-0.18760100787502546,-0.6994761063626701,-0.4254064702821228,-0.6635044495950063,-0.24863847729328858,-0.5484007112522068,0.41802733027857053,-0.23283610199866664,-1.4514708836393224,0.8905610350590825,-0.7028875280487179,-0.8416870656085875,1.8522424106951112,-0.1052985416642793,0.46352049671538764,-1.159485888668599,3.0010732593636726,-0.5969134910206177,0.3686871073907188,1.1832488187523973],\"yaxis\":\"y14\"},{\"line\":{\"color\":\"rgba(128, 128, 128, 1.0)\",\"dash\":\"solid\",\"shape\":\"linear\",\"width\":1.3},\"marker\":{\"size\":2,\"symbol\":\"circle\"},\"mode\":\"markers\",\"name\":\"D\",\"text\":\"\",\"type\":\"scatter\",\"x\":[-1.161719298691836,-1.0916825074866223,-2.9825477305727035,-2.475669661262326,1.456186346184792,1.3816041807016337,1.3195304049192735,0.6587256882669855,-1.439165067192226,-0.43699058870637647,0.030662369922433153,-1.074801261596589,1.4672896709547916,2.4294741808989597,-1.3300612411519335,0.12360199885813726,-1.1100320626833795,-1.9481812739962805,0.5101036728576388,0.19210497589930678,0.878977715696145,-0.8354183307024506,1.6624700659165366,0.05130672063425422,-0.49685589778790046,-0.27972718918567735,0.8195072984821689,-1.0524532465814262,-0.20993416349935998,-0.11582228972763953,0.014037098737650168,0.8219951862155216,0.4374724389433576,-0.418675610794777,0.32164517262803943,0.15320059147000115,0.6772608912459958,-0.01641495746276642,0.3090623540014178,0.2701293389588942,0.027057053498706393,-0.20771001965939312,-0.05677398146816477,1.250600094924929,0.5220909669365739,1.4234962228342811,0.6321146987710506,0.5334532009607121,0.1629850540939295,-0.87829596628481,2.5280168787052193,2.209469459525066,0.7932948359942287,-0.875025889694795,1.1402833376921382,0.467238083670141,-0.6367012618862695,-0.61033591225038,-0.24992263127232084,0.11207716720034717,-0.14607539411494389,-1.0628437541075413,0.16618139310731325,-0.4240969510625668,-1.457684160338106,-1.495750098327223,-0.02166679295452642,0.5417684211281204,-1.7124295423139781,-0.9146427628437475,0.17495224840908674,0.8865119250208765,1.3718927634002418,0.2359446029107882,1.224195854810709,-0.7443163795201444,1.7726948378175622,-1.0174667808833495,0.12868898593907074,0.090533232086863,-0.0734277166777296,-0.5265644035620964,0.8107837785590719,-1.183999544757503,-0.862035349573676,0.5176448294608778,0.18869043790781748,0.9888947010910468,-1.4379535636986602,0.5416497866026636,1.6759241420414497,0.9456654320533658,-1.2649454655124723,-2.2216352260489542,-1.327699359671679,-1.6589965933037774,-1.089696945007076,0.5293226014151536,0.5765582145015115,1.5264108758043518],\"xaxis\":\"x15\",\"y\":[0.6970478968175908,-0.008281257382003382,0.056427851613856064,-1.3364228238042606,1.8669013933166234,0.010045041235569934,-1.5276487157483474,0.3755057040612648,-0.5490921349090621,-0.36269090826021194,0.8696582649739367,0.23639989494106622,-0.029962836343930963,0.02221121178753949,0.22823138899536707,-0.34603891847596324,1.2720414653213947,-0.5310037013792711,0.18305790711090902,1.1659576412888744,-1.0445411205881696,-1.1289465438812338,-0.5465652450053174,-0.6722834217872077,0.6570728061688761,-0.8099790247116009,-0.5580385726012115,-1.428083789056553,-0.14035958876059954,2.7827720721939677,1.3402267903666338,-0.8500619499620251,-1.0469215854597327,-0.9641702000968998,0.9869207089759805,-0.5444956434884186,0.3899272528541567,2.5698129782836743,-0.11640931874614713,1.3596695183088932,-1.1666648545636011,-0.7515037806380355,0.7715939742823078,-0.013332847760373875,-1.2704859989140342,0.47479066511925117,-1.9253094556986887,-1.4245184754304094,0.05863659768091849,-0.5155285868235054,1.766424272489394,-0.5145414808204791,-0.1030165600762554,0.168505296837029,-1.4908861266742255,1.294831098885771,0.6449135591591009,0.21959083896676643,-0.15823133231896624,0.4464432195435138,1.3996432835581543,-0.16358154903111488,0.16521625511828078,0.5199434399902836,-0.6257848452729105,-0.07992790604518829,-0.6277382151628513,0.6227013890770359,-0.8858591437274465,-0.13336187782494424,-0.28299274620106535,0.5617654005784839,0.23755257493123932,-0.0216818148345745,0.5063254835456331,0.7511656812182244,0.22002542883778634,-1.1577718677253217,-0.5696006943221648,-1.0793127500776791,-0.18760100787502546,-0.6994761063626701,-0.4254064702821228,-0.6635044495950063,-0.24863847729328858,-0.5484007112522068,0.41802733027857053,-0.23283610199866664,-1.4514708836393224,0.8905610350590825,-0.7028875280487179,-0.8416870656085875,1.8522424106951112,-0.1052985416642793,0.46352049671538764,-1.159485888668599,3.0010732593636726,-0.5969134910206177,0.3686871073907188,1.1832488187523973],\"yaxis\":\"y15\"},{\"histfunc\":\"count\",\"histnorm\":\"\",\"marker\":{\"color\":\"rgba(128, 0, 128, 1.0)\",\"line\":{\"color\":\"#4D5663\",\"width\":1.3}},\"name\":\"D\",\"nbinsx\":10,\"opacity\":0.8,\"orientation\":\"v\",\"type\":\"histogram\",\"x\":[0.6970478968175908,-0.008281257382003382,0.056427851613856064,-1.3364228238042606,1.8669013933166234,0.010045041235569934,-1.5276487157483474,0.3755057040612648,-0.5490921349090621,-0.36269090826021194,0.8696582649739367,0.23639989494106622,-0.029962836343930963,0.02221121178753949,0.22823138899536707,-0.34603891847596324,1.2720414653213947,-0.5310037013792711,0.18305790711090902,1.1659576412888744,-1.0445411205881696,-1.1289465438812338,-0.5465652450053174,-0.6722834217872077,0.6570728061688761,-0.8099790247116009,-0.5580385726012115,-1.428083789056553,-0.14035958876059954,2.7827720721939677,1.3402267903666338,-0.8500619499620251,-1.0469215854597327,-0.9641702000968998,0.9869207089759805,-0.5444956434884186,0.3899272528541567,2.5698129782836743,-0.11640931874614713,1.3596695183088932,-1.1666648545636011,-0.7515037806380355,0.7715939742823078,-0.013332847760373875,-1.2704859989140342,0.47479066511925117,-1.9253094556986887,-1.4245184754304094,0.05863659768091849,-0.5155285868235054,1.766424272489394,-0.5145414808204791,-0.1030165600762554,0.168505296837029,-1.4908861266742255,1.294831098885771,0.6449135591591009,0.21959083896676643,-0.15823133231896624,0.4464432195435138,1.3996432835581543,-0.16358154903111488,0.16521625511828078,0.5199434399902836,-0.6257848452729105,-0.07992790604518829,-0.6277382151628513,0.6227013890770359,-0.8858591437274465,-0.13336187782494424,-0.28299274620106535,0.5617654005784839,0.23755257493123932,-0.0216818148345745,0.5063254835456331,0.7511656812182244,0.22002542883778634,-1.1577718677253217,-0.5696006943221648,-1.0793127500776791,-0.18760100787502546,-0.6994761063626701,-0.4254064702821228,-0.6635044495950063,-0.24863847729328858,-0.5484007112522068,0.41802733027857053,-0.23283610199866664,-1.4514708836393224,0.8905610350590825,-0.7028875280487179,-0.8416870656085875,1.8522424106951112,-0.1052985416642793,0.46352049671538764,-1.159485888668599,3.0010732593636726,-0.5969134910206177,0.3686871073907188,1.1832488187523973],\"xaxis\":\"x16\",\"yaxis\":\"y16\"}],                        {\"bargap\":0.02,\"legend\":{\"bgcolor\":\"#F5F6F9\",\"font\":{\"color\":\"#4D5663\"}},\"paper_bgcolor\":\"#F5F6F9\",\"plot_bgcolor\":\"#F5F6F9\",\"showlegend\":false,\"template\":{\"data\":{\"bar\":[{\"error_x\":{\"color\":\"#2a3f5f\"},\"error_y\":{\"color\":\"#2a3f5f\"},\"marker\":{\"line\":{\"color\":\"#E5ECF6\",\"width\":0.5},\"pattern\":{\"fillmode\":\"overlay\",\"size\":10,\"solidity\":0.2}},\"type\":\"bar\"}],\"barpolar\":[{\"marker\":{\"line\":{\"color\":\"#E5ECF6\",\"width\":0.5},\"pattern\":{\"fillmode\":\"overlay\",\"size\":10,\"solidity\":0.2}},\"type\":\"barpolar\"}],\"carpet\":[{\"aaxis\":{\"endlinecolor\":\"#2a3f5f\",\"gridcolor\":\"white\",\"linecolor\":\"white\",\"minorgridcolor\":\"white\",\"startlinecolor\":\"#2a3f5f\"},\"baxis\":{\"endlinecolor\":\"#2a3f5f\",\"gridcolor\":\"white\",\"linecolor\":\"white\",\"minorgridcolor\":\"white\",\"startlinecolor\":\"#2a3f5f\"},\"type\":\"carpet\"}],\"choropleth\":[{\"colorbar\":{\"outlinewidth\":0,\"ticks\":\"\"},\"type\":\"choropleth\"}],\"contour\":[{\"colorbar\":{\"outlinewidth\":0,\"ticks\":\"\"},\"colorscale\":[[0.0,\"#0d0887\"],[0.1111111111111111,\"#46039f\"],[0.2222222222222222,\"#7201a8\"],[0.3333333333333333,\"#9c179e\"],[0.4444444444444444,\"#bd3786\"],[0.5555555555555556,\"#d8576b\"],[0.6666666666666666,\"#ed7953\"],[0.7777777777777778,\"#fb9f3a\"],[0.8888888888888888,\"#fdca26\"],[1.0,\"#f0f921\"]],\"type\":\"contour\"}],\"contourcarpet\":[{\"colorbar\":{\"outlinewidth\":0,\"ticks\":\"\"},\"type\":\"contourcarpet\"}],\"heatmap\":[{\"colorbar\":{\"outlinewidth\":0,\"ticks\":\"\"},\"colorscale\":[[0.0,\"#0d0887\"],[0.1111111111111111,\"#46039f\"],[0.2222222222222222,\"#7201a8\"],[0.3333333333333333,\"#9c179e\"],[0.4444444444444444,\"#bd3786\"],[0.5555555555555556,\"#d8576b\"],[0.6666666666666666,\"#ed7953\"],[0.7777777777777778,\"#fb9f3a\"],[0.8888888888888888,\"#fdca26\"],[1.0,\"#f0f921\"]],\"type\":\"heatmap\"}],\"heatmapgl\":[{\"colorbar\":{\"outlinewidth\":0,\"ticks\":\"\"},\"colorscale\":[[0.0,\"#0d0887\"],[0.1111111111111111,\"#46039f\"],[0.2222222222222222,\"#7201a8\"],[0.3333333333333333,\"#9c179e\"],[0.4444444444444444,\"#bd3786\"],[0.5555555555555556,\"#d8576b\"],[0.6666666666666666,\"#ed7953\"],[0.7777777777777778,\"#fb9f3a\"],[0.8888888888888888,\"#fdca26\"],[1.0,\"#f0f921\"]],\"type\":\"heatmapgl\"}],\"histogram\":[{\"marker\":{\"pattern\":{\"fillmode\":\"overlay\",\"size\":10,\"solidity\":0.2}},\"type\":\"histogram\"}],\"histogram2d\":[{\"colorbar\":{\"outlinewidth\":0,\"ticks\":\"\"},\"colorscale\":[[0.0,\"#0d0887\"],[0.1111111111111111,\"#46039f\"],[0.2222222222222222,\"#7201a8\"],[0.3333333333333333,\"#9c179e\"],[0.4444444444444444,\"#bd3786\"],[0.5555555555555556,\"#d8576b\"],[0.6666666666666666,\"#ed7953\"],[0.7777777777777778,\"#fb9f3a\"],[0.8888888888888888,\"#fdca26\"],[1.0,\"#f0f921\"]],\"type\":\"histogram2d\"}],\"histogram2dcontour\":[{\"colorbar\":{\"outlinewidth\":0,\"ticks\":\"\"},\"colorscale\":[[0.0,\"#0d0887\"],[0.1111111111111111,\"#46039f\"],[0.2222222222222222,\"#7201a8\"],[0.3333333333333333,\"#9c179e\"],[0.4444444444444444,\"#bd3786\"],[0.5555555555555556,\"#d8576b\"],[0.6666666666666666,\"#ed7953\"],[0.7777777777777778,\"#fb9f3a\"],[0.8888888888888888,\"#fdca26\"],[1.0,\"#f0f921\"]],\"type\":\"histogram2dcontour\"}],\"mesh3d\":[{\"colorbar\":{\"outlinewidth\":0,\"ticks\":\"\"},\"type\":\"mesh3d\"}],\"parcoords\":[{\"line\":{\"colorbar\":{\"outlinewidth\":0,\"ticks\":\"\"}},\"type\":\"parcoords\"}],\"pie\":[{\"automargin\":true,\"type\":\"pie\"}],\"scatter\":[{\"marker\":{\"colorbar\":{\"outlinewidth\":0,\"ticks\":\"\"}},\"type\":\"scatter\"}],\"scatter3d\":[{\"line\":{\"colorbar\":{\"outlinewidth\":0,\"ticks\":\"\"}},\"marker\":{\"colorbar\":{\"outlinewidth\":0,\"ticks\":\"\"}},\"type\":\"scatter3d\"}],\"scattercarpet\":[{\"marker\":{\"colorbar\":{\"outlinewidth\":0,\"ticks\":\"\"}},\"type\":\"scattercarpet\"}],\"scattergeo\":[{\"marker\":{\"colorbar\":{\"outlinewidth\":0,\"ticks\":\"\"}},\"type\":\"scattergeo\"}],\"scattergl\":[{\"marker\":{\"colorbar\":{\"outlinewidth\":0,\"ticks\":\"\"}},\"type\":\"scattergl\"}],\"scattermapbox\":[{\"marker\":{\"colorbar\":{\"outlinewidth\":0,\"ticks\":\"\"}},\"type\":\"scattermapbox\"}],\"scatterpolar\":[{\"marker\":{\"colorbar\":{\"outlinewidth\":0,\"ticks\":\"\"}},\"type\":\"scatterpolar\"}],\"scatterpolargl\":[{\"marker\":{\"colorbar\":{\"outlinewidth\":0,\"ticks\":\"\"}},\"type\":\"scatterpolargl\"}],\"scatterternary\":[{\"marker\":{\"colorbar\":{\"outlinewidth\":0,\"ticks\":\"\"}},\"type\":\"scatterternary\"}],\"surface\":[{\"colorbar\":{\"outlinewidth\":0,\"ticks\":\"\"},\"colorscale\":[[0.0,\"#0d0887\"],[0.1111111111111111,\"#46039f\"],[0.2222222222222222,\"#7201a8\"],[0.3333333333333333,\"#9c179e\"],[0.4444444444444444,\"#bd3786\"],[0.5555555555555556,\"#d8576b\"],[0.6666666666666666,\"#ed7953\"],[0.7777777777777778,\"#fb9f3a\"],[0.8888888888888888,\"#fdca26\"],[1.0,\"#f0f921\"]],\"type\":\"surface\"}],\"table\":[{\"cells\":{\"fill\":{\"color\":\"#EBF0F8\"},\"line\":{\"color\":\"white\"}},\"header\":{\"fill\":{\"color\":\"#C8D4E3\"},\"line\":{\"color\":\"white\"}},\"type\":\"table\"}]},\"layout\":{\"annotationdefaults\":{\"arrowcolor\":\"#2a3f5f\",\"arrowhead\":0,\"arrowwidth\":1},\"autotypenumbers\":\"strict\",\"coloraxis\":{\"colorbar\":{\"outlinewidth\":0,\"ticks\":\"\"}},\"colorscale\":{\"diverging\":[[0,\"#8e0152\"],[0.1,\"#c51b7d\"],[0.2,\"#de77ae\"],[0.3,\"#f1b6da\"],[0.4,\"#fde0ef\"],[0.5,\"#f7f7f7\"],[0.6,\"#e6f5d0\"],[0.7,\"#b8e186\"],[0.8,\"#7fbc41\"],[0.9,\"#4d9221\"],[1,\"#276419\"]],\"sequential\":[[0.0,\"#0d0887\"],[0.1111111111111111,\"#46039f\"],[0.2222222222222222,\"#7201a8\"],[0.3333333333333333,\"#9c179e\"],[0.4444444444444444,\"#bd3786\"],[0.5555555555555556,\"#d8576b\"],[0.6666666666666666,\"#ed7953\"],[0.7777777777777778,\"#fb9f3a\"],[0.8888888888888888,\"#fdca26\"],[1.0,\"#f0f921\"]],\"sequentialminus\":[[0.0,\"#0d0887\"],[0.1111111111111111,\"#46039f\"],[0.2222222222222222,\"#7201a8\"],[0.3333333333333333,\"#9c179e\"],[0.4444444444444444,\"#bd3786\"],[0.5555555555555556,\"#d8576b\"],[0.6666666666666666,\"#ed7953\"],[0.7777777777777778,\"#fb9f3a\"],[0.8888888888888888,\"#fdca26\"],[1.0,\"#f0f921\"]]},\"colorway\":[\"#636efa\",\"#EF553B\",\"#00cc96\",\"#ab63fa\",\"#FFA15A\",\"#19d3f3\",\"#FF6692\",\"#B6E880\",\"#FF97FF\",\"#FECB52\"],\"font\":{\"color\":\"#2a3f5f\"},\"geo\":{\"bgcolor\":\"white\",\"lakecolor\":\"white\",\"landcolor\":\"#E5ECF6\",\"showlakes\":true,\"showland\":true,\"subunitcolor\":\"white\"},\"hoverlabel\":{\"align\":\"left\"},\"hovermode\":\"closest\",\"mapbox\":{\"style\":\"light\"},\"paper_bgcolor\":\"white\",\"plot_bgcolor\":\"#E5ECF6\",\"polar\":{\"angularaxis\":{\"gridcolor\":\"white\",\"linecolor\":\"white\",\"ticks\":\"\"},\"bgcolor\":\"#E5ECF6\",\"radialaxis\":{\"gridcolor\":\"white\",\"linecolor\":\"white\",\"ticks\":\"\"}},\"scene\":{\"xaxis\":{\"backgroundcolor\":\"#E5ECF6\",\"gridcolor\":\"white\",\"gridwidth\":2,\"linecolor\":\"white\",\"showbackground\":true,\"ticks\":\"\",\"zerolinecolor\":\"white\"},\"yaxis\":{\"backgroundcolor\":\"#E5ECF6\",\"gridcolor\":\"white\",\"gridwidth\":2,\"linecolor\":\"white\",\"showbackground\":true,\"ticks\":\"\",\"zerolinecolor\":\"white\"},\"zaxis\":{\"backgroundcolor\":\"#E5ECF6\",\"gridcolor\":\"white\",\"gridwidth\":2,\"linecolor\":\"white\",\"showbackground\":true,\"ticks\":\"\",\"zerolinecolor\":\"white\"}},\"shapedefaults\":{\"line\":{\"color\":\"#2a3f5f\"}},\"ternary\":{\"aaxis\":{\"gridcolor\":\"white\",\"linecolor\":\"white\",\"ticks\":\"\"},\"baxis\":{\"gridcolor\":\"white\",\"linecolor\":\"white\",\"ticks\":\"\"},\"bgcolor\":\"#E5ECF6\",\"caxis\":{\"gridcolor\":\"white\",\"linecolor\":\"white\",\"ticks\":\"\"}},\"title\":{\"x\":0.05},\"xaxis\":{\"automargin\":true,\"gridcolor\":\"white\",\"linecolor\":\"white\",\"ticks\":\"\",\"title\":{\"standoff\":15},\"zerolinecolor\":\"white\",\"zerolinewidth\":2},\"yaxis\":{\"automargin\":true,\"gridcolor\":\"white\",\"linecolor\":\"white\",\"ticks\":\"\",\"title\":{\"standoff\":15},\"zerolinecolor\":\"white\",\"zerolinewidth\":2}}},\"title\":{\"font\":{\"color\":\"#4D5663\"}},\"xaxis\":{\"anchor\":\"y\",\"domain\":[0.0,0.2125],\"gridcolor\":\"#E1E5ED\",\"showgrid\":false,\"tickfont\":{\"color\":\"#4D5663\"},\"title\":{\"font\":{\"color\":\"#4D5663\"},\"text\":\"\"},\"zerolinecolor\":\"#E1E5ED\"},\"xaxis10\":{\"anchor\":\"y10\",\"domain\":[0.2625,0.475],\"gridcolor\":\"#E1E5ED\",\"showgrid\":false,\"tickfont\":{\"color\":\"#4D5663\"},\"title\":{\"font\":{\"color\":\"#4D5663\"},\"text\":\"\"},\"zerolinecolor\":\"#E1E5ED\"},\"xaxis11\":{\"anchor\":\"y11\",\"domain\":[0.525,0.7375],\"gridcolor\":\"#E1E5ED\",\"showgrid\":false,\"tickfont\":{\"color\":\"#4D5663\"},\"title\":{\"font\":{\"color\":\"#4D5663\"},\"text\":\"\"},\"zerolinecolor\":\"#E1E5ED\"},\"xaxis12\":{\"anchor\":\"y12\",\"domain\":[0.7875,1.0],\"gridcolor\":\"#E1E5ED\",\"showgrid\":false,\"tickfont\":{\"color\":\"#4D5663\"},\"title\":{\"font\":{\"color\":\"#4D5663\"},\"text\":\"\"},\"zerolinecolor\":\"#E1E5ED\"},\"xaxis13\":{\"anchor\":\"y13\",\"domain\":[0.0,0.2125],\"gridcolor\":\"#E1E5ED\",\"showgrid\":false,\"tickfont\":{\"color\":\"#4D5663\"},\"title\":{\"font\":{\"color\":\"#4D5663\"},\"text\":\"\"},\"zerolinecolor\":\"#E1E5ED\"},\"xaxis14\":{\"anchor\":\"y14\",\"domain\":[0.2625,0.475],\"gridcolor\":\"#E1E5ED\",\"showgrid\":false,\"tickfont\":{\"color\":\"#4D5663\"},\"title\":{\"font\":{\"color\":\"#4D5663\"},\"text\":\"\"},\"zerolinecolor\":\"#E1E5ED\"},\"xaxis15\":{\"anchor\":\"y15\",\"domain\":[0.525,0.7375],\"gridcolor\":\"#E1E5ED\",\"showgrid\":false,\"tickfont\":{\"color\":\"#4D5663\"},\"title\":{\"font\":{\"color\":\"#4D5663\"},\"text\":\"\"},\"zerolinecolor\":\"#E1E5ED\"},\"xaxis16\":{\"anchor\":\"y16\",\"domain\":[0.7875,1.0],\"gridcolor\":\"#E1E5ED\",\"showgrid\":false,\"tickfont\":{\"color\":\"#4D5663\"},\"title\":{\"font\":{\"color\":\"#4D5663\"},\"text\":\"\"},\"zerolinecolor\":\"#E1E5ED\"},\"xaxis2\":{\"anchor\":\"y2\",\"domain\":[0.2625,0.475],\"gridcolor\":\"#E1E5ED\",\"showgrid\":false,\"tickfont\":{\"color\":\"#4D5663\"},\"title\":{\"font\":{\"color\":\"#4D5663\"},\"text\":\"\"},\"zerolinecolor\":\"#E1E5ED\"},\"xaxis3\":{\"anchor\":\"y3\",\"domain\":[0.525,0.7375],\"gridcolor\":\"#E1E5ED\",\"showgrid\":false,\"tickfont\":{\"color\":\"#4D5663\"},\"title\":{\"font\":{\"color\":\"#4D5663\"},\"text\":\"\"},\"zerolinecolor\":\"#E1E5ED\"},\"xaxis4\":{\"anchor\":\"y4\",\"domain\":[0.7875,1.0],\"gridcolor\":\"#E1E5ED\",\"showgrid\":false,\"tickfont\":{\"color\":\"#4D5663\"},\"title\":{\"font\":{\"color\":\"#4D5663\"},\"text\":\"\"},\"zerolinecolor\":\"#E1E5ED\"},\"xaxis5\":{\"anchor\":\"y5\",\"domain\":[0.0,0.2125],\"gridcolor\":\"#E1E5ED\",\"showgrid\":false,\"tickfont\":{\"color\":\"#4D5663\"},\"title\":{\"font\":{\"color\":\"#4D5663\"},\"text\":\"\"},\"zerolinecolor\":\"#E1E5ED\"},\"xaxis6\":{\"anchor\":\"y6\",\"domain\":[0.2625,0.475],\"gridcolor\":\"#E1E5ED\",\"showgrid\":false,\"tickfont\":{\"color\":\"#4D5663\"},\"title\":{\"font\":{\"color\":\"#4D5663\"},\"text\":\"\"},\"zerolinecolor\":\"#E1E5ED\"},\"xaxis7\":{\"anchor\":\"y7\",\"domain\":[0.525,0.7375],\"gridcolor\":\"#E1E5ED\",\"showgrid\":false,\"tickfont\":{\"color\":\"#4D5663\"},\"title\":{\"font\":{\"color\":\"#4D5663\"},\"text\":\"\"},\"zerolinecolor\":\"#E1E5ED\"},\"xaxis8\":{\"anchor\":\"y8\",\"domain\":[0.7875,1.0],\"gridcolor\":\"#E1E5ED\",\"showgrid\":false,\"tickfont\":{\"color\":\"#4D5663\"},\"title\":{\"font\":{\"color\":\"#4D5663\"},\"text\":\"\"},\"zerolinecolor\":\"#E1E5ED\"},\"xaxis9\":{\"anchor\":\"y9\",\"domain\":[0.0,0.2125],\"gridcolor\":\"#E1E5ED\",\"showgrid\":false,\"tickfont\":{\"color\":\"#4D5663\"},\"title\":{\"font\":{\"color\":\"#4D5663\"},\"text\":\"\"},\"zerolinecolor\":\"#E1E5ED\"},\"yaxis\":{\"anchor\":\"x\",\"domain\":[0.8025,1.0],\"gridcolor\":\"#E1E5ED\",\"showgrid\":false,\"tickfont\":{\"color\":\"#4D5663\"},\"title\":{\"font\":{\"color\":\"#4D5663\"},\"text\":\"\"},\"zerolinecolor\":\"#E1E5ED\"},\"yaxis10\":{\"anchor\":\"x10\",\"domain\":[0.2675,0.465],\"gridcolor\":\"#E1E5ED\",\"showgrid\":false,\"tickfont\":{\"color\":\"#4D5663\"},\"title\":{\"font\":{\"color\":\"#4D5663\"},\"text\":\"\"},\"zerolinecolor\":\"#E1E5ED\"},\"yaxis11\":{\"anchor\":\"x11\",\"domain\":[0.2675,0.465],\"gridcolor\":\"#E1E5ED\",\"showgrid\":false,\"tickfont\":{\"color\":\"#4D5663\"},\"title\":{\"font\":{\"color\":\"#4D5663\"},\"text\":\"\"},\"zerolinecolor\":\"#E1E5ED\"},\"yaxis12\":{\"anchor\":\"x12\",\"domain\":[0.2675,0.465],\"gridcolor\":\"#E1E5ED\",\"showgrid\":false,\"tickfont\":{\"color\":\"#4D5663\"},\"title\":{\"font\":{\"color\":\"#4D5663\"},\"text\":\"\"},\"zerolinecolor\":\"#E1E5ED\"},\"yaxis13\":{\"anchor\":\"x13\",\"domain\":[0.0,0.1975],\"gridcolor\":\"#E1E5ED\",\"showgrid\":false,\"tickfont\":{\"color\":\"#4D5663\"},\"title\":{\"font\":{\"color\":\"#4D5663\"},\"text\":\"\"},\"zerolinecolor\":\"#E1E5ED\"},\"yaxis14\":{\"anchor\":\"x14\",\"domain\":[0.0,0.1975],\"gridcolor\":\"#E1E5ED\",\"showgrid\":false,\"tickfont\":{\"color\":\"#4D5663\"},\"title\":{\"font\":{\"color\":\"#4D5663\"},\"text\":\"\"},\"zerolinecolor\":\"#E1E5ED\"},\"yaxis15\":{\"anchor\":\"x15\",\"domain\":[0.0,0.1975],\"gridcolor\":\"#E1E5ED\",\"showgrid\":false,\"tickfont\":{\"color\":\"#4D5663\"},\"title\":{\"font\":{\"color\":\"#4D5663\"},\"text\":\"\"},\"zerolinecolor\":\"#E1E5ED\"},\"yaxis16\":{\"anchor\":\"x16\",\"domain\":[0.0,0.1975],\"gridcolor\":\"#E1E5ED\",\"showgrid\":false,\"tickfont\":{\"color\":\"#4D5663\"},\"title\":{\"font\":{\"color\":\"#4D5663\"},\"text\":\"\"},\"zerolinecolor\":\"#E1E5ED\"},\"yaxis2\":{\"anchor\":\"x2\",\"domain\":[0.8025,1.0],\"gridcolor\":\"#E1E5ED\",\"showgrid\":false,\"tickfont\":{\"color\":\"#4D5663\"},\"title\":{\"font\":{\"color\":\"#4D5663\"},\"text\":\"\"},\"zerolinecolor\":\"#E1E5ED\"},\"yaxis3\":{\"anchor\":\"x3\",\"domain\":[0.8025,1.0],\"gridcolor\":\"#E1E5ED\",\"showgrid\":false,\"tickfont\":{\"color\":\"#4D5663\"},\"title\":{\"font\":{\"color\":\"#4D5663\"},\"text\":\"\"},\"zerolinecolor\":\"#E1E5ED\"},\"yaxis4\":{\"anchor\":\"x4\",\"domain\":[0.8025,1.0],\"gridcolor\":\"#E1E5ED\",\"showgrid\":false,\"tickfont\":{\"color\":\"#4D5663\"},\"title\":{\"font\":{\"color\":\"#4D5663\"},\"text\":\"\"},\"zerolinecolor\":\"#E1E5ED\"},\"yaxis5\":{\"anchor\":\"x5\",\"domain\":[0.535,0.7325],\"gridcolor\":\"#E1E5ED\",\"showgrid\":false,\"tickfont\":{\"color\":\"#4D5663\"},\"title\":{\"font\":{\"color\":\"#4D5663\"},\"text\":\"\"},\"zerolinecolor\":\"#E1E5ED\"},\"yaxis6\":{\"anchor\":\"x6\",\"domain\":[0.535,0.7325],\"gridcolor\":\"#E1E5ED\",\"showgrid\":false,\"tickfont\":{\"color\":\"#4D5663\"},\"title\":{\"font\":{\"color\":\"#4D5663\"},\"text\":\"\"},\"zerolinecolor\":\"#E1E5ED\"},\"yaxis7\":{\"anchor\":\"x7\",\"domain\":[0.535,0.7325],\"gridcolor\":\"#E1E5ED\",\"showgrid\":false,\"tickfont\":{\"color\":\"#4D5663\"},\"title\":{\"font\":{\"color\":\"#4D5663\"},\"text\":\"\"},\"zerolinecolor\":\"#E1E5ED\"},\"yaxis8\":{\"anchor\":\"x8\",\"domain\":[0.535,0.7325],\"gridcolor\":\"#E1E5ED\",\"showgrid\":false,\"tickfont\":{\"color\":\"#4D5663\"},\"title\":{\"font\":{\"color\":\"#4D5663\"},\"text\":\"\"},\"zerolinecolor\":\"#E1E5ED\"},\"yaxis9\":{\"anchor\":\"x9\",\"domain\":[0.2675,0.465],\"gridcolor\":\"#E1E5ED\",\"showgrid\":false,\"tickfont\":{\"color\":\"#4D5663\"},\"title\":{\"font\":{\"color\":\"#4D5663\"},\"text\":\"\"},\"zerolinecolor\":\"#E1E5ED\"}},                        {\"showLink\": true, \"linkText\": \"Export to plot.ly\", \"plotlyServerURL\": \"https://plot.ly\", \"responsive\": true}                    ).then(function(){\n",
       "                            \n",
       "var gd = document.getElementById('4710d316-38a4-48b9-8630-388630b6f79d');\n",
       "var x = new MutationObserver(function (mutations, observer) {{\n",
       "        var display = window.getComputedStyle(gd).display;\n",
       "        if (!display || display === 'none') {{\n",
       "            console.log([gd, 'removed!']);\n",
       "            Plotly.purge(gd);\n",
       "            observer.disconnect();\n",
       "        }}\n",
       "}});\n",
       "\n",
       "// Listen for the removal of the full notebook cells\n",
       "var notebookContainer = gd.closest('#notebook-container');\n",
       "if (notebookContainer) {{\n",
       "    x.observe(notebookContainer, {childList: true});\n",
       "}}\n",
       "\n",
       "// Listen for the clearing of the current output cell\n",
       "var outputEl = gd.closest('.output');\n",
       "if (outputEl) {{\n",
       "    x.observe(outputEl, {childList: true});\n",
       "}}\n",
       "\n",
       "                        })                };                });            </script>        </div>"
      ]
     },
     "metadata": {},
     "output_type": "display_data"
    }
   ],
   "source": [
    "df.scatter_matrix()"
   ]
  },
  {
   "cell_type": "markdown",
   "metadata": {
    "collapsed": true
   },
   "source": [
    "# Great Job!"
   ]
  }
 ],
 "metadata": {
  "kernelspec": {
   "display_name": "Python 3 (ipykernel)",
   "language": "python",
   "name": "python3"
  },
  "language_info": {
   "codemirror_mode": {
    "name": "ipython",
    "version": 3
   },
   "file_extension": ".py",
   "mimetype": "text/x-python",
   "name": "python",
   "nbconvert_exporter": "python",
   "pygments_lexer": "ipython3",
   "version": "3.9.5"
  }
 },
 "nbformat": 4,
 "nbformat_minor": 1
}
